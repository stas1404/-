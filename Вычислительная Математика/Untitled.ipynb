{
 "cells": [
  {
   "cell_type": "code",
   "execution_count": 60,
   "id": "cbdee455-83a3-47eb-a249-04e67b7d7fec",
   "metadata": {},
   "outputs": [],
   "source": [
    "import sympy as sp\n",
    "import matplotlib.pyplot"
   ]
  },
  {
   "cell_type": "code",
   "execution_count": 61,
   "id": "40d73d46-a0df-41ec-860e-92e5b128664f",
   "metadata": {},
   "outputs": [],
   "source": [
    "x, y, z = sp.symbols('x y z')"
   ]
  },
  {
   "cell_type": "code",
   "execution_count": 62,
   "id": "491e1427-9549-4040-a4b1-786b7986f9d8",
   "metadata": {},
   "outputs": [
    {
     "data": {
      "text/latex": [
       "$\\displaystyle x^{2} + y^{2} + z^{2} = z$"
      ],
      "text/plain": [
       "Eq(x**2 + y**2 + z**2, z)"
      ]
     },
     "execution_count": 62,
     "metadata": {},
     "output_type": "execute_result"
    }
   ],
   "source": [
    "sphere = sp.Eq(x**2 + y**2 + z**2, z)\n",
    "sphere"
   ]
  },
  {
   "cell_type": "code",
   "execution_count": 63,
   "id": "3da24a12-41c1-4ae8-91ea-e90ea88413f8",
   "metadata": {},
   "outputs": [
    {
     "data": {
      "text/latex": [
       "$\\displaystyle A x + B y + D + z = 0$"
      ],
      "text/plain": [
       "Eq(A*x + B*y + D + z, 0)"
      ]
     },
     "execution_count": 63,
     "metadata": {},
     "output_type": "execute_result"
    }
   ],
   "source": [
    "A, B, D = sp.symbols('A B D')\n",
    "plane = sp.Eq(A * x + B*y + z + D, 0)\n",
    "plane"
   ]
  },
  {
   "cell_type": "code",
   "execution_count": 64,
   "id": "1a141c94-3bdd-4b59-8316-1ac740b0037c",
   "metadata": {},
   "outputs": [],
   "source": [
    "fir, sec = sp.solve([plane, sphere], [x, y], dict = True)"
   ]
  },
  {
   "cell_type": "code",
   "execution_count": 65,
   "id": "b59fb5c8-c024-447c-a090-50e7eba57a02",
   "metadata": {},
   "outputs": [],
   "source": [
    "x, y = fir[x] / (1-z), fir[y] / (1-z)"
   ]
  },
  {
   "cell_type": "code",
   "execution_count": 71,
   "id": "615e8770-574a-49df-ad35-6e02fec4125c",
   "metadata": {},
   "outputs": [
    {
     "ename": "TypeError",
     "evalue": "loop of ufunc does not support argument 0 of type Add which has no callable sqrt method",
     "output_type": "error",
     "traceback": [
      "\u001b[0;31m---------------------------------------------------------------------------\u001b[0m",
      "\u001b[0;31mAttributeError\u001b[0m                            Traceback (most recent call last)",
      "\u001b[0;31mAttributeError\u001b[0m: 'Add' object has no attribute 'sqrt'",
      "\nThe above exception was the direct cause of the following exception:\n",
      "\u001b[0;31mTypeError\u001b[0m                                 Traceback (most recent call last)",
      "Cell \u001b[0;32mIn[71], line 7\u001b[0m\n\u001b[1;32m      4\u001b[0m lambda_y \u001b[38;5;241m=\u001b[39m sp\u001b[38;5;241m.\u001b[39mlambdify(z, y)\n\u001b[1;32m      5\u001b[0m z_value \u001b[38;5;241m=\u001b[39m [i\u001b[38;5;241m/\u001b[39m\u001b[38;5;241m10000\u001b[39m \u001b[38;5;28;01mfor\u001b[39;00m i \u001b[38;5;129;01min\u001b[39;00m \u001b[38;5;28mrange\u001b[39m(\u001b[38;5;241m5\u001b[39m, \u001b[38;5;241m10000\u001b[39m, \u001b[38;5;241m1\u001b[39m)]\n\u001b[1;32m      6\u001b[0m matplotlib\u001b[38;5;241m.\u001b[39mpyplot\u001b[38;5;241m.\u001b[39mplot(\n\u001b[0;32m----> 7\u001b[0m     [lambda_x(z_value[i]) \u001b[38;5;28;01mfor\u001b[39;00m i \u001b[38;5;129;01min\u001b[39;00m \u001b[38;5;28mrange\u001b[39m(\u001b[38;5;241m10000\u001b[39m)],\n\u001b[1;32m      8\u001b[0m      [lambda_y(z_value[i]) \u001b[38;5;28;01mfor\u001b[39;00m i \u001b[38;5;129;01min\u001b[39;00m \u001b[38;5;28mrange\u001b[39m(\u001b[38;5;241m10000\u001b[39m)]\n\u001b[1;32m      9\u001b[0m       )\n",
      "Cell \u001b[0;32mIn[71], line 7\u001b[0m, in \u001b[0;36m<listcomp>\u001b[0;34m(.0)\u001b[0m\n\u001b[1;32m      4\u001b[0m lambda_y \u001b[38;5;241m=\u001b[39m sp\u001b[38;5;241m.\u001b[39mlambdify(z, y)\n\u001b[1;32m      5\u001b[0m z_value \u001b[38;5;241m=\u001b[39m [i\u001b[38;5;241m/\u001b[39m\u001b[38;5;241m10000\u001b[39m \u001b[38;5;28;01mfor\u001b[39;00m i \u001b[38;5;129;01min\u001b[39;00m \u001b[38;5;28mrange\u001b[39m(\u001b[38;5;241m5\u001b[39m, \u001b[38;5;241m10000\u001b[39m, \u001b[38;5;241m1\u001b[39m)]\n\u001b[1;32m      6\u001b[0m matplotlib\u001b[38;5;241m.\u001b[39mpyplot\u001b[38;5;241m.\u001b[39mplot(\n\u001b[0;32m----> 7\u001b[0m     [\u001b[43mlambda_x\u001b[49m\u001b[43m(\u001b[49m\u001b[43mz_value\u001b[49m\u001b[43m[\u001b[49m\u001b[43mi\u001b[49m\u001b[43m]\u001b[49m\u001b[43m)\u001b[49m \u001b[38;5;28;01mfor\u001b[39;00m i \u001b[38;5;129;01min\u001b[39;00m \u001b[38;5;28mrange\u001b[39m(\u001b[38;5;241m10000\u001b[39m)],\n\u001b[1;32m      8\u001b[0m      [lambda_y(z_value[i]) \u001b[38;5;28;01mfor\u001b[39;00m i \u001b[38;5;129;01min\u001b[39;00m \u001b[38;5;28mrange\u001b[39m(\u001b[38;5;241m10000\u001b[39m)]\n\u001b[1;32m      9\u001b[0m       )\n",
      "File \u001b[0;32m<lambdifygenerated-24>:2\u001b[0m, in \u001b[0;36m_lambdifygenerated\u001b[0;34m(z)\u001b[0m\n\u001b[1;32m      1\u001b[0m \u001b[38;5;28;01mdef\u001b[39;00m \u001b[38;5;21m_lambdifygenerated\u001b[39m(z):\n\u001b[0;32m----> 2\u001b[0m     \u001b[38;5;28;01mreturn\u001b[39;00m \u001b[38;5;241m-\u001b[39m(B\u001b[38;5;241m*\u001b[39m(\u001b[38;5;241m-\u001b[39mA\u001b[38;5;241m*\u001b[39m\u001b[43msqrt\u001b[49m\u001b[43m(\u001b[49m\u001b[38;5;241;43m-\u001b[39;49m\u001b[43mA\u001b[49m\u001b[38;5;241;43m*\u001b[39;49m\u001b[38;5;241;43m*\u001b[39;49m\u001b[38;5;241;43m2\u001b[39;49m\u001b[38;5;241;43m*\u001b[39;49m\u001b[43mz\u001b[49m\u001b[38;5;241;43m*\u001b[39;49m\u001b[38;5;241;43m*\u001b[39;49m\u001b[38;5;241;43m2\u001b[39;49m\u001b[43m \u001b[49m\u001b[38;5;241;43m+\u001b[39;49m\u001b[43m \u001b[49m\u001b[43mA\u001b[49m\u001b[38;5;241;43m*\u001b[39;49m\u001b[38;5;241;43m*\u001b[39;49m\u001b[38;5;241;43m2\u001b[39;49m\u001b[38;5;241;43m*\u001b[39;49m\u001b[43mz\u001b[49m\u001b[43m \u001b[49m\u001b[38;5;241;43m-\u001b[39;49m\u001b[43m \u001b[49m\u001b[43mB\u001b[49m\u001b[38;5;241;43m*\u001b[39;49m\u001b[38;5;241;43m*\u001b[39;49m\u001b[38;5;241;43m2\u001b[39;49m\u001b[38;5;241;43m*\u001b[39;49m\u001b[43mz\u001b[49m\u001b[38;5;241;43m*\u001b[39;49m\u001b[38;5;241;43m*\u001b[39;49m\u001b[38;5;241;43m2\u001b[39;49m\u001b[43m \u001b[49m\u001b[38;5;241;43m+\u001b[39;49m\u001b[43m \u001b[49m\u001b[43mB\u001b[49m\u001b[38;5;241;43m*\u001b[39;49m\u001b[38;5;241;43m*\u001b[39;49m\u001b[38;5;241;43m2\u001b[39;49m\u001b[38;5;241;43m*\u001b[39;49m\u001b[43mz\u001b[49m\u001b[43m \u001b[49m\u001b[38;5;241;43m-\u001b[39;49m\u001b[43m \u001b[49m\u001b[43mD\u001b[49m\u001b[38;5;241;43m*\u001b[39;49m\u001b[38;5;241;43m*\u001b[39;49m\u001b[38;5;241;43m2\u001b[39;49m\u001b[43m \u001b[49m\u001b[38;5;241;43m-\u001b[39;49m\u001b[43m \u001b[49m\u001b[38;5;241;43m2\u001b[39;49m\u001b[38;5;241;43m*\u001b[39;49m\u001b[43mD\u001b[49m\u001b[38;5;241;43m*\u001b[39;49m\u001b[43mz\u001b[49m\u001b[43m \u001b[49m\u001b[38;5;241;43m-\u001b[39;49m\u001b[43m \u001b[49m\u001b[43mz\u001b[49m\u001b[38;5;241;43m*\u001b[39;49m\u001b[38;5;241;43m*\u001b[39;49m\u001b[38;5;241;43m2\u001b[39;49m\u001b[43m)\u001b[49m\u001b[38;5;241m/\u001b[39m(A\u001b[38;5;241m*\u001b[39m\u001b[38;5;241m*\u001b[39m\u001b[38;5;241m2\u001b[39m \u001b[38;5;241m+\u001b[39m B\u001b[38;5;241m*\u001b[39m\u001b[38;5;241m*\u001b[39m\u001b[38;5;241m2\u001b[39m) \u001b[38;5;241m-\u001b[39m B\u001b[38;5;241m*\u001b[39m(D \u001b[38;5;241m+\u001b[39m z)\u001b[38;5;241m/\u001b[39m(A\u001b[38;5;241m*\u001b[39m\u001b[38;5;241m*\u001b[39m\u001b[38;5;241m2\u001b[39m \u001b[38;5;241m+\u001b[39m B\u001b[38;5;241m*\u001b[39m\u001b[38;5;241m*\u001b[39m\u001b[38;5;241m2\u001b[39m)) \u001b[38;5;241m+\u001b[39m D \u001b[38;5;241m+\u001b[39m z)\u001b[38;5;241m/\u001b[39m(A\u001b[38;5;241m*\u001b[39m(\u001b[38;5;241m1\u001b[39m \u001b[38;5;241m-\u001b[39m z)\u001b[38;5;241m*\u001b[39m\u001b[38;5;241m*\u001b[39m\u001b[38;5;241m7\u001b[39m)\n",
      "\u001b[0;31mTypeError\u001b[0m: loop of ufunc does not support argument 0 of type Add which has no callable sqrt method"
     ]
    }
   ],
   "source": [
    "x = x / (1-z)\n",
    "y = y / (1-z)\n",
    "lambda_x = sp.lambdify(z, x)\n",
    "lambda_y = sp.lambdify(z, y)\n",
    "z_value = [i/10000 for i in range(5, 10000, 1)]\n",
    "matplotlib.pyplot.plot(\n",
    "    [lambda_x(z_value[i]) for i in range(10000)],\n",
    "     [lambda_y(z_value[i]) for i in range(10000)]\n",
    "      )"
   ]
  },
  {
   "cell_type": "code",
   "execution_count": null,
   "id": "c341f631-e7de-4638-8ec8-d30b119e63fd",
   "metadata": {},
   "outputs": [],
   "source": []
  }
 ],
 "metadata": {
  "kernelspec": {
   "display_name": "Python 3 (ipykernel)",
   "language": "python",
   "name": "python3"
  },
  "language_info": {
   "codemirror_mode": {
    "name": "ipython",
    "version": 3
   },
   "file_extension": ".py",
   "mimetype": "text/x-python",
   "name": "python",
   "nbconvert_exporter": "python",
   "pygments_lexer": "ipython3",
   "version": "3.10.12"
  }
 },
 "nbformat": 4,
 "nbformat_minor": 5
}
