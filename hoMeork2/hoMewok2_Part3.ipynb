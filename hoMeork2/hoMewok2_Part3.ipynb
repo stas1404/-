{
 "cells": [
  {
   "cell_type": "markdown",
   "id": "d7c6820a-07bd-4b85-95bf-57f8e3f92475",
   "metadata": {},
   "source": [
    "# Вторая домашняя работа"
   ]
  },
  {
   "cell_type": "markdown",
   "id": "95d18f80-faee-407e-aa93-907b55251eeb",
   "metadata": {},
   "source": [
    "### П.7.37 Г)\n",
    "\n",
    "#### Найти область сходимости метода Якоби и метода Зейделя для систем с матрицами вида:\n",
    "\n",
    "M = $\\left(\\begin{array}{ccc} \n",
    "\\alpha & \\alpha & 0\\\\\n",
    "\\alpha & \\beta & \\beta\\\\\n",
    "0 & \\beta & \\alpha\n",
    "\\end{array}\\right)$"
   ]
  },
  {
   "cell_type": "markdown",
   "id": "b4cd9563-d308-41dc-bb1b-3a79bb016944",
   "metadata": {},
   "source": [
    "По критерию сходимости для метода Якоби:"
   ]
  },
  {
   "cell_type": "code",
   "execution_count": 1,
   "id": "b7195fa3-a6a8-4873-8b88-a0918a88944e",
   "metadata": {},
   "outputs": [
    {
     "data": {
      "text/latex": [
       "$\\displaystyle \\left[\\begin{matrix}\\alpha x & \\alpha & 0\\\\\\alpha & \\beta x & \\beta\\\\0 & \\beta & \\alpha x\\end{matrix}\\right]$"
      ],
      "text/plain": [
       "Matrix([\n",
       "[alpha*x,  alpha,       0],\n",
       "[  alpha, beta*x,    beta],\n",
       "[      0,   beta, alpha*x]])"
      ]
     },
     "execution_count": 1,
     "metadata": {},
     "output_type": "execute_result"
    }
   ],
   "source": [
    "import sympy as mp\n",
    "a, b, x = mp.symbols('alpha beta x')\n",
    "M = mp.Matrix([[a * x, a, 0], [a, b * x, b], [0, b, a * x]])\n",
    "M"
   ]
  },
  {
   "cell_type": "code",
   "execution_count": 11,
   "id": "412280e9-9a21-482b-b90d-022b354858ca",
   "metadata": {},
   "outputs": [
    {
     "data": {
      "text/latex": [
       "$\\displaystyle - \\alpha^{3} x + \\alpha^{2} \\beta x^{3} - \\alpha \\beta^{2} x$"
      ],
      "text/plain": [
       "-alpha**3*x + alpha**2*beta*x**3 - alpha*beta**2*x"
      ]
     },
     "execution_count": 11,
     "metadata": {},
     "output_type": "execute_result"
    }
   ],
   "source": [
    "func = mp.det(M)\n",
    "func"
   ]
  },
  {
   "cell_type": "markdown",
   "id": "23c05282-2054-47a8-a60e-a09aca1ce626",
   "metadata": {},
   "source": [
    "Метод сходится <=> все корни уравнения"
   ]
  },
  {
   "cell_type": "code",
   "execution_count": 12,
   "id": "7ce17f24-4300-414e-b49f-68beedce271b",
   "metadata": {},
   "outputs": [
    {
     "data": {
      "text/latex": [
       "$\\displaystyle - \\alpha^{3} x + \\alpha^{2} \\beta x^{3} - \\alpha \\beta^{2} x = 0$"
      ],
      "text/plain": [
       "Eq(-alpha**3*x + alpha**2*beta*x**3 - alpha*beta**2*x, 0)"
      ]
     },
     "execution_count": 12,
     "metadata": {},
     "output_type": "execute_result"
    }
   ],
   "source": [
    "eq = mp.Eq(func, 0)\n",
    "eq"
   ]
  },
  {
   "cell_type": "markdown",
   "id": "77b9c098-da5b-4e5c-b1d8-a38b7b4d903e",
   "metadata": {},
   "source": [
    "По модулю меньше 1"
   ]
  },
  {
   "cell_type": "code",
   "execution_count": 13,
   "id": "8d2647dc-9cf1-4ece-b349-227aa9e1ad86",
   "metadata": {},
   "outputs": [
    {
     "data": {
      "text/latex": [
       "$\\displaystyle \\left\\{0, - \\sqrt{\\frac{\\alpha^{2} + \\beta^{2}}{\\alpha \\beta}}, \\sqrt{\\frac{\\alpha^{2} + \\beta^{2}}{\\alpha \\beta}}\\right\\}$"
      ],
      "text/plain": [
       "{0, -sqrt((alpha**2 + beta**2)/(alpha*beta)), sqrt((alpha**2 + beta**2)/(alpha*beta))}"
      ]
     },
     "execution_count": 13,
     "metadata": {},
     "output_type": "execute_result"
    }
   ],
   "source": [
    "mp.solveset(eq, x)"
   ]
  },
  {
   "cell_type": "markdown",
   "id": "d807e11c-0805-4ee5-a113-e8fbd4099f6e",
   "metadata": {},
   "source": [
    "Поэтому сходимость метода равносильна:\n",
    "\n",
    "$| \\frac{\\alpha^2 + \\beta^2}{\\alpha \\beta} |\\leq 1$\n",
    "\n",
    "$|\\alpha^2 + \\beta^2| \\leq |\\alpha \\beta|$\n",
    "\n",
    "Пусть $\\alpha = x_{\\alpha} + iy_{\\alpha}, \\beta = x_{\\beta} + iy_{\\beta}$\n",
    "\n",
    "Получаем:"
   ]
  },
  {
   "cell_type": "code",
   "execution_count": 14,
   "id": "c8d3601c-745a-4b28-aa78-75e3a7d7d69e",
   "metadata": {},
   "outputs": [
    {
     "data": {
      "text/latex": [
       "$\\displaystyle - \\left(x_{\\alpha} x_{\\beta} - y_{\\alpha} y_{\\beta}\\right)^{2} + 4 \\left(x_{\\alpha} y_{\\alpha} + x_{\\beta} y_{\\beta}\\right)^{2} - \\left(x_{\\alpha} y_{\\beta} + x_{\\beta} y_{\\alpha}\\right)^{2} + \\left(x_{\\alpha}^{2} + x_{\\beta}^{2} - y_{\\alpha}^{2} - y_{\\beta}^{2}\\right)^{2} \\leq 0$"
      ],
      "text/plain": [
       "-(x_alpha*x_beta - y_alpha*y_beta)**2 + 4*(x_alpha*y_alpha + x_beta*y_beta)**2 - (x_alpha*y_beta + x_beta*y_alpha)**2 + (x_alpha**2 + x_beta**2 - y_alpha**2 - y_beta**2)**2 <= 0"
      ]
     },
     "execution_count": 14,
     "metadata": {},
     "output_type": "execute_result"
    }
   ],
   "source": [
    "xa, ya, xb, yb = mp.symbols('x_alpha y_alpha x_beta y_beta')\n",
    "func = (xa ** 2 - ya ** 2 + xb ** 2 - yb ** 2) ** 2 + 4 * (xa * ya + xb * yb) ** 2 - (xa * xb - ya * yb) ** 2 - (xb * ya + xa * yb) ** 2\n",
    "func <= 0"
   ]
  },
  {
   "cell_type": "markdown",
   "id": "0bcac24c-b7d0-49d1-9d23-580b7a394930",
   "metadata": {},
   "source": [
    "Можно преобразовать:"
   ]
  },
  {
   "cell_type": "code",
   "execution_count": 15,
   "id": "c83a8cf6-4162-4a1b-94ad-d028668e2d06",
   "metadata": {},
   "outputs": [
    {
     "data": {
      "text/latex": [
       "$\\displaystyle x_{\\alpha}^{4} + 3 x_{\\alpha}^{2} x_{\\beta}^{2} + 2 x_{\\alpha}^{2} y_{\\alpha}^{2} - 3 x_{\\alpha}^{2} y_{\\beta}^{2} + 2 x_{\\alpha} x_{\\beta} y_{\\alpha} y_{\\beta} + x_{\\beta}^{4} - 3 x_{\\beta}^{2} y_{\\alpha}^{2} + 2 x_{\\beta}^{2} y_{\\beta}^{2} + y_{\\alpha}^{4} + y_{\\alpha}^{2} y_{\\beta}^{2} + y_{\\beta}^{4}$"
      ],
      "text/plain": [
       "x_alpha**4 + 3*x_alpha**2*x_beta**2 + 2*x_alpha**2*y_alpha**2 - 3*x_alpha**2*y_beta**2 + 2*x_alpha*x_beta*y_alpha*y_beta + x_beta**4 - 3*x_beta**2*y_alpha**2 + 2*x_beta**2*y_beta**2 + y_alpha**4 + y_alpha**2*y_beta**2 + y_beta**4"
      ]
     },
     "execution_count": 15,
     "metadata": {},
     "output_type": "execute_result"
    }
   ],
   "source": [
    "func = xa**4 + xb**4 + ya**4 + yb**4 + 3 * xa ** 2 * xb ** 2 - 3 * xa **2 * yb ** 2 - 3 * xb ** 2 * ya ** 2 + ya ** 2 * yb ** 2 + 2 * xa ** 2 * ya ** 2 + 2 * xb ** 2 * yb ** 2 + 2 * xa * ya * xb * yb\n",
    "func.simplify()"
   ]
  },
  {
   "cell_type": "code",
   "execution_count": 16,
   "id": "db2b7666-b581-4bc4-a2e7-99dc3c87ca3d",
   "metadata": {},
   "outputs": [
    {
     "data": {
      "text/latex": [
       "$\\displaystyle \\left\\{\\begin{cases} - \\frac{\\sqrt{- 2 x_{\\beta}^{2} - \\frac{4 y_{\\alpha}^{2}}{3} + 2 y_{\\beta}^{2} - 2 \\sqrt[3]{- \\frac{x_{\\beta}^{2} y_{\\alpha}^{2} y_{\\beta}^{2}}{2} - \\frac{\\left(3 x_{\\beta}^{2} + 2 y_{\\alpha}^{2} - 3 y_{\\beta}^{2}\\right)^{3}}{108} + \\frac{\\left(3 x_{\\beta}^{2} + 2 y_{\\alpha}^{2} - 3 y_{\\beta}^{2}\\right) \\left(x_{\\beta}^{4} - 3 x_{\\beta}^{2} y_{\\alpha}^{2} + 2 x_{\\beta}^{2} y_{\\beta}^{2} + y_{\\alpha}^{4} + y_{\\alpha}^{2} y_{\\beta}^{2} + y_{\\beta}^{4}\\right)}{3}}}}{2} - \\frac{\\sqrt{- 4 x_{\\beta}^{2} + \\frac{4 x_{\\beta} y_{\\alpha} y_{\\beta}}{\\sqrt{- 2 x_{\\beta}^{2} - \\frac{4 y_{\\alpha}^{2}}{3} + 2 y_{\\beta}^{2} - 2 \\sqrt[3]{- \\frac{x_{\\beta}^{2} y_{\\alpha}^{2} y_{\\beta}^{2}}{2} - \\frac{\\left(3 x_{\\beta}^{2} + 2 y_{\\alpha}^{2} - 3 y_{\\beta}^{2}\\right)^{3}}{108} + \\frac{\\left(3 x_{\\beta}^{2} + 2 y_{\\alpha}^{2} - 3 y_{\\beta}^{2}\\right) \\left(x_{\\beta}^{4} - 3 x_{\\beta}^{2} y_{\\alpha}^{2} + 2 x_{\\beta}^{2} y_{\\beta}^{2} + y_{\\alpha}^{4} + y_{\\alpha}^{2} y_{\\beta}^{2} + y_{\\beta}^{4}\\right)}{3}}}} - \\frac{8 y_{\\alpha}^{2}}{3} + 4 y_{\\beta}^{2} + 2 \\sqrt[3]{- \\frac{x_{\\beta}^{2} y_{\\alpha}^{2} y_{\\beta}^{2}}{2} - \\frac{\\left(3 x_{\\beta}^{2} + 2 y_{\\alpha}^{2} - 3 y_{\\beta}^{2}\\right)^{3}}{108} + \\frac{\\left(3 x_{\\beta}^{2} + 2 y_{\\alpha}^{2} - 3 y_{\\beta}^{2}\\right) \\left(x_{\\beta}^{4} - 3 x_{\\beta}^{2} y_{\\alpha}^{2} + 2 x_{\\beta}^{2} y_{\\beta}^{2} + y_{\\alpha}^{4} + y_{\\alpha}^{2} y_{\\beta}^{2} + y_{\\beta}^{4}\\right)}{3}}}}{2} & \\text{for}\\: \\frac{7 x_{\\beta}^{4}}{4} - 2 x_{\\beta}^{2} y_{\\alpha}^{2} + \\frac{x_{\\beta}^{2} y_{\\beta}^{2}}{2} + \\frac{4 y_{\\alpha}^{4}}{3} + \\frac{7 y_{\\beta}^{4}}{4} = 0 \\\\- \\frac{\\sqrt{- 2 x_{\\beta}^{2} - \\frac{4 y_{\\alpha}^{2}}{3} + 2 y_{\\beta}^{2} + 2 \\sqrt[3]{\\frac{x_{\\beta}^{2} y_{\\alpha}^{2} y_{\\beta}^{2}}{4} + \\sqrt{\\frac{\\left(- \\frac{x_{\\beta}^{2} y_{\\alpha}^{2} y_{\\beta}^{2}}{2} - \\frac{\\left(3 x_{\\beta}^{2} + 2 y_{\\alpha}^{2} - 3 y_{\\beta}^{2}\\right)^{3}}{108} + \\frac{\\left(3 x_{\\beta}^{2} + 2 y_{\\alpha}^{2} - 3 y_{\\beta}^{2}\\right) \\left(x_{\\beta}^{4} - 3 x_{\\beta}^{2} y_{\\alpha}^{2} + 2 x_{\\beta}^{2} y_{\\beta}^{2} + y_{\\alpha}^{4} + y_{\\alpha}^{2} y_{\\beta}^{2} + y_{\\beta}^{4}\\right)}{3}\\right)^{2}}{4} + \\frac{\\left(- \\frac{7 x_{\\beta}^{4}}{4} + 2 x_{\\beta}^{2} y_{\\alpha}^{2} - \\frac{x_{\\beta}^{2} y_{\\beta}^{2}}{2} - \\frac{4 y_{\\alpha}^{4}}{3} - \\frac{7 y_{\\beta}^{4}}{4}\\right)^{3}}{27}} + \\frac{\\left(3 x_{\\beta}^{2} + 2 y_{\\alpha}^{2} - 3 y_{\\beta}^{2}\\right)^{3}}{216} - \\frac{\\left(3 x_{\\beta}^{2} + 2 y_{\\alpha}^{2} - 3 y_{\\beta}^{2}\\right) \\left(x_{\\beta}^{4} - 3 x_{\\beta}^{2} y_{\\alpha}^{2} + 2 x_{\\beta}^{2} y_{\\beta}^{2} + y_{\\alpha}^{4} + y_{\\alpha}^{2} y_{\\beta}^{2} + y_{\\beta}^{4}\\right)}{6}} - \\frac{2 \\left(- \\frac{7 x_{\\beta}^{4}}{4} + 2 x_{\\beta}^{2} y_{\\alpha}^{2} - \\frac{x_{\\beta}^{2} y_{\\beta}^{2}}{2} - \\frac{4 y_{\\alpha}^{4}}{3} - \\frac{7 y_{\\beta}^{4}}{4}\\right)}{3 \\sqrt[3]{\\frac{x_{\\beta}^{2} y_{\\alpha}^{2} y_{\\beta}^{2}}{4} + \\sqrt{\\frac{\\left(- \\frac{x_{\\beta}^{2} y_{\\alpha}^{2} y_{\\beta}^{2}}{2} - \\frac{\\left(3 x_{\\beta}^{2} + 2 y_{\\alpha}^{2} - 3 y_{\\beta}^{2}\\right)^{3}}{108} + \\frac{\\left(3 x_{\\beta}^{2} + 2 y_{\\alpha}^{2} - 3 y_{\\beta}^{2}\\right) \\left(x_{\\beta}^{4} - 3 x_{\\beta}^{2} y_{\\alpha}^{2} + 2 x_{\\beta}^{2} y_{\\beta}^{2} + y_{\\alpha}^{4} + y_{\\alpha}^{2} y_{\\beta}^{2} + y_{\\beta}^{4}\\right)}{3}\\right)^{2}}{4} + \\frac{\\left(- \\frac{7 x_{\\beta}^{4}}{4} + 2 x_{\\beta}^{2} y_{\\alpha}^{2} - \\frac{x_{\\beta}^{2} y_{\\beta}^{2}}{2} - \\frac{4 y_{\\alpha}^{4}}{3} - \\frac{7 y_{\\beta}^{4}}{4}\\right)^{3}}{27}} + \\frac{\\left(3 x_{\\beta}^{2} + 2 y_{\\alpha}^{2} - 3 y_{\\beta}^{2}\\right)^{3}}{216} - \\frac{\\left(3 x_{\\beta}^{2} + 2 y_{\\alpha}^{2} - 3 y_{\\beta}^{2}\\right) \\left(x_{\\beta}^{4} - 3 x_{\\beta}^{2} y_{\\alpha}^{2} + 2 x_{\\beta}^{2} y_{\\beta}^{2} + y_{\\alpha}^{4} + y_{\\alpha}^{2} y_{\\beta}^{2} + y_{\\beta}^{4}\\right)}{6}}}}}{2} - \\frac{\\sqrt{- 4 x_{\\beta}^{2} + \\frac{4 x_{\\beta} y_{\\alpha} y_{\\beta}}{\\sqrt{- 2 x_{\\beta}^{2} - \\frac{4 y_{\\alpha}^{2}}{3} + 2 y_{\\beta}^{2} + 2 \\sqrt[3]{\\frac{x_{\\beta}^{2} y_{\\alpha}^{2} y_{\\beta}^{2}}{4} + \\sqrt{\\frac{\\left(- \\frac{x_{\\beta}^{2} y_{\\alpha}^{2} y_{\\beta}^{2}}{2} - \\frac{\\left(3 x_{\\beta}^{2} + 2 y_{\\alpha}^{2} - 3 y_{\\beta}^{2}\\right)^{3}}{108} + \\frac{\\left(3 x_{\\beta}^{2} + 2 y_{\\alpha}^{2} - 3 y_{\\beta}^{2}\\right) \\left(x_{\\beta}^{4} - 3 x_{\\beta}^{2} y_{\\alpha}^{2} + 2 x_{\\beta}^{2} y_{\\beta}^{2} + y_{\\alpha}^{4} + y_{\\alpha}^{2} y_{\\beta}^{2} + y_{\\beta}^{4}\\right)}{3}\\right)^{2}}{4} + \\frac{\\left(- \\frac{7 x_{\\beta}^{4}}{4} + 2 x_{\\beta}^{2} y_{\\alpha}^{2} - \\frac{x_{\\beta}^{2} y_{\\beta}^{2}}{2} - \\frac{4 y_{\\alpha}^{4}}{3} - \\frac{7 y_{\\beta}^{4}}{4}\\right)^{3}}{27}} + \\frac{\\left(3 x_{\\beta}^{2} + 2 y_{\\alpha}^{2} - 3 y_{\\beta}^{2}\\right)^{3}}{216} - \\frac{\\left(3 x_{\\beta}^{2} + 2 y_{\\alpha}^{2} - 3 y_{\\beta}^{2}\\right) \\left(x_{\\beta}^{4} - 3 x_{\\beta}^{2} y_{\\alpha}^{2} + 2 x_{\\beta}^{2} y_{\\beta}^{2} + y_{\\alpha}^{4} + y_{\\alpha}^{2} y_{\\beta}^{2} + y_{\\beta}^{4}\\right)}{6}} - \\frac{2 \\left(- \\frac{7 x_{\\beta}^{4}}{4} + 2 x_{\\beta}^{2} y_{\\alpha}^{2} - \\frac{x_{\\beta}^{2} y_{\\beta}^{2}}{2} - \\frac{4 y_{\\alpha}^{4}}{3} - \\frac{7 y_{\\beta}^{4}}{4}\\right)}{3 \\sqrt[3]{\\frac{x_{\\beta}^{2} y_{\\alpha}^{2} y_{\\beta}^{2}}{4} + \\sqrt{\\frac{\\left(- \\frac{x_{\\beta}^{2} y_{\\alpha}^{2} y_{\\beta}^{2}}{2} - \\frac{\\left(3 x_{\\beta}^{2} + 2 y_{\\alpha}^{2} - 3 y_{\\beta}^{2}\\right)^{3}}{108} + \\frac{\\left(3 x_{\\beta}^{2} + 2 y_{\\alpha}^{2} - 3 y_{\\beta}^{2}\\right) \\left(x_{\\beta}^{4} - 3 x_{\\beta}^{2} y_{\\alpha}^{2} + 2 x_{\\beta}^{2} y_{\\beta}^{2} + y_{\\alpha}^{4} + y_{\\alpha}^{2} y_{\\beta}^{2} + y_{\\beta}^{4}\\right)}{3}\\right)^{2}}{4} + \\frac{\\left(- \\frac{7 x_{\\beta}^{4}}{4} + 2 x_{\\beta}^{2} y_{\\alpha}^{2} - \\frac{x_{\\beta}^{2} y_{\\beta}^{2}}{2} - \\frac{4 y_{\\alpha}^{4}}{3} - \\frac{7 y_{\\beta}^{4}}{4}\\right)^{3}}{27}} + \\frac{\\left(3 x_{\\beta}^{2} + 2 y_{\\alpha}^{2} - 3 y_{\\beta}^{2}\\right)^{3}}{216} - \\frac{\\left(3 x_{\\beta}^{2} + 2 y_{\\alpha}^{2} - 3 y_{\\beta}^{2}\\right) \\left(x_{\\beta}^{4} - 3 x_{\\beta}^{2} y_{\\alpha}^{2} + 2 x_{\\beta}^{2} y_{\\beta}^{2} + y_{\\alpha}^{4} + y_{\\alpha}^{2} y_{\\beta}^{2} + y_{\\beta}^{4}\\right)}{6}}}}} - \\frac{8 y_{\\alpha}^{2}}{3} + 4 y_{\\beta}^{2} - 2 \\sqrt[3]{\\frac{x_{\\beta}^{2} y_{\\alpha}^{2} y_{\\beta}^{2}}{4} + \\sqrt{\\frac{\\left(- \\frac{x_{\\beta}^{2} y_{\\alpha}^{2} y_{\\beta}^{2}}{2} - \\frac{\\left(3 x_{\\beta}^{2} + 2 y_{\\alpha}^{2} - 3 y_{\\beta}^{2}\\right)^{3}}{108} + \\frac{\\left(3 x_{\\beta}^{2} + 2 y_{\\alpha}^{2} - 3 y_{\\beta}^{2}\\right) \\left(x_{\\beta}^{4} - 3 x_{\\beta}^{2} y_{\\alpha}^{2} + 2 x_{\\beta}^{2} y_{\\beta}^{2} + y_{\\alpha}^{4} + y_{\\alpha}^{2} y_{\\beta}^{2} + y_{\\beta}^{4}\\right)}{3}\\right)^{2}}{4} + \\frac{\\left(- \\frac{7 x_{\\beta}^{4}}{4} + 2 x_{\\beta}^{2} y_{\\alpha}^{2} - \\frac{x_{\\beta}^{2} y_{\\beta}^{2}}{2} - \\frac{4 y_{\\alpha}^{4}}{3} - \\frac{7 y_{\\beta}^{4}}{4}\\right)^{3}}{27}} + \\frac{\\left(3 x_{\\beta}^{2} + 2 y_{\\alpha}^{2} - 3 y_{\\beta}^{2}\\right)^{3}}{216} - \\frac{\\left(3 x_{\\beta}^{2} + 2 y_{\\alpha}^{2} - 3 y_{\\beta}^{2}\\right) \\left(x_{\\beta}^{4} - 3 x_{\\beta}^{2} y_{\\alpha}^{2} + 2 x_{\\beta}^{2} y_{\\beta}^{2} + y_{\\alpha}^{4} + y_{\\alpha}^{2} y_{\\beta}^{2} + y_{\\beta}^{4}\\right)}{6}} + \\frac{2 \\left(- \\frac{7 x_{\\beta}^{4}}{4} + 2 x_{\\beta}^{2} y_{\\alpha}^{2} - \\frac{x_{\\beta}^{2} y_{\\beta}^{2}}{2} - \\frac{4 y_{\\alpha}^{4}}{3} - \\frac{7 y_{\\beta}^{4}}{4}\\right)}{3 \\sqrt[3]{\\frac{x_{\\beta}^{2} y_{\\alpha}^{2} y_{\\beta}^{2}}{4} + \\sqrt{\\frac{\\left(- \\frac{x_{\\beta}^{2} y_{\\alpha}^{2} y_{\\beta}^{2}}{2} - \\frac{\\left(3 x_{\\beta}^{2} + 2 y_{\\alpha}^{2} - 3 y_{\\beta}^{2}\\right)^{3}}{108} + \\frac{\\left(3 x_{\\beta}^{2} + 2 y_{\\alpha}^{2} - 3 y_{\\beta}^{2}\\right) \\left(x_{\\beta}^{4} - 3 x_{\\beta}^{2} y_{\\alpha}^{2} + 2 x_{\\beta}^{2} y_{\\beta}^{2} + y_{\\alpha}^{4} + y_{\\alpha}^{2} y_{\\beta}^{2} + y_{\\beta}^{4}\\right)}{3}\\right)^{2}}{4} + \\frac{\\left(- \\frac{7 x_{\\beta}^{4}}{4} + 2 x_{\\beta}^{2} y_{\\alpha}^{2} - \\frac{x_{\\beta}^{2} y_{\\beta}^{2}}{2} - \\frac{4 y_{\\alpha}^{4}}{3} - \\frac{7 y_{\\beta}^{4}}{4}\\right)^{3}}{27}} + \\frac{\\left(3 x_{\\beta}^{2} + 2 y_{\\alpha}^{2} - 3 y_{\\beta}^{2}\\right)^{3}}{216} - \\frac{\\left(3 x_{\\beta}^{2} + 2 y_{\\alpha}^{2} - 3 y_{\\beta}^{2}\\right) \\left(x_{\\beta}^{4} - 3 x_{\\beta}^{2} y_{\\alpha}^{2} + 2 x_{\\beta}^{2} y_{\\beta}^{2} + y_{\\alpha}^{4} + y_{\\alpha}^{2} y_{\\beta}^{2} + y_{\\beta}^{4}\\right)}{6}}}}}{2} & \\text{otherwise} \\end{cases}, \\begin{cases} - \\frac{\\sqrt{- 2 x_{\\beta}^{2} - \\frac{4 y_{\\alpha}^{2}}{3} + 2 y_{\\beta}^{2} - 2 \\sqrt[3]{- \\frac{x_{\\beta}^{2} y_{\\alpha}^{2} y_{\\beta}^{2}}{2} - \\frac{\\left(3 x_{\\beta}^{2} + 2 y_{\\alpha}^{2} - 3 y_{\\beta}^{2}\\right)^{3}}{108} + \\frac{\\left(3 x_{\\beta}^{2} + 2 y_{\\alpha}^{2} - 3 y_{\\beta}^{2}\\right) \\left(x_{\\beta}^{4} - 3 x_{\\beta}^{2} y_{\\alpha}^{2} + 2 x_{\\beta}^{2} y_{\\beta}^{2} + y_{\\alpha}^{4} + y_{\\alpha}^{2} y_{\\beta}^{2} + y_{\\beta}^{4}\\right)}{3}}}}{2} + \\frac{\\sqrt{- 4 x_{\\beta}^{2} + \\frac{4 x_{\\beta} y_{\\alpha} y_{\\beta}}{\\sqrt{- 2 x_{\\beta}^{2} - \\frac{4 y_{\\alpha}^{2}}{3} + 2 y_{\\beta}^{2} - 2 \\sqrt[3]{- \\frac{x_{\\beta}^{2} y_{\\alpha}^{2} y_{\\beta}^{2}}{2} - \\frac{\\left(3 x_{\\beta}^{2} + 2 y_{\\alpha}^{2} - 3 y_{\\beta}^{2}\\right)^{3}}{108} + \\frac{\\left(3 x_{\\beta}^{2} + 2 y_{\\alpha}^{2} - 3 y_{\\beta}^{2}\\right) \\left(x_{\\beta}^{4} - 3 x_{\\beta}^{2} y_{\\alpha}^{2} + 2 x_{\\beta}^{2} y_{\\beta}^{2} + y_{\\alpha}^{4} + y_{\\alpha}^{2} y_{\\beta}^{2} + y_{\\beta}^{4}\\right)}{3}}}} - \\frac{8 y_{\\alpha}^{2}}{3} + 4 y_{\\beta}^{2} + 2 \\sqrt[3]{- \\frac{x_{\\beta}^{2} y_{\\alpha}^{2} y_{\\beta}^{2}}{2} - \\frac{\\left(3 x_{\\beta}^{2} + 2 y_{\\alpha}^{2} - 3 y_{\\beta}^{2}\\right)^{3}}{108} + \\frac{\\left(3 x_{\\beta}^{2} + 2 y_{\\alpha}^{2} - 3 y_{\\beta}^{2}\\right) \\left(x_{\\beta}^{4} - 3 x_{\\beta}^{2} y_{\\alpha}^{2} + 2 x_{\\beta}^{2} y_{\\beta}^{2} + y_{\\alpha}^{4} + y_{\\alpha}^{2} y_{\\beta}^{2} + y_{\\beta}^{4}\\right)}{3}}}}{2} & \\text{for}\\: \\frac{7 x_{\\beta}^{4}}{4} - 2 x_{\\beta}^{2} y_{\\alpha}^{2} + \\frac{x_{\\beta}^{2} y_{\\beta}^{2}}{2} + \\frac{4 y_{\\alpha}^{4}}{3} + \\frac{7 y_{\\beta}^{4}}{4} = 0 \\\\- \\frac{\\sqrt{- 2 x_{\\beta}^{2} - \\frac{4 y_{\\alpha}^{2}}{3} + 2 y_{\\beta}^{2} + 2 \\sqrt[3]{\\frac{x_{\\beta}^{2} y_{\\alpha}^{2} y_{\\beta}^{2}}{4} + \\sqrt{\\frac{\\left(- \\frac{x_{\\beta}^{2} y_{\\alpha}^{2} y_{\\beta}^{2}}{2} - \\frac{\\left(3 x_{\\beta}^{2} + 2 y_{\\alpha}^{2} - 3 y_{\\beta}^{2}\\right)^{3}}{108} + \\frac{\\left(3 x_{\\beta}^{2} + 2 y_{\\alpha}^{2} - 3 y_{\\beta}^{2}\\right) \\left(x_{\\beta}^{4} - 3 x_{\\beta}^{2} y_{\\alpha}^{2} + 2 x_{\\beta}^{2} y_{\\beta}^{2} + y_{\\alpha}^{4} + y_{\\alpha}^{2} y_{\\beta}^{2} + y_{\\beta}^{4}\\right)}{3}\\right)^{2}}{4} + \\frac{\\left(- \\frac{7 x_{\\beta}^{4}}{4} + 2 x_{\\beta}^{2} y_{\\alpha}^{2} - \\frac{x_{\\beta}^{2} y_{\\beta}^{2}}{2} - \\frac{4 y_{\\alpha}^{4}}{3} - \\frac{7 y_{\\beta}^{4}}{4}\\right)^{3}}{27}} + \\frac{\\left(3 x_{\\beta}^{2} + 2 y_{\\alpha}^{2} - 3 y_{\\beta}^{2}\\right)^{3}}{216} - \\frac{\\left(3 x_{\\beta}^{2} + 2 y_{\\alpha}^{2} - 3 y_{\\beta}^{2}\\right) \\left(x_{\\beta}^{4} - 3 x_{\\beta}^{2} y_{\\alpha}^{2} + 2 x_{\\beta}^{2} y_{\\beta}^{2} + y_{\\alpha}^{4} + y_{\\alpha}^{2} y_{\\beta}^{2} + y_{\\beta}^{4}\\right)}{6}} - \\frac{2 \\left(- \\frac{7 x_{\\beta}^{4}}{4} + 2 x_{\\beta}^{2} y_{\\alpha}^{2} - \\frac{x_{\\beta}^{2} y_{\\beta}^{2}}{2} - \\frac{4 y_{\\alpha}^{4}}{3} - \\frac{7 y_{\\beta}^{4}}{4}\\right)}{3 \\sqrt[3]{\\frac{x_{\\beta}^{2} y_{\\alpha}^{2} y_{\\beta}^{2}}{4} + \\sqrt{\\frac{\\left(- \\frac{x_{\\beta}^{2} y_{\\alpha}^{2} y_{\\beta}^{2}}{2} - \\frac{\\left(3 x_{\\beta}^{2} + 2 y_{\\alpha}^{2} - 3 y_{\\beta}^{2}\\right)^{3}}{108} + \\frac{\\left(3 x_{\\beta}^{2} + 2 y_{\\alpha}^{2} - 3 y_{\\beta}^{2}\\right) \\left(x_{\\beta}^{4} - 3 x_{\\beta}^{2} y_{\\alpha}^{2} + 2 x_{\\beta}^{2} y_{\\beta}^{2} + y_{\\alpha}^{4} + y_{\\alpha}^{2} y_{\\beta}^{2} + y_{\\beta}^{4}\\right)}{3}\\right)^{2}}{4} + \\frac{\\left(- \\frac{7 x_{\\beta}^{4}}{4} + 2 x_{\\beta}^{2} y_{\\alpha}^{2} - \\frac{x_{\\beta}^{2} y_{\\beta}^{2}}{2} - \\frac{4 y_{\\alpha}^{4}}{3} - \\frac{7 y_{\\beta}^{4}}{4}\\right)^{3}}{27}} + \\frac{\\left(3 x_{\\beta}^{2} + 2 y_{\\alpha}^{2} - 3 y_{\\beta}^{2}\\right)^{3}}{216} - \\frac{\\left(3 x_{\\beta}^{2} + 2 y_{\\alpha}^{2} - 3 y_{\\beta}^{2}\\right) \\left(x_{\\beta}^{4} - 3 x_{\\beta}^{2} y_{\\alpha}^{2} + 2 x_{\\beta}^{2} y_{\\beta}^{2} + y_{\\alpha}^{4} + y_{\\alpha}^{2} y_{\\beta}^{2} + y_{\\beta}^{4}\\right)}{6}}}}}{2} + \\frac{\\sqrt{- 4 x_{\\beta}^{2} + \\frac{4 x_{\\beta} y_{\\alpha} y_{\\beta}}{\\sqrt{- 2 x_{\\beta}^{2} - \\frac{4 y_{\\alpha}^{2}}{3} + 2 y_{\\beta}^{2} + 2 \\sqrt[3]{\\frac{x_{\\beta}^{2} y_{\\alpha}^{2} y_{\\beta}^{2}}{4} + \\sqrt{\\frac{\\left(- \\frac{x_{\\beta}^{2} y_{\\alpha}^{2} y_{\\beta}^{2}}{2} - \\frac{\\left(3 x_{\\beta}^{2} + 2 y_{\\alpha}^{2} - 3 y_{\\beta}^{2}\\right)^{3}}{108} + \\frac{\\left(3 x_{\\beta}^{2} + 2 y_{\\alpha}^{2} - 3 y_{\\beta}^{2}\\right) \\left(x_{\\beta}^{4} - 3 x_{\\beta}^{2} y_{\\alpha}^{2} + 2 x_{\\beta}^{2} y_{\\beta}^{2} + y_{\\alpha}^{4} + y_{\\alpha}^{2} y_{\\beta}^{2} + y_{\\beta}^{4}\\right)}{3}\\right)^{2}}{4} + \\frac{\\left(- \\frac{7 x_{\\beta}^{4}}{4} + 2 x_{\\beta}^{2} y_{\\alpha}^{2} - \\frac{x_{\\beta}^{2} y_{\\beta}^{2}}{2} - \\frac{4 y_{\\alpha}^{4}}{3} - \\frac{7 y_{\\beta}^{4}}{4}\\right)^{3}}{27}} + \\frac{\\left(3 x_{\\beta}^{2} + 2 y_{\\alpha}^{2} - 3 y_{\\beta}^{2}\\right)^{3}}{216} - \\frac{\\left(3 x_{\\beta}^{2} + 2 y_{\\alpha}^{2} - 3 y_{\\beta}^{2}\\right) \\left(x_{\\beta}^{4} - 3 x_{\\beta}^{2} y_{\\alpha}^{2} + 2 x_{\\beta}^{2} y_{\\beta}^{2} + y_{\\alpha}^{4} + y_{\\alpha}^{2} y_{\\beta}^{2} + y_{\\beta}^{4}\\right)}{6}} - \\frac{2 \\left(- \\frac{7 x_{\\beta}^{4}}{4} + 2 x_{\\beta}^{2} y_{\\alpha}^{2} - \\frac{x_{\\beta}^{2} y_{\\beta}^{2}}{2} - \\frac{4 y_{\\alpha}^{4}}{3} - \\frac{7 y_{\\beta}^{4}}{4}\\right)}{3 \\sqrt[3]{\\frac{x_{\\beta}^{2} y_{\\alpha}^{2} y_{\\beta}^{2}}{4} + \\sqrt{\\frac{\\left(- \\frac{x_{\\beta}^{2} y_{\\alpha}^{2} y_{\\beta}^{2}}{2} - \\frac{\\left(3 x_{\\beta}^{2} + 2 y_{\\alpha}^{2} - 3 y_{\\beta}^{2}\\right)^{3}}{108} + \\frac{\\left(3 x_{\\beta}^{2} + 2 y_{\\alpha}^{2} - 3 y_{\\beta}^{2}\\right) \\left(x_{\\beta}^{4} - 3 x_{\\beta}^{2} y_{\\alpha}^{2} + 2 x_{\\beta}^{2} y_{\\beta}^{2} + y_{\\alpha}^{4} + y_{\\alpha}^{2} y_{\\beta}^{2} + y_{\\beta}^{4}\\right)}{3}\\right)^{2}}{4} + \\frac{\\left(- \\frac{7 x_{\\beta}^{4}}{4} + 2 x_{\\beta}^{2} y_{\\alpha}^{2} - \\frac{x_{\\beta}^{2} y_{\\beta}^{2}}{2} - \\frac{4 y_{\\alpha}^{4}}{3} - \\frac{7 y_{\\beta}^{4}}{4}\\right)^{3}}{27}} + \\frac{\\left(3 x_{\\beta}^{2} + 2 y_{\\alpha}^{2} - 3 y_{\\beta}^{2}\\right)^{3}}{216} - \\frac{\\left(3 x_{\\beta}^{2} + 2 y_{\\alpha}^{2} - 3 y_{\\beta}^{2}\\right) \\left(x_{\\beta}^{4} - 3 x_{\\beta}^{2} y_{\\alpha}^{2} + 2 x_{\\beta}^{2} y_{\\beta}^{2} + y_{\\alpha}^{4} + y_{\\alpha}^{2} y_{\\beta}^{2} + y_{\\beta}^{4}\\right)}{6}}}}} - \\frac{8 y_{\\alpha}^{2}}{3} + 4 y_{\\beta}^{2} - 2 \\sqrt[3]{\\frac{x_{\\beta}^{2} y_{\\alpha}^{2} y_{\\beta}^{2}}{4} + \\sqrt{\\frac{\\left(- \\frac{x_{\\beta}^{2} y_{\\alpha}^{2} y_{\\beta}^{2}}{2} - \\frac{\\left(3 x_{\\beta}^{2} + 2 y_{\\alpha}^{2} - 3 y_{\\beta}^{2}\\right)^{3}}{108} + \\frac{\\left(3 x_{\\beta}^{2} + 2 y_{\\alpha}^{2} - 3 y_{\\beta}^{2}\\right) \\left(x_{\\beta}^{4} - 3 x_{\\beta}^{2} y_{\\alpha}^{2} + 2 x_{\\beta}^{2} y_{\\beta}^{2} + y_{\\alpha}^{4} + y_{\\alpha}^{2} y_{\\beta}^{2} + y_{\\beta}^{4}\\right)}{3}\\right)^{2}}{4} + \\frac{\\left(- \\frac{7 x_{\\beta}^{4}}{4} + 2 x_{\\beta}^{2} y_{\\alpha}^{2} - \\frac{x_{\\beta}^{2} y_{\\beta}^{2}}{2} - \\frac{4 y_{\\alpha}^{4}}{3} - \\frac{7 y_{\\beta}^{4}}{4}\\right)^{3}}{27}} + \\frac{\\left(3 x_{\\beta}^{2} + 2 y_{\\alpha}^{2} - 3 y_{\\beta}^{2}\\right)^{3}}{216} - \\frac{\\left(3 x_{\\beta}^{2} + 2 y_{\\alpha}^{2} - 3 y_{\\beta}^{2}\\right) \\left(x_{\\beta}^{4} - 3 x_{\\beta}^{2} y_{\\alpha}^{2} + 2 x_{\\beta}^{2} y_{\\beta}^{2} + y_{\\alpha}^{4} + y_{\\alpha}^{2} y_{\\beta}^{2} + y_{\\beta}^{4}\\right)}{6}} + \\frac{2 \\left(- \\frac{7 x_{\\beta}^{4}}{4} + 2 x_{\\beta}^{2} y_{\\alpha}^{2} - \\frac{x_{\\beta}^{2} y_{\\beta}^{2}}{2} - \\frac{4 y_{\\alpha}^{4}}{3} - \\frac{7 y_{\\beta}^{4}}{4}\\right)}{3 \\sqrt[3]{\\frac{x_{\\beta}^{2} y_{\\alpha}^{2} y_{\\beta}^{2}}{4} + \\sqrt{\\frac{\\left(- \\frac{x_{\\beta}^{2} y_{\\alpha}^{2} y_{\\beta}^{2}}{2} - \\frac{\\left(3 x_{\\beta}^{2} + 2 y_{\\alpha}^{2} - 3 y_{\\beta}^{2}\\right)^{3}}{108} + \\frac{\\left(3 x_{\\beta}^{2} + 2 y_{\\alpha}^{2} - 3 y_{\\beta}^{2}\\right) \\left(x_{\\beta}^{4} - 3 x_{\\beta}^{2} y_{\\alpha}^{2} + 2 x_{\\beta}^{2} y_{\\beta}^{2} + y_{\\alpha}^{4} + y_{\\alpha}^{2} y_{\\beta}^{2} + y_{\\beta}^{4}\\right)}{3}\\right)^{2}}{4} + \\frac{\\left(- \\frac{7 x_{\\beta}^{4}}{4} + 2 x_{\\beta}^{2} y_{\\alpha}^{2} - \\frac{x_{\\beta}^{2} y_{\\beta}^{2}}{2} - \\frac{4 y_{\\alpha}^{4}}{3} - \\frac{7 y_{\\beta}^{4}}{4}\\right)^{3}}{27}} + \\frac{\\left(3 x_{\\beta}^{2} + 2 y_{\\alpha}^{2} - 3 y_{\\beta}^{2}\\right)^{3}}{216} - \\frac{\\left(3 x_{\\beta}^{2} + 2 y_{\\alpha}^{2} - 3 y_{\\beta}^{2}\\right) \\left(x_{\\beta}^{4} - 3 x_{\\beta}^{2} y_{\\alpha}^{2} + 2 x_{\\beta}^{2} y_{\\beta}^{2} + y_{\\alpha}^{4} + y_{\\alpha}^{2} y_{\\beta}^{2} + y_{\\beta}^{4}\\right)}{6}}}}}{2} & \\text{otherwise} \\end{cases}, \\begin{cases} \\frac{\\sqrt{- 2 x_{\\beta}^{2} - \\frac{4 y_{\\alpha}^{2}}{3} + 2 y_{\\beta}^{2} - 2 \\sqrt[3]{- \\frac{x_{\\beta}^{2} y_{\\alpha}^{2} y_{\\beta}^{2}}{2} - \\frac{\\left(3 x_{\\beta}^{2} + 2 y_{\\alpha}^{2} - 3 y_{\\beta}^{2}\\right)^{3}}{108} + \\frac{\\left(3 x_{\\beta}^{2} + 2 y_{\\alpha}^{2} - 3 y_{\\beta}^{2}\\right) \\left(x_{\\beta}^{4} - 3 x_{\\beta}^{2} y_{\\alpha}^{2} + 2 x_{\\beta}^{2} y_{\\beta}^{2} + y_{\\alpha}^{4} + y_{\\alpha}^{2} y_{\\beta}^{2} + y_{\\beta}^{4}\\right)}{3}}}}{2} - \\frac{\\sqrt{- 4 x_{\\beta}^{2} - \\frac{4 x_{\\beta} y_{\\alpha} y_{\\beta}}{\\sqrt{- 2 x_{\\beta}^{2} - \\frac{4 y_{\\alpha}^{2}}{3} + 2 y_{\\beta}^{2} - 2 \\sqrt[3]{- \\frac{x_{\\beta}^{2} y_{\\alpha}^{2} y_{\\beta}^{2}}{2} - \\frac{\\left(3 x_{\\beta}^{2} + 2 y_{\\alpha}^{2} - 3 y_{\\beta}^{2}\\right)^{3}}{108} + \\frac{\\left(3 x_{\\beta}^{2} + 2 y_{\\alpha}^{2} - 3 y_{\\beta}^{2}\\right) \\left(x_{\\beta}^{4} - 3 x_{\\beta}^{2} y_{\\alpha}^{2} + 2 x_{\\beta}^{2} y_{\\beta}^{2} + y_{\\alpha}^{4} + y_{\\alpha}^{2} y_{\\beta}^{2} + y_{\\beta}^{4}\\right)}{3}}}} - \\frac{8 y_{\\alpha}^{2}}{3} + 4 y_{\\beta}^{2} + 2 \\sqrt[3]{- \\frac{x_{\\beta}^{2} y_{\\alpha}^{2} y_{\\beta}^{2}}{2} - \\frac{\\left(3 x_{\\beta}^{2} + 2 y_{\\alpha}^{2} - 3 y_{\\beta}^{2}\\right)^{3}}{108} + \\frac{\\left(3 x_{\\beta}^{2} + 2 y_{\\alpha}^{2} - 3 y_{\\beta}^{2}\\right) \\left(x_{\\beta}^{4} - 3 x_{\\beta}^{2} y_{\\alpha}^{2} + 2 x_{\\beta}^{2} y_{\\beta}^{2} + y_{\\alpha}^{4} + y_{\\alpha}^{2} y_{\\beta}^{2} + y_{\\beta}^{4}\\right)}{3}}}}{2} & \\text{for}\\: \\frac{7 x_{\\beta}^{4}}{4} - 2 x_{\\beta}^{2} y_{\\alpha}^{2} + \\frac{x_{\\beta}^{2} y_{\\beta}^{2}}{2} + \\frac{4 y_{\\alpha}^{4}}{3} + \\frac{7 y_{\\beta}^{4}}{4} = 0 \\\\\\frac{\\sqrt{- 2 x_{\\beta}^{2} - \\frac{4 y_{\\alpha}^{2}}{3} + 2 y_{\\beta}^{2} + 2 \\sqrt[3]{\\frac{x_{\\beta}^{2} y_{\\alpha}^{2} y_{\\beta}^{2}}{4} + \\sqrt{\\frac{\\left(- \\frac{x_{\\beta}^{2} y_{\\alpha}^{2} y_{\\beta}^{2}}{2} - \\frac{\\left(3 x_{\\beta}^{2} + 2 y_{\\alpha}^{2} - 3 y_{\\beta}^{2}\\right)^{3}}{108} + \\frac{\\left(3 x_{\\beta}^{2} + 2 y_{\\alpha}^{2} - 3 y_{\\beta}^{2}\\right) \\left(x_{\\beta}^{4} - 3 x_{\\beta}^{2} y_{\\alpha}^{2} + 2 x_{\\beta}^{2} y_{\\beta}^{2} + y_{\\alpha}^{4} + y_{\\alpha}^{2} y_{\\beta}^{2} + y_{\\beta}^{4}\\right)}{3}\\right)^{2}}{4} + \\frac{\\left(- \\frac{7 x_{\\beta}^{4}}{4} + 2 x_{\\beta}^{2} y_{\\alpha}^{2} - \\frac{x_{\\beta}^{2} y_{\\beta}^{2}}{2} - \\frac{4 y_{\\alpha}^{4}}{3} - \\frac{7 y_{\\beta}^{4}}{4}\\right)^{3}}{27}} + \\frac{\\left(3 x_{\\beta}^{2} + 2 y_{\\alpha}^{2} - 3 y_{\\beta}^{2}\\right)^{3}}{216} - \\frac{\\left(3 x_{\\beta}^{2} + 2 y_{\\alpha}^{2} - 3 y_{\\beta}^{2}\\right) \\left(x_{\\beta}^{4} - 3 x_{\\beta}^{2} y_{\\alpha}^{2} + 2 x_{\\beta}^{2} y_{\\beta}^{2} + y_{\\alpha}^{4} + y_{\\alpha}^{2} y_{\\beta}^{2} + y_{\\beta}^{4}\\right)}{6}} - \\frac{2 \\left(- \\frac{7 x_{\\beta}^{4}}{4} + 2 x_{\\beta}^{2} y_{\\alpha}^{2} - \\frac{x_{\\beta}^{2} y_{\\beta}^{2}}{2} - \\frac{4 y_{\\alpha}^{4}}{3} - \\frac{7 y_{\\beta}^{4}}{4}\\right)}{3 \\sqrt[3]{\\frac{x_{\\beta}^{2} y_{\\alpha}^{2} y_{\\beta}^{2}}{4} + \\sqrt{\\frac{\\left(- \\frac{x_{\\beta}^{2} y_{\\alpha}^{2} y_{\\beta}^{2}}{2} - \\frac{\\left(3 x_{\\beta}^{2} + 2 y_{\\alpha}^{2} - 3 y_{\\beta}^{2}\\right)^{3}}{108} + \\frac{\\left(3 x_{\\beta}^{2} + 2 y_{\\alpha}^{2} - 3 y_{\\beta}^{2}\\right) \\left(x_{\\beta}^{4} - 3 x_{\\beta}^{2} y_{\\alpha}^{2} + 2 x_{\\beta}^{2} y_{\\beta}^{2} + y_{\\alpha}^{4} + y_{\\alpha}^{2} y_{\\beta}^{2} + y_{\\beta}^{4}\\right)}{3}\\right)^{2}}{4} + \\frac{\\left(- \\frac{7 x_{\\beta}^{4}}{4} + 2 x_{\\beta}^{2} y_{\\alpha}^{2} - \\frac{x_{\\beta}^{2} y_{\\beta}^{2}}{2} - \\frac{4 y_{\\alpha}^{4}}{3} - \\frac{7 y_{\\beta}^{4}}{4}\\right)^{3}}{27}} + \\frac{\\left(3 x_{\\beta}^{2} + 2 y_{\\alpha}^{2} - 3 y_{\\beta}^{2}\\right)^{3}}{216} - \\frac{\\left(3 x_{\\beta}^{2} + 2 y_{\\alpha}^{2} - 3 y_{\\beta}^{2}\\right) \\left(x_{\\beta}^{4} - 3 x_{\\beta}^{2} y_{\\alpha}^{2} + 2 x_{\\beta}^{2} y_{\\beta}^{2} + y_{\\alpha}^{4} + y_{\\alpha}^{2} y_{\\beta}^{2} + y_{\\beta}^{4}\\right)}{6}}}}}{2} - \\frac{\\sqrt{- 4 x_{\\beta}^{2} - \\frac{4 x_{\\beta} y_{\\alpha} y_{\\beta}}{\\sqrt{- 2 x_{\\beta}^{2} - \\frac{4 y_{\\alpha}^{2}}{3} + 2 y_{\\beta}^{2} + 2 \\sqrt[3]{\\frac{x_{\\beta}^{2} y_{\\alpha}^{2} y_{\\beta}^{2}}{4} + \\sqrt{\\frac{\\left(- \\frac{x_{\\beta}^{2} y_{\\alpha}^{2} y_{\\beta}^{2}}{2} - \\frac{\\left(3 x_{\\beta}^{2} + 2 y_{\\alpha}^{2} - 3 y_{\\beta}^{2}\\right)^{3}}{108} + \\frac{\\left(3 x_{\\beta}^{2} + 2 y_{\\alpha}^{2} - 3 y_{\\beta}^{2}\\right) \\left(x_{\\beta}^{4} - 3 x_{\\beta}^{2} y_{\\alpha}^{2} + 2 x_{\\beta}^{2} y_{\\beta}^{2} + y_{\\alpha}^{4} + y_{\\alpha}^{2} y_{\\beta}^{2} + y_{\\beta}^{4}\\right)}{3}\\right)^{2}}{4} + \\frac{\\left(- \\frac{7 x_{\\beta}^{4}}{4} + 2 x_{\\beta}^{2} y_{\\alpha}^{2} - \\frac{x_{\\beta}^{2} y_{\\beta}^{2}}{2} - \\frac{4 y_{\\alpha}^{4}}{3} - \\frac{7 y_{\\beta}^{4}}{4}\\right)^{3}}{27}} + \\frac{\\left(3 x_{\\beta}^{2} + 2 y_{\\alpha}^{2} - 3 y_{\\beta}^{2}\\right)^{3}}{216} - \\frac{\\left(3 x_{\\beta}^{2} + 2 y_{\\alpha}^{2} - 3 y_{\\beta}^{2}\\right) \\left(x_{\\beta}^{4} - 3 x_{\\beta}^{2} y_{\\alpha}^{2} + 2 x_{\\beta}^{2} y_{\\beta}^{2} + y_{\\alpha}^{4} + y_{\\alpha}^{2} y_{\\beta}^{2} + y_{\\beta}^{4}\\right)}{6}} - \\frac{2 \\left(- \\frac{7 x_{\\beta}^{4}}{4} + 2 x_{\\beta}^{2} y_{\\alpha}^{2} - \\frac{x_{\\beta}^{2} y_{\\beta}^{2}}{2} - \\frac{4 y_{\\alpha}^{4}}{3} - \\frac{7 y_{\\beta}^{4}}{4}\\right)}{3 \\sqrt[3]{\\frac{x_{\\beta}^{2} y_{\\alpha}^{2} y_{\\beta}^{2}}{4} + \\sqrt{\\frac{\\left(- \\frac{x_{\\beta}^{2} y_{\\alpha}^{2} y_{\\beta}^{2}}{2} - \\frac{\\left(3 x_{\\beta}^{2} + 2 y_{\\alpha}^{2} - 3 y_{\\beta}^{2}\\right)^{3}}{108} + \\frac{\\left(3 x_{\\beta}^{2} + 2 y_{\\alpha}^{2} - 3 y_{\\beta}^{2}\\right) \\left(x_{\\beta}^{4} - 3 x_{\\beta}^{2} y_{\\alpha}^{2} + 2 x_{\\beta}^{2} y_{\\beta}^{2} + y_{\\alpha}^{4} + y_{\\alpha}^{2} y_{\\beta}^{2} + y_{\\beta}^{4}\\right)}{3}\\right)^{2}}{4} + \\frac{\\left(- \\frac{7 x_{\\beta}^{4}}{4} + 2 x_{\\beta}^{2} y_{\\alpha}^{2} - \\frac{x_{\\beta}^{2} y_{\\beta}^{2}}{2} - \\frac{4 y_{\\alpha}^{4}}{3} - \\frac{7 y_{\\beta}^{4}}{4}\\right)^{3}}{27}} + \\frac{\\left(3 x_{\\beta}^{2} + 2 y_{\\alpha}^{2} - 3 y_{\\beta}^{2}\\right)^{3}}{216} - \\frac{\\left(3 x_{\\beta}^{2} + 2 y_{\\alpha}^{2} - 3 y_{\\beta}^{2}\\right) \\left(x_{\\beta}^{4} - 3 x_{\\beta}^{2} y_{\\alpha}^{2} + 2 x_{\\beta}^{2} y_{\\beta}^{2} + y_{\\alpha}^{4} + y_{\\alpha}^{2} y_{\\beta}^{2} + y_{\\beta}^{4}\\right)}{6}}}}} - \\frac{8 y_{\\alpha}^{2}}{3} + 4 y_{\\beta}^{2} - 2 \\sqrt[3]{\\frac{x_{\\beta}^{2} y_{\\alpha}^{2} y_{\\beta}^{2}}{4} + \\sqrt{\\frac{\\left(- \\frac{x_{\\beta}^{2} y_{\\alpha}^{2} y_{\\beta}^{2}}{2} - \\frac{\\left(3 x_{\\beta}^{2} + 2 y_{\\alpha}^{2} - 3 y_{\\beta}^{2}\\right)^{3}}{108} + \\frac{\\left(3 x_{\\beta}^{2} + 2 y_{\\alpha}^{2} - 3 y_{\\beta}^{2}\\right) \\left(x_{\\beta}^{4} - 3 x_{\\beta}^{2} y_{\\alpha}^{2} + 2 x_{\\beta}^{2} y_{\\beta}^{2} + y_{\\alpha}^{4} + y_{\\alpha}^{2} y_{\\beta}^{2} + y_{\\beta}^{4}\\right)}{3}\\right)^{2}}{4} + \\frac{\\left(- \\frac{7 x_{\\beta}^{4}}{4} + 2 x_{\\beta}^{2} y_{\\alpha}^{2} - \\frac{x_{\\beta}^{2} y_{\\beta}^{2}}{2} - \\frac{4 y_{\\alpha}^{4}}{3} - \\frac{7 y_{\\beta}^{4}}{4}\\right)^{3}}{27}} + \\frac{\\left(3 x_{\\beta}^{2} + 2 y_{\\alpha}^{2} - 3 y_{\\beta}^{2}\\right)^{3}}{216} - \\frac{\\left(3 x_{\\beta}^{2} + 2 y_{\\alpha}^{2} - 3 y_{\\beta}^{2}\\right) \\left(x_{\\beta}^{4} - 3 x_{\\beta}^{2} y_{\\alpha}^{2} + 2 x_{\\beta}^{2} y_{\\beta}^{2} + y_{\\alpha}^{4} + y_{\\alpha}^{2} y_{\\beta}^{2} + y_{\\beta}^{4}\\right)}{6}} + \\frac{2 \\left(- \\frac{7 x_{\\beta}^{4}}{4} + 2 x_{\\beta}^{2} y_{\\alpha}^{2} - \\frac{x_{\\beta}^{2} y_{\\beta}^{2}}{2} - \\frac{4 y_{\\alpha}^{4}}{3} - \\frac{7 y_{\\beta}^{4}}{4}\\right)}{3 \\sqrt[3]{\\frac{x_{\\beta}^{2} y_{\\alpha}^{2} y_{\\beta}^{2}}{4} + \\sqrt{\\frac{\\left(- \\frac{x_{\\beta}^{2} y_{\\alpha}^{2} y_{\\beta}^{2}}{2} - \\frac{\\left(3 x_{\\beta}^{2} + 2 y_{\\alpha}^{2} - 3 y_{\\beta}^{2}\\right)^{3}}{108} + \\frac{\\left(3 x_{\\beta}^{2} + 2 y_{\\alpha}^{2} - 3 y_{\\beta}^{2}\\right) \\left(x_{\\beta}^{4} - 3 x_{\\beta}^{2} y_{\\alpha}^{2} + 2 x_{\\beta}^{2} y_{\\beta}^{2} + y_{\\alpha}^{4} + y_{\\alpha}^{2} y_{\\beta}^{2} + y_{\\beta}^{4}\\right)}{3}\\right)^{2}}{4} + \\frac{\\left(- \\frac{7 x_{\\beta}^{4}}{4} + 2 x_{\\beta}^{2} y_{\\alpha}^{2} - \\frac{x_{\\beta}^{2} y_{\\beta}^{2}}{2} - \\frac{4 y_{\\alpha}^{4}}{3} - \\frac{7 y_{\\beta}^{4}}{4}\\right)^{3}}{27}} + \\frac{\\left(3 x_{\\beta}^{2} + 2 y_{\\alpha}^{2} - 3 y_{\\beta}^{2}\\right)^{3}}{216} - \\frac{\\left(3 x_{\\beta}^{2} + 2 y_{\\alpha}^{2} - 3 y_{\\beta}^{2}\\right) \\left(x_{\\beta}^{4} - 3 x_{\\beta}^{2} y_{\\alpha}^{2} + 2 x_{\\beta}^{2} y_{\\beta}^{2} + y_{\\alpha}^{4} + y_{\\alpha}^{2} y_{\\beta}^{2} + y_{\\beta}^{4}\\right)}{6}}}}}{2} & \\text{otherwise} \\end{cases}, \\begin{cases} \\frac{\\sqrt{- 2 x_{\\beta}^{2} - \\frac{4 y_{\\alpha}^{2}}{3} + 2 y_{\\beta}^{2} - 2 \\sqrt[3]{- \\frac{x_{\\beta}^{2} y_{\\alpha}^{2} y_{\\beta}^{2}}{2} - \\frac{\\left(3 x_{\\beta}^{2} + 2 y_{\\alpha}^{2} - 3 y_{\\beta}^{2}\\right)^{3}}{108} + \\frac{\\left(3 x_{\\beta}^{2} + 2 y_{\\alpha}^{2} - 3 y_{\\beta}^{2}\\right) \\left(x_{\\beta}^{4} - 3 x_{\\beta}^{2} y_{\\alpha}^{2} + 2 x_{\\beta}^{2} y_{\\beta}^{2} + y_{\\alpha}^{4} + y_{\\alpha}^{2} y_{\\beta}^{2} + y_{\\beta}^{4}\\right)}{3}}}}{2} + \\frac{\\sqrt{- 4 x_{\\beta}^{2} - \\frac{4 x_{\\beta} y_{\\alpha} y_{\\beta}}{\\sqrt{- 2 x_{\\beta}^{2} - \\frac{4 y_{\\alpha}^{2}}{3} + 2 y_{\\beta}^{2} - 2 \\sqrt[3]{- \\frac{x_{\\beta}^{2} y_{\\alpha}^{2} y_{\\beta}^{2}}{2} - \\frac{\\left(3 x_{\\beta}^{2} + 2 y_{\\alpha}^{2} - 3 y_{\\beta}^{2}\\right)^{3}}{108} + \\frac{\\left(3 x_{\\beta}^{2} + 2 y_{\\alpha}^{2} - 3 y_{\\beta}^{2}\\right) \\left(x_{\\beta}^{4} - 3 x_{\\beta}^{2} y_{\\alpha}^{2} + 2 x_{\\beta}^{2} y_{\\beta}^{2} + y_{\\alpha}^{4} + y_{\\alpha}^{2} y_{\\beta}^{2} + y_{\\beta}^{4}\\right)}{3}}}} - \\frac{8 y_{\\alpha}^{2}}{3} + 4 y_{\\beta}^{2} + 2 \\sqrt[3]{- \\frac{x_{\\beta}^{2} y_{\\alpha}^{2} y_{\\beta}^{2}}{2} - \\frac{\\left(3 x_{\\beta}^{2} + 2 y_{\\alpha}^{2} - 3 y_{\\beta}^{2}\\right)^{3}}{108} + \\frac{\\left(3 x_{\\beta}^{2} + 2 y_{\\alpha}^{2} - 3 y_{\\beta}^{2}\\right) \\left(x_{\\beta}^{4} - 3 x_{\\beta}^{2} y_{\\alpha}^{2} + 2 x_{\\beta}^{2} y_{\\beta}^{2} + y_{\\alpha}^{4} + y_{\\alpha}^{2} y_{\\beta}^{2} + y_{\\beta}^{4}\\right)}{3}}}}{2} & \\text{for}\\: \\frac{7 x_{\\beta}^{4}}{4} - 2 x_{\\beta}^{2} y_{\\alpha}^{2} + \\frac{x_{\\beta}^{2} y_{\\beta}^{2}}{2} + \\frac{4 y_{\\alpha}^{4}}{3} + \\frac{7 y_{\\beta}^{4}}{4} = 0 \\\\\\frac{\\sqrt{- 2 x_{\\beta}^{2} - \\frac{4 y_{\\alpha}^{2}}{3} + 2 y_{\\beta}^{2} + 2 \\sqrt[3]{\\frac{x_{\\beta}^{2} y_{\\alpha}^{2} y_{\\beta}^{2}}{4} + \\sqrt{\\frac{\\left(- \\frac{x_{\\beta}^{2} y_{\\alpha}^{2} y_{\\beta}^{2}}{2} - \\frac{\\left(3 x_{\\beta}^{2} + 2 y_{\\alpha}^{2} - 3 y_{\\beta}^{2}\\right)^{3}}{108} + \\frac{\\left(3 x_{\\beta}^{2} + 2 y_{\\alpha}^{2} - 3 y_{\\beta}^{2}\\right) \\left(x_{\\beta}^{4} - 3 x_{\\beta}^{2} y_{\\alpha}^{2} + 2 x_{\\beta}^{2} y_{\\beta}^{2} + y_{\\alpha}^{4} + y_{\\alpha}^{2} y_{\\beta}^{2} + y_{\\beta}^{4}\\right)}{3}\\right)^{2}}{4} + \\frac{\\left(- \\frac{7 x_{\\beta}^{4}}{4} + 2 x_{\\beta}^{2} y_{\\alpha}^{2} - \\frac{x_{\\beta}^{2} y_{\\beta}^{2}}{2} - \\frac{4 y_{\\alpha}^{4}}{3} - \\frac{7 y_{\\beta}^{4}}{4}\\right)^{3}}{27}} + \\frac{\\left(3 x_{\\beta}^{2} + 2 y_{\\alpha}^{2} - 3 y_{\\beta}^{2}\\right)^{3}}{216} - \\frac{\\left(3 x_{\\beta}^{2} + 2 y_{\\alpha}^{2} - 3 y_{\\beta}^{2}\\right) \\left(x_{\\beta}^{4} - 3 x_{\\beta}^{2} y_{\\alpha}^{2} + 2 x_{\\beta}^{2} y_{\\beta}^{2} + y_{\\alpha}^{4} + y_{\\alpha}^{2} y_{\\beta}^{2} + y_{\\beta}^{4}\\right)}{6}} - \\frac{2 \\left(- \\frac{7 x_{\\beta}^{4}}{4} + 2 x_{\\beta}^{2} y_{\\alpha}^{2} - \\frac{x_{\\beta}^{2} y_{\\beta}^{2}}{2} - \\frac{4 y_{\\alpha}^{4}}{3} - \\frac{7 y_{\\beta}^{4}}{4}\\right)}{3 \\sqrt[3]{\\frac{x_{\\beta}^{2} y_{\\alpha}^{2} y_{\\beta}^{2}}{4} + \\sqrt{\\frac{\\left(- \\frac{x_{\\beta}^{2} y_{\\alpha}^{2} y_{\\beta}^{2}}{2} - \\frac{\\left(3 x_{\\beta}^{2} + 2 y_{\\alpha}^{2} - 3 y_{\\beta}^{2}\\right)^{3}}{108} + \\frac{\\left(3 x_{\\beta}^{2} + 2 y_{\\alpha}^{2} - 3 y_{\\beta}^{2}\\right) \\left(x_{\\beta}^{4} - 3 x_{\\beta}^{2} y_{\\alpha}^{2} + 2 x_{\\beta}^{2} y_{\\beta}^{2} + y_{\\alpha}^{4} + y_{\\alpha}^{2} y_{\\beta}^{2} + y_{\\beta}^{4}\\right)}{3}\\right)^{2}}{4} + \\frac{\\left(- \\frac{7 x_{\\beta}^{4}}{4} + 2 x_{\\beta}^{2} y_{\\alpha}^{2} - \\frac{x_{\\beta}^{2} y_{\\beta}^{2}}{2} - \\frac{4 y_{\\alpha}^{4}}{3} - \\frac{7 y_{\\beta}^{4}}{4}\\right)^{3}}{27}} + \\frac{\\left(3 x_{\\beta}^{2} + 2 y_{\\alpha}^{2} - 3 y_{\\beta}^{2}\\right)^{3}}{216} - \\frac{\\left(3 x_{\\beta}^{2} + 2 y_{\\alpha}^{2} - 3 y_{\\beta}^{2}\\right) \\left(x_{\\beta}^{4} - 3 x_{\\beta}^{2} y_{\\alpha}^{2} + 2 x_{\\beta}^{2} y_{\\beta}^{2} + y_{\\alpha}^{4} + y_{\\alpha}^{2} y_{\\beta}^{2} + y_{\\beta}^{4}\\right)}{6}}}}}{2} + \\frac{\\sqrt{- 4 x_{\\beta}^{2} - \\frac{4 x_{\\beta} y_{\\alpha} y_{\\beta}}{\\sqrt{- 2 x_{\\beta}^{2} - \\frac{4 y_{\\alpha}^{2}}{3} + 2 y_{\\beta}^{2} + 2 \\sqrt[3]{\\frac{x_{\\beta}^{2} y_{\\alpha}^{2} y_{\\beta}^{2}}{4} + \\sqrt{\\frac{\\left(- \\frac{x_{\\beta}^{2} y_{\\alpha}^{2} y_{\\beta}^{2}}{2} - \\frac{\\left(3 x_{\\beta}^{2} + 2 y_{\\alpha}^{2} - 3 y_{\\beta}^{2}\\right)^{3}}{108} + \\frac{\\left(3 x_{\\beta}^{2} + 2 y_{\\alpha}^{2} - 3 y_{\\beta}^{2}\\right) \\left(x_{\\beta}^{4} - 3 x_{\\beta}^{2} y_{\\alpha}^{2} + 2 x_{\\beta}^{2} y_{\\beta}^{2} + y_{\\alpha}^{4} + y_{\\alpha}^{2} y_{\\beta}^{2} + y_{\\beta}^{4}\\right)}{3}\\right)^{2}}{4} + \\frac{\\left(- \\frac{7 x_{\\beta}^{4}}{4} + 2 x_{\\beta}^{2} y_{\\alpha}^{2} - \\frac{x_{\\beta}^{2} y_{\\beta}^{2}}{2} - \\frac{4 y_{\\alpha}^{4}}{3} - \\frac{7 y_{\\beta}^{4}}{4}\\right)^{3}}{27}} + \\frac{\\left(3 x_{\\beta}^{2} + 2 y_{\\alpha}^{2} - 3 y_{\\beta}^{2}\\right)^{3}}{216} - \\frac{\\left(3 x_{\\beta}^{2} + 2 y_{\\alpha}^{2} - 3 y_{\\beta}^{2}\\right) \\left(x_{\\beta}^{4} - 3 x_{\\beta}^{2} y_{\\alpha}^{2} + 2 x_{\\beta}^{2} y_{\\beta}^{2} + y_{\\alpha}^{4} + y_{\\alpha}^{2} y_{\\beta}^{2} + y_{\\beta}^{4}\\right)}{6}} - \\frac{2 \\left(- \\frac{7 x_{\\beta}^{4}}{4} + 2 x_{\\beta}^{2} y_{\\alpha}^{2} - \\frac{x_{\\beta}^{2} y_{\\beta}^{2}}{2} - \\frac{4 y_{\\alpha}^{4}}{3} - \\frac{7 y_{\\beta}^{4}}{4}\\right)}{3 \\sqrt[3]{\\frac{x_{\\beta}^{2} y_{\\alpha}^{2} y_{\\beta}^{2}}{4} + \\sqrt{\\frac{\\left(- \\frac{x_{\\beta}^{2} y_{\\alpha}^{2} y_{\\beta}^{2}}{2} - \\frac{\\left(3 x_{\\beta}^{2} + 2 y_{\\alpha}^{2} - 3 y_{\\beta}^{2}\\right)^{3}}{108} + \\frac{\\left(3 x_{\\beta}^{2} + 2 y_{\\alpha}^{2} - 3 y_{\\beta}^{2}\\right) \\left(x_{\\beta}^{4} - 3 x_{\\beta}^{2} y_{\\alpha}^{2} + 2 x_{\\beta}^{2} y_{\\beta}^{2} + y_{\\alpha}^{4} + y_{\\alpha}^{2} y_{\\beta}^{2} + y_{\\beta}^{4}\\right)}{3}\\right)^{2}}{4} + \\frac{\\left(- \\frac{7 x_{\\beta}^{4}}{4} + 2 x_{\\beta}^{2} y_{\\alpha}^{2} - \\frac{x_{\\beta}^{2} y_{\\beta}^{2}}{2} - \\frac{4 y_{\\alpha}^{4}}{3} - \\frac{7 y_{\\beta}^{4}}{4}\\right)^{3}}{27}} + \\frac{\\left(3 x_{\\beta}^{2} + 2 y_{\\alpha}^{2} - 3 y_{\\beta}^{2}\\right)^{3}}{216} - \\frac{\\left(3 x_{\\beta}^{2} + 2 y_{\\alpha}^{2} - 3 y_{\\beta}^{2}\\right) \\left(x_{\\beta}^{4} - 3 x_{\\beta}^{2} y_{\\alpha}^{2} + 2 x_{\\beta}^{2} y_{\\beta}^{2} + y_{\\alpha}^{4} + y_{\\alpha}^{2} y_{\\beta}^{2} + y_{\\beta}^{4}\\right)}{6}}}}} - \\frac{8 y_{\\alpha}^{2}}{3} + 4 y_{\\beta}^{2} - 2 \\sqrt[3]{\\frac{x_{\\beta}^{2} y_{\\alpha}^{2} y_{\\beta}^{2}}{4} + \\sqrt{\\frac{\\left(- \\frac{x_{\\beta}^{2} y_{\\alpha}^{2} y_{\\beta}^{2}}{2} - \\frac{\\left(3 x_{\\beta}^{2} + 2 y_{\\alpha}^{2} - 3 y_{\\beta}^{2}\\right)^{3}}{108} + \\frac{\\left(3 x_{\\beta}^{2} + 2 y_{\\alpha}^{2} - 3 y_{\\beta}^{2}\\right) \\left(x_{\\beta}^{4} - 3 x_{\\beta}^{2} y_{\\alpha}^{2} + 2 x_{\\beta}^{2} y_{\\beta}^{2} + y_{\\alpha}^{4} + y_{\\alpha}^{2} y_{\\beta}^{2} + y_{\\beta}^{4}\\right)}{3}\\right)^{2}}{4} + \\frac{\\left(- \\frac{7 x_{\\beta}^{4}}{4} + 2 x_{\\beta}^{2} y_{\\alpha}^{2} - \\frac{x_{\\beta}^{2} y_{\\beta}^{2}}{2} - \\frac{4 y_{\\alpha}^{4}}{3} - \\frac{7 y_{\\beta}^{4}}{4}\\right)^{3}}{27}} + \\frac{\\left(3 x_{\\beta}^{2} + 2 y_{\\alpha}^{2} - 3 y_{\\beta}^{2}\\right)^{3}}{216} - \\frac{\\left(3 x_{\\beta}^{2} + 2 y_{\\alpha}^{2} - 3 y_{\\beta}^{2}\\right) \\left(x_{\\beta}^{4} - 3 x_{\\beta}^{2} y_{\\alpha}^{2} + 2 x_{\\beta}^{2} y_{\\beta}^{2} + y_{\\alpha}^{4} + y_{\\alpha}^{2} y_{\\beta}^{2} + y_{\\beta}^{4}\\right)}{6}} + \\frac{2 \\left(- \\frac{7 x_{\\beta}^{4}}{4} + 2 x_{\\beta}^{2} y_{\\alpha}^{2} - \\frac{x_{\\beta}^{2} y_{\\beta}^{2}}{2} - \\frac{4 y_{\\alpha}^{4}}{3} - \\frac{7 y_{\\beta}^{4}}{4}\\right)}{3 \\sqrt[3]{\\frac{x_{\\beta}^{2} y_{\\alpha}^{2} y_{\\beta}^{2}}{4} + \\sqrt{\\frac{\\left(- \\frac{x_{\\beta}^{2} y_{\\alpha}^{2} y_{\\beta}^{2}}{2} - \\frac{\\left(3 x_{\\beta}^{2} + 2 y_{\\alpha}^{2} - 3 y_{\\beta}^{2}\\right)^{3}}{108} + \\frac{\\left(3 x_{\\beta}^{2} + 2 y_{\\alpha}^{2} - 3 y_{\\beta}^{2}\\right) \\left(x_{\\beta}^{4} - 3 x_{\\beta}^{2} y_{\\alpha}^{2} + 2 x_{\\beta}^{2} y_{\\beta}^{2} + y_{\\alpha}^{4} + y_{\\alpha}^{2} y_{\\beta}^{2} + y_{\\beta}^{4}\\right)}{3}\\right)^{2}}{4} + \\frac{\\left(- \\frac{7 x_{\\beta}^{4}}{4} + 2 x_{\\beta}^{2} y_{\\alpha}^{2} - \\frac{x_{\\beta}^{2} y_{\\beta}^{2}}{2} - \\frac{4 y_{\\alpha}^{4}}{3} - \\frac{7 y_{\\beta}^{4}}{4}\\right)^{3}}{27}} + \\frac{\\left(3 x_{\\beta}^{2} + 2 y_{\\alpha}^{2} - 3 y_{\\beta}^{2}\\right)^{3}}{216} - \\frac{\\left(3 x_{\\beta}^{2} + 2 y_{\\alpha}^{2} - 3 y_{\\beta}^{2}\\right) \\left(x_{\\beta}^{4} - 3 x_{\\beta}^{2} y_{\\alpha}^{2} + 2 x_{\\beta}^{2} y_{\\beta}^{2} + y_{\\alpha}^{4} + y_{\\alpha}^{2} y_{\\beta}^{2} + y_{\\beta}^{4}\\right)}{6}}}}}{2} & \\text{otherwise} \\end{cases}\\right\\}$"
      ],
      "text/plain": [
       "{Piecewise((-sqrt(-2*x_beta**2 - 4*y_alpha**2/3 + 2*y_beta**2 - 2*(-x_beta**2*y_alpha**2*y_beta**2/2 - (3*x_beta**2 + 2*y_alpha**2 - 3*y_beta**2)**3/108 + (3*x_beta**2 + 2*y_alpha**2 - 3*y_beta**2)*(x_beta**4 - 3*x_beta**2*y_alpha**2 + 2*x_beta**2*y_beta**2 + y_alpha**4 + y_alpha**2*y_beta**2 + y_beta**4)/3)**(1/3))/2 - sqrt(-4*x_beta**2 + 4*x_beta*y_alpha*y_beta/sqrt(-2*x_beta**2 - 4*y_alpha**2/3 + 2*y_beta**2 - 2*(-x_beta**2*y_alpha**2*y_beta**2/2 - (3*x_beta**2 + 2*y_alpha**2 - 3*y_beta**2)**3/108 + (3*x_beta**2 + 2*y_alpha**2 - 3*y_beta**2)*(x_beta**4 - 3*x_beta**2*y_alpha**2 + 2*x_beta**2*y_beta**2 + y_alpha**4 + y_alpha**2*y_beta**2 + y_beta**4)/3)**(1/3)) - 8*y_alpha**2/3 + 4*y_beta**2 + 2*(-x_beta**2*y_alpha**2*y_beta**2/2 - (3*x_beta**2 + 2*y_alpha**2 - 3*y_beta**2)**3/108 + (3*x_beta**2 + 2*y_alpha**2 - 3*y_beta**2)*(x_beta**4 - 3*x_beta**2*y_alpha**2 + 2*x_beta**2*y_beta**2 + y_alpha**4 + y_alpha**2*y_beta**2 + y_beta**4)/3)**(1/3))/2, Eq(7*x_beta**4/4 - 2*x_beta**2*y_alpha**2 + x_beta**2*y_beta**2/2 + 4*y_alpha**4/3 + 7*y_beta**4/4, 0)), (-sqrt(-2*x_beta**2 - 4*y_alpha**2/3 + 2*y_beta**2 + 2*(x_beta**2*y_alpha**2*y_beta**2/4 + sqrt((-x_beta**2*y_alpha**2*y_beta**2/2 - (3*x_beta**2 + 2*y_alpha**2 - 3*y_beta**2)**3/108 + (3*x_beta**2 + 2*y_alpha**2 - 3*y_beta**2)*(x_beta**4 - 3*x_beta**2*y_alpha**2 + 2*x_beta**2*y_beta**2 + y_alpha**4 + y_alpha**2*y_beta**2 + y_beta**4)/3)**2/4 + (-7*x_beta**4/4 + 2*x_beta**2*y_alpha**2 - x_beta**2*y_beta**2/2 - 4*y_alpha**4/3 - 7*y_beta**4/4)**3/27) + (3*x_beta**2 + 2*y_alpha**2 - 3*y_beta**2)**3/216 - (3*x_beta**2 + 2*y_alpha**2 - 3*y_beta**2)*(x_beta**4 - 3*x_beta**2*y_alpha**2 + 2*x_beta**2*y_beta**2 + y_alpha**4 + y_alpha**2*y_beta**2 + y_beta**4)/6)**(1/3) - 2*(-7*x_beta**4/4 + 2*x_beta**2*y_alpha**2 - x_beta**2*y_beta**2/2 - 4*y_alpha**4/3 - 7*y_beta**4/4)/(3*(x_beta**2*y_alpha**2*y_beta**2/4 + sqrt((-x_beta**2*y_alpha**2*y_beta**2/2 - (3*x_beta**2 + 2*y_alpha**2 - 3*y_beta**2)**3/108 + (3*x_beta**2 + 2*y_alpha**2 - 3*y_beta**2)*(x_beta**4 - 3*x_beta**2*y_alpha**2 + 2*x_beta**2*y_beta**2 + y_alpha**4 + y_alpha**2*y_beta**2 + y_beta**4)/3)**2/4 + (-7*x_beta**4/4 + 2*x_beta**2*y_alpha**2 - x_beta**2*y_beta**2/2 - 4*y_alpha**4/3 - 7*y_beta**4/4)**3/27) + (3*x_beta**2 + 2*y_alpha**2 - 3*y_beta**2)**3/216 - (3*x_beta**2 + 2*y_alpha**2 - 3*y_beta**2)*(x_beta**4 - 3*x_beta**2*y_alpha**2 + 2*x_beta**2*y_beta**2 + y_alpha**4 + y_alpha**2*y_beta**2 + y_beta**4)/6)**(1/3)))/2 - sqrt(-4*x_beta**2 + 4*x_beta*y_alpha*y_beta/sqrt(-2*x_beta**2 - 4*y_alpha**2/3 + 2*y_beta**2 + 2*(x_beta**2*y_alpha**2*y_beta**2/4 + sqrt((-x_beta**2*y_alpha**2*y_beta**2/2 - (3*x_beta**2 + 2*y_alpha**2 - 3*y_beta**2)**3/108 + (3*x_beta**2 + 2*y_alpha**2 - 3*y_beta**2)*(x_beta**4 - 3*x_beta**2*y_alpha**2 + 2*x_beta**2*y_beta**2 + y_alpha**4 + y_alpha**2*y_beta**2 + y_beta**4)/3)**2/4 + (-7*x_beta**4/4 + 2*x_beta**2*y_alpha**2 - x_beta**2*y_beta**2/2 - 4*y_alpha**4/3 - 7*y_beta**4/4)**3/27) + (3*x_beta**2 + 2*y_alpha**2 - 3*y_beta**2)**3/216 - (3*x_beta**2 + 2*y_alpha**2 - 3*y_beta**2)*(x_beta**4 - 3*x_beta**2*y_alpha**2 + 2*x_beta**2*y_beta**2 + y_alpha**4 + y_alpha**2*y_beta**2 + y_beta**4)/6)**(1/3) - 2*(-7*x_beta**4/4 + 2*x_beta**2*y_alpha**2 - x_beta**2*y_beta**2/2 - 4*y_alpha**4/3 - 7*y_beta**4/4)/(3*(x_beta**2*y_alpha**2*y_beta**2/4 + sqrt((-x_beta**2*y_alpha**2*y_beta**2/2 - (3*x_beta**2 + 2*y_alpha**2 - 3*y_beta**2)**3/108 + (3*x_beta**2 + 2*y_alpha**2 - 3*y_beta**2)*(x_beta**4 - 3*x_beta**2*y_alpha**2 + 2*x_beta**2*y_beta**2 + y_alpha**4 + y_alpha**2*y_beta**2 + y_beta**4)/3)**2/4 + (-7*x_beta**4/4 + 2*x_beta**2*y_alpha**2 - x_beta**2*y_beta**2/2 - 4*y_alpha**4/3 - 7*y_beta**4/4)**3/27) + (3*x_beta**2 + 2*y_alpha**2 - 3*y_beta**2)**3/216 - (3*x_beta**2 + 2*y_alpha**2 - 3*y_beta**2)*(x_beta**4 - 3*x_beta**2*y_alpha**2 + 2*x_beta**2*y_beta**2 + y_alpha**4 + y_alpha**2*y_beta**2 + y_beta**4)/6)**(1/3))) - 8*y_alpha**2/3 + 4*y_beta**2 - 2*(x_beta**2*y_alpha**2*y_beta**2/4 + sqrt((-x_beta**2*y_alpha**2*y_beta**2/2 - (3*x_beta**2 + 2*y_alpha**2 - 3*y_beta**2)**3/108 + (3*x_beta**2 + 2*y_alpha**2 - 3*y_beta**2)*(x_beta**4 - 3*x_beta**2*y_alpha**2 + 2*x_beta**2*y_beta**2 + y_alpha**4 + y_alpha**2*y_beta**2 + y_beta**4)/3)**2/4 + (-7*x_beta**4/4 + 2*x_beta**2*y_alpha**2 - x_beta**2*y_beta**2/2 - 4*y_alpha**4/3 - 7*y_beta**4/4)**3/27) + (3*x_beta**2 + 2*y_alpha**2 - 3*y_beta**2)**3/216 - (3*x_beta**2 + 2*y_alpha**2 - 3*y_beta**2)*(x_beta**4 - 3*x_beta**2*y_alpha**2 + 2*x_beta**2*y_beta**2 + y_alpha**4 + y_alpha**2*y_beta**2 + y_beta**4)/6)**(1/3) + 2*(-7*x_beta**4/4 + 2*x_beta**2*y_alpha**2 - x_beta**2*y_beta**2/2 - 4*y_alpha**4/3 - 7*y_beta**4/4)/(3*(x_beta**2*y_alpha**2*y_beta**2/4 + sqrt((-x_beta**2*y_alpha**2*y_beta**2/2 - (3*x_beta**2 + 2*y_alpha**2 - 3*y_beta**2)**3/108 + (3*x_beta**2 + 2*y_alpha**2 - 3*y_beta**2)*(x_beta**4 - 3*x_beta**2*y_alpha**2 + 2*x_beta**2*y_beta**2 + y_alpha**4 + y_alpha**2*y_beta**2 + y_beta**4)/3)**2/4 + (-7*x_beta**4/4 + 2*x_beta**2*y_alpha**2 - x_beta**2*y_beta**2/2 - 4*y_alpha**4/3 - 7*y_beta**4/4)**3/27) + (3*x_beta**2 + 2*y_alpha**2 - 3*y_beta**2)**3/216 - (3*x_beta**2 + 2*y_alpha**2 - 3*y_beta**2)*(x_beta**4 - 3*x_beta**2*y_alpha**2 + 2*x_beta**2*y_beta**2 + y_alpha**4 + y_alpha**2*y_beta**2 + y_beta**4)/6)**(1/3)))/2, True)), Piecewise((-sqrt(-2*x_beta**2 - 4*y_alpha**2/3 + 2*y_beta**2 - 2*(-x_beta**2*y_alpha**2*y_beta**2/2 - (3*x_beta**2 + 2*y_alpha**2 - 3*y_beta**2)**3/108 + (3*x_beta**2 + 2*y_alpha**2 - 3*y_beta**2)*(x_beta**4 - 3*x_beta**2*y_alpha**2 + 2*x_beta**2*y_beta**2 + y_alpha**4 + y_alpha**2*y_beta**2 + y_beta**4)/3)**(1/3))/2 + sqrt(-4*x_beta**2 + 4*x_beta*y_alpha*y_beta/sqrt(-2*x_beta**2 - 4*y_alpha**2/3 + 2*y_beta**2 - 2*(-x_beta**2*y_alpha**2*y_beta**2/2 - (3*x_beta**2 + 2*y_alpha**2 - 3*y_beta**2)**3/108 + (3*x_beta**2 + 2*y_alpha**2 - 3*y_beta**2)*(x_beta**4 - 3*x_beta**2*y_alpha**2 + 2*x_beta**2*y_beta**2 + y_alpha**4 + y_alpha**2*y_beta**2 + y_beta**4)/3)**(1/3)) - 8*y_alpha**2/3 + 4*y_beta**2 + 2*(-x_beta**2*y_alpha**2*y_beta**2/2 - (3*x_beta**2 + 2*y_alpha**2 - 3*y_beta**2)**3/108 + (3*x_beta**2 + 2*y_alpha**2 - 3*y_beta**2)*(x_beta**4 - 3*x_beta**2*y_alpha**2 + 2*x_beta**2*y_beta**2 + y_alpha**4 + y_alpha**2*y_beta**2 + y_beta**4)/3)**(1/3))/2, Eq(7*x_beta**4/4 - 2*x_beta**2*y_alpha**2 + x_beta**2*y_beta**2/2 + 4*y_alpha**4/3 + 7*y_beta**4/4, 0)), (-sqrt(-2*x_beta**2 - 4*y_alpha**2/3 + 2*y_beta**2 + 2*(x_beta**2*y_alpha**2*y_beta**2/4 + sqrt((-x_beta**2*y_alpha**2*y_beta**2/2 - (3*x_beta**2 + 2*y_alpha**2 - 3*y_beta**2)**3/108 + (3*x_beta**2 + 2*y_alpha**2 - 3*y_beta**2)*(x_beta**4 - 3*x_beta**2*y_alpha**2 + 2*x_beta**2*y_beta**2 + y_alpha**4 + y_alpha**2*y_beta**2 + y_beta**4)/3)**2/4 + (-7*x_beta**4/4 + 2*x_beta**2*y_alpha**2 - x_beta**2*y_beta**2/2 - 4*y_alpha**4/3 - 7*y_beta**4/4)**3/27) + (3*x_beta**2 + 2*y_alpha**2 - 3*y_beta**2)**3/216 - (3*x_beta**2 + 2*y_alpha**2 - 3*y_beta**2)*(x_beta**4 - 3*x_beta**2*y_alpha**2 + 2*x_beta**2*y_beta**2 + y_alpha**4 + y_alpha**2*y_beta**2 + y_beta**4)/6)**(1/3) - 2*(-7*x_beta**4/4 + 2*x_beta**2*y_alpha**2 - x_beta**2*y_beta**2/2 - 4*y_alpha**4/3 - 7*y_beta**4/4)/(3*(x_beta**2*y_alpha**2*y_beta**2/4 + sqrt((-x_beta**2*y_alpha**2*y_beta**2/2 - (3*x_beta**2 + 2*y_alpha**2 - 3*y_beta**2)**3/108 + (3*x_beta**2 + 2*y_alpha**2 - 3*y_beta**2)*(x_beta**4 - 3*x_beta**2*y_alpha**2 + 2*x_beta**2*y_beta**2 + y_alpha**4 + y_alpha**2*y_beta**2 + y_beta**4)/3)**2/4 + (-7*x_beta**4/4 + 2*x_beta**2*y_alpha**2 - x_beta**2*y_beta**2/2 - 4*y_alpha**4/3 - 7*y_beta**4/4)**3/27) + (3*x_beta**2 + 2*y_alpha**2 - 3*y_beta**2)**3/216 - (3*x_beta**2 + 2*y_alpha**2 - 3*y_beta**2)*(x_beta**4 - 3*x_beta**2*y_alpha**2 + 2*x_beta**2*y_beta**2 + y_alpha**4 + y_alpha**2*y_beta**2 + y_beta**4)/6)**(1/3)))/2 + sqrt(-4*x_beta**2 + 4*x_beta*y_alpha*y_beta/sqrt(-2*x_beta**2 - 4*y_alpha**2/3 + 2*y_beta**2 + 2*(x_beta**2*y_alpha**2*y_beta**2/4 + sqrt((-x_beta**2*y_alpha**2*y_beta**2/2 - (3*x_beta**2 + 2*y_alpha**2 - 3*y_beta**2)**3/108 + (3*x_beta**2 + 2*y_alpha**2 - 3*y_beta**2)*(x_beta**4 - 3*x_beta**2*y_alpha**2 + 2*x_beta**2*y_beta**2 + y_alpha**4 + y_alpha**2*y_beta**2 + y_beta**4)/3)**2/4 + (-7*x_beta**4/4 + 2*x_beta**2*y_alpha**2 - x_beta**2*y_beta**2/2 - 4*y_alpha**4/3 - 7*y_beta**4/4)**3/27) + (3*x_beta**2 + 2*y_alpha**2 - 3*y_beta**2)**3/216 - (3*x_beta**2 + 2*y_alpha**2 - 3*y_beta**2)*(x_beta**4 - 3*x_beta**2*y_alpha**2 + 2*x_beta**2*y_beta**2 + y_alpha**4 + y_alpha**2*y_beta**2 + y_beta**4)/6)**(1/3) - 2*(-7*x_beta**4/4 + 2*x_beta**2*y_alpha**2 - x_beta**2*y_beta**2/2 - 4*y_alpha**4/3 - 7*y_beta**4/4)/(3*(x_beta**2*y_alpha**2*y_beta**2/4 + sqrt((-x_beta**2*y_alpha**2*y_beta**2/2 - (3*x_beta**2 + 2*y_alpha**2 - 3*y_beta**2)**3/108 + (3*x_beta**2 + 2*y_alpha**2 - 3*y_beta**2)*(x_beta**4 - 3*x_beta**2*y_alpha**2 + 2*x_beta**2*y_beta**2 + y_alpha**4 + y_alpha**2*y_beta**2 + y_beta**4)/3)**2/4 + (-7*x_beta**4/4 + 2*x_beta**2*y_alpha**2 - x_beta**2*y_beta**2/2 - 4*y_alpha**4/3 - 7*y_beta**4/4)**3/27) + (3*x_beta**2 + 2*y_alpha**2 - 3*y_beta**2)**3/216 - (3*x_beta**2 + 2*y_alpha**2 - 3*y_beta**2)*(x_beta**4 - 3*x_beta**2*y_alpha**2 + 2*x_beta**2*y_beta**2 + y_alpha**4 + y_alpha**2*y_beta**2 + y_beta**4)/6)**(1/3))) - 8*y_alpha**2/3 + 4*y_beta**2 - 2*(x_beta**2*y_alpha**2*y_beta**2/4 + sqrt((-x_beta**2*y_alpha**2*y_beta**2/2 - (3*x_beta**2 + 2*y_alpha**2 - 3*y_beta**2)**3/108 + (3*x_beta**2 + 2*y_alpha**2 - 3*y_beta**2)*(x_beta**4 - 3*x_beta**2*y_alpha**2 + 2*x_beta**2*y_beta**2 + y_alpha**4 + y_alpha**2*y_beta**2 + y_beta**4)/3)**2/4 + (-7*x_beta**4/4 + 2*x_beta**2*y_alpha**2 - x_beta**2*y_beta**2/2 - 4*y_alpha**4/3 - 7*y_beta**4/4)**3/27) + (3*x_beta**2 + 2*y_alpha**2 - 3*y_beta**2)**3/216 - (3*x_beta**2 + 2*y_alpha**2 - 3*y_beta**2)*(x_beta**4 - 3*x_beta**2*y_alpha**2 + 2*x_beta**2*y_beta**2 + y_alpha**4 + y_alpha**2*y_beta**2 + y_beta**4)/6)**(1/3) + 2*(-7*x_beta**4/4 + 2*x_beta**2*y_alpha**2 - x_beta**2*y_beta**2/2 - 4*y_alpha**4/3 - 7*y_beta**4/4)/(3*(x_beta**2*y_alpha**2*y_beta**2/4 + sqrt((-x_beta**2*y_alpha**2*y_beta**2/2 - (3*x_beta**2 + 2*y_alpha**2 - 3*y_beta**2)**3/108 + (3*x_beta**2 + 2*y_alpha**2 - 3*y_beta**2)*(x_beta**4 - 3*x_beta**2*y_alpha**2 + 2*x_beta**2*y_beta**2 + y_alpha**4 + y_alpha**2*y_beta**2 + y_beta**4)/3)**2/4 + (-7*x_beta**4/4 + 2*x_beta**2*y_alpha**2 - x_beta**2*y_beta**2/2 - 4*y_alpha**4/3 - 7*y_beta**4/4)**3/27) + (3*x_beta**2 + 2*y_alpha**2 - 3*y_beta**2)**3/216 - (3*x_beta**2 + 2*y_alpha**2 - 3*y_beta**2)*(x_beta**4 - 3*x_beta**2*y_alpha**2 + 2*x_beta**2*y_beta**2 + y_alpha**4 + y_alpha**2*y_beta**2 + y_beta**4)/6)**(1/3)))/2, True)), Piecewise((sqrt(-2*x_beta**2 - 4*y_alpha**2/3 + 2*y_beta**2 - 2*(-x_beta**2*y_alpha**2*y_beta**2/2 - (3*x_beta**2 + 2*y_alpha**2 - 3*y_beta**2)**3/108 + (3*x_beta**2 + 2*y_alpha**2 - 3*y_beta**2)*(x_beta**4 - 3*x_beta**2*y_alpha**2 + 2*x_beta**2*y_beta**2 + y_alpha**4 + y_alpha**2*y_beta**2 + y_beta**4)/3)**(1/3))/2 - sqrt(-4*x_beta**2 - 4*x_beta*y_alpha*y_beta/sqrt(-2*x_beta**2 - 4*y_alpha**2/3 + 2*y_beta**2 - 2*(-x_beta**2*y_alpha**2*y_beta**2/2 - (3*x_beta**2 + 2*y_alpha**2 - 3*y_beta**2)**3/108 + (3*x_beta**2 + 2*y_alpha**2 - 3*y_beta**2)*(x_beta**4 - 3*x_beta**2*y_alpha**2 + 2*x_beta**2*y_beta**2 + y_alpha**4 + y_alpha**2*y_beta**2 + y_beta**4)/3)**(1/3)) - 8*y_alpha**2/3 + 4*y_beta**2 + 2*(-x_beta**2*y_alpha**2*y_beta**2/2 - (3*x_beta**2 + 2*y_alpha**2 - 3*y_beta**2)**3/108 + (3*x_beta**2 + 2*y_alpha**2 - 3*y_beta**2)*(x_beta**4 - 3*x_beta**2*y_alpha**2 + 2*x_beta**2*y_beta**2 + y_alpha**4 + y_alpha**2*y_beta**2 + y_beta**4)/3)**(1/3))/2, Eq(7*x_beta**4/4 - 2*x_beta**2*y_alpha**2 + x_beta**2*y_beta**2/2 + 4*y_alpha**4/3 + 7*y_beta**4/4, 0)), (sqrt(-2*x_beta**2 - 4*y_alpha**2/3 + 2*y_beta**2 + 2*(x_beta**2*y_alpha**2*y_beta**2/4 + sqrt((-x_beta**2*y_alpha**2*y_beta**2/2 - (3*x_beta**2 + 2*y_alpha**2 - 3*y_beta**2)**3/108 + (3*x_beta**2 + 2*y_alpha**2 - 3*y_beta**2)*(x_beta**4 - 3*x_beta**2*y_alpha**2 + 2*x_beta**2*y_beta**2 + y_alpha**4 + y_alpha**2*y_beta**2 + y_beta**4)/3)**2/4 + (-7*x_beta**4/4 + 2*x_beta**2*y_alpha**2 - x_beta**2*y_beta**2/2 - 4*y_alpha**4/3 - 7*y_beta**4/4)**3/27) + (3*x_beta**2 + 2*y_alpha**2 - 3*y_beta**2)**3/216 - (3*x_beta**2 + 2*y_alpha**2 - 3*y_beta**2)*(x_beta**4 - 3*x_beta**2*y_alpha**2 + 2*x_beta**2*y_beta**2 + y_alpha**4 + y_alpha**2*y_beta**2 + y_beta**4)/6)**(1/3) - 2*(-7*x_beta**4/4 + 2*x_beta**2*y_alpha**2 - x_beta**2*y_beta**2/2 - 4*y_alpha**4/3 - 7*y_beta**4/4)/(3*(x_beta**2*y_alpha**2*y_beta**2/4 + sqrt((-x_beta**2*y_alpha**2*y_beta**2/2 - (3*x_beta**2 + 2*y_alpha**2 - 3*y_beta**2)**3/108 + (3*x_beta**2 + 2*y_alpha**2 - 3*y_beta**2)*(x_beta**4 - 3*x_beta**2*y_alpha**2 + 2*x_beta**2*y_beta**2 + y_alpha**4 + y_alpha**2*y_beta**2 + y_beta**4)/3)**2/4 + (-7*x_beta**4/4 + 2*x_beta**2*y_alpha**2 - x_beta**2*y_beta**2/2 - 4*y_alpha**4/3 - 7*y_beta**4/4)**3/27) + (3*x_beta**2 + 2*y_alpha**2 - 3*y_beta**2)**3/216 - (3*x_beta**2 + 2*y_alpha**2 - 3*y_beta**2)*(x_beta**4 - 3*x_beta**2*y_alpha**2 + 2*x_beta**2*y_beta**2 + y_alpha**4 + y_alpha**2*y_beta**2 + y_beta**4)/6)**(1/3)))/2 - sqrt(-4*x_beta**2 - 4*x_beta*y_alpha*y_beta/sqrt(-2*x_beta**2 - 4*y_alpha**2/3 + 2*y_beta**2 + 2*(x_beta**2*y_alpha**2*y_beta**2/4 + sqrt((-x_beta**2*y_alpha**2*y_beta**2/2 - (3*x_beta**2 + 2*y_alpha**2 - 3*y_beta**2)**3/108 + (3*x_beta**2 + 2*y_alpha**2 - 3*y_beta**2)*(x_beta**4 - 3*x_beta**2*y_alpha**2 + 2*x_beta**2*y_beta**2 + y_alpha**4 + y_alpha**2*y_beta**2 + y_beta**4)/3)**2/4 + (-7*x_beta**4/4 + 2*x_beta**2*y_alpha**2 - x_beta**2*y_beta**2/2 - 4*y_alpha**4/3 - 7*y_beta**4/4)**3/27) + (3*x_beta**2 + 2*y_alpha**2 - 3*y_beta**2)**3/216 - (3*x_beta**2 + 2*y_alpha**2 - 3*y_beta**2)*(x_beta**4 - 3*x_beta**2*y_alpha**2 + 2*x_beta**2*y_beta**2 + y_alpha**4 + y_alpha**2*y_beta**2 + y_beta**4)/6)**(1/3) - 2*(-7*x_beta**4/4 + 2*x_beta**2*y_alpha**2 - x_beta**2*y_beta**2/2 - 4*y_alpha**4/3 - 7*y_beta**4/4)/(3*(x_beta**2*y_alpha**2*y_beta**2/4 + sqrt((-x_beta**2*y_alpha**2*y_beta**2/2 - (3*x_beta**2 + 2*y_alpha**2 - 3*y_beta**2)**3/108 + (3*x_beta**2 + 2*y_alpha**2 - 3*y_beta**2)*(x_beta**4 - 3*x_beta**2*y_alpha**2 + 2*x_beta**2*y_beta**2 + y_alpha**4 + y_alpha**2*y_beta**2 + y_beta**4)/3)**2/4 + (-7*x_beta**4/4 + 2*x_beta**2*y_alpha**2 - x_beta**2*y_beta**2/2 - 4*y_alpha**4/3 - 7*y_beta**4/4)**3/27) + (3*x_beta**2 + 2*y_alpha**2 - 3*y_beta**2)**3/216 - (3*x_beta**2 + 2*y_alpha**2 - 3*y_beta**2)*(x_beta**4 - 3*x_beta**2*y_alpha**2 + 2*x_beta**2*y_beta**2 + y_alpha**4 + y_alpha**2*y_beta**2 + y_beta**4)/6)**(1/3))) - 8*y_alpha**2/3 + 4*y_beta**2 - 2*(x_beta**2*y_alpha**2*y_beta**2/4 + sqrt((-x_beta**2*y_alpha**2*y_beta**2/2 - (3*x_beta**2 + 2*y_alpha**2 - 3*y_beta**2)**3/108 + (3*x_beta**2 + 2*y_alpha**2 - 3*y_beta**2)*(x_beta**4 - 3*x_beta**2*y_alpha**2 + 2*x_beta**2*y_beta**2 + y_alpha**4 + y_alpha**2*y_beta**2 + y_beta**4)/3)**2/4 + (-7*x_beta**4/4 + 2*x_beta**2*y_alpha**2 - x_beta**2*y_beta**2/2 - 4*y_alpha**4/3 - 7*y_beta**4/4)**3/27) + (3*x_beta**2 + 2*y_alpha**2 - 3*y_beta**2)**3/216 - (3*x_beta**2 + 2*y_alpha**2 - 3*y_beta**2)*(x_beta**4 - 3*x_beta**2*y_alpha**2 + 2*x_beta**2*y_beta**2 + y_alpha**4 + y_alpha**2*y_beta**2 + y_beta**4)/6)**(1/3) + 2*(-7*x_beta**4/4 + 2*x_beta**2*y_alpha**2 - x_beta**2*y_beta**2/2 - 4*y_alpha**4/3 - 7*y_beta**4/4)/(3*(x_beta**2*y_alpha**2*y_beta**2/4 + sqrt((-x_beta**2*y_alpha**2*y_beta**2/2 - (3*x_beta**2 + 2*y_alpha**2 - 3*y_beta**2)**3/108 + (3*x_beta**2 + 2*y_alpha**2 - 3*y_beta**2)*(x_beta**4 - 3*x_beta**2*y_alpha**2 + 2*x_beta**2*y_beta**2 + y_alpha**4 + y_alpha**2*y_beta**2 + y_beta**4)/3)**2/4 + (-7*x_beta**4/4 + 2*x_beta**2*y_alpha**2 - x_beta**2*y_beta**2/2 - 4*y_alpha**4/3 - 7*y_beta**4/4)**3/27) + (3*x_beta**2 + 2*y_alpha**2 - 3*y_beta**2)**3/216 - (3*x_beta**2 + 2*y_alpha**2 - 3*y_beta**2)*(x_beta**4 - 3*x_beta**2*y_alpha**2 + 2*x_beta**2*y_beta**2 + y_alpha**4 + y_alpha**2*y_beta**2 + y_beta**4)/6)**(1/3)))/2, True)), Piecewise((sqrt(-2*x_beta**2 - 4*y_alpha**2/3 + 2*y_beta**2 - 2*(-x_beta**2*y_alpha**2*y_beta**2/2 - (3*x_beta**2 + 2*y_alpha**2 - 3*y_beta**2)**3/108 + (3*x_beta**2 + 2*y_alpha**2 - 3*y_beta**2)*(x_beta**4 - 3*x_beta**2*y_alpha**2 + 2*x_beta**2*y_beta**2 + y_alpha**4 + y_alpha**2*y_beta**2 + y_beta**4)/3)**(1/3))/2 + sqrt(-4*x_beta**2 - 4*x_beta*y_alpha*y_beta/sqrt(-2*x_beta**2 - 4*y_alpha**2/3 + 2*y_beta**2 - 2*(-x_beta**2*y_alpha**2*y_beta**2/2 - (3*x_beta**2 + 2*y_alpha**2 - 3*y_beta**2)**3/108 + (3*x_beta**2 + 2*y_alpha**2 - 3*y_beta**2)*(x_beta**4 - 3*x_beta**2*y_alpha**2 + 2*x_beta**2*y_beta**2 + y_alpha**4 + y_alpha**2*y_beta**2 + y_beta**4)/3)**(1/3)) - 8*y_alpha**2/3 + 4*y_beta**2 + 2*(-x_beta**2*y_alpha**2*y_beta**2/2 - (3*x_beta**2 + 2*y_alpha**2 - 3*y_beta**2)**3/108 + (3*x_beta**2 + 2*y_alpha**2 - 3*y_beta**2)*(x_beta**4 - 3*x_beta**2*y_alpha**2 + 2*x_beta**2*y_beta**2 + y_alpha**4 + y_alpha**2*y_beta**2 + y_beta**4)/3)**(1/3))/2, Eq(7*x_beta**4/4 - 2*x_beta**2*y_alpha**2 + x_beta**2*y_beta**2/2 + 4*y_alpha**4/3 + 7*y_beta**4/4, 0)), (sqrt(-2*x_beta**2 - 4*y_alpha**2/3 + 2*y_beta**2 + 2*(x_beta**2*y_alpha**2*y_beta**2/4 + sqrt((-x_beta**2*y_alpha**2*y_beta**2/2 - (3*x_beta**2 + 2*y_alpha**2 - 3*y_beta**2)**3/108 + (3*x_beta**2 + 2*y_alpha**2 - 3*y_beta**2)*(x_beta**4 - 3*x_beta**2*y_alpha**2 + 2*x_beta**2*y_beta**2 + y_alpha**4 + y_alpha**2*y_beta**2 + y_beta**4)/3)**2/4 + (-7*x_beta**4/4 + 2*x_beta**2*y_alpha**2 - x_beta**2*y_beta**2/2 - 4*y_alpha**4/3 - 7*y_beta**4/4)**3/27) + (3*x_beta**2 + 2*y_alpha**2 - 3*y_beta**2)**3/216 - (3*x_beta**2 + 2*y_alpha**2 - 3*y_beta**2)*(x_beta**4 - 3*x_beta**2*y_alpha**2 + 2*x_beta**2*y_beta**2 + y_alpha**4 + y_alpha**2*y_beta**2 + y_beta**4)/6)**(1/3) - 2*(-7*x_beta**4/4 + 2*x_beta**2*y_alpha**2 - x_beta**2*y_beta**2/2 - 4*y_alpha**4/3 - 7*y_beta**4/4)/(3*(x_beta**2*y_alpha**2*y_beta**2/4 + sqrt((-x_beta**2*y_alpha**2*y_beta**2/2 - (3*x_beta**2 + 2*y_alpha**2 - 3*y_beta**2)**3/108 + (3*x_beta**2 + 2*y_alpha**2 - 3*y_beta**2)*(x_beta**4 - 3*x_beta**2*y_alpha**2 + 2*x_beta**2*y_beta**2 + y_alpha**4 + y_alpha**2*y_beta**2 + y_beta**4)/3)**2/4 + (-7*x_beta**4/4 + 2*x_beta**2*y_alpha**2 - x_beta**2*y_beta**2/2 - 4*y_alpha**4/3 - 7*y_beta**4/4)**3/27) + (3*x_beta**2 + 2*y_alpha**2 - 3*y_beta**2)**3/216 - (3*x_beta**2 + 2*y_alpha**2 - 3*y_beta**2)*(x_beta**4 - 3*x_beta**2*y_alpha**2 + 2*x_beta**2*y_beta**2 + y_alpha**4 + y_alpha**2*y_beta**2 + y_beta**4)/6)**(1/3)))/2 + sqrt(-4*x_beta**2 - 4*x_beta*y_alpha*y_beta/sqrt(-2*x_beta**2 - 4*y_alpha**2/3 + 2*y_beta**2 + 2*(x_beta**2*y_alpha**2*y_beta**2/4 + sqrt((-x_beta**2*y_alpha**2*y_beta**2/2 - (3*x_beta**2 + 2*y_alpha**2 - 3*y_beta**2)**3/108 + (3*x_beta**2 + 2*y_alpha**2 - 3*y_beta**2)*(x_beta**4 - 3*x_beta**2*y_alpha**2 + 2*x_beta**2*y_beta**2 + y_alpha**4 + y_alpha**2*y_beta**2 + y_beta**4)/3)**2/4 + (-7*x_beta**4/4 + 2*x_beta**2*y_alpha**2 - x_beta**2*y_beta**2/2 - 4*y_alpha**4/3 - 7*y_beta**4/4)**3/27) + (3*x_beta**2 + 2*y_alpha**2 - 3*y_beta**2)**3/216 - (3*x_beta**2 + 2*y_alpha**2 - 3*y_beta**2)*(x_beta**4 - 3*x_beta**2*y_alpha**2 + 2*x_beta**2*y_beta**2 + y_alpha**4 + y_alpha**2*y_beta**2 + y_beta**4)/6)**(1/3) - 2*(-7*x_beta**4/4 + 2*x_beta**2*y_alpha**2 - x_beta**2*y_beta**2/2 - 4*y_alpha**4/3 - 7*y_beta**4/4)/(3*(x_beta**2*y_alpha**2*y_beta**2/4 + sqrt((-x_beta**2*y_alpha**2*y_beta**2/2 - (3*x_beta**2 + 2*y_alpha**2 - 3*y_beta**2)**3/108 + (3*x_beta**2 + 2*y_alpha**2 - 3*y_beta**2)*(x_beta**4 - 3*x_beta**2*y_alpha**2 + 2*x_beta**2*y_beta**2 + y_alpha**4 + y_alpha**2*y_beta**2 + y_beta**4)/3)**2/4 + (-7*x_beta**4/4 + 2*x_beta**2*y_alpha**2 - x_beta**2*y_beta**2/2 - 4*y_alpha**4/3 - 7*y_beta**4/4)**3/27) + (3*x_beta**2 + 2*y_alpha**2 - 3*y_beta**2)**3/216 - (3*x_beta**2 + 2*y_alpha**2 - 3*y_beta**2)*(x_beta**4 - 3*x_beta**2*y_alpha**2 + 2*x_beta**2*y_beta**2 + y_alpha**4 + y_alpha**2*y_beta**2 + y_beta**4)/6)**(1/3))) - 8*y_alpha**2/3 + 4*y_beta**2 - 2*(x_beta**2*y_alpha**2*y_beta**2/4 + sqrt((-x_beta**2*y_alpha**2*y_beta**2/2 - (3*x_beta**2 + 2*y_alpha**2 - 3*y_beta**2)**3/108 + (3*x_beta**2 + 2*y_alpha**2 - 3*y_beta**2)*(x_beta**4 - 3*x_beta**2*y_alpha**2 + 2*x_beta**2*y_beta**2 + y_alpha**4 + y_alpha**2*y_beta**2 + y_beta**4)/3)**2/4 + (-7*x_beta**4/4 + 2*x_beta**2*y_alpha**2 - x_beta**2*y_beta**2/2 - 4*y_alpha**4/3 - 7*y_beta**4/4)**3/27) + (3*x_beta**2 + 2*y_alpha**2 - 3*y_beta**2)**3/216 - (3*x_beta**2 + 2*y_alpha**2 - 3*y_beta**2)*(x_beta**4 - 3*x_beta**2*y_alpha**2 + 2*x_beta**2*y_beta**2 + y_alpha**4 + y_alpha**2*y_beta**2 + y_beta**4)/6)**(1/3) + 2*(-7*x_beta**4/4 + 2*x_beta**2*y_alpha**2 - x_beta**2*y_beta**2/2 - 4*y_alpha**4/3 - 7*y_beta**4/4)/(3*(x_beta**2*y_alpha**2*y_beta**2/4 + sqrt((-x_beta**2*y_alpha**2*y_beta**2/2 - (3*x_beta**2 + 2*y_alpha**2 - 3*y_beta**2)**3/108 + (3*x_beta**2 + 2*y_alpha**2 - 3*y_beta**2)*(x_beta**4 - 3*x_beta**2*y_alpha**2 + 2*x_beta**2*y_beta**2 + y_alpha**4 + y_alpha**2*y_beta**2 + y_beta**4)/3)**2/4 + (-7*x_beta**4/4 + 2*x_beta**2*y_alpha**2 - x_beta**2*y_beta**2/2 - 4*y_alpha**4/3 - 7*y_beta**4/4)**3/27) + (3*x_beta**2 + 2*y_alpha**2 - 3*y_beta**2)**3/216 - (3*x_beta**2 + 2*y_alpha**2 - 3*y_beta**2)*(x_beta**4 - 3*x_beta**2*y_alpha**2 + 2*x_beta**2*y_beta**2 + y_alpha**4 + y_alpha**2*y_beta**2 + y_beta**4)/6)**(1/3)))/2, True))}"
      ]
     },
     "execution_count": 16,
     "metadata": {},
     "output_type": "execute_result"
    }
   ],
   "source": [
    "mp.solveset(mp.Eq(func, 0), xa)"
   ]
  },
  {
   "cell_type": "markdown",
   "id": "27e560aa-0e71-4d8f-bd9e-a099af31f8b2",
   "metadata": {},
   "source": [
    "Можно воспользоваться аналогичным критерем для метода Зейделя:"
   ]
  },
  {
   "cell_type": "code",
   "execution_count": 2,
   "id": "b9022a48-13ac-4d53-a7d4-3dabfdfdceef",
   "metadata": {},
   "outputs": [
    {
     "data": {
      "text/latex": [
       "$\\displaystyle \\left[\\begin{matrix}\\alpha x & \\alpha & 0\\\\\\alpha x & \\beta x & \\beta\\\\0 & \\beta x & \\alpha x\\end{matrix}\\right]$"
      ],
      "text/plain": [
       "Matrix([\n",
       "[alpha*x,  alpha,       0],\n",
       "[alpha*x, beta*x,    beta],\n",
       "[      0, beta*x, alpha*x]])"
      ]
     },
     "execution_count": 2,
     "metadata": {},
     "output_type": "execute_result"
    }
   ],
   "source": [
    "import sympy as mp\n",
    "a, b, x = mp.symbols('alpha beta x')\n",
    "M = mp.Matrix([[a * x, a, 0], [a * x, b * x, b], [0, b * x, a * x]])\n",
    "M"
   ]
  },
  {
   "cell_type": "code",
   "execution_count": 18,
   "id": "48c141f3-4213-452d-a853-9827f41c4335",
   "metadata": {},
   "outputs": [
    {
     "data": {
      "text/latex": [
       "$\\displaystyle - \\alpha^{3} x^{2} + \\alpha^{2} \\beta x^{3} - \\alpha \\beta^{2} x^{2}$"
      ],
      "text/plain": [
       "-alpha**3*x**2 + alpha**2*beta*x**3 - alpha*beta**2*x**2"
      ]
     },
     "execution_count": 18,
     "metadata": {},
     "output_type": "execute_result"
    }
   ],
   "source": [
    "mp.det(M)"
   ]
  },
  {
   "cell_type": "code",
   "execution_count": 19,
   "id": "801bcfb5-0b96-46ef-ae2f-185d73cb4190",
   "metadata": {},
   "outputs": [
    {
     "data": {
      "text/latex": [
       "$\\displaystyle - \\alpha^{3} x^{2} + \\alpha^{2} \\beta x^{3} - \\alpha \\beta^{2} x^{2} = 0$"
      ],
      "text/plain": [
       "Eq(-alpha**3*x**2 + alpha**2*beta*x**3 - alpha*beta**2*x**2, 0)"
      ]
     },
     "execution_count": 19,
     "metadata": {},
     "output_type": "execute_result"
    }
   ],
   "source": [
    "eq = mp.Eq(mp.det(M), 0)\n",
    "eq"
   ]
  },
  {
   "cell_type": "code",
   "execution_count": 20,
   "id": "2896186e-c5e5-4e92-817f-fd0fbee6d64e",
   "metadata": {},
   "outputs": [
    {
     "data": {
      "text/latex": [
       "$\\displaystyle \\left\\{0, \\frac{\\alpha^{2} + \\beta^{2}}{\\alpha \\beta}\\right\\}$"
      ],
      "text/plain": [
       "{0, (alpha**2 + beta**2)/(alpha*beta)}"
      ]
     },
     "execution_count": 20,
     "metadata": {},
     "output_type": "execute_result"
    }
   ],
   "source": [
    "mp.solveset(eq, x)"
   ]
  },
  {
   "cell_type": "markdown",
   "id": "3556e275-b445-46c1-ac06-f44576ca5242",
   "metadata": {},
   "source": [
    "Получаем, что метод Якоби и Метод Зейделя в данном случае сходят в одной и той же области, в которой"
   ]
  },
  {
   "cell_type": "code",
   "execution_count": 74,
   "id": "e208efc6-227f-4bff-8636-1af7d85a3818",
   "metadata": {},
   "outputs": [
    {
     "data": {
      "text/latex": [
       "$\\displaystyle x_{\\alpha}^{4} + 3 x_{\\alpha}^{2} x_{\\beta}^{2} + 2 x_{\\alpha}^{2} y_{\\alpha}^{2} - 3 x_{\\alpha}^{2} y_{\\beta}^{2} + 2 x_{\\alpha} x_{\\beta} y_{\\alpha} y_{\\beta} + x_{\\beta}^{4} - 3 x_{\\beta}^{2} y_{\\alpha}^{2} + 2 x_{\\beta}^{2} y_{\\beta}^{2} + y_{\\alpha}^{4} + y_{\\alpha}^{2} y_{\\beta}^{2} + y_{\\beta}^{4} \\leq 0$"
      ],
      "text/plain": [
       "x_alpha**4 + 3*x_alpha**2*x_beta**2 + 2*x_alpha**2*y_alpha**2 - 3*x_alpha**2*y_beta**2 + 2*x_alpha*x_beta*y_alpha*y_beta + x_beta**4 - 3*x_beta**2*y_alpha**2 + 2*x_beta**2*y_beta**2 + y_alpha**4 + y_alpha**2*y_beta**2 + y_beta**4 <= 0"
      ]
     },
     "execution_count": 74,
     "metadata": {},
     "output_type": "execute_result"
    }
   ],
   "source": [
    "func <= 0"
   ]
  }
 ],
 "metadata": {
  "kernelspec": {
   "display_name": "Python 3 (ipykernel)",
   "language": "python",
   "name": "python3"
  },
  "language_info": {
   "codemirror_mode": {
    "name": "ipython",
    "version": 3
   },
   "file_extension": ".py",
   "mimetype": "text/x-python",
   "name": "python",
   "nbconvert_exporter": "python",
   "pygments_lexer": "ipython3",
   "version": "3.10.12"
  }
 },
 "nbformat": 4,
 "nbformat_minor": 5
}
