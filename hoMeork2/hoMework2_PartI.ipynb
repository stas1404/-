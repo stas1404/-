{
 "cells": [
  {
   "cell_type": "markdown",
   "id": "d7c6820a-07bd-4b85-95bf-57f8e3f92475",
   "metadata": {},
   "source": [
    "# Вторая домашняя работа"
   ]
  },
  {
   "cell_type": "markdown",
   "id": "f5745caa-206c-4913-84df-e3edb228b044",
   "metadata": {},
   "source": [
    "## Вариант 4"
   ]
  },
  {
   "cell_type": "markdown",
   "id": "bb8d7558-87a5-4c6f-9628-110490e13aea",
   "metadata": {},
   "source": [
    "### П.7.12 \n",
    "#### Пусть числа $d_k$ > 0, k = 1,..., n. Доказать, что $\\sqrt{\\Sigma_{k=1}^n d_k x_k^2}$ есть норма вектора x. Найти норму матрицы, подчиненную этой векторной норме."
   ]
  },
  {
   "cell_type": "markdown",
   "id": "37678da2-8b02-47b2-b172-5d7fcae5d2a5",
   "metadata": {},
   "source": [
    "Проверим выполнение аксиом нормы для $||x||_? = \\sqrt{\\Sigma_{k=1}^n d_k x_k^2}$\n",
    "1) Пусть $||x||_? = 0$ <=>\n",
    "   $\\sqrt{\\Sigma_{k=1}^n d_k x_k^2}$ = 0\n",
    "   \n",
    "   Поскольку все $d_k$ > 0 и $x_k^2$ $\\geq$ 0, выПолнение данного условия равносильно $x_k^2 = 0$ $\\forall k \\in \\{1, ..., n\\}$ <=>$x_k = 0$ $\\forall k \\in \\{1, ..., n\\}$\n",
    "2) Пусть $m \\in R$\n",
    "\n",
    "   $||mx||_? = \\sqrt{\\Sigma_{k=1}^n d_k (m x_k)^2}$ = $\\sqrt{m*m \\Sigma_{k=1}^n d_k x_k^2} = |m|\\sqrt{\\Sigma_{k=1}^n d_k x_k^2} = |m| ||x||_?$\n",
    "\n",
    "3) Пусть $m, p \\in R^n$\n",
    "\n",
    "   $||m+p||_? = \\sqrt{\\Sigma_{k=1}^n d_k (m_k + p_k)^2} = \\sqrt{\\Sigma_{k=1}^n d_k (m_k*m_k + m_k*p_k*2 + p_k * p_k) }$ (1)\n",
    "\n",
    "   Сравним полученное значение с суммой норм\n",
    "\n",
    "   $||m||_? + ||p||_?$ = $\\sqrt{\\Sigma_{k=1}^n d_k (m_k*m_k)} + \\sqrt{\\Sigma_{k=1}^n d_k (p_k*p_k)}$ (2)\n",
    "\n",
    "   Возведйм выражнение (2) в квадрат и вычтем из него квадрат (1):\n",
    "\n",
    "   $(||m||_? + ||p||_?)^2 - ||m+p||_?^2 = \\Sigma_{k=1}^n d_k (m_k*m_k) + 2 \\sqrt{\\Sigma_{k=1}^n d_k (m_k*m_k) \\Sigma_{j=1}^n d_k (p_j*p_j)} + \\Sigma_{k=1}^n d_k (p_k*p_k) - \\Sigma_{k=1}^n d_k (m_k*m_k + m_k*p_k*2 + p_k * p_k) =$\n",
    "   \n",
    "   $= \\Sigma_{k=1}^n d_k (m_k*m_k) + 2 \\sqrt{\\Sigma_{k=1}^n d_k (m_k*m_k) \\Sigma_{j=1}^n d_k (p_j*p_j)} + \\Sigma_{k=1}^n d_k (p_k*p_k) - \\Sigma_{k=1}^n d_k (m_k*m_k) - 2\\Sigma_{k=1}^nm_k*p_k*d_k - \\Sigma_{k=1}^n(p_k * p_k) * d_k =$\n",
    "\n",
    "   $ = 2 \\sqrt{\\Sigma_{k=1}^n d_k (m_k*m_k) \\Sigma_{j=1}^n d_k (p_j*p_j)} - 2\\Sigma_{k=1}^nm_k*p_k*d_k$\n",
    "\n",
    "   Полученное выражение можно переписать в виде:\n",
    "\n",
    "   $2 \\sqrt{\\Sigma_{k,j=1}^n (m_k*m_k)*(p_j*p_j)*d_kd_j} - 2\\sqrt{\\Sigma_{k=1}^n(m_k * m_k)*(p_k*p_k)*d_k^2}$\n",
    "\n",
    "   Поэтому очевидноБ что оно больше 0.\n",
    "\n",
    "ПолучаемБ что все аксиомы нормы выполнены => $|| \\cdot ||_?$ - норма\n",
    "\n",
    "Б) Подчинэнная норма матрицы:\n",
    "\n",
    "$||M||_? = sup_{p \\neq 0}\\frac{||Mp||_?}{||p||_?}$\n",
    "\n",
    "Будем вместо $p$ рассматривать вектор:\n",
    "\n",
    "$p'_k = \\sqrt{d_k} p_k$\n",
    "\n",
    "Вместо матрицы $M$ введём матрицу  $M'$:\n",
    "\n",
    "$M'_{ij} = \\frac{M_{ij}\\sqrt{d_i}}{\\sqrt{d_j}}$\n",
    "\n",
    "Переходим к выражению:\n",
    "\n",
    "$||M||_? = sup_{p \\neq 0} \\frac{||M'p'||_3}{||p'||_3} = sup_{p' \\neq 0} \\frac{||M'p'||_3}{||p'||_3}$\n",
    "\n",
    "А это как известно $\\sqrt{max \\lambda_i (M'^*M')}$, где $M_{ij}'=\\frac{M_{ij}\\sqrt{d_i}}{\\sqrt{d_j}}$"
   ]
  },
  {
   "cell_type": "markdown",
   "id": "82c7705f-9cb3-482b-83ab-8635a44498b9",
   "metadata": {},
   "source": [
    "### П.9.2 Г) \n",
    "#### Дана система линейных алгебраических уравнений Ax = b.\n",
    "#### Оценить максимально точно относительную погрешность ||Δx||/||x|| в заданной норме. Найти вектор ошибки Δb, на котором эта оценка достиГается. При каком Δb относительная ошибка ||Δx||/||x|| будет минимальной? Найти ее.\n",
    "\n",
    "A = $\\left(\\begin{array}{cc} \n",
    "65 & 72\\\\\n",
    "72 & 82\n",
    "\\end{array}\\right)$, b = $\\left(\\begin{array}{c} \n",
    "137\\\\\n",
    "154\n",
    "\\end{array}\\right)$, $\\frac{||\\Delta b||_3}{||b||_3} = 0.01$, $||x||_3 = \\sqrt{(x,x)}$"
   ]
  },
  {
   "cell_type": "markdown",
   "id": "c421a7e5-1931-4cb0-8148-003cbf96f02d",
   "metadata": {},
   "source": [
    "Пусть:\n",
    "\n",
    "$Ax =b$\n",
    "\n",
    "$A(x+ \\Delta x) = B + \\Delta B$\n",
    "\n",
    "$A \\Delta x = \\Delta B$\n",
    "\n",
    "$\\frac{||\\Delta x||_3}{||x||_3} = \\frac{||A^{-1} \\Delta b||_3}{||x||_3} \\leq \\frac{||A^{-1}||_{3*} ||\\Delta b||_3}{||x||_3} = \\frac{||A^{-1}||_{3*} ||B|| ||\\Delta b||_3}{||x||_3||B||}$\n",
    "\n",
    "Поэтому Погрешность не превысит $\\frac{||A^{-1}||_{3*} ||B||}{||x||_3}$\n",
    "\n",
    "Полученная оценка может быть достигнута при $B : ||A^{-1} \\Delta b||_3 = ||A^{-1}||_{3*} ||\\Delta b||_3$\n",
    "\n",
    "По свойствам сопряжённой нормы это означает, что $\\Delta b$ - вектор, коллинеарный собственному вектору соотвествующему максимальному собстевнному значению матрицы $A^{-1*}A^{-1}$\n",
    "\n",
    "Перейдём конкретно к нашей задаче Найдём собственные числа и векторы матрицы $A^{-1*}A^{-1}$"
   ]
  },
  {
   "cell_type": "code",
   "execution_count": 2,
   "id": "d9943a9b-debe-41a0-855d-a294012e310f",
   "metadata": {},
   "outputs": [
    {
     "data": {
      "text/latex": [
       "$\\displaystyle \\left[\\begin{matrix}65 & 72\\\\72 & 82\\end{matrix}\\right]$"
      ],
      "text/plain": [
       "Matrix([\n",
       "[65, 72],\n",
       "[72, 82]])"
      ]
     },
     "execution_count": 2,
     "metadata": {},
     "output_type": "execute_result"
    }
   ],
   "source": [
    "import sympy as mp\n",
    "M = mp.Matrix([[65, 72], [72, 82]])\n",
    "M"
   ]
  },
  {
   "cell_type": "code",
   "execution_count": 3,
   "id": "d721f1f0-bba5-4b59-96dd-7a222c1a92b9",
   "metadata": {},
   "outputs": [
    {
     "data": {
      "text/latex": [
       "$\\displaystyle \\left[\\begin{matrix}\\frac{41}{73} & - \\frac{36}{73}\\\\- \\frac{36}{73} & \\frac{65}{146}\\end{matrix}\\right]$"
      ],
      "text/plain": [
       "Matrix([\n",
       "[ 41/73, -36/73],\n",
       "[-36/73, 65/146]])"
      ]
     },
     "execution_count": 3,
     "metadata": {},
     "output_type": "execute_result"
    }
   ],
   "source": [
    "P = M ** (-1)\n",
    "P"
   ]
  },
  {
   "cell_type": "code",
   "execution_count": 4,
   "id": "213b637b-4255-44fe-bbb0-61ab1d8d0be6",
   "metadata": {},
   "outputs": [],
   "source": [
    "B = mp.Matrix([137, 154])"
   ]
  },
  {
   "cell_type": "code",
   "execution_count": 5,
   "id": "d450d26c-3b73-4cf1-8b88-63f354d9b488",
   "metadata": {},
   "outputs": [
    {
     "data": {
      "text/plain": [
       "{1: 1, 1/146: 1}"
      ]
     },
     "execution_count": 5,
     "metadata": {},
     "output_type": "execute_result"
    }
   ],
   "source": [
    "P.eigenvals()"
   ]
  },
  {
   "cell_type": "code",
   "execution_count": 6,
   "id": "88f0843c-d1c9-485d-a43f-924e24b65d37",
   "metadata": {},
   "outputs": [
    {
     "data": {
      "text/plain": [
       "(1,\n",
       " 1,\n",
       " [Matrix([\n",
       "  [-9/8],\n",
       "  [   1]])])"
      ]
     },
     "execution_count": 6,
     "metadata": {},
     "output_type": "execute_result"
    }
   ],
   "source": [
    "P.eigenvects()[1]"
   ]
  },
  {
   "cell_type": "markdown",
   "id": "35c43078-a511-4015-bb39-be832c4cae51",
   "metadata": {},
   "source": [
    "Получаем $b = G \\left(\\begin{array}{c} \n",
    "-\\frac{9}{8}\\\\\n",
    "1\n",
    "\\end{array}\\right)$, $||b||_3 = 0.01 * ||b||_3$\n",
    "\n",
    "$G*G*\\frac{145}{64} = 0.01^2*(137*137+154*154)$\n",
    "\n",
    "$G = \\sqrt{\\frac{16994}{9625}} \\approx 1.32$\n",
    "\n",
    "$\\Delta b = G * \\left(\\begin{array}{c} \n",
    "-\\frac{9}{8}\\\\\n",
    "1\n",
    "\\end{array}\\right) \\approx \\left(\\begin{array}{c} \n",
    "-\\frac{297}{200}\\\\\n",
    "1.32\n",
    "\\end{array}\\right)$"
   ]
  },
  {
   "cell_type": "markdown",
   "id": "3482fe1e-694e-4371-8959-a843585b0366",
   "metadata": {},
   "source": [
    "Поищем $\\Delta B$ при котором погрешность минимальна <=> $||A \\Delta B||_3$ минимальна. Поскольку норма $\\Delta B$ фиксирована и равна 0,01 нормы $B$, Можно Получить минимум лишь при $\\Delta B$ коллинеарном вектору, соответсвующему минимальному по модулю собственному значению:"
   ]
  },
  {
   "cell_type": "code",
   "execution_count": 7,
   "id": "e1e912ff-a20e-4edb-87dc-bfe536a21116",
   "metadata": {},
   "outputs": [
    {
     "data": {
      "text/plain": [
       "(1/146,\n",
       " 1,\n",
       " [Matrix([\n",
       "  [8/9],\n",
       "  [  1]])])"
      ]
     },
     "execution_count": 7,
     "metadata": {},
     "output_type": "execute_result"
    }
   ],
   "source": [
    "P.eigenvects()[0]"
   ]
  },
  {
   "cell_type": "markdown",
   "id": "7c661502-4d4c-43c6-83db-6e0a029f87ae",
   "metadata": {},
   "source": [
    "Получаем $b = G \\left(\\begin{array}{c} \n",
    "\\frac{8}{9}\\\\\n",
    "1\n",
    "\\end{array}\\right)$, $||b||_3 = 0.01 * ||b||_3$\n",
    "\n",
    "$G*G*\\frac{145}{81} = 0.01^2*(137*137+154*154)$\n",
    "\n",
    "$G \\approx 2,3733$\n",
    "\n",
    "$\\Delta b = G * \\left(\\begin{array}{c} \n",
    "\\frac{8}{9}\\\\\n",
    "1\n",
    "\\end{array}\\right) \\approx \\left(\\begin{array}{c} \n",
    "2,1096\\\\\n",
    "2,3733\n",
    "\\end{array}\\right)$"
   ]
  },
  {
   "cell_type": "markdown",
   "id": "ade48403-bae9-4082-9ce4-b878b8d4ab43",
   "metadata": {},
   "source": [
    "Можно найти решение системы:"
   ]
  },
  {
   "cell_type": "code",
   "execution_count": 8,
   "id": "3c667b98-fcec-4cb4-ab45-654beeb9b6fd",
   "metadata": {},
   "outputs": [
    {
     "data": {
      "text/latex": [
       "$\\displaystyle \\left[\\begin{matrix}1\\\\1\\end{matrix}\\right]$"
      ],
      "text/plain": [
       "Matrix([\n",
       "[1],\n",
       "[1]])"
      ]
     },
     "execution_count": 8,
     "metadata": {},
     "output_type": "execute_result"
    }
   ],
   "source": [
    "x = P * B\n",
    "x"
   ]
  },
  {
   "cell_type": "markdown",
   "id": "4a29e540-c1fa-444e-b7db-6ab27e772a52",
   "metadata": {},
   "source": [
    "Получаем в таком случае для значения погрешности $\\frac{||\\Delta x||_3}{||x||_3} = \\frac{||P \\Delta B||_3}{||x||_3}$"
   ]
  },
  {
   "cell_type": "code",
   "execution_count": 9,
   "id": "6436ff77-2394-49b2-85e6-edc4b8c9d839",
   "metadata": {},
   "outputs": [
    {
     "data": {
      "text/latex": [
       "$\\displaystyle 0.0153789355640233$"
      ],
      "text/plain": [
       "0.0153789355640233"
      ]
     },
     "execution_count": 9,
     "metadata": {},
     "output_type": "execute_result"
    }
   ],
   "source": [
    "from math import sqrt\n",
    "(P * mp.Matrix([2.1096, 2.3733])).norm() / sqrt(2)"
   ]
  },
  {
   "cell_type": "markdown",
   "id": "bf718520-bcde-4bec-bb8b-3cc58306825a",
   "metadata": {},
   "source": [
    "Получаем: Минимум погршности достигается при $\\Delta B = \\left(\\begin{array}{c} \n",
    "2,1096\\\\\n",
    "2,3733\n",
    "\\end{array}\\right)$ и составляет 0.01537"
   ]
  }
 ],
 "metadata": {
  "kernelspec": {
   "display_name": "Python 3 (ipykernel)",
   "language": "python",
   "name": "python3"
  },
  "language_info": {
   "codemirror_mode": {
    "name": "ipython",
    "version": 3
   },
   "file_extension": ".py",
   "mimetype": "text/x-python",
   "name": "python",
   "nbconvert_exporter": "python",
   "pygments_lexer": "ipython3",
   "version": "3.10.12"
  }
 },
 "nbformat": 4,
 "nbformat_minor": 5
}
