{
 "cells": [
  {
   "cell_type": "markdown",
   "id": "d7c6820a-07bd-4b85-95bf-57f8e3f92475",
   "metadata": {},
   "source": [
    "# Вторая домашняя работа"
   ]
  },
  {
   "cell_type": "markdown",
   "id": "55c9824d-813f-4299-ab07-b9ffc9e97495",
   "metadata": {},
   "source": [
    "#### 2*a) Реализуйте метод Ричардсона решения системы уравнений из задачи II.10.6д. Оптимальное значение параметра 𝜏 подобрать экспериментально, основываясь на оценке скорости сходимости метода на первых 10 итерациях. При помощи степенного метода поиска максимального по модулю собственного значения оцените число обусловенности матрицы системы. Используя оценку числа обусловенности, получить решение системы с относительной точностью $\\epsilon = 10^{−5}$."
   ]
  },
  {
   "cell_type": "markdown",
   "id": "42443891-db1b-47f7-bbd8-313fbd5a7f0c",
   "metadata": {},
   "source": [
    "Проинициализируем матрицу и вектор $B$"
   ]
  },
  {
   "cell_type": "code",
   "execution_count": 47,
   "id": "af72c157-e9f9-4b66-b306-ef3a7a3f5712",
   "metadata": {},
   "outputs": [
    {
     "data": {
      "text/plain": [
       "array([[10,  1,  1, ...,  0,  0,  0],\n",
       "       [ 1, 10,  1, ...,  0,  0,  0],\n",
       "       [ 1,  1, 10, ...,  0,  0,  0],\n",
       "       ...,\n",
       "       [ 0,  0,  0, ..., 10,  1,  1],\n",
       "       [ 0,  0,  0, ...,  1, 10,  1],\n",
       "       [ 0,  0,  0, ...,  1,  1, 10]])"
      ]
     },
     "execution_count": 47,
     "metadata": {},
     "output_type": "execute_result"
    }
   ],
   "source": [
    "import numpy as np\n",
    "M = []\n",
    "b = []\n",
    "for k in range(100):\n",
    "    base = [0] * 100\n",
    "    b.append(k+1)\n",
    "    if k - 4 >= 0:\n",
    "        base[k-4] = 1\n",
    "    if k - 3 >= 0:\n",
    "        base[k-3] = 1\n",
    "    if k - 2 >= 0:\n",
    "        base[k-2] = 1\n",
    "    if k - 1 >= 0:\n",
    "        base[k-1] = 1\n",
    "    base[k] = 10\n",
    "    if k + 1 < 100:\n",
    "        base[k+1] = 1\n",
    "    if k + 2 < 100:\n",
    "        base[k+2] = 1\n",
    "    if k + 3 < 100:\n",
    "        base[k+3] = 1\n",
    "    if k + 4 < 100:\n",
    "        base[k+4] = 1\n",
    "    M.append(base)\n",
    "MPG = np.array(M)\n",
    "MPG"
   ]
  },
  {
   "cell_type": "code",
   "execution_count": 48,
   "id": "bdbece7c-bff4-4c86-ada8-c93945ec03cd",
   "metadata": {},
   "outputs": [
    {
     "data": {
      "text/plain": [
       "array([  1,   2,   3,   4,   5,   6,   7,   8,   9,  10,  11,  12,  13,\n",
       "        14,  15,  16,  17,  18,  19,  20,  21,  22,  23,  24,  25,  26,\n",
       "        27,  28,  29,  30,  31,  32,  33,  34,  35,  36,  37,  38,  39,\n",
       "        40,  41,  42,  43,  44,  45,  46,  47,  48,  49,  50,  51,  52,\n",
       "        53,  54,  55,  56,  57,  58,  59,  60,  61,  62,  63,  64,  65,\n",
       "        66,  67,  68,  69,  70,  71,  72,  73,  74,  75,  76,  77,  78,\n",
       "        79,  80,  81,  82,  83,  84,  85,  86,  87,  88,  89,  90,  91,\n",
       "        92,  93,  94,  95,  96,  97,  98,  99, 100])"
      ]
     },
     "execution_count": 48,
     "metadata": {},
     "output_type": "execute_result"
    }
   ],
   "source": [
    "B = np.array(b)\n",
    "B"
   ]
  },
  {
   "cell_type": "markdown",
   "id": "24da2c52-979b-4a87-935d-ef7ff50e9218",
   "metadata": {},
   "source": [
    "Будем выбирать $\\tau$"
   ]
  },
  {
   "cell_type": "code",
   "execution_count": 49,
   "id": "17088fce-bec4-4341-9698-24209165579e",
   "metadata": {},
   "outputs": [
    {
     "data": {
      "text/plain": [
       "1383.8444890464007"
      ]
     },
     "execution_count": 49,
     "metadata": {},
     "output_type": "execute_result"
    }
   ],
   "source": [
    "### Пусть r = 0.01\n",
    "r = 0.01\n",
    "x = B\n",
    "for k in range(10):\n",
    "    x = x - np.dot(r, np.dot(MPG, x)) + np.dot(r, B)\n",
    "np.linalg.norm(B - np.dot(MPG, x))"
   ]
  },
  {
   "cell_type": "code",
   "execution_count": 50,
   "id": "52cb6590-efd5-401d-8204-028a32ffb7c3",
   "metadata": {},
   "outputs": [
    {
     "data": {
      "text/plain": [
       "5.552122813659337e+19"
      ]
     },
     "execution_count": 50,
     "metadata": {},
     "output_type": "execute_result"
    }
   ],
   "source": [
    "### Пусть r = 10\n",
    "r = 10\n",
    "x = B\n",
    "for k in range(10):\n",
    "    x = x - np.dot(r, np.dot(MPG, x)) + np.dot(r, B)\n",
    "np.linalg.norm(B - np.dot(MPG, x))"
   ]
  },
  {
   "cell_type": "code",
   "execution_count": 51,
   "id": "160d834b-7442-4010-b485-889c131cc973",
   "metadata": {},
   "outputs": [
    {
     "data": {
      "text/plain": [
       "1.8214815761050796e+16"
      ]
     },
     "execution_count": 51,
     "metadata": {},
     "output_type": "execute_result"
    }
   ],
   "source": [
    "### Пусть r = 1\n",
    "r = 1\n",
    "x = B\n",
    "for k in range(10):\n",
    "    x = x - np.dot(r, np.dot(MPG, x)) + np.dot(r, B)\n",
    "np.linalg.norm(B - np.dot(MPG, x))"
   ]
  },
  {
   "cell_type": "code",
   "execution_count": 52,
   "id": "6ebdf61d-ccf3-4704-9c9e-c38b9d1b76b3",
   "metadata": {},
   "outputs": [
    {
     "data": {
      "text/plain": [
       "923.0511482091905"
      ]
     },
     "execution_count": 52,
     "metadata": {},
     "output_type": "execute_result"
    }
   ],
   "source": [
    "### Пусть r = 0.1\n",
    "r = 0.1\n",
    "x = B\n",
    "for k in range(10):\n",
    "    x = x - np.dot(r, np.dot(MPG, x)) + np.dot(r, B)\n",
    "np.linalg.norm(B - np.dot(MPG, x))"
   ]
  },
  {
   "cell_type": "code",
   "execution_count": 53,
   "id": "2324afa1-70bd-42b4-b7f6-48fb1f205ffe",
   "metadata": {},
   "outputs": [
    {
     "data": {
      "text/plain": [
       "8131.529310676209"
      ]
     },
     "execution_count": 53,
     "metadata": {},
     "output_type": "execute_result"
    }
   ],
   "source": [
    "### Пусть r = 0.001\n",
    "r = 0.001\n",
    "x = B\n",
    "for k in range(10):\n",
    "    x = x - np.dot(r, np.dot(MPG, x)) + np.dot(r, B)\n",
    "np.linalg.norm(B - np.dot(MPG, x))"
   ]
  },
  {
   "cell_type": "markdown",
   "id": "22b12c9c-1d3a-446f-a8ef-9c5fe38b9968",
   "metadata": {},
   "source": [
    "Получаем наибольшую скорость сходимости при $\\tau = 0.1$ "
   ]
  },
  {
   "cell_type": "markdown",
   "id": "fc04790b-974d-4162-b538-53b21f52c2ae",
   "metadata": {},
   "source": [
    "Б) Воспользуемся степенным методом Поиска МаксиМального По модулю собственноГо значения:"
   ]
  },
  {
   "cell_type": "code",
   "execution_count": 54,
   "id": "31c02bae-c84b-4a88-8d34-53cc65a4ce3a",
   "metadata": {},
   "outputs": [
    {
     "data": {
      "text/plain": [
       "array([0.01126776, 0.01516286, 0.01959509, 0.02456303, 0.03005691,\n",
       "       0.03479703, 0.03959861, 0.04438869, 0.04909275, 0.05363661,\n",
       "       0.05808951, 0.06242863, 0.06663883, 0.07071298, 0.07465205,\n",
       "       0.07844903, 0.08209932, 0.08559997, 0.08894883, 0.09214372,\n",
       "       0.09518335, 0.09806716, 0.10079515, 0.10336786, 0.10578641,\n",
       "       0.10805246, 0.11016815, 0.1121361 , 0.11395937, 0.11564143,\n",
       "       0.11718613, 0.11859767, 0.11988057, 0.12103962, 0.12207988,\n",
       "       0.12300662, 0.12382527, 0.12454144, 0.12516079, 0.12568909,\n",
       "       0.12613207, 0.12649548, 0.12678497, 0.12700606, 0.1271641 ,\n",
       "       0.12726422, 0.12731127, 0.12730976, 0.12726385, 0.12717725,\n",
       "       0.12705319, 0.12689439, 0.12670301, 0.1264806 , 0.12622806,\n",
       "       0.12594562, 0.12563282, 0.12528847, 0.12491065, 0.12449672,\n",
       "       0.12404326, 0.12354616, 0.12300058, 0.12240098, 0.1217412 ,\n",
       "       0.12101443, 0.12021334, 0.11933008, 0.11835639, 0.11728366,\n",
       "       0.11610302, 0.11480543, 0.11338181, 0.11182311, 0.11012044,\n",
       "       0.10826519, 0.10624913, 0.10406456, 0.10170439, 0.09916233,\n",
       "       0.09643291, 0.09351157, 0.09039494, 0.08708108, 0.08356853,\n",
       "       0.07985728, 0.07594977, 0.0718518 , 0.06756088, 0.06308423,\n",
       "       0.05843879, 0.05365076, 0.04864407, 0.04350354, 0.03831492,\n",
       "       0.03316275, 0.02714254, 0.02168305, 0.01679964, 0.01249797])"
      ]
     },
     "execution_count": 54,
     "metadata": {},
     "output_type": "execute_result"
    }
   ],
   "source": [
    "import random\n",
    "r = np.array([random.random() for k in range(100)])\n",
    "r /= np.linalg.norm(r)\n",
    "for k in range(100):\n",
    "    r = np.dot(MPG, r)\n",
    "    r /= np.linalg.norm(r)\n",
    "r"
   ]
  },
  {
   "cell_type": "code",
   "execution_count": 55,
   "id": "b8a8d8b5-060a-4467-9f6a-ebf2e7723dec",
   "metadata": {},
   "outputs": [
    {
     "data": {
      "text/plain": [
       "17.970172136401555"
      ]
     },
     "execution_count": 55,
     "metadata": {},
     "output_type": "execute_result"
    }
   ],
   "source": [
    "mu = np.dot(r, np.dot(MPG, r))\n",
    "mu"
   ]
  },
  {
   "cell_type": "markdown",
   "id": "673efc9c-eeea-4c10-b1a7-71bcb3766388",
   "metadata": {},
   "source": [
    "Найдём собственные значения матрицы:"
   ]
  },
  {
   "cell_type": "code",
   "execution_count": 59,
   "id": "738ef290-4e26-411e-8b6a-088ef9c5843d",
   "metadata": {},
   "outputs": [
    {
     "data": {
      "text/plain": [
       "17.971962983171878"
      ]
     },
     "execution_count": 59,
     "metadata": {},
     "output_type": "execute_result"
    }
   ],
   "source": [
    "np.max(abs(np.linalg.eig(MPG)[0]))"
   ]
  },
  {
   "cell_type": "markdown",
   "id": "75407bf9-5e12-409f-ada9-5b62e3b014ba",
   "metadata": {},
   "source": [
    "Аналогично для обратной матрицы"
   ]
  },
  {
   "cell_type": "markdown",
   "id": "e30e4116-90f8-49d1-b896-37cd8f773ed4",
   "metadata": {},
   "source": [
    "Можно найти обратную матрицу, Пользуясь тем, что нам известно наибольшее по модулю собственное значение:"
   ]
  },
  {
   "cell_type": "code",
   "execution_count": 80,
   "id": "2603b036-94c5-4460-a829-28bce830523d",
   "metadata": {},
   "outputs": [
    {
     "data": {
      "text/plain": [
       "array([[0.27823885, 0.02782388, 0.02782388, ..., 0.        , 0.        ,\n",
       "        0.        ],\n",
       "       [0.02782388, 0.27823885, 0.02782388, ..., 0.        , 0.        ,\n",
       "        0.        ],\n",
       "       [0.02782388, 0.02782388, 0.27823885, ..., 0.        , 0.        ,\n",
       "        0.        ],\n",
       "       ...,\n",
       "       [0.        , 0.        , 0.        , ..., 0.27823885, 0.02782388,\n",
       "        0.02782388],\n",
       "       [0.        , 0.        , 0.        , ..., 0.02782388, 0.27823885,\n",
       "        0.02782388],\n",
       "       [0.        , 0.        , 0.        , ..., 0.02782388, 0.02782388,\n",
       "        0.27823885]])"
      ]
     },
     "execution_count": 80,
     "metadata": {},
     "output_type": "execute_result"
    }
   ],
   "source": [
    "MPGD = MPG / (mu + mu)\n",
    "MPGD"
   ]
  },
  {
   "cell_type": "markdown",
   "id": "fc717e79-9e57-4ce3-a47d-5ca9b5068a28",
   "metadata": {},
   "source": [
    "У полученной матрицы спектральный радиус не превосходит 0.5 Можно убедиться подсчётом миноров, что матрица Положительно определенаБ а значит и все её собственные значения Положительны. Получаем, Матрица E-MPGD имеет спектральный радиус не Более 0.5 (Можно перейти к Базису собственных векторов MPGD, там она имеет диагональный вид с Положительными числами, не превосходящими 0.5, на диагонали, а Е в любом базисе имеет диагональный вид с 1ми на диагонали) Поэтому ряд $\\Sigma_{n=1}^\\infty(E-MPGD)^n$ будет сходиться к $MPGD^{-1}$"
   ]
  },
  {
   "cell_type": "code",
   "execution_count": 81,
   "id": "952fad48-f49d-4a3e-af1e-12d00b35ea84",
   "metadata": {},
   "outputs": [
    {
     "data": {
      "text/plain": [
       "array([[1, 0, 0, ..., 0, 0, 0],\n",
       "       [0, 1, 0, ..., 0, 0, 0],\n",
       "       [0, 0, 1, ..., 0, 0, 0],\n",
       "       ...,\n",
       "       [0, 0, 0, ..., 1, 0, 0],\n",
       "       [0, 0, 0, ..., 0, 1, 0],\n",
       "       [0, 0, 0, ..., 0, 0, 1]])"
      ]
     },
     "execution_count": 81,
     "metadata": {},
     "output_type": "execute_result"
    }
   ],
   "source": [
    "E = []\n",
    "for k in range(100):\n",
    "    base = [0] * 100\n",
    "    base[k] = 1\n",
    "    E.append(base)\n",
    "E = np.array(E)\n",
    "E"
   ]
  },
  {
   "cell_type": "code",
   "execution_count": 82,
   "id": "5f60c7a8-cb35-437c-85de-0a4015da88d2",
   "metadata": {},
   "outputs": [],
   "source": [
    "ELEM = (E-MPGD)\n",
    "MPGB = ELEM\n",
    "for k in range(10000):\n",
    "    ELEM = np.dot(ELEM, E-MPGD)\n",
    "    MPGB += ELEM"
   ]
  },
  {
   "cell_type": "markdown",
   "id": "4df2971f-20e9-44f2-90a4-73da97346377",
   "metadata": {},
   "source": [
    "И сама обратная матрица:"
   ]
  },
  {
   "cell_type": "code",
   "execution_count": 83,
   "id": "dad609ea-289b-4d18-bfc0-f87db7a12a7b",
   "metadata": {},
   "outputs": [
    {
     "data": {
      "text/plain": [
       "array([[ 7.55211829e-02, -8.10353344e-03, -8.34491917e-03, ...,\n",
       "        -4.02578041e-23,  1.58985232e-23,  2.64249869e-23],\n",
       "       [-8.10353344e-03,  7.61566003e-02, -7.44918841e-03, ...,\n",
       "        -1.14230305e-22, -3.93706775e-23,  1.58985232e-23],\n",
       "       [-8.34491917e-03, -7.44918841e-03,  7.68304367e-02, ...,\n",
       "        -1.04225509e-22, -1.14230305e-22, -4.02578041e-23],\n",
       "       ...,\n",
       "       [-4.02578041e-23, -1.14230305e-22, -1.04225509e-22, ...,\n",
       "         7.68304367e-02, -7.44918841e-03, -8.34491917e-03],\n",
       "       [ 1.58985232e-23, -3.93706775e-23, -1.14230305e-22, ...,\n",
       "        -7.44918841e-03,  7.61566003e-02, -8.10353344e-03],\n",
       "       [ 2.64249869e-23,  1.58985232e-23, -4.02578041e-23, ...,\n",
       "        -8.34491917e-03, -8.10353344e-03,  7.55211829e-02]])"
      ]
     },
     "execution_count": 83,
     "metadata": {},
     "output_type": "execute_result"
    }
   ],
   "source": [
    "MPGB = MPGB / (mu + mu)\n",
    "MPGB"
   ]
  },
  {
   "cell_type": "code",
   "execution_count": 85,
   "id": "bc05a94e-56fc-405b-8c4b-ef95c20cd7ab",
   "metadata": {},
   "outputs": [
    {
     "data": {
      "text/plain": [
       "array([[ 7.21761152e-01, -2.78238848e-02, -2.78238848e-02, ...,\n",
       "        -2.58608757e-37, -2.29221398e-37, -5.87747175e-38],\n",
       "       [-2.78238848e-02,  7.21761152e-01, -2.78238848e-02, ...,\n",
       "         5.81869704e-37, -4.17300495e-37, -3.52648305e-38],\n",
       "       [-2.78238848e-02, -2.78238848e-02,  7.21761152e-01, ...,\n",
       "         0.00000000e+00,  7.52316385e-37,  2.35098870e-37],\n",
       "       ...,\n",
       "       [ 2.82118644e-37,  7.52316385e-37, -2.46853814e-37, ...,\n",
       "         7.21761152e-01, -2.78238848e-02, -2.78238848e-02],\n",
       "       [-7.05296610e-38, -2.82118644e-37,  4.70197740e-37, ...,\n",
       "        -2.78238848e-02,  7.21761152e-01, -2.78238848e-02],\n",
       "       [ 0.00000000e+00, -9.40395481e-38, -2.58608757e-37, ...,\n",
       "        -2.78238848e-02, -2.78238848e-02,  7.21761152e-01]])"
      ]
     },
     "execution_count": 85,
     "metadata": {},
     "output_type": "execute_result"
    }
   ],
   "source": [
    "np.dot(MPGB, MPG)"
   ]
  },
  {
   "cell_type": "code",
   "execution_count": 86,
   "id": "e98aae61-321e-4039-bd3e-a102994a8d30",
   "metadata": {},
   "outputs": [],
   "source": [
    "import random\n",
    "r = np.array([random.random() for k in range(100)])\n",
    "r /= np.linalg.norm(r)\n",
    "for k in range(100):\n",
    "    r = np.dot(MPGB, r)\n",
    "    r /= np.linalg.norm(r)"
   ]
  },
  {
   "cell_type": "code",
   "execution_count": 89,
   "id": "1f73fe3d-1636-44b7-9526-fe0cc3ea9c1e",
   "metadata": {},
   "outputs": [
    {
     "data": {
      "text/plain": [
       "8.692255510367122"
      ]
     },
     "execution_count": 89,
     "metadata": {},
     "output_type": "execute_result"
    }
   ],
   "source": [
    "mu0 = np.dot(np.transpose(r), np.dot(MPGB, r))\n",
    "mu0 ** -1"
   ]
  },
  {
   "cell_type": "code",
   "execution_count": 92,
   "id": "c0f9a302-dfcd-439a-bbf9-ca90b0b2a165",
   "metadata": {},
   "outputs": [
    {
     "data": {
      "text/plain": [
       "6.9795132834432145"
      ]
     },
     "execution_count": 92,
     "metadata": {},
     "output_type": "execute_result"
    }
   ],
   "source": [
    "min(np.linalg.eig(MPG)[0])"
   ]
  },
  {
   "cell_type": "markdown",
   "id": "3c2dbab0-b56a-4fa5-b23c-e59d2956ba58",
   "metadata": {},
   "source": [
    "Поскуольку мы работаем с евклидовой нормой, ей подчинена норма максимального собственного значенияБ и число обусловленности $\\mu$ равно:"
   ]
  },
  {
   "cell_type": "code",
   "execution_count": 91,
   "id": "ad4530c2-0f7c-4404-8578-941e2efd0a43",
   "metadata": {},
   "outputs": [
    {
     "data": {
      "text/plain": [
       "2.067377346992251"
      ]
     },
     "execution_count": 91,
     "metadata": {},
     "output_type": "execute_result"
    }
   ],
   "source": [
    "mu * mu0"
   ]
  },
  {
   "cell_type": "markdown",
   "id": "69b45c76-d856-47c3-b0c8-6a4b9ba5a994",
   "metadata": {},
   "source": [
    "Можно теперь получить, что оптимальное $\\tau \\approx \\frac{\\mu + 1/\\mu0}{2} = $"
   ]
  },
  {
   "cell_type": "code",
   "execution_count": 93,
   "id": "91177f88-a444-449f-bf94-dc34cd88673b",
   "metadata": {},
   "outputs": [
    {
     "data": {
      "text/plain": [
       "13.331213823384338"
      ]
     },
     "execution_count": 93,
     "metadata": {},
     "output_type": "execute_result"
    }
   ],
   "source": [
    "(mu + mu0 ** -1) / 2"
   ]
  },
  {
   "cell_type": "markdown",
   "id": "929e178d-ce6b-4e27-9229-26821b801bcc",
   "metadata": {},
   "source": [
    "Получить решение с $\\epsilon$ Можно Будет за $\\mu$ * $\\mu_0$ $ln(\\epsilon^{-1})$"
   ]
  },
  {
   "cell_type": "code",
   "execution_count": 94,
   "id": "84575299-b517-4ca6-a74b-6e504a56f327",
   "metadata": {},
   "outputs": [
    {
     "data": {
      "text/plain": [
       "23.801561303889677"
      ]
     },
     "execution_count": 94,
     "metadata": {},
     "output_type": "execute_result"
    }
   ],
   "source": [
    "from math import log\n",
    "mu*mu0*log(10 ** 5)"
   ]
  },
  {
   "cell_type": "code",
   "execution_count": 110,
   "id": "3034b3eb-bec7-4b51-8827-26ae2c1fb18c",
   "metadata": {},
   "outputs": [
    {
     "data": {
      "text/plain": [
       "1.2113952393905836e-09"
      ]
     },
     "execution_count": 110,
     "metadata": {},
     "output_type": "execute_result"
    }
   ],
   "source": [
    "r = (mu + mu0 ** -1) / 2\n",
    "x = B\n",
    "for k in range(23):\n",
    "    x = x -  (1 / r) * np.dot(MPG, x) + (1 / r) * B\n",
    "np.linalg.norm(np.dot(MPG, x) - B) / np.linalg.norm(B)"
   ]
  },
  {
   "cell_type": "markdown",
   "id": "40d16a55-b23d-4620-af9c-3d7f483050bb",
   "metadata": {},
   "source": [
    "Получили высокую точность за сравнительно малое число итераций"
   ]
  }
 ],
 "metadata": {
  "kernelspec": {
   "display_name": "Python 3 (ipykernel)",
   "language": "python",
   "name": "python3"
  },
  "language_info": {
   "codemirror_mode": {
    "name": "ipython",
    "version": 3
   },
   "file_extension": ".py",
   "mimetype": "text/x-python",
   "name": "python",
   "nbconvert_exporter": "python",
   "pygments_lexer": "ipython3",
   "version": "3.10.12"
  }
 },
 "nbformat": 4,
 "nbformat_minor": 5
}
