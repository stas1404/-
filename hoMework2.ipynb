{
 "cells": [
  {
   "cell_type": "markdown",
   "id": "d7c6820a-07bd-4b85-95bf-57f8e3f92475",
   "metadata": {},
   "source": [
    "# Вторая домашняя работа"
   ]
  },
  {
   "cell_type": "markdown",
   "id": "f5745caa-206c-4913-84df-e3edb228b044",
   "metadata": {},
   "source": [
    "## Вариант 4"
   ]
  },
  {
   "cell_type": "markdown",
   "id": "bb8d7558-87a5-4c6f-9628-110490e13aea",
   "metadata": {},
   "source": [
    "### П.7.12 \n",
    "#### Пусть числа $d_k$ > 0, k = 1,..., n. Доказать, что $\\sqrt{\\Sigma_{k=1}^n d_k x_k^2}$ есть норма вектора x. Найти норму матрицы, подчиненную этой векторной норме."
   ]
  },
  {
   "cell_type": "markdown",
   "id": "37678da2-8b02-47b2-b172-5d7fcae5d2a5",
   "metadata": {},
   "source": [
    "Проверим выполнение аксиом нормы для $||x||_? = \\sqrt{\\Sigma_{k=1}^n d_k x_k^2}$\n",
    "1) Пусть $||x||_? = 0$ <=>\n",
    "   $\\sqrt{\\Sigma_{k=1}^n d_k x_k^2}$ = 0\n",
    "   \n",
    "   Поскольку все $d_k$ > 0 и $x_k^2$ $\\geq$ 0, выПолнение данного условия равносильно $x_k^2 = 0$ $\\forall k \\in \\{1, ..., n\\}$ <=>$x_k = 0$ $\\forall k \\in \\{1, ..., n\\}$\n",
    "2) Пусть $m \\in R$\n",
    "\n",
    "   $||mx||_? = \\sqrt{\\Sigma_{k=1}^n d_k (m x_k)^2}$ = $\\sqrt{m*m \\Sigma_{k=1}^n d_k x_k^2} = |m|\\sqrt{\\Sigma_{k=1}^n d_k x_k^2} = |m| ||x||_?$\n",
    "\n",
    "3) Пусть $m, p \\in R^n$\n",
    "\n",
    "   $||m+p||_? = \\sqrt{\\Sigma_{k=1}^n d_k (m_k + p_k)^2} = \\sqrt{\\Sigma_{k=1}^n d_k (m_k*m_k + m_k*p_k*2 + p_k * p_k) }$ (1)\n",
    "\n",
    "   Сравним полученное значение с суммой норм\n",
    "\n",
    "   $||m||_? + ||p||_?$ = $\\sqrt{\\Sigma_{k=1}^n d_k (m_k*m_k)} + \\sqrt{\\Sigma_{k=1}^n d_k (p_k*p_k)}$ (2)\n",
    "\n",
    "   Возведйм выражнение (2) в квадрат и вычтем из него квадрат (1):\n",
    "\n",
    "   $(||m||_? + ||p||_?)^2 - ||m+p||_?^2 = \\Sigma_{k=1}^n d_k (m_k*m_k) + 2 \\sqrt{\\Sigma_{k=1}^n d_k (m_k*m_k) \\Sigma_{j=1}^n d_k (p_j*p_j)} + \\Sigma_{k=1}^n d_k (p_k*p_k) - \\Sigma_{k=1}^n d_k (m_k*m_k + m_k*p_k*2 + p_k * p_k) =$\n",
    "   \n",
    "   $= \\Sigma_{k=1}^n d_k (m_k*m_k) + 2 \\sqrt{\\Sigma_{k=1}^n d_k (m_k*m_k) \\Sigma_{j=1}^n d_k (p_j*p_j)} + \\Sigma_{k=1}^n d_k (p_k*p_k) - \\Sigma_{k=1}^n d_k (m_k*m_k) - 2\\Sigma_{k=1}^nm_k*p_k*d_k - \\Sigma_{k=1}^n(p_k * p_k) * d_k =$\n",
    "\n",
    "   $ = 2 \\sqrt{\\Sigma_{k=1}^n d_k (m_k*m_k) \\Sigma_{j=1}^n d_k (p_j*p_j)} - 2\\Sigma_{k=1}^nm_k*p_k*d_k$\n",
    "\n",
    "   Полученное выражение можно переписать в виде:\n",
    "\n",
    "   $2 \\sqrt{\\Sigma_{k,j=1}^n (m_k*m_k)*(p_j*p_j)*d_kd_j} - 2\\sqrt{\\Sigma_{k=1}^n(m_k * m_k)*(p_k*p_k)*d_k^2}$\n",
    "\n",
    "   Поэтому очевидноБ что оно больше 0.\n",
    "\n",
    "ПолучаемБ что все аксиомы нормы выполнены => $|| \\cdot ||_?$ - норма\n",
    "\n",
    "Б) Подчинэнная норма матрицы:\n",
    "\n",
    "$||M||_? = sup_{p \\neq 0}\\frac{||Mp||_?}{||p||_?}$\n",
    "\n",
    "Будем вместо $p$ рассматривать вектор:\n",
    "\n",
    "$p'_k = \\sqrt{d_k} p_k$\n",
    "\n",
    "Вместо матрицы $M$ введём матрицу  $M'$:\n",
    "\n",
    "$M'_{ij} = \\frac{M_{ij}\\sqrt{d_i}}{\\sqrt{d_j}}$\n",
    "\n",
    "Переходим к выражению:\n",
    "\n",
    "$||M||_? = sup_{p \\neq 0} \\frac{||M'p'||_3}{||p'||_3} = sup_{p' \\neq 0} \\frac{||M'p'||_3}{||p'||_3}$\n",
    "\n",
    "А это как известно $\\sqrt{max \\lambda_i (M'^*M')}$, где $M_{ij}'=\\frac{M_{ij}\\sqrt{d_i}}{\\sqrt{d_j}}$"
   ]
  },
  {
   "cell_type": "markdown",
   "id": "82c7705f-9cb3-482b-83ab-8635a44498b9",
   "metadata": {},
   "source": [
    "### П.9.2 Г) \n",
    "#### Дана система линейных алгебраических уравнений Ax = b.\n",
    "#### Оценить максимально точно относительную погрешность ||Δx||/||x|| в заданной норме. Найти вектор ошибки Δb, на котором эта оценка достиГается. При каком Δb относительная ошибка ||Δx||/||x|| будет минимальной? Найти ее.\n",
    "\n",
    "A = $\\left(\\begin{array}{cc} \n",
    "65 & 72\\\\\n",
    "72 & 82\n",
    "\\end{array}\\right)$, b = $\\left(\\begin{array}{c} \n",
    "137\\\\\n",
    "154\n",
    "\\end{array}\\right)$, $\\frac{||\\Delta b||_3}{||b||_3} = 0.01$, $||x||_3 = \\sqrt{(x,x)}$"
   ]
  },
  {
   "cell_type": "markdown",
   "id": "c421a7e5-1931-4cb0-8148-003cbf96f02d",
   "metadata": {},
   "source": [
    "Пусть:\n",
    "\n",
    "$Ax =b$\n",
    "\n",
    "$A(x+ \\Delta x) = B + \\Delta B$\n",
    "\n",
    "$A \\Delta x = \\Delta B$\n",
    "\n",
    "$\\frac{||\\Delta x||_3}{||x||_3} = \\frac{||A^{-1} \\Delta b||_3}{||x||_3} \\leq \\frac{||A^{-1}||_{3*} ||\\Delta b||_3}{||x||_3} = \\frac{||A^{-1}||_{3*} ||B|| ||\\Delta b||_3}{||x||_3||B||}$\n",
    "\n",
    "Поэтому Погрешность не превысит $\\frac{||A^{-1}||_{3*} ||B||}{||x||_3}$\n",
    "\n",
    "Полученная оценка может быть достигнута при $B : ||A^{-1} \\Delta b||_3 = ||A^{-1}||_{3*} ||\\Delta b||_3$\n",
    "\n",
    "По свойствам сопряжённой нормы это означает, что $\\Delta b$ - вектор, коллинеарный собственному вектору соотвествующему максимальному собстевнному значению матрицы $A^{-1*}A^{-1}$\n",
    "\n",
    "Перейдём конкретно к нашей задаче Найдём собственные числа и векторы матрицы $A^{-1*}A^{-1}$"
   ]
  },
  {
   "cell_type": "code",
   "execution_count": 1,
   "id": "d9943a9b-debe-41a0-855d-a294012e310f",
   "metadata": {},
   "outputs": [
    {
     "data": {
      "text/latex": [
       "$\\displaystyle \\left[\\begin{matrix}65 & 72\\\\72 & 82\\end{matrix}\\right]$"
      ],
      "text/plain": [
       "Matrix([\n",
       "[65, 72],\n",
       "[72, 82]])"
      ]
     },
     "execution_count": 1,
     "metadata": {},
     "output_type": "execute_result"
    }
   ],
   "source": [
    "import sympy as mp\n",
    "M = mp.Matrix([[65, 72], [72, 82]])\n",
    "M"
   ]
  },
  {
   "cell_type": "code",
   "execution_count": 2,
   "id": "d721f1f0-bba5-4b59-96dd-7a222c1a92b9",
   "metadata": {},
   "outputs": [
    {
     "data": {
      "text/latex": [
       "$\\displaystyle \\left[\\begin{matrix}\\frac{41}{73} & - \\frac{36}{73}\\\\- \\frac{36}{73} & \\frac{65}{146}\\end{matrix}\\right]$"
      ],
      "text/plain": [
       "Matrix([\n",
       "[ 41/73, -36/73],\n",
       "[-36/73, 65/146]])"
      ]
     },
     "execution_count": 2,
     "metadata": {},
     "output_type": "execute_result"
    }
   ],
   "source": [
    "P = M ** (-1)\n",
    "P"
   ]
  },
  {
   "cell_type": "code",
   "execution_count": 10,
   "id": "213b637b-4255-44fe-bbb0-61ab1d8d0be6",
   "metadata": {},
   "outputs": [],
   "source": [
    "B = mp.Matrix([137, 154])"
   ]
  },
  {
   "cell_type": "code",
   "execution_count": 3,
   "id": "d450d26c-3b73-4cf1-8b88-63f354d9b488",
   "metadata": {},
   "outputs": [
    {
     "data": {
      "text/plain": [
       "{1: 1, 1/146: 1}"
      ]
     },
     "execution_count": 3,
     "metadata": {},
     "output_type": "execute_result"
    }
   ],
   "source": [
    "P.eigenvals()"
   ]
  },
  {
   "cell_type": "code",
   "execution_count": 4,
   "id": "88f0843c-d1c9-485d-a43f-924e24b65d37",
   "metadata": {},
   "outputs": [
    {
     "data": {
      "text/plain": [
       "(1,\n",
       " 1,\n",
       " [Matrix([\n",
       "  [-9/8],\n",
       "  [   1]])])"
      ]
     },
     "execution_count": 4,
     "metadata": {},
     "output_type": "execute_result"
    }
   ],
   "source": [
    "P.eigenvects()[1]"
   ]
  },
  {
   "cell_type": "markdown",
   "id": "35c43078-a511-4015-bb39-be832c4cae51",
   "metadata": {},
   "source": [
    "Получаем $b = G \\left(\\begin{array}{c} \n",
    "-\\frac{9}{8}\\\\\n",
    "1\n",
    "\\end{array}\\right)$, $||b||_3 = 0.01 * ||b||_3$\n",
    "\n",
    "$G*G*\\frac{145}{64} = 0.01^2*(137*137+154*154)$\n",
    "\n",
    "$G = \\sqrt{\\frac{16994}{9625}} \\approx 1.32$\n",
    "\n",
    "$\\Delta b = G * \\left(\\begin{array}{c} \n",
    "-\\frac{9}{8}\\\\\n",
    "1\n",
    "\\end{array}\\right) \\approx \\left(\\begin{array}{c} \n",
    "-\\frac{297}{200}\\\\\n",
    "1.32\n",
    "\\end{array}\\right)$"
   ]
  },
  {
   "cell_type": "markdown",
   "id": "3482fe1e-694e-4371-8959-a843585b0366",
   "metadata": {},
   "source": [
    "Поищем $\\Delta B$ при котором погрешность минимальна <=> $||A \\Delta B||_3$ минимальна. Поскольку норма $\\Delta B$ фиксирована и равна 0,01 нормы $B$, Можно Получить минимум лишь при $\\Delta B$ коллинеарном вектору, соответсвующему минимальному по модулю собственному значению:"
   ]
  },
  {
   "cell_type": "code",
   "execution_count": 6,
   "id": "e1e912ff-a20e-4edb-87dc-bfe536a21116",
   "metadata": {},
   "outputs": [
    {
     "data": {
      "text/plain": [
       "(1/146,\n",
       " 1,\n",
       " [Matrix([\n",
       "  [8/9],\n",
       "  [  1]])])"
      ]
     },
     "execution_count": 6,
     "metadata": {},
     "output_type": "execute_result"
    }
   ],
   "source": [
    "P.eigenvects()[0]"
   ]
  },
  {
   "cell_type": "markdown",
   "id": "7c661502-4d4c-43c6-83db-6e0a029f87ae",
   "metadata": {},
   "source": [
    "Получаем $b = G \\left(\\begin{array}{c} \n",
    "\\frac{8}{9}\\\\\n",
    "1\n",
    "\\end{array}\\right)$, $||b||_3 = 0.01 * ||b||_3$\n",
    "\n",
    "$G*G*\\frac{145}{81} = 0.01^2*(137*137+154*154)$\n",
    "\n",
    "$G = \\approx 2,3733$\n",
    "\n",
    "$\\Delta b = G * \\left(\\begin{array}{c} \n",
    "\\frac{8}{9}\\\\\n",
    "1\n",
    "\\end{array}\\right) \\approx \\left(\\begin{array}{c} \n",
    "2,1096\\\\\n",
    "2,3733\n",
    "\\end{array}\\right)$"
   ]
  },
  {
   "cell_type": "markdown",
   "id": "ade48403-bae9-4082-9ce4-b878b8d4ab43",
   "metadata": {},
   "source": [
    "Можно найти решение системы:"
   ]
  },
  {
   "cell_type": "code",
   "execution_count": 12,
   "id": "3c667b98-fcec-4cb4-ab45-654beeb9b6fd",
   "metadata": {},
   "outputs": [
    {
     "data": {
      "text/latex": [
       "$\\displaystyle \\left[\\begin{matrix}1\\\\1\\end{matrix}\\right]$"
      ],
      "text/plain": [
       "Matrix([\n",
       "[1],\n",
       "[1]])"
      ]
     },
     "execution_count": 12,
     "metadata": {},
     "output_type": "execute_result"
    }
   ],
   "source": [
    "x = P * B\n",
    "x"
   ]
  },
  {
   "cell_type": "markdown",
   "id": "4a29e540-c1fa-444e-b7db-6ab27e772a52",
   "metadata": {},
   "source": [
    "Получаем в таком случае для значения погрешности $\\frac{||\\Delta x||_3}{||x||_3} = \\frac{||P \\Delta B||_3}{||x||_3}$"
   ]
  },
  {
   "cell_type": "code",
   "execution_count": 13,
   "id": "6436ff77-2394-49b2-85e6-edc4b8c9d839",
   "metadata": {},
   "outputs": [
    {
     "data": {
      "text/latex": [
       "$\\displaystyle 0.0153789355640233$"
      ],
      "text/plain": [
       "0.0153789355640233"
      ]
     },
     "execution_count": 13,
     "metadata": {},
     "output_type": "execute_result"
    }
   ],
   "source": [
    "from math import sqrt\n",
    "(P * mp.Matrix([2.1096, 2.3733])).norm() / sqrt(2)"
   ]
  },
  {
   "cell_type": "markdown",
   "id": "bf718520-bcde-4bec-bb8b-3cc58306825a",
   "metadata": {},
   "source": [
    "Получаем: Минимум погршности достигается при $\\Delta B = \\left(\\begin{array}{c} \n",
    "2,1096\\\\\n",
    "2,3733\n",
    "\\end{array}\\right)$ и составляет 0.01537"
   ]
  },
  {
   "cell_type": "markdown",
   "id": "95d18f80-faee-407e-aa93-907b55251eeb",
   "metadata": {},
   "source": [
    "### П.7.37 Г)\n",
    "\n",
    "#### Найти область сходимости метода Якоби и метода Зейделя для систем с матрицами вида:\n",
    "\n",
    "M = $\\left(\\begin{array}{ccc} \n",
    "\\alpha & \\alpha & 0\\\\\n",
    "\\alpha & \\beta & \\beta\\\\\n",
    "0 & \\beta & \\alpha\n",
    "\\end{array}\\right)$"
   ]
  },
  {
   "cell_type": "markdown",
   "id": "b4cd9563-d308-41dc-bb1b-3a79bb016944",
   "metadata": {},
   "source": [
    "По критерию сходимости для метода Якоби:"
   ]
  },
  {
   "cell_type": "code",
   "execution_count": 44,
   "id": "b7195fa3-a6a8-4873-8b88-a0918a88944e",
   "metadata": {},
   "outputs": [
    {
     "data": {
      "text/latex": [
       "$\\displaystyle \\left[\\begin{matrix}\\alpha x & \\alpha & 0\\\\\\alpha & \\beta x & \\beta\\\\0 & \\beta & \\alpha x\\end{matrix}\\right]$"
      ],
      "text/plain": [
       "Matrix([\n",
       "[alpha*x,  alpha,       0],\n",
       "[  alpha, beta*x,    beta],\n",
       "[      0,   beta, alpha*x]])"
      ]
     },
     "execution_count": 44,
     "metadata": {},
     "output_type": "execute_result"
    }
   ],
   "source": [
    "import sympy as mp\n",
    "a, b, x = mp.symbols('alpha beta x')\n",
    "M = mp.Matrix([[a * x, a, 0], [a, b * x, b], [0, b, a * x]])\n",
    "M"
   ]
  },
  {
   "cell_type": "code",
   "execution_count": 45,
   "id": "412280e9-9a21-482b-b90d-022b354858ca",
   "metadata": {},
   "outputs": [
    {
     "data": {
      "text/latex": [
       "$\\displaystyle - \\alpha^{3} x + \\alpha^{2} \\beta x^{3} - \\alpha \\beta^{2} x$"
      ],
      "text/plain": [
       "-alpha**3*x + alpha**2*beta*x**3 - alpha*beta**2*x"
      ]
     },
     "execution_count": 45,
     "metadata": {},
     "output_type": "execute_result"
    }
   ],
   "source": [
    "func = mp.det(M)\n",
    "func"
   ]
  },
  {
   "cell_type": "markdown",
   "id": "23c05282-2054-47a8-a60e-a09aca1ce626",
   "metadata": {},
   "source": [
    "Метод сходится <=> все корни уравнения"
   ]
  },
  {
   "cell_type": "code",
   "execution_count": 46,
   "id": "7ce17f24-4300-414e-b49f-68beedce271b",
   "metadata": {},
   "outputs": [
    {
     "data": {
      "text/latex": [
       "$\\displaystyle - \\alpha^{3} x + \\alpha^{2} \\beta x^{3} - \\alpha \\beta^{2} x = 0$"
      ],
      "text/plain": [
       "Eq(-alpha**3*x + alpha**2*beta*x**3 - alpha*beta**2*x, 0)"
      ]
     },
     "execution_count": 46,
     "metadata": {},
     "output_type": "execute_result"
    }
   ],
   "source": [
    "eq = mp.Eq(func, 0)\n",
    "eq"
   ]
  },
  {
   "cell_type": "markdown",
   "id": "77b9c098-da5b-4e5c-b1d8-a38b7b4d903e",
   "metadata": {},
   "source": [
    "По модулю меньше 1"
   ]
  },
  {
   "cell_type": "code",
   "execution_count": 47,
   "id": "8d2647dc-9cf1-4ece-b349-227aa9e1ad86",
   "metadata": {},
   "outputs": [
    {
     "data": {
      "text/latex": [
       "$\\displaystyle \\left\\{0, - \\sqrt{\\frac{\\alpha^{2} + \\beta^{2}}{\\alpha \\beta}}, \\sqrt{\\frac{\\alpha^{2} + \\beta^{2}}{\\alpha \\beta}}\\right\\}$"
      ],
      "text/plain": [
       "{0, -sqrt((alpha**2 + beta**2)/(alpha*beta)), sqrt((alpha**2 + beta**2)/(alpha*beta))}"
      ]
     },
     "execution_count": 47,
     "metadata": {},
     "output_type": "execute_result"
    }
   ],
   "source": [
    "mp.solveset(eq, x)"
   ]
  },
  {
   "cell_type": "markdown",
   "id": "d807e11c-0805-4ee5-a113-e8fbd4099f6e",
   "metadata": {},
   "source": [
    "Поэтому сходимость метода равносильна:\n",
    "\n",
    "$| \\frac{\\alpha^2 + \\beta^2}{\\alpha \\beta} |\\leq 1$\n",
    "\n",
    "$|\\alpha^2 + \\beta^2| \\leq |\\alpha \\beta|$\n",
    "\n",
    "Пусть $\\alpha = x_{\\alpha} + iy_{\\alpha}, \\beta = x_{\\beta} + iy_{\\beta}$\n",
    "\n",
    "Получаем:"
   ]
  },
  {
   "cell_type": "code",
   "execution_count": 48,
   "id": "c8d3601c-745a-4b28-aa78-75e3a7d7d69e",
   "metadata": {},
   "outputs": [
    {
     "data": {
      "text/latex": [
       "$\\displaystyle - \\left(x_{\\alpha} x_{\\beta} - y_{\\alpha} y_{\\beta}\\right)^{2} + 4 \\left(x_{\\alpha} y_{\\alpha} + x_{\\beta} y_{\\beta}\\right)^{2} - \\left(x_{\\alpha} y_{\\beta} + x_{\\beta} y_{\\alpha}\\right)^{2} + \\left(x_{\\alpha}^{2} + x_{\\beta}^{2} - y_{\\alpha}^{2} - y_{\\beta}^{2}\\right)^{2} \\leq 0$"
      ],
      "text/plain": [
       "-(x_alpha*x_beta - y_alpha*y_beta)**2 + 4*(x_alpha*y_alpha + x_beta*y_beta)**2 - (x_alpha*y_beta + x_beta*y_alpha)**2 + (x_alpha**2 + x_beta**2 - y_alpha**2 - y_beta**2)**2 <= 0"
      ]
     },
     "execution_count": 48,
     "metadata": {},
     "output_type": "execute_result"
    }
   ],
   "source": [
    "xa, ya, xb, yb = mp.symbols('x_alpha y_alpha x_beta y_beta')\n",
    "func = (xa ** 2 - ya ** 2 + xb ** 2 - yb ** 2) ** 2 + 4 * (xa * ya + xb * yb) ** 2 - (xa * xb - ya * yb) ** 2 - (xb * ya + xa * yb) ** 2\n",
    "func <= 0"
   ]
  },
  {
   "cell_type": "markdown",
   "id": "0bcac24c-b7d0-49d1-9d23-580b7a394930",
   "metadata": {},
   "source": [
    "Можно преобразовать:"
   ]
  },
  {
   "cell_type": "code",
   "execution_count": 63,
   "id": "c83a8cf6-4162-4a1b-94ad-d028668e2d06",
   "metadata": {},
   "outputs": [
    {
     "data": {
      "text/latex": [
       "$\\displaystyle x_{\\alpha}^{4} + 3 x_{\\alpha}^{2} x_{\\beta}^{2} + 2 x_{\\alpha}^{2} y_{\\alpha}^{2} - 3 x_{\\alpha}^{2} y_{\\beta}^{2} + 2 x_{\\alpha} x_{\\beta} y_{\\alpha} y_{\\beta} + x_{\\beta}^{4} - 3 x_{\\beta}^{2} y_{\\alpha}^{2} + 2 x_{\\beta}^{2} y_{\\beta}^{2} + y_{\\alpha}^{4} + y_{\\alpha}^{2} y_{\\beta}^{2} + y_{\\beta}^{4}$"
      ],
      "text/plain": [
       "x_alpha**4 + 3*x_alpha**2*x_beta**2 + 2*x_alpha**2*y_alpha**2 - 3*x_alpha**2*y_beta**2 + 2*x_alpha*x_beta*y_alpha*y_beta + x_beta**4 - 3*x_beta**2*y_alpha**2 + 2*x_beta**2*y_beta**2 + y_alpha**4 + y_alpha**2*y_beta**2 + y_beta**4"
      ]
     },
     "execution_count": 63,
     "metadata": {},
     "output_type": "execute_result"
    }
   ],
   "source": [
    "func = xa**4 + xb**4 + ya**4 + yb**4 + 3 * xa ** 2 * xb ** 2 - 3 * xa **2 * yb ** 2 - 3 * xb ** 2 * ya ** 2 + ya ** 2 * yb ** 2 + 2 * xa ** 2 * ya ** 2 + 2 * xb ** 2 * yb ** 2 + 2 * xa * ya * xb * yb\n",
    "func.simplify()"
   ]
  },
  {
   "cell_type": "code",
   "execution_count": 64,
   "id": "db2b7666-b581-4bc4-a2e7-99dc3c87ca3d",
   "metadata": {},
   "outputs": [
    {
     "data": {
      "text/latex": [
       "$\\displaystyle \\left\\{\\begin{cases} - \\frac{\\sqrt{- 2 x_{\\beta}^{2} - \\frac{4 y_{\\alpha}^{2}}{3} + 2 y_{\\beta}^{2} - 2 \\sqrt[3]{- \\frac{x_{\\beta}^{2} y_{\\alpha}^{2} y_{\\beta}^{2}}{2} - \\frac{\\left(3 x_{\\beta}^{2} + 2 y_{\\alpha}^{2} - 3 y_{\\beta}^{2}\\right)^{3}}{108} + \\frac{\\left(3 x_{\\beta}^{2} + 2 y_{\\alpha}^{2} - 3 y_{\\beta}^{2}\\right) \\left(x_{\\beta}^{4} - 3 x_{\\beta}^{2} y_{\\alpha}^{2} + 2 x_{\\beta}^{2} y_{\\beta}^{2} + y_{\\alpha}^{4} + y_{\\alpha}^{2} y_{\\beta}^{2} + y_{\\beta}^{4}\\right)}{3}}}}{2} - \\frac{\\sqrt{- 4 x_{\\beta}^{2} + \\frac{4 x_{\\beta} y_{\\alpha} y_{\\beta}}{\\sqrt{- 2 x_{\\beta}^{2} - \\frac{4 y_{\\alpha}^{2}}{3} + 2 y_{\\beta}^{2} - 2 \\sqrt[3]{- \\frac{x_{\\beta}^{2} y_{\\alpha}^{2} y_{\\beta}^{2}}{2} - \\frac{\\left(3 x_{\\beta}^{2} + 2 y_{\\alpha}^{2} - 3 y_{\\beta}^{2}\\right)^{3}}{108} + \\frac{\\left(3 x_{\\beta}^{2} + 2 y_{\\alpha}^{2} - 3 y_{\\beta}^{2}\\right) \\left(x_{\\beta}^{4} - 3 x_{\\beta}^{2} y_{\\alpha}^{2} + 2 x_{\\beta}^{2} y_{\\beta}^{2} + y_{\\alpha}^{4} + y_{\\alpha}^{2} y_{\\beta}^{2} + y_{\\beta}^{4}\\right)}{3}}}} - \\frac{8 y_{\\alpha}^{2}}{3} + 4 y_{\\beta}^{2} + 2 \\sqrt[3]{- \\frac{x_{\\beta}^{2} y_{\\alpha}^{2} y_{\\beta}^{2}}{2} - \\frac{\\left(3 x_{\\beta}^{2} + 2 y_{\\alpha}^{2} - 3 y_{\\beta}^{2}\\right)^{3}}{108} + \\frac{\\left(3 x_{\\beta}^{2} + 2 y_{\\alpha}^{2} - 3 y_{\\beta}^{2}\\right) \\left(x_{\\beta}^{4} - 3 x_{\\beta}^{2} y_{\\alpha}^{2} + 2 x_{\\beta}^{2} y_{\\beta}^{2} + y_{\\alpha}^{4} + y_{\\alpha}^{2} y_{\\beta}^{2} + y_{\\beta}^{4}\\right)}{3}}}}{2} & \\text{for}\\: \\frac{7 x_{\\beta}^{4}}{4} - 2 x_{\\beta}^{2} y_{\\alpha}^{2} + \\frac{x_{\\beta}^{2} y_{\\beta}^{2}}{2} + \\frac{4 y_{\\alpha}^{4}}{3} + \\frac{7 y_{\\beta}^{4}}{4} = 0 \\\\- \\frac{\\sqrt{- 2 x_{\\beta}^{2} - \\frac{4 y_{\\alpha}^{2}}{3} + 2 y_{\\beta}^{2} + 2 \\sqrt[3]{\\frac{x_{\\beta}^{2} y_{\\alpha}^{2} y_{\\beta}^{2}}{4} + \\sqrt{\\frac{\\left(- \\frac{x_{\\beta}^{2} y_{\\alpha}^{2} y_{\\beta}^{2}}{2} - \\frac{\\left(3 x_{\\beta}^{2} + 2 y_{\\alpha}^{2} - 3 y_{\\beta}^{2}\\right)^{3}}{108} + \\frac{\\left(3 x_{\\beta}^{2} + 2 y_{\\alpha}^{2} - 3 y_{\\beta}^{2}\\right) \\left(x_{\\beta}^{4} - 3 x_{\\beta}^{2} y_{\\alpha}^{2} + 2 x_{\\beta}^{2} y_{\\beta}^{2} + y_{\\alpha}^{4} + y_{\\alpha}^{2} y_{\\beta}^{2} + y_{\\beta}^{4}\\right)}{3}\\right)^{2}}{4} + \\frac{\\left(- \\frac{7 x_{\\beta}^{4}}{4} + 2 x_{\\beta}^{2} y_{\\alpha}^{2} - \\frac{x_{\\beta}^{2} y_{\\beta}^{2}}{2} - \\frac{4 y_{\\alpha}^{4}}{3} - \\frac{7 y_{\\beta}^{4}}{4}\\right)^{3}}{27}} + \\frac{\\left(3 x_{\\beta}^{2} + 2 y_{\\alpha}^{2} - 3 y_{\\beta}^{2}\\right)^{3}}{216} - \\frac{\\left(3 x_{\\beta}^{2} + 2 y_{\\alpha}^{2} - 3 y_{\\beta}^{2}\\right) \\left(x_{\\beta}^{4} - 3 x_{\\beta}^{2} y_{\\alpha}^{2} + 2 x_{\\beta}^{2} y_{\\beta}^{2} + y_{\\alpha}^{4} + y_{\\alpha}^{2} y_{\\beta}^{2} + y_{\\beta}^{4}\\right)}{6}} - \\frac{2 \\left(- \\frac{7 x_{\\beta}^{4}}{4} + 2 x_{\\beta}^{2} y_{\\alpha}^{2} - \\frac{x_{\\beta}^{2} y_{\\beta}^{2}}{2} - \\frac{4 y_{\\alpha}^{4}}{3} - \\frac{7 y_{\\beta}^{4}}{4}\\right)}{3 \\sqrt[3]{\\frac{x_{\\beta}^{2} y_{\\alpha}^{2} y_{\\beta}^{2}}{4} + \\sqrt{\\frac{\\left(- \\frac{x_{\\beta}^{2} y_{\\alpha}^{2} y_{\\beta}^{2}}{2} - \\frac{\\left(3 x_{\\beta}^{2} + 2 y_{\\alpha}^{2} - 3 y_{\\beta}^{2}\\right)^{3}}{108} + \\frac{\\left(3 x_{\\beta}^{2} + 2 y_{\\alpha}^{2} - 3 y_{\\beta}^{2}\\right) \\left(x_{\\beta}^{4} - 3 x_{\\beta}^{2} y_{\\alpha}^{2} + 2 x_{\\beta}^{2} y_{\\beta}^{2} + y_{\\alpha}^{4} + y_{\\alpha}^{2} y_{\\beta}^{2} + y_{\\beta}^{4}\\right)}{3}\\right)^{2}}{4} + \\frac{\\left(- \\frac{7 x_{\\beta}^{4}}{4} + 2 x_{\\beta}^{2} y_{\\alpha}^{2} - \\frac{x_{\\beta}^{2} y_{\\beta}^{2}}{2} - \\frac{4 y_{\\alpha}^{4}}{3} - \\frac{7 y_{\\beta}^{4}}{4}\\right)^{3}}{27}} + \\frac{\\left(3 x_{\\beta}^{2} + 2 y_{\\alpha}^{2} - 3 y_{\\beta}^{2}\\right)^{3}}{216} - \\frac{\\left(3 x_{\\beta}^{2} + 2 y_{\\alpha}^{2} - 3 y_{\\beta}^{2}\\right) \\left(x_{\\beta}^{4} - 3 x_{\\beta}^{2} y_{\\alpha}^{2} + 2 x_{\\beta}^{2} y_{\\beta}^{2} + y_{\\alpha}^{4} + y_{\\alpha}^{2} y_{\\beta}^{2} + y_{\\beta}^{4}\\right)}{6}}}}}{2} - \\frac{\\sqrt{- 4 x_{\\beta}^{2} + \\frac{4 x_{\\beta} y_{\\alpha} y_{\\beta}}{\\sqrt{- 2 x_{\\beta}^{2} - \\frac{4 y_{\\alpha}^{2}}{3} + 2 y_{\\beta}^{2} + 2 \\sqrt[3]{\\frac{x_{\\beta}^{2} y_{\\alpha}^{2} y_{\\beta}^{2}}{4} + \\sqrt{\\frac{\\left(- \\frac{x_{\\beta}^{2} y_{\\alpha}^{2} y_{\\beta}^{2}}{2} - \\frac{\\left(3 x_{\\beta}^{2} + 2 y_{\\alpha}^{2} - 3 y_{\\beta}^{2}\\right)^{3}}{108} + \\frac{\\left(3 x_{\\beta}^{2} + 2 y_{\\alpha}^{2} - 3 y_{\\beta}^{2}\\right) \\left(x_{\\beta}^{4} - 3 x_{\\beta}^{2} y_{\\alpha}^{2} + 2 x_{\\beta}^{2} y_{\\beta}^{2} + y_{\\alpha}^{4} + y_{\\alpha}^{2} y_{\\beta}^{2} + y_{\\beta}^{4}\\right)}{3}\\right)^{2}}{4} + \\frac{\\left(- \\frac{7 x_{\\beta}^{4}}{4} + 2 x_{\\beta}^{2} y_{\\alpha}^{2} - \\frac{x_{\\beta}^{2} y_{\\beta}^{2}}{2} - \\frac{4 y_{\\alpha}^{4}}{3} - \\frac{7 y_{\\beta}^{4}}{4}\\right)^{3}}{27}} + \\frac{\\left(3 x_{\\beta}^{2} + 2 y_{\\alpha}^{2} - 3 y_{\\beta}^{2}\\right)^{3}}{216} - \\frac{\\left(3 x_{\\beta}^{2} + 2 y_{\\alpha}^{2} - 3 y_{\\beta}^{2}\\right) \\left(x_{\\beta}^{4} - 3 x_{\\beta}^{2} y_{\\alpha}^{2} + 2 x_{\\beta}^{2} y_{\\beta}^{2} + y_{\\alpha}^{4} + y_{\\alpha}^{2} y_{\\beta}^{2} + y_{\\beta}^{4}\\right)}{6}} - \\frac{2 \\left(- \\frac{7 x_{\\beta}^{4}}{4} + 2 x_{\\beta}^{2} y_{\\alpha}^{2} - \\frac{x_{\\beta}^{2} y_{\\beta}^{2}}{2} - \\frac{4 y_{\\alpha}^{4}}{3} - \\frac{7 y_{\\beta}^{4}}{4}\\right)}{3 \\sqrt[3]{\\frac{x_{\\beta}^{2} y_{\\alpha}^{2} y_{\\beta}^{2}}{4} + \\sqrt{\\frac{\\left(- \\frac{x_{\\beta}^{2} y_{\\alpha}^{2} y_{\\beta}^{2}}{2} - \\frac{\\left(3 x_{\\beta}^{2} + 2 y_{\\alpha}^{2} - 3 y_{\\beta}^{2}\\right)^{3}}{108} + \\frac{\\left(3 x_{\\beta}^{2} + 2 y_{\\alpha}^{2} - 3 y_{\\beta}^{2}\\right) \\left(x_{\\beta}^{4} - 3 x_{\\beta}^{2} y_{\\alpha}^{2} + 2 x_{\\beta}^{2} y_{\\beta}^{2} + y_{\\alpha}^{4} + y_{\\alpha}^{2} y_{\\beta}^{2} + y_{\\beta}^{4}\\right)}{3}\\right)^{2}}{4} + \\frac{\\left(- \\frac{7 x_{\\beta}^{4}}{4} + 2 x_{\\beta}^{2} y_{\\alpha}^{2} - \\frac{x_{\\beta}^{2} y_{\\beta}^{2}}{2} - \\frac{4 y_{\\alpha}^{4}}{3} - \\frac{7 y_{\\beta}^{4}}{4}\\right)^{3}}{27}} + \\frac{\\left(3 x_{\\beta}^{2} + 2 y_{\\alpha}^{2} - 3 y_{\\beta}^{2}\\right)^{3}}{216} - \\frac{\\left(3 x_{\\beta}^{2} + 2 y_{\\alpha}^{2} - 3 y_{\\beta}^{2}\\right) \\left(x_{\\beta}^{4} - 3 x_{\\beta}^{2} y_{\\alpha}^{2} + 2 x_{\\beta}^{2} y_{\\beta}^{2} + y_{\\alpha}^{4} + y_{\\alpha}^{2} y_{\\beta}^{2} + y_{\\beta}^{4}\\right)}{6}}}}} - \\frac{8 y_{\\alpha}^{2}}{3} + 4 y_{\\beta}^{2} - 2 \\sqrt[3]{\\frac{x_{\\beta}^{2} y_{\\alpha}^{2} y_{\\beta}^{2}}{4} + \\sqrt{\\frac{\\left(- \\frac{x_{\\beta}^{2} y_{\\alpha}^{2} y_{\\beta}^{2}}{2} - \\frac{\\left(3 x_{\\beta}^{2} + 2 y_{\\alpha}^{2} - 3 y_{\\beta}^{2}\\right)^{3}}{108} + \\frac{\\left(3 x_{\\beta}^{2} + 2 y_{\\alpha}^{2} - 3 y_{\\beta}^{2}\\right) \\left(x_{\\beta}^{4} - 3 x_{\\beta}^{2} y_{\\alpha}^{2} + 2 x_{\\beta}^{2} y_{\\beta}^{2} + y_{\\alpha}^{4} + y_{\\alpha}^{2} y_{\\beta}^{2} + y_{\\beta}^{4}\\right)}{3}\\right)^{2}}{4} + \\frac{\\left(- \\frac{7 x_{\\beta}^{4}}{4} + 2 x_{\\beta}^{2} y_{\\alpha}^{2} - \\frac{x_{\\beta}^{2} y_{\\beta}^{2}}{2} - \\frac{4 y_{\\alpha}^{4}}{3} - \\frac{7 y_{\\beta}^{4}}{4}\\right)^{3}}{27}} + \\frac{\\left(3 x_{\\beta}^{2} + 2 y_{\\alpha}^{2} - 3 y_{\\beta}^{2}\\right)^{3}}{216} - \\frac{\\left(3 x_{\\beta}^{2} + 2 y_{\\alpha}^{2} - 3 y_{\\beta}^{2}\\right) \\left(x_{\\beta}^{4} - 3 x_{\\beta}^{2} y_{\\alpha}^{2} + 2 x_{\\beta}^{2} y_{\\beta}^{2} + y_{\\alpha}^{4} + y_{\\alpha}^{2} y_{\\beta}^{2} + y_{\\beta}^{4}\\right)}{6}} + \\frac{2 \\left(- \\frac{7 x_{\\beta}^{4}}{4} + 2 x_{\\beta}^{2} y_{\\alpha}^{2} - \\frac{x_{\\beta}^{2} y_{\\beta}^{2}}{2} - \\frac{4 y_{\\alpha}^{4}}{3} - \\frac{7 y_{\\beta}^{4}}{4}\\right)}{3 \\sqrt[3]{\\frac{x_{\\beta}^{2} y_{\\alpha}^{2} y_{\\beta}^{2}}{4} + \\sqrt{\\frac{\\left(- \\frac{x_{\\beta}^{2} y_{\\alpha}^{2} y_{\\beta}^{2}}{2} - \\frac{\\left(3 x_{\\beta}^{2} + 2 y_{\\alpha}^{2} - 3 y_{\\beta}^{2}\\right)^{3}}{108} + \\frac{\\left(3 x_{\\beta}^{2} + 2 y_{\\alpha}^{2} - 3 y_{\\beta}^{2}\\right) \\left(x_{\\beta}^{4} - 3 x_{\\beta}^{2} y_{\\alpha}^{2} + 2 x_{\\beta}^{2} y_{\\beta}^{2} + y_{\\alpha}^{4} + y_{\\alpha}^{2} y_{\\beta}^{2} + y_{\\beta}^{4}\\right)}{3}\\right)^{2}}{4} + \\frac{\\left(- \\frac{7 x_{\\beta}^{4}}{4} + 2 x_{\\beta}^{2} y_{\\alpha}^{2} - \\frac{x_{\\beta}^{2} y_{\\beta}^{2}}{2} - \\frac{4 y_{\\alpha}^{4}}{3} - \\frac{7 y_{\\beta}^{4}}{4}\\right)^{3}}{27}} + \\frac{\\left(3 x_{\\beta}^{2} + 2 y_{\\alpha}^{2} - 3 y_{\\beta}^{2}\\right)^{3}}{216} - \\frac{\\left(3 x_{\\beta}^{2} + 2 y_{\\alpha}^{2} - 3 y_{\\beta}^{2}\\right) \\left(x_{\\beta}^{4} - 3 x_{\\beta}^{2} y_{\\alpha}^{2} + 2 x_{\\beta}^{2} y_{\\beta}^{2} + y_{\\alpha}^{4} + y_{\\alpha}^{2} y_{\\beta}^{2} + y_{\\beta}^{4}\\right)}{6}}}}}{2} & \\text{otherwise} \\end{cases}, \\begin{cases} - \\frac{\\sqrt{- 2 x_{\\beta}^{2} - \\frac{4 y_{\\alpha}^{2}}{3} + 2 y_{\\beta}^{2} - 2 \\sqrt[3]{- \\frac{x_{\\beta}^{2} y_{\\alpha}^{2} y_{\\beta}^{2}}{2} - \\frac{\\left(3 x_{\\beta}^{2} + 2 y_{\\alpha}^{2} - 3 y_{\\beta}^{2}\\right)^{3}}{108} + \\frac{\\left(3 x_{\\beta}^{2} + 2 y_{\\alpha}^{2} - 3 y_{\\beta}^{2}\\right) \\left(x_{\\beta}^{4} - 3 x_{\\beta}^{2} y_{\\alpha}^{2} + 2 x_{\\beta}^{2} y_{\\beta}^{2} + y_{\\alpha}^{4} + y_{\\alpha}^{2} y_{\\beta}^{2} + y_{\\beta}^{4}\\right)}{3}}}}{2} + \\frac{\\sqrt{- 4 x_{\\beta}^{2} + \\frac{4 x_{\\beta} y_{\\alpha} y_{\\beta}}{\\sqrt{- 2 x_{\\beta}^{2} - \\frac{4 y_{\\alpha}^{2}}{3} + 2 y_{\\beta}^{2} - 2 \\sqrt[3]{- \\frac{x_{\\beta}^{2} y_{\\alpha}^{2} y_{\\beta}^{2}}{2} - \\frac{\\left(3 x_{\\beta}^{2} + 2 y_{\\alpha}^{2} - 3 y_{\\beta}^{2}\\right)^{3}}{108} + \\frac{\\left(3 x_{\\beta}^{2} + 2 y_{\\alpha}^{2} - 3 y_{\\beta}^{2}\\right) \\left(x_{\\beta}^{4} - 3 x_{\\beta}^{2} y_{\\alpha}^{2} + 2 x_{\\beta}^{2} y_{\\beta}^{2} + y_{\\alpha}^{4} + y_{\\alpha}^{2} y_{\\beta}^{2} + y_{\\beta}^{4}\\right)}{3}}}} - \\frac{8 y_{\\alpha}^{2}}{3} + 4 y_{\\beta}^{2} + 2 \\sqrt[3]{- \\frac{x_{\\beta}^{2} y_{\\alpha}^{2} y_{\\beta}^{2}}{2} - \\frac{\\left(3 x_{\\beta}^{2} + 2 y_{\\alpha}^{2} - 3 y_{\\beta}^{2}\\right)^{3}}{108} + \\frac{\\left(3 x_{\\beta}^{2} + 2 y_{\\alpha}^{2} - 3 y_{\\beta}^{2}\\right) \\left(x_{\\beta}^{4} - 3 x_{\\beta}^{2} y_{\\alpha}^{2} + 2 x_{\\beta}^{2} y_{\\beta}^{2} + y_{\\alpha}^{4} + y_{\\alpha}^{2} y_{\\beta}^{2} + y_{\\beta}^{4}\\right)}{3}}}}{2} & \\text{for}\\: \\frac{7 x_{\\beta}^{4}}{4} - 2 x_{\\beta}^{2} y_{\\alpha}^{2} + \\frac{x_{\\beta}^{2} y_{\\beta}^{2}}{2} + \\frac{4 y_{\\alpha}^{4}}{3} + \\frac{7 y_{\\beta}^{4}}{4} = 0 \\\\- \\frac{\\sqrt{- 2 x_{\\beta}^{2} - \\frac{4 y_{\\alpha}^{2}}{3} + 2 y_{\\beta}^{2} + 2 \\sqrt[3]{\\frac{x_{\\beta}^{2} y_{\\alpha}^{2} y_{\\beta}^{2}}{4} + \\sqrt{\\frac{\\left(- \\frac{x_{\\beta}^{2} y_{\\alpha}^{2} y_{\\beta}^{2}}{2} - \\frac{\\left(3 x_{\\beta}^{2} + 2 y_{\\alpha}^{2} - 3 y_{\\beta}^{2}\\right)^{3}}{108} + \\frac{\\left(3 x_{\\beta}^{2} + 2 y_{\\alpha}^{2} - 3 y_{\\beta}^{2}\\right) \\left(x_{\\beta}^{4} - 3 x_{\\beta}^{2} y_{\\alpha}^{2} + 2 x_{\\beta}^{2} y_{\\beta}^{2} + y_{\\alpha}^{4} + y_{\\alpha}^{2} y_{\\beta}^{2} + y_{\\beta}^{4}\\right)}{3}\\right)^{2}}{4} + \\frac{\\left(- \\frac{7 x_{\\beta}^{4}}{4} + 2 x_{\\beta}^{2} y_{\\alpha}^{2} - \\frac{x_{\\beta}^{2} y_{\\beta}^{2}}{2} - \\frac{4 y_{\\alpha}^{4}}{3} - \\frac{7 y_{\\beta}^{4}}{4}\\right)^{3}}{27}} + \\frac{\\left(3 x_{\\beta}^{2} + 2 y_{\\alpha}^{2} - 3 y_{\\beta}^{2}\\right)^{3}}{216} - \\frac{\\left(3 x_{\\beta}^{2} + 2 y_{\\alpha}^{2} - 3 y_{\\beta}^{2}\\right) \\left(x_{\\beta}^{4} - 3 x_{\\beta}^{2} y_{\\alpha}^{2} + 2 x_{\\beta}^{2} y_{\\beta}^{2} + y_{\\alpha}^{4} + y_{\\alpha}^{2} y_{\\beta}^{2} + y_{\\beta}^{4}\\right)}{6}} - \\frac{2 \\left(- \\frac{7 x_{\\beta}^{4}}{4} + 2 x_{\\beta}^{2} y_{\\alpha}^{2} - \\frac{x_{\\beta}^{2} y_{\\beta}^{2}}{2} - \\frac{4 y_{\\alpha}^{4}}{3} - \\frac{7 y_{\\beta}^{4}}{4}\\right)}{3 \\sqrt[3]{\\frac{x_{\\beta}^{2} y_{\\alpha}^{2} y_{\\beta}^{2}}{4} + \\sqrt{\\frac{\\left(- \\frac{x_{\\beta}^{2} y_{\\alpha}^{2} y_{\\beta}^{2}}{2} - \\frac{\\left(3 x_{\\beta}^{2} + 2 y_{\\alpha}^{2} - 3 y_{\\beta}^{2}\\right)^{3}}{108} + \\frac{\\left(3 x_{\\beta}^{2} + 2 y_{\\alpha}^{2} - 3 y_{\\beta}^{2}\\right) \\left(x_{\\beta}^{4} - 3 x_{\\beta}^{2} y_{\\alpha}^{2} + 2 x_{\\beta}^{2} y_{\\beta}^{2} + y_{\\alpha}^{4} + y_{\\alpha}^{2} y_{\\beta}^{2} + y_{\\beta}^{4}\\right)}{3}\\right)^{2}}{4} + \\frac{\\left(- \\frac{7 x_{\\beta}^{4}}{4} + 2 x_{\\beta}^{2} y_{\\alpha}^{2} - \\frac{x_{\\beta}^{2} y_{\\beta}^{2}}{2} - \\frac{4 y_{\\alpha}^{4}}{3} - \\frac{7 y_{\\beta}^{4}}{4}\\right)^{3}}{27}} + \\frac{\\left(3 x_{\\beta}^{2} + 2 y_{\\alpha}^{2} - 3 y_{\\beta}^{2}\\right)^{3}}{216} - \\frac{\\left(3 x_{\\beta}^{2} + 2 y_{\\alpha}^{2} - 3 y_{\\beta}^{2}\\right) \\left(x_{\\beta}^{4} - 3 x_{\\beta}^{2} y_{\\alpha}^{2} + 2 x_{\\beta}^{2} y_{\\beta}^{2} + y_{\\alpha}^{4} + y_{\\alpha}^{2} y_{\\beta}^{2} + y_{\\beta}^{4}\\right)}{6}}}}}{2} + \\frac{\\sqrt{- 4 x_{\\beta}^{2} + \\frac{4 x_{\\beta} y_{\\alpha} y_{\\beta}}{\\sqrt{- 2 x_{\\beta}^{2} - \\frac{4 y_{\\alpha}^{2}}{3} + 2 y_{\\beta}^{2} + 2 \\sqrt[3]{\\frac{x_{\\beta}^{2} y_{\\alpha}^{2} y_{\\beta}^{2}}{4} + \\sqrt{\\frac{\\left(- \\frac{x_{\\beta}^{2} y_{\\alpha}^{2} y_{\\beta}^{2}}{2} - \\frac{\\left(3 x_{\\beta}^{2} + 2 y_{\\alpha}^{2} - 3 y_{\\beta}^{2}\\right)^{3}}{108} + \\frac{\\left(3 x_{\\beta}^{2} + 2 y_{\\alpha}^{2} - 3 y_{\\beta}^{2}\\right) \\left(x_{\\beta}^{4} - 3 x_{\\beta}^{2} y_{\\alpha}^{2} + 2 x_{\\beta}^{2} y_{\\beta}^{2} + y_{\\alpha}^{4} + y_{\\alpha}^{2} y_{\\beta}^{2} + y_{\\beta}^{4}\\right)}{3}\\right)^{2}}{4} + \\frac{\\left(- \\frac{7 x_{\\beta}^{4}}{4} + 2 x_{\\beta}^{2} y_{\\alpha}^{2} - \\frac{x_{\\beta}^{2} y_{\\beta}^{2}}{2} - \\frac{4 y_{\\alpha}^{4}}{3} - \\frac{7 y_{\\beta}^{4}}{4}\\right)^{3}}{27}} + \\frac{\\left(3 x_{\\beta}^{2} + 2 y_{\\alpha}^{2} - 3 y_{\\beta}^{2}\\right)^{3}}{216} - \\frac{\\left(3 x_{\\beta}^{2} + 2 y_{\\alpha}^{2} - 3 y_{\\beta}^{2}\\right) \\left(x_{\\beta}^{4} - 3 x_{\\beta}^{2} y_{\\alpha}^{2} + 2 x_{\\beta}^{2} y_{\\beta}^{2} + y_{\\alpha}^{4} + y_{\\alpha}^{2} y_{\\beta}^{2} + y_{\\beta}^{4}\\right)}{6}} - \\frac{2 \\left(- \\frac{7 x_{\\beta}^{4}}{4} + 2 x_{\\beta}^{2} y_{\\alpha}^{2} - \\frac{x_{\\beta}^{2} y_{\\beta}^{2}}{2} - \\frac{4 y_{\\alpha}^{4}}{3} - \\frac{7 y_{\\beta}^{4}}{4}\\right)}{3 \\sqrt[3]{\\frac{x_{\\beta}^{2} y_{\\alpha}^{2} y_{\\beta}^{2}}{4} + \\sqrt{\\frac{\\left(- \\frac{x_{\\beta}^{2} y_{\\alpha}^{2} y_{\\beta}^{2}}{2} - \\frac{\\left(3 x_{\\beta}^{2} + 2 y_{\\alpha}^{2} - 3 y_{\\beta}^{2}\\right)^{3}}{108} + \\frac{\\left(3 x_{\\beta}^{2} + 2 y_{\\alpha}^{2} - 3 y_{\\beta}^{2}\\right) \\left(x_{\\beta}^{4} - 3 x_{\\beta}^{2} y_{\\alpha}^{2} + 2 x_{\\beta}^{2} y_{\\beta}^{2} + y_{\\alpha}^{4} + y_{\\alpha}^{2} y_{\\beta}^{2} + y_{\\beta}^{4}\\right)}{3}\\right)^{2}}{4} + \\frac{\\left(- \\frac{7 x_{\\beta}^{4}}{4} + 2 x_{\\beta}^{2} y_{\\alpha}^{2} - \\frac{x_{\\beta}^{2} y_{\\beta}^{2}}{2} - \\frac{4 y_{\\alpha}^{4}}{3} - \\frac{7 y_{\\beta}^{4}}{4}\\right)^{3}}{27}} + \\frac{\\left(3 x_{\\beta}^{2} + 2 y_{\\alpha}^{2} - 3 y_{\\beta}^{2}\\right)^{3}}{216} - \\frac{\\left(3 x_{\\beta}^{2} + 2 y_{\\alpha}^{2} - 3 y_{\\beta}^{2}\\right) \\left(x_{\\beta}^{4} - 3 x_{\\beta}^{2} y_{\\alpha}^{2} + 2 x_{\\beta}^{2} y_{\\beta}^{2} + y_{\\alpha}^{4} + y_{\\alpha}^{2} y_{\\beta}^{2} + y_{\\beta}^{4}\\right)}{6}}}}} - \\frac{8 y_{\\alpha}^{2}}{3} + 4 y_{\\beta}^{2} - 2 \\sqrt[3]{\\frac{x_{\\beta}^{2} y_{\\alpha}^{2} y_{\\beta}^{2}}{4} + \\sqrt{\\frac{\\left(- \\frac{x_{\\beta}^{2} y_{\\alpha}^{2} y_{\\beta}^{2}}{2} - \\frac{\\left(3 x_{\\beta}^{2} + 2 y_{\\alpha}^{2} - 3 y_{\\beta}^{2}\\right)^{3}}{108} + \\frac{\\left(3 x_{\\beta}^{2} + 2 y_{\\alpha}^{2} - 3 y_{\\beta}^{2}\\right) \\left(x_{\\beta}^{4} - 3 x_{\\beta}^{2} y_{\\alpha}^{2} + 2 x_{\\beta}^{2} y_{\\beta}^{2} + y_{\\alpha}^{4} + y_{\\alpha}^{2} y_{\\beta}^{2} + y_{\\beta}^{4}\\right)}{3}\\right)^{2}}{4} + \\frac{\\left(- \\frac{7 x_{\\beta}^{4}}{4} + 2 x_{\\beta}^{2} y_{\\alpha}^{2} - \\frac{x_{\\beta}^{2} y_{\\beta}^{2}}{2} - \\frac{4 y_{\\alpha}^{4}}{3} - \\frac{7 y_{\\beta}^{4}}{4}\\right)^{3}}{27}} + \\frac{\\left(3 x_{\\beta}^{2} + 2 y_{\\alpha}^{2} - 3 y_{\\beta}^{2}\\right)^{3}}{216} - \\frac{\\left(3 x_{\\beta}^{2} + 2 y_{\\alpha}^{2} - 3 y_{\\beta}^{2}\\right) \\left(x_{\\beta}^{4} - 3 x_{\\beta}^{2} y_{\\alpha}^{2} + 2 x_{\\beta}^{2} y_{\\beta}^{2} + y_{\\alpha}^{4} + y_{\\alpha}^{2} y_{\\beta}^{2} + y_{\\beta}^{4}\\right)}{6}} + \\frac{2 \\left(- \\frac{7 x_{\\beta}^{4}}{4} + 2 x_{\\beta}^{2} y_{\\alpha}^{2} - \\frac{x_{\\beta}^{2} y_{\\beta}^{2}}{2} - \\frac{4 y_{\\alpha}^{4}}{3} - \\frac{7 y_{\\beta}^{4}}{4}\\right)}{3 \\sqrt[3]{\\frac{x_{\\beta}^{2} y_{\\alpha}^{2} y_{\\beta}^{2}}{4} + \\sqrt{\\frac{\\left(- \\frac{x_{\\beta}^{2} y_{\\alpha}^{2} y_{\\beta}^{2}}{2} - \\frac{\\left(3 x_{\\beta}^{2} + 2 y_{\\alpha}^{2} - 3 y_{\\beta}^{2}\\right)^{3}}{108} + \\frac{\\left(3 x_{\\beta}^{2} + 2 y_{\\alpha}^{2} - 3 y_{\\beta}^{2}\\right) \\left(x_{\\beta}^{4} - 3 x_{\\beta}^{2} y_{\\alpha}^{2} + 2 x_{\\beta}^{2} y_{\\beta}^{2} + y_{\\alpha}^{4} + y_{\\alpha}^{2} y_{\\beta}^{2} + y_{\\beta}^{4}\\right)}{3}\\right)^{2}}{4} + \\frac{\\left(- \\frac{7 x_{\\beta}^{4}}{4} + 2 x_{\\beta}^{2} y_{\\alpha}^{2} - \\frac{x_{\\beta}^{2} y_{\\beta}^{2}}{2} - \\frac{4 y_{\\alpha}^{4}}{3} - \\frac{7 y_{\\beta}^{4}}{4}\\right)^{3}}{27}} + \\frac{\\left(3 x_{\\beta}^{2} + 2 y_{\\alpha}^{2} - 3 y_{\\beta}^{2}\\right)^{3}}{216} - \\frac{\\left(3 x_{\\beta}^{2} + 2 y_{\\alpha}^{2} - 3 y_{\\beta}^{2}\\right) \\left(x_{\\beta}^{4} - 3 x_{\\beta}^{2} y_{\\alpha}^{2} + 2 x_{\\beta}^{2} y_{\\beta}^{2} + y_{\\alpha}^{4} + y_{\\alpha}^{2} y_{\\beta}^{2} + y_{\\beta}^{4}\\right)}{6}}}}}{2} & \\text{otherwise} \\end{cases}, \\begin{cases} \\frac{\\sqrt{- 2 x_{\\beta}^{2} - \\frac{4 y_{\\alpha}^{2}}{3} + 2 y_{\\beta}^{2} - 2 \\sqrt[3]{- \\frac{x_{\\beta}^{2} y_{\\alpha}^{2} y_{\\beta}^{2}}{2} - \\frac{\\left(3 x_{\\beta}^{2} + 2 y_{\\alpha}^{2} - 3 y_{\\beta}^{2}\\right)^{3}}{108} + \\frac{\\left(3 x_{\\beta}^{2} + 2 y_{\\alpha}^{2} - 3 y_{\\beta}^{2}\\right) \\left(x_{\\beta}^{4} - 3 x_{\\beta}^{2} y_{\\alpha}^{2} + 2 x_{\\beta}^{2} y_{\\beta}^{2} + y_{\\alpha}^{4} + y_{\\alpha}^{2} y_{\\beta}^{2} + y_{\\beta}^{4}\\right)}{3}}}}{2} - \\frac{\\sqrt{- 4 x_{\\beta}^{2} - \\frac{4 x_{\\beta} y_{\\alpha} y_{\\beta}}{\\sqrt{- 2 x_{\\beta}^{2} - \\frac{4 y_{\\alpha}^{2}}{3} + 2 y_{\\beta}^{2} - 2 \\sqrt[3]{- \\frac{x_{\\beta}^{2} y_{\\alpha}^{2} y_{\\beta}^{2}}{2} - \\frac{\\left(3 x_{\\beta}^{2} + 2 y_{\\alpha}^{2} - 3 y_{\\beta}^{2}\\right)^{3}}{108} + \\frac{\\left(3 x_{\\beta}^{2} + 2 y_{\\alpha}^{2} - 3 y_{\\beta}^{2}\\right) \\left(x_{\\beta}^{4} - 3 x_{\\beta}^{2} y_{\\alpha}^{2} + 2 x_{\\beta}^{2} y_{\\beta}^{2} + y_{\\alpha}^{4} + y_{\\alpha}^{2} y_{\\beta}^{2} + y_{\\beta}^{4}\\right)}{3}}}} - \\frac{8 y_{\\alpha}^{2}}{3} + 4 y_{\\beta}^{2} + 2 \\sqrt[3]{- \\frac{x_{\\beta}^{2} y_{\\alpha}^{2} y_{\\beta}^{2}}{2} - \\frac{\\left(3 x_{\\beta}^{2} + 2 y_{\\alpha}^{2} - 3 y_{\\beta}^{2}\\right)^{3}}{108} + \\frac{\\left(3 x_{\\beta}^{2} + 2 y_{\\alpha}^{2} - 3 y_{\\beta}^{2}\\right) \\left(x_{\\beta}^{4} - 3 x_{\\beta}^{2} y_{\\alpha}^{2} + 2 x_{\\beta}^{2} y_{\\beta}^{2} + y_{\\alpha}^{4} + y_{\\alpha}^{2} y_{\\beta}^{2} + y_{\\beta}^{4}\\right)}{3}}}}{2} & \\text{for}\\: \\frac{7 x_{\\beta}^{4}}{4} - 2 x_{\\beta}^{2} y_{\\alpha}^{2} + \\frac{x_{\\beta}^{2} y_{\\beta}^{2}}{2} + \\frac{4 y_{\\alpha}^{4}}{3} + \\frac{7 y_{\\beta}^{4}}{4} = 0 \\\\\\frac{\\sqrt{- 2 x_{\\beta}^{2} - \\frac{4 y_{\\alpha}^{2}}{3} + 2 y_{\\beta}^{2} + 2 \\sqrt[3]{\\frac{x_{\\beta}^{2} y_{\\alpha}^{2} y_{\\beta}^{2}}{4} + \\sqrt{\\frac{\\left(- \\frac{x_{\\beta}^{2} y_{\\alpha}^{2} y_{\\beta}^{2}}{2} - \\frac{\\left(3 x_{\\beta}^{2} + 2 y_{\\alpha}^{2} - 3 y_{\\beta}^{2}\\right)^{3}}{108} + \\frac{\\left(3 x_{\\beta}^{2} + 2 y_{\\alpha}^{2} - 3 y_{\\beta}^{2}\\right) \\left(x_{\\beta}^{4} - 3 x_{\\beta}^{2} y_{\\alpha}^{2} + 2 x_{\\beta}^{2} y_{\\beta}^{2} + y_{\\alpha}^{4} + y_{\\alpha}^{2} y_{\\beta}^{2} + y_{\\beta}^{4}\\right)}{3}\\right)^{2}}{4} + \\frac{\\left(- \\frac{7 x_{\\beta}^{4}}{4} + 2 x_{\\beta}^{2} y_{\\alpha}^{2} - \\frac{x_{\\beta}^{2} y_{\\beta}^{2}}{2} - \\frac{4 y_{\\alpha}^{4}}{3} - \\frac{7 y_{\\beta}^{4}}{4}\\right)^{3}}{27}} + \\frac{\\left(3 x_{\\beta}^{2} + 2 y_{\\alpha}^{2} - 3 y_{\\beta}^{2}\\right)^{3}}{216} - \\frac{\\left(3 x_{\\beta}^{2} + 2 y_{\\alpha}^{2} - 3 y_{\\beta}^{2}\\right) \\left(x_{\\beta}^{4} - 3 x_{\\beta}^{2} y_{\\alpha}^{2} + 2 x_{\\beta}^{2} y_{\\beta}^{2} + y_{\\alpha}^{4} + y_{\\alpha}^{2} y_{\\beta}^{2} + y_{\\beta}^{4}\\right)}{6}} - \\frac{2 \\left(- \\frac{7 x_{\\beta}^{4}}{4} + 2 x_{\\beta}^{2} y_{\\alpha}^{2} - \\frac{x_{\\beta}^{2} y_{\\beta}^{2}}{2} - \\frac{4 y_{\\alpha}^{4}}{3} - \\frac{7 y_{\\beta}^{4}}{4}\\right)}{3 \\sqrt[3]{\\frac{x_{\\beta}^{2} y_{\\alpha}^{2} y_{\\beta}^{2}}{4} + \\sqrt{\\frac{\\left(- \\frac{x_{\\beta}^{2} y_{\\alpha}^{2} y_{\\beta}^{2}}{2} - \\frac{\\left(3 x_{\\beta}^{2} + 2 y_{\\alpha}^{2} - 3 y_{\\beta}^{2}\\right)^{3}}{108} + \\frac{\\left(3 x_{\\beta}^{2} + 2 y_{\\alpha}^{2} - 3 y_{\\beta}^{2}\\right) \\left(x_{\\beta}^{4} - 3 x_{\\beta}^{2} y_{\\alpha}^{2} + 2 x_{\\beta}^{2} y_{\\beta}^{2} + y_{\\alpha}^{4} + y_{\\alpha}^{2} y_{\\beta}^{2} + y_{\\beta}^{4}\\right)}{3}\\right)^{2}}{4} + \\frac{\\left(- \\frac{7 x_{\\beta}^{4}}{4} + 2 x_{\\beta}^{2} y_{\\alpha}^{2} - \\frac{x_{\\beta}^{2} y_{\\beta}^{2}}{2} - \\frac{4 y_{\\alpha}^{4}}{3} - \\frac{7 y_{\\beta}^{4}}{4}\\right)^{3}}{27}} + \\frac{\\left(3 x_{\\beta}^{2} + 2 y_{\\alpha}^{2} - 3 y_{\\beta}^{2}\\right)^{3}}{216} - \\frac{\\left(3 x_{\\beta}^{2} + 2 y_{\\alpha}^{2} - 3 y_{\\beta}^{2}\\right) \\left(x_{\\beta}^{4} - 3 x_{\\beta}^{2} y_{\\alpha}^{2} + 2 x_{\\beta}^{2} y_{\\beta}^{2} + y_{\\alpha}^{4} + y_{\\alpha}^{2} y_{\\beta}^{2} + y_{\\beta}^{4}\\right)}{6}}}}}{2} - \\frac{\\sqrt{- 4 x_{\\beta}^{2} - \\frac{4 x_{\\beta} y_{\\alpha} y_{\\beta}}{\\sqrt{- 2 x_{\\beta}^{2} - \\frac{4 y_{\\alpha}^{2}}{3} + 2 y_{\\beta}^{2} + 2 \\sqrt[3]{\\frac{x_{\\beta}^{2} y_{\\alpha}^{2} y_{\\beta}^{2}}{4} + \\sqrt{\\frac{\\left(- \\frac{x_{\\beta}^{2} y_{\\alpha}^{2} y_{\\beta}^{2}}{2} - \\frac{\\left(3 x_{\\beta}^{2} + 2 y_{\\alpha}^{2} - 3 y_{\\beta}^{2}\\right)^{3}}{108} + \\frac{\\left(3 x_{\\beta}^{2} + 2 y_{\\alpha}^{2} - 3 y_{\\beta}^{2}\\right) \\left(x_{\\beta}^{4} - 3 x_{\\beta}^{2} y_{\\alpha}^{2} + 2 x_{\\beta}^{2} y_{\\beta}^{2} + y_{\\alpha}^{4} + y_{\\alpha}^{2} y_{\\beta}^{2} + y_{\\beta}^{4}\\right)}{3}\\right)^{2}}{4} + \\frac{\\left(- \\frac{7 x_{\\beta}^{4}}{4} + 2 x_{\\beta}^{2} y_{\\alpha}^{2} - \\frac{x_{\\beta}^{2} y_{\\beta}^{2}}{2} - \\frac{4 y_{\\alpha}^{4}}{3} - \\frac{7 y_{\\beta}^{4}}{4}\\right)^{3}}{27}} + \\frac{\\left(3 x_{\\beta}^{2} + 2 y_{\\alpha}^{2} - 3 y_{\\beta}^{2}\\right)^{3}}{216} - \\frac{\\left(3 x_{\\beta}^{2} + 2 y_{\\alpha}^{2} - 3 y_{\\beta}^{2}\\right) \\left(x_{\\beta}^{4} - 3 x_{\\beta}^{2} y_{\\alpha}^{2} + 2 x_{\\beta}^{2} y_{\\beta}^{2} + y_{\\alpha}^{4} + y_{\\alpha}^{2} y_{\\beta}^{2} + y_{\\beta}^{4}\\right)}{6}} - \\frac{2 \\left(- \\frac{7 x_{\\beta}^{4}}{4} + 2 x_{\\beta}^{2} y_{\\alpha}^{2} - \\frac{x_{\\beta}^{2} y_{\\beta}^{2}}{2} - \\frac{4 y_{\\alpha}^{4}}{3} - \\frac{7 y_{\\beta}^{4}}{4}\\right)}{3 \\sqrt[3]{\\frac{x_{\\beta}^{2} y_{\\alpha}^{2} y_{\\beta}^{2}}{4} + \\sqrt{\\frac{\\left(- \\frac{x_{\\beta}^{2} y_{\\alpha}^{2} y_{\\beta}^{2}}{2} - \\frac{\\left(3 x_{\\beta}^{2} + 2 y_{\\alpha}^{2} - 3 y_{\\beta}^{2}\\right)^{3}}{108} + \\frac{\\left(3 x_{\\beta}^{2} + 2 y_{\\alpha}^{2} - 3 y_{\\beta}^{2}\\right) \\left(x_{\\beta}^{4} - 3 x_{\\beta}^{2} y_{\\alpha}^{2} + 2 x_{\\beta}^{2} y_{\\beta}^{2} + y_{\\alpha}^{4} + y_{\\alpha}^{2} y_{\\beta}^{2} + y_{\\beta}^{4}\\right)}{3}\\right)^{2}}{4} + \\frac{\\left(- \\frac{7 x_{\\beta}^{4}}{4} + 2 x_{\\beta}^{2} y_{\\alpha}^{2} - \\frac{x_{\\beta}^{2} y_{\\beta}^{2}}{2} - \\frac{4 y_{\\alpha}^{4}}{3} - \\frac{7 y_{\\beta}^{4}}{4}\\right)^{3}}{27}} + \\frac{\\left(3 x_{\\beta}^{2} + 2 y_{\\alpha}^{2} - 3 y_{\\beta}^{2}\\right)^{3}}{216} - \\frac{\\left(3 x_{\\beta}^{2} + 2 y_{\\alpha}^{2} - 3 y_{\\beta}^{2}\\right) \\left(x_{\\beta}^{4} - 3 x_{\\beta}^{2} y_{\\alpha}^{2} + 2 x_{\\beta}^{2} y_{\\beta}^{2} + y_{\\alpha}^{4} + y_{\\alpha}^{2} y_{\\beta}^{2} + y_{\\beta}^{4}\\right)}{6}}}}} - \\frac{8 y_{\\alpha}^{2}}{3} + 4 y_{\\beta}^{2} - 2 \\sqrt[3]{\\frac{x_{\\beta}^{2} y_{\\alpha}^{2} y_{\\beta}^{2}}{4} + \\sqrt{\\frac{\\left(- \\frac{x_{\\beta}^{2} y_{\\alpha}^{2} y_{\\beta}^{2}}{2} - \\frac{\\left(3 x_{\\beta}^{2} + 2 y_{\\alpha}^{2} - 3 y_{\\beta}^{2}\\right)^{3}}{108} + \\frac{\\left(3 x_{\\beta}^{2} + 2 y_{\\alpha}^{2} - 3 y_{\\beta}^{2}\\right) \\left(x_{\\beta}^{4} - 3 x_{\\beta}^{2} y_{\\alpha}^{2} + 2 x_{\\beta}^{2} y_{\\beta}^{2} + y_{\\alpha}^{4} + y_{\\alpha}^{2} y_{\\beta}^{2} + y_{\\beta}^{4}\\right)}{3}\\right)^{2}}{4} + \\frac{\\left(- \\frac{7 x_{\\beta}^{4}}{4} + 2 x_{\\beta}^{2} y_{\\alpha}^{2} - \\frac{x_{\\beta}^{2} y_{\\beta}^{2}}{2} - \\frac{4 y_{\\alpha}^{4}}{3} - \\frac{7 y_{\\beta}^{4}}{4}\\right)^{3}}{27}} + \\frac{\\left(3 x_{\\beta}^{2} + 2 y_{\\alpha}^{2} - 3 y_{\\beta}^{2}\\right)^{3}}{216} - \\frac{\\left(3 x_{\\beta}^{2} + 2 y_{\\alpha}^{2} - 3 y_{\\beta}^{2}\\right) \\left(x_{\\beta}^{4} - 3 x_{\\beta}^{2} y_{\\alpha}^{2} + 2 x_{\\beta}^{2} y_{\\beta}^{2} + y_{\\alpha}^{4} + y_{\\alpha}^{2} y_{\\beta}^{2} + y_{\\beta}^{4}\\right)}{6}} + \\frac{2 \\left(- \\frac{7 x_{\\beta}^{4}}{4} + 2 x_{\\beta}^{2} y_{\\alpha}^{2} - \\frac{x_{\\beta}^{2} y_{\\beta}^{2}}{2} - \\frac{4 y_{\\alpha}^{4}}{3} - \\frac{7 y_{\\beta}^{4}}{4}\\right)}{3 \\sqrt[3]{\\frac{x_{\\beta}^{2} y_{\\alpha}^{2} y_{\\beta}^{2}}{4} + \\sqrt{\\frac{\\left(- \\frac{x_{\\beta}^{2} y_{\\alpha}^{2} y_{\\beta}^{2}}{2} - \\frac{\\left(3 x_{\\beta}^{2} + 2 y_{\\alpha}^{2} - 3 y_{\\beta}^{2}\\right)^{3}}{108} + \\frac{\\left(3 x_{\\beta}^{2} + 2 y_{\\alpha}^{2} - 3 y_{\\beta}^{2}\\right) \\left(x_{\\beta}^{4} - 3 x_{\\beta}^{2} y_{\\alpha}^{2} + 2 x_{\\beta}^{2} y_{\\beta}^{2} + y_{\\alpha}^{4} + y_{\\alpha}^{2} y_{\\beta}^{2} + y_{\\beta}^{4}\\right)}{3}\\right)^{2}}{4} + \\frac{\\left(- \\frac{7 x_{\\beta}^{4}}{4} + 2 x_{\\beta}^{2} y_{\\alpha}^{2} - \\frac{x_{\\beta}^{2} y_{\\beta}^{2}}{2} - \\frac{4 y_{\\alpha}^{4}}{3} - \\frac{7 y_{\\beta}^{4}}{4}\\right)^{3}}{27}} + \\frac{\\left(3 x_{\\beta}^{2} + 2 y_{\\alpha}^{2} - 3 y_{\\beta}^{2}\\right)^{3}}{216} - \\frac{\\left(3 x_{\\beta}^{2} + 2 y_{\\alpha}^{2} - 3 y_{\\beta}^{2}\\right) \\left(x_{\\beta}^{4} - 3 x_{\\beta}^{2} y_{\\alpha}^{2} + 2 x_{\\beta}^{2} y_{\\beta}^{2} + y_{\\alpha}^{4} + y_{\\alpha}^{2} y_{\\beta}^{2} + y_{\\beta}^{4}\\right)}{6}}}}}{2} & \\text{otherwise} \\end{cases}, \\begin{cases} \\frac{\\sqrt{- 2 x_{\\beta}^{2} - \\frac{4 y_{\\alpha}^{2}}{3} + 2 y_{\\beta}^{2} - 2 \\sqrt[3]{- \\frac{x_{\\beta}^{2} y_{\\alpha}^{2} y_{\\beta}^{2}}{2} - \\frac{\\left(3 x_{\\beta}^{2} + 2 y_{\\alpha}^{2} - 3 y_{\\beta}^{2}\\right)^{3}}{108} + \\frac{\\left(3 x_{\\beta}^{2} + 2 y_{\\alpha}^{2} - 3 y_{\\beta}^{2}\\right) \\left(x_{\\beta}^{4} - 3 x_{\\beta}^{2} y_{\\alpha}^{2} + 2 x_{\\beta}^{2} y_{\\beta}^{2} + y_{\\alpha}^{4} + y_{\\alpha}^{2} y_{\\beta}^{2} + y_{\\beta}^{4}\\right)}{3}}}}{2} + \\frac{\\sqrt{- 4 x_{\\beta}^{2} - \\frac{4 x_{\\beta} y_{\\alpha} y_{\\beta}}{\\sqrt{- 2 x_{\\beta}^{2} - \\frac{4 y_{\\alpha}^{2}}{3} + 2 y_{\\beta}^{2} - 2 \\sqrt[3]{- \\frac{x_{\\beta}^{2} y_{\\alpha}^{2} y_{\\beta}^{2}}{2} - \\frac{\\left(3 x_{\\beta}^{2} + 2 y_{\\alpha}^{2} - 3 y_{\\beta}^{2}\\right)^{3}}{108} + \\frac{\\left(3 x_{\\beta}^{2} + 2 y_{\\alpha}^{2} - 3 y_{\\beta}^{2}\\right) \\left(x_{\\beta}^{4} - 3 x_{\\beta}^{2} y_{\\alpha}^{2} + 2 x_{\\beta}^{2} y_{\\beta}^{2} + y_{\\alpha}^{4} + y_{\\alpha}^{2} y_{\\beta}^{2} + y_{\\beta}^{4}\\right)}{3}}}} - \\frac{8 y_{\\alpha}^{2}}{3} + 4 y_{\\beta}^{2} + 2 \\sqrt[3]{- \\frac{x_{\\beta}^{2} y_{\\alpha}^{2} y_{\\beta}^{2}}{2} - \\frac{\\left(3 x_{\\beta}^{2} + 2 y_{\\alpha}^{2} - 3 y_{\\beta}^{2}\\right)^{3}}{108} + \\frac{\\left(3 x_{\\beta}^{2} + 2 y_{\\alpha}^{2} - 3 y_{\\beta}^{2}\\right) \\left(x_{\\beta}^{4} - 3 x_{\\beta}^{2} y_{\\alpha}^{2} + 2 x_{\\beta}^{2} y_{\\beta}^{2} + y_{\\alpha}^{4} + y_{\\alpha}^{2} y_{\\beta}^{2} + y_{\\beta}^{4}\\right)}{3}}}}{2} & \\text{for}\\: \\frac{7 x_{\\beta}^{4}}{4} - 2 x_{\\beta}^{2} y_{\\alpha}^{2} + \\frac{x_{\\beta}^{2} y_{\\beta}^{2}}{2} + \\frac{4 y_{\\alpha}^{4}}{3} + \\frac{7 y_{\\beta}^{4}}{4} = 0 \\\\\\frac{\\sqrt{- 2 x_{\\beta}^{2} - \\frac{4 y_{\\alpha}^{2}}{3} + 2 y_{\\beta}^{2} + 2 \\sqrt[3]{\\frac{x_{\\beta}^{2} y_{\\alpha}^{2} y_{\\beta}^{2}}{4} + \\sqrt{\\frac{\\left(- \\frac{x_{\\beta}^{2} y_{\\alpha}^{2} y_{\\beta}^{2}}{2} - \\frac{\\left(3 x_{\\beta}^{2} + 2 y_{\\alpha}^{2} - 3 y_{\\beta}^{2}\\right)^{3}}{108} + \\frac{\\left(3 x_{\\beta}^{2} + 2 y_{\\alpha}^{2} - 3 y_{\\beta}^{2}\\right) \\left(x_{\\beta}^{4} - 3 x_{\\beta}^{2} y_{\\alpha}^{2} + 2 x_{\\beta}^{2} y_{\\beta}^{2} + y_{\\alpha}^{4} + y_{\\alpha}^{2} y_{\\beta}^{2} + y_{\\beta}^{4}\\right)}{3}\\right)^{2}}{4} + \\frac{\\left(- \\frac{7 x_{\\beta}^{4}}{4} + 2 x_{\\beta}^{2} y_{\\alpha}^{2} - \\frac{x_{\\beta}^{2} y_{\\beta}^{2}}{2} - \\frac{4 y_{\\alpha}^{4}}{3} - \\frac{7 y_{\\beta}^{4}}{4}\\right)^{3}}{27}} + \\frac{\\left(3 x_{\\beta}^{2} + 2 y_{\\alpha}^{2} - 3 y_{\\beta}^{2}\\right)^{3}}{216} - \\frac{\\left(3 x_{\\beta}^{2} + 2 y_{\\alpha}^{2} - 3 y_{\\beta}^{2}\\right) \\left(x_{\\beta}^{4} - 3 x_{\\beta}^{2} y_{\\alpha}^{2} + 2 x_{\\beta}^{2} y_{\\beta}^{2} + y_{\\alpha}^{4} + y_{\\alpha}^{2} y_{\\beta}^{2} + y_{\\beta}^{4}\\right)}{6}} - \\frac{2 \\left(- \\frac{7 x_{\\beta}^{4}}{4} + 2 x_{\\beta}^{2} y_{\\alpha}^{2} - \\frac{x_{\\beta}^{2} y_{\\beta}^{2}}{2} - \\frac{4 y_{\\alpha}^{4}}{3} - \\frac{7 y_{\\beta}^{4}}{4}\\right)}{3 \\sqrt[3]{\\frac{x_{\\beta}^{2} y_{\\alpha}^{2} y_{\\beta}^{2}}{4} + \\sqrt{\\frac{\\left(- \\frac{x_{\\beta}^{2} y_{\\alpha}^{2} y_{\\beta}^{2}}{2} - \\frac{\\left(3 x_{\\beta}^{2} + 2 y_{\\alpha}^{2} - 3 y_{\\beta}^{2}\\right)^{3}}{108} + \\frac{\\left(3 x_{\\beta}^{2} + 2 y_{\\alpha}^{2} - 3 y_{\\beta}^{2}\\right) \\left(x_{\\beta}^{4} - 3 x_{\\beta}^{2} y_{\\alpha}^{2} + 2 x_{\\beta}^{2} y_{\\beta}^{2} + y_{\\alpha}^{4} + y_{\\alpha}^{2} y_{\\beta}^{2} + y_{\\beta}^{4}\\right)}{3}\\right)^{2}}{4} + \\frac{\\left(- \\frac{7 x_{\\beta}^{4}}{4} + 2 x_{\\beta}^{2} y_{\\alpha}^{2} - \\frac{x_{\\beta}^{2} y_{\\beta}^{2}}{2} - \\frac{4 y_{\\alpha}^{4}}{3} - \\frac{7 y_{\\beta}^{4}}{4}\\right)^{3}}{27}} + \\frac{\\left(3 x_{\\beta}^{2} + 2 y_{\\alpha}^{2} - 3 y_{\\beta}^{2}\\right)^{3}}{216} - \\frac{\\left(3 x_{\\beta}^{2} + 2 y_{\\alpha}^{2} - 3 y_{\\beta}^{2}\\right) \\left(x_{\\beta}^{4} - 3 x_{\\beta}^{2} y_{\\alpha}^{2} + 2 x_{\\beta}^{2} y_{\\beta}^{2} + y_{\\alpha}^{4} + y_{\\alpha}^{2} y_{\\beta}^{2} + y_{\\beta}^{4}\\right)}{6}}}}}{2} + \\frac{\\sqrt{- 4 x_{\\beta}^{2} - \\frac{4 x_{\\beta} y_{\\alpha} y_{\\beta}}{\\sqrt{- 2 x_{\\beta}^{2} - \\frac{4 y_{\\alpha}^{2}}{3} + 2 y_{\\beta}^{2} + 2 \\sqrt[3]{\\frac{x_{\\beta}^{2} y_{\\alpha}^{2} y_{\\beta}^{2}}{4} + \\sqrt{\\frac{\\left(- \\frac{x_{\\beta}^{2} y_{\\alpha}^{2} y_{\\beta}^{2}}{2} - \\frac{\\left(3 x_{\\beta}^{2} + 2 y_{\\alpha}^{2} - 3 y_{\\beta}^{2}\\right)^{3}}{108} + \\frac{\\left(3 x_{\\beta}^{2} + 2 y_{\\alpha}^{2} - 3 y_{\\beta}^{2}\\right) \\left(x_{\\beta}^{4} - 3 x_{\\beta}^{2} y_{\\alpha}^{2} + 2 x_{\\beta}^{2} y_{\\beta}^{2} + y_{\\alpha}^{4} + y_{\\alpha}^{2} y_{\\beta}^{2} + y_{\\beta}^{4}\\right)}{3}\\right)^{2}}{4} + \\frac{\\left(- \\frac{7 x_{\\beta}^{4}}{4} + 2 x_{\\beta}^{2} y_{\\alpha}^{2} - \\frac{x_{\\beta}^{2} y_{\\beta}^{2}}{2} - \\frac{4 y_{\\alpha}^{4}}{3} - \\frac{7 y_{\\beta}^{4}}{4}\\right)^{3}}{27}} + \\frac{\\left(3 x_{\\beta}^{2} + 2 y_{\\alpha}^{2} - 3 y_{\\beta}^{2}\\right)^{3}}{216} - \\frac{\\left(3 x_{\\beta}^{2} + 2 y_{\\alpha}^{2} - 3 y_{\\beta}^{2}\\right) \\left(x_{\\beta}^{4} - 3 x_{\\beta}^{2} y_{\\alpha}^{2} + 2 x_{\\beta}^{2} y_{\\beta}^{2} + y_{\\alpha}^{4} + y_{\\alpha}^{2} y_{\\beta}^{2} + y_{\\beta}^{4}\\right)}{6}} - \\frac{2 \\left(- \\frac{7 x_{\\beta}^{4}}{4} + 2 x_{\\beta}^{2} y_{\\alpha}^{2} - \\frac{x_{\\beta}^{2} y_{\\beta}^{2}}{2} - \\frac{4 y_{\\alpha}^{4}}{3} - \\frac{7 y_{\\beta}^{4}}{4}\\right)}{3 \\sqrt[3]{\\frac{x_{\\beta}^{2} y_{\\alpha}^{2} y_{\\beta}^{2}}{4} + \\sqrt{\\frac{\\left(- \\frac{x_{\\beta}^{2} y_{\\alpha}^{2} y_{\\beta}^{2}}{2} - \\frac{\\left(3 x_{\\beta}^{2} + 2 y_{\\alpha}^{2} - 3 y_{\\beta}^{2}\\right)^{3}}{108} + \\frac{\\left(3 x_{\\beta}^{2} + 2 y_{\\alpha}^{2} - 3 y_{\\beta}^{2}\\right) \\left(x_{\\beta}^{4} - 3 x_{\\beta}^{2} y_{\\alpha}^{2} + 2 x_{\\beta}^{2} y_{\\beta}^{2} + y_{\\alpha}^{4} + y_{\\alpha}^{2} y_{\\beta}^{2} + y_{\\beta}^{4}\\right)}{3}\\right)^{2}}{4} + \\frac{\\left(- \\frac{7 x_{\\beta}^{4}}{4} + 2 x_{\\beta}^{2} y_{\\alpha}^{2} - \\frac{x_{\\beta}^{2} y_{\\beta}^{2}}{2} - \\frac{4 y_{\\alpha}^{4}}{3} - \\frac{7 y_{\\beta}^{4}}{4}\\right)^{3}}{27}} + \\frac{\\left(3 x_{\\beta}^{2} + 2 y_{\\alpha}^{2} - 3 y_{\\beta}^{2}\\right)^{3}}{216} - \\frac{\\left(3 x_{\\beta}^{2} + 2 y_{\\alpha}^{2} - 3 y_{\\beta}^{2}\\right) \\left(x_{\\beta}^{4} - 3 x_{\\beta}^{2} y_{\\alpha}^{2} + 2 x_{\\beta}^{2} y_{\\beta}^{2} + y_{\\alpha}^{4} + y_{\\alpha}^{2} y_{\\beta}^{2} + y_{\\beta}^{4}\\right)}{6}}}}} - \\frac{8 y_{\\alpha}^{2}}{3} + 4 y_{\\beta}^{2} - 2 \\sqrt[3]{\\frac{x_{\\beta}^{2} y_{\\alpha}^{2} y_{\\beta}^{2}}{4} + \\sqrt{\\frac{\\left(- \\frac{x_{\\beta}^{2} y_{\\alpha}^{2} y_{\\beta}^{2}}{2} - \\frac{\\left(3 x_{\\beta}^{2} + 2 y_{\\alpha}^{2} - 3 y_{\\beta}^{2}\\right)^{3}}{108} + \\frac{\\left(3 x_{\\beta}^{2} + 2 y_{\\alpha}^{2} - 3 y_{\\beta}^{2}\\right) \\left(x_{\\beta}^{4} - 3 x_{\\beta}^{2} y_{\\alpha}^{2} + 2 x_{\\beta}^{2} y_{\\beta}^{2} + y_{\\alpha}^{4} + y_{\\alpha}^{2} y_{\\beta}^{2} + y_{\\beta}^{4}\\right)}{3}\\right)^{2}}{4} + \\frac{\\left(- \\frac{7 x_{\\beta}^{4}}{4} + 2 x_{\\beta}^{2} y_{\\alpha}^{2} - \\frac{x_{\\beta}^{2} y_{\\beta}^{2}}{2} - \\frac{4 y_{\\alpha}^{4}}{3} - \\frac{7 y_{\\beta}^{4}}{4}\\right)^{3}}{27}} + \\frac{\\left(3 x_{\\beta}^{2} + 2 y_{\\alpha}^{2} - 3 y_{\\beta}^{2}\\right)^{3}}{216} - \\frac{\\left(3 x_{\\beta}^{2} + 2 y_{\\alpha}^{2} - 3 y_{\\beta}^{2}\\right) \\left(x_{\\beta}^{4} - 3 x_{\\beta}^{2} y_{\\alpha}^{2} + 2 x_{\\beta}^{2} y_{\\beta}^{2} + y_{\\alpha}^{4} + y_{\\alpha}^{2} y_{\\beta}^{2} + y_{\\beta}^{4}\\right)}{6}} + \\frac{2 \\left(- \\frac{7 x_{\\beta}^{4}}{4} + 2 x_{\\beta}^{2} y_{\\alpha}^{2} - \\frac{x_{\\beta}^{2} y_{\\beta}^{2}}{2} - \\frac{4 y_{\\alpha}^{4}}{3} - \\frac{7 y_{\\beta}^{4}}{4}\\right)}{3 \\sqrt[3]{\\frac{x_{\\beta}^{2} y_{\\alpha}^{2} y_{\\beta}^{2}}{4} + \\sqrt{\\frac{\\left(- \\frac{x_{\\beta}^{2} y_{\\alpha}^{2} y_{\\beta}^{2}}{2} - \\frac{\\left(3 x_{\\beta}^{2} + 2 y_{\\alpha}^{2} - 3 y_{\\beta}^{2}\\right)^{3}}{108} + \\frac{\\left(3 x_{\\beta}^{2} + 2 y_{\\alpha}^{2} - 3 y_{\\beta}^{2}\\right) \\left(x_{\\beta}^{4} - 3 x_{\\beta}^{2} y_{\\alpha}^{2} + 2 x_{\\beta}^{2} y_{\\beta}^{2} + y_{\\alpha}^{4} + y_{\\alpha}^{2} y_{\\beta}^{2} + y_{\\beta}^{4}\\right)}{3}\\right)^{2}}{4} + \\frac{\\left(- \\frac{7 x_{\\beta}^{4}}{4} + 2 x_{\\beta}^{2} y_{\\alpha}^{2} - \\frac{x_{\\beta}^{2} y_{\\beta}^{2}}{2} - \\frac{4 y_{\\alpha}^{4}}{3} - \\frac{7 y_{\\beta}^{4}}{4}\\right)^{3}}{27}} + \\frac{\\left(3 x_{\\beta}^{2} + 2 y_{\\alpha}^{2} - 3 y_{\\beta}^{2}\\right)^{3}}{216} - \\frac{\\left(3 x_{\\beta}^{2} + 2 y_{\\alpha}^{2} - 3 y_{\\beta}^{2}\\right) \\left(x_{\\beta}^{4} - 3 x_{\\beta}^{2} y_{\\alpha}^{2} + 2 x_{\\beta}^{2} y_{\\beta}^{2} + y_{\\alpha}^{4} + y_{\\alpha}^{2} y_{\\beta}^{2} + y_{\\beta}^{4}\\right)}{6}}}}}{2} & \\text{otherwise} \\end{cases}\\right\\}$"
      ],
      "text/plain": [
       "{Piecewise((-sqrt(-2*x_beta**2 - 4*y_alpha**2/3 + 2*y_beta**2 - 2*(-x_beta**2*y_alpha**2*y_beta**2/2 - (3*x_beta**2 + 2*y_alpha**2 - 3*y_beta**2)**3/108 + (3*x_beta**2 + 2*y_alpha**2 - 3*y_beta**2)*(x_beta**4 - 3*x_beta**2*y_alpha**2 + 2*x_beta**2*y_beta**2 + y_alpha**4 + y_alpha**2*y_beta**2 + y_beta**4)/3)**(1/3))/2 - sqrt(-4*x_beta**2 + 4*x_beta*y_alpha*y_beta/sqrt(-2*x_beta**2 - 4*y_alpha**2/3 + 2*y_beta**2 - 2*(-x_beta**2*y_alpha**2*y_beta**2/2 - (3*x_beta**2 + 2*y_alpha**2 - 3*y_beta**2)**3/108 + (3*x_beta**2 + 2*y_alpha**2 - 3*y_beta**2)*(x_beta**4 - 3*x_beta**2*y_alpha**2 + 2*x_beta**2*y_beta**2 + y_alpha**4 + y_alpha**2*y_beta**2 + y_beta**4)/3)**(1/3)) - 8*y_alpha**2/3 + 4*y_beta**2 + 2*(-x_beta**2*y_alpha**2*y_beta**2/2 - (3*x_beta**2 + 2*y_alpha**2 - 3*y_beta**2)**3/108 + (3*x_beta**2 + 2*y_alpha**2 - 3*y_beta**2)*(x_beta**4 - 3*x_beta**2*y_alpha**2 + 2*x_beta**2*y_beta**2 + y_alpha**4 + y_alpha**2*y_beta**2 + y_beta**4)/3)**(1/3))/2, Eq(7*x_beta**4/4 - 2*x_beta**2*y_alpha**2 + x_beta**2*y_beta**2/2 + 4*y_alpha**4/3 + 7*y_beta**4/4, 0)), (-sqrt(-2*x_beta**2 - 4*y_alpha**2/3 + 2*y_beta**2 + 2*(x_beta**2*y_alpha**2*y_beta**2/4 + sqrt((-x_beta**2*y_alpha**2*y_beta**2/2 - (3*x_beta**2 + 2*y_alpha**2 - 3*y_beta**2)**3/108 + (3*x_beta**2 + 2*y_alpha**2 - 3*y_beta**2)*(x_beta**4 - 3*x_beta**2*y_alpha**2 + 2*x_beta**2*y_beta**2 + y_alpha**4 + y_alpha**2*y_beta**2 + y_beta**4)/3)**2/4 + (-7*x_beta**4/4 + 2*x_beta**2*y_alpha**2 - x_beta**2*y_beta**2/2 - 4*y_alpha**4/3 - 7*y_beta**4/4)**3/27) + (3*x_beta**2 + 2*y_alpha**2 - 3*y_beta**2)**3/216 - (3*x_beta**2 + 2*y_alpha**2 - 3*y_beta**2)*(x_beta**4 - 3*x_beta**2*y_alpha**2 + 2*x_beta**2*y_beta**2 + y_alpha**4 + y_alpha**2*y_beta**2 + y_beta**4)/6)**(1/3) - 2*(-7*x_beta**4/4 + 2*x_beta**2*y_alpha**2 - x_beta**2*y_beta**2/2 - 4*y_alpha**4/3 - 7*y_beta**4/4)/(3*(x_beta**2*y_alpha**2*y_beta**2/4 + sqrt((-x_beta**2*y_alpha**2*y_beta**2/2 - (3*x_beta**2 + 2*y_alpha**2 - 3*y_beta**2)**3/108 + (3*x_beta**2 + 2*y_alpha**2 - 3*y_beta**2)*(x_beta**4 - 3*x_beta**2*y_alpha**2 + 2*x_beta**2*y_beta**2 + y_alpha**4 + y_alpha**2*y_beta**2 + y_beta**4)/3)**2/4 + (-7*x_beta**4/4 + 2*x_beta**2*y_alpha**2 - x_beta**2*y_beta**2/2 - 4*y_alpha**4/3 - 7*y_beta**4/4)**3/27) + (3*x_beta**2 + 2*y_alpha**2 - 3*y_beta**2)**3/216 - (3*x_beta**2 + 2*y_alpha**2 - 3*y_beta**2)*(x_beta**4 - 3*x_beta**2*y_alpha**2 + 2*x_beta**2*y_beta**2 + y_alpha**4 + y_alpha**2*y_beta**2 + y_beta**4)/6)**(1/3)))/2 - sqrt(-4*x_beta**2 + 4*x_beta*y_alpha*y_beta/sqrt(-2*x_beta**2 - 4*y_alpha**2/3 + 2*y_beta**2 + 2*(x_beta**2*y_alpha**2*y_beta**2/4 + sqrt((-x_beta**2*y_alpha**2*y_beta**2/2 - (3*x_beta**2 + 2*y_alpha**2 - 3*y_beta**2)**3/108 + (3*x_beta**2 + 2*y_alpha**2 - 3*y_beta**2)*(x_beta**4 - 3*x_beta**2*y_alpha**2 + 2*x_beta**2*y_beta**2 + y_alpha**4 + y_alpha**2*y_beta**2 + y_beta**4)/3)**2/4 + (-7*x_beta**4/4 + 2*x_beta**2*y_alpha**2 - x_beta**2*y_beta**2/2 - 4*y_alpha**4/3 - 7*y_beta**4/4)**3/27) + (3*x_beta**2 + 2*y_alpha**2 - 3*y_beta**2)**3/216 - (3*x_beta**2 + 2*y_alpha**2 - 3*y_beta**2)*(x_beta**4 - 3*x_beta**2*y_alpha**2 + 2*x_beta**2*y_beta**2 + y_alpha**4 + y_alpha**2*y_beta**2 + y_beta**4)/6)**(1/3) - 2*(-7*x_beta**4/4 + 2*x_beta**2*y_alpha**2 - x_beta**2*y_beta**2/2 - 4*y_alpha**4/3 - 7*y_beta**4/4)/(3*(x_beta**2*y_alpha**2*y_beta**2/4 + sqrt((-x_beta**2*y_alpha**2*y_beta**2/2 - (3*x_beta**2 + 2*y_alpha**2 - 3*y_beta**2)**3/108 + (3*x_beta**2 + 2*y_alpha**2 - 3*y_beta**2)*(x_beta**4 - 3*x_beta**2*y_alpha**2 + 2*x_beta**2*y_beta**2 + y_alpha**4 + y_alpha**2*y_beta**2 + y_beta**4)/3)**2/4 + (-7*x_beta**4/4 + 2*x_beta**2*y_alpha**2 - x_beta**2*y_beta**2/2 - 4*y_alpha**4/3 - 7*y_beta**4/4)**3/27) + (3*x_beta**2 + 2*y_alpha**2 - 3*y_beta**2)**3/216 - (3*x_beta**2 + 2*y_alpha**2 - 3*y_beta**2)*(x_beta**4 - 3*x_beta**2*y_alpha**2 + 2*x_beta**2*y_beta**2 + y_alpha**4 + y_alpha**2*y_beta**2 + y_beta**4)/6)**(1/3))) - 8*y_alpha**2/3 + 4*y_beta**2 - 2*(x_beta**2*y_alpha**2*y_beta**2/4 + sqrt((-x_beta**2*y_alpha**2*y_beta**2/2 - (3*x_beta**2 + 2*y_alpha**2 - 3*y_beta**2)**3/108 + (3*x_beta**2 + 2*y_alpha**2 - 3*y_beta**2)*(x_beta**4 - 3*x_beta**2*y_alpha**2 + 2*x_beta**2*y_beta**2 + y_alpha**4 + y_alpha**2*y_beta**2 + y_beta**4)/3)**2/4 + (-7*x_beta**4/4 + 2*x_beta**2*y_alpha**2 - x_beta**2*y_beta**2/2 - 4*y_alpha**4/3 - 7*y_beta**4/4)**3/27) + (3*x_beta**2 + 2*y_alpha**2 - 3*y_beta**2)**3/216 - (3*x_beta**2 + 2*y_alpha**2 - 3*y_beta**2)*(x_beta**4 - 3*x_beta**2*y_alpha**2 + 2*x_beta**2*y_beta**2 + y_alpha**4 + y_alpha**2*y_beta**2 + y_beta**4)/6)**(1/3) + 2*(-7*x_beta**4/4 + 2*x_beta**2*y_alpha**2 - x_beta**2*y_beta**2/2 - 4*y_alpha**4/3 - 7*y_beta**4/4)/(3*(x_beta**2*y_alpha**2*y_beta**2/4 + sqrt((-x_beta**2*y_alpha**2*y_beta**2/2 - (3*x_beta**2 + 2*y_alpha**2 - 3*y_beta**2)**3/108 + (3*x_beta**2 + 2*y_alpha**2 - 3*y_beta**2)*(x_beta**4 - 3*x_beta**2*y_alpha**2 + 2*x_beta**2*y_beta**2 + y_alpha**4 + y_alpha**2*y_beta**2 + y_beta**4)/3)**2/4 + (-7*x_beta**4/4 + 2*x_beta**2*y_alpha**2 - x_beta**2*y_beta**2/2 - 4*y_alpha**4/3 - 7*y_beta**4/4)**3/27) + (3*x_beta**2 + 2*y_alpha**2 - 3*y_beta**2)**3/216 - (3*x_beta**2 + 2*y_alpha**2 - 3*y_beta**2)*(x_beta**4 - 3*x_beta**2*y_alpha**2 + 2*x_beta**2*y_beta**2 + y_alpha**4 + y_alpha**2*y_beta**2 + y_beta**4)/6)**(1/3)))/2, True)), Piecewise((-sqrt(-2*x_beta**2 - 4*y_alpha**2/3 + 2*y_beta**2 - 2*(-x_beta**2*y_alpha**2*y_beta**2/2 - (3*x_beta**2 + 2*y_alpha**2 - 3*y_beta**2)**3/108 + (3*x_beta**2 + 2*y_alpha**2 - 3*y_beta**2)*(x_beta**4 - 3*x_beta**2*y_alpha**2 + 2*x_beta**2*y_beta**2 + y_alpha**4 + y_alpha**2*y_beta**2 + y_beta**4)/3)**(1/3))/2 + sqrt(-4*x_beta**2 + 4*x_beta*y_alpha*y_beta/sqrt(-2*x_beta**2 - 4*y_alpha**2/3 + 2*y_beta**2 - 2*(-x_beta**2*y_alpha**2*y_beta**2/2 - (3*x_beta**2 + 2*y_alpha**2 - 3*y_beta**2)**3/108 + (3*x_beta**2 + 2*y_alpha**2 - 3*y_beta**2)*(x_beta**4 - 3*x_beta**2*y_alpha**2 + 2*x_beta**2*y_beta**2 + y_alpha**4 + y_alpha**2*y_beta**2 + y_beta**4)/3)**(1/3)) - 8*y_alpha**2/3 + 4*y_beta**2 + 2*(-x_beta**2*y_alpha**2*y_beta**2/2 - (3*x_beta**2 + 2*y_alpha**2 - 3*y_beta**2)**3/108 + (3*x_beta**2 + 2*y_alpha**2 - 3*y_beta**2)*(x_beta**4 - 3*x_beta**2*y_alpha**2 + 2*x_beta**2*y_beta**2 + y_alpha**4 + y_alpha**2*y_beta**2 + y_beta**4)/3)**(1/3))/2, Eq(7*x_beta**4/4 - 2*x_beta**2*y_alpha**2 + x_beta**2*y_beta**2/2 + 4*y_alpha**4/3 + 7*y_beta**4/4, 0)), (-sqrt(-2*x_beta**2 - 4*y_alpha**2/3 + 2*y_beta**2 + 2*(x_beta**2*y_alpha**2*y_beta**2/4 + sqrt((-x_beta**2*y_alpha**2*y_beta**2/2 - (3*x_beta**2 + 2*y_alpha**2 - 3*y_beta**2)**3/108 + (3*x_beta**2 + 2*y_alpha**2 - 3*y_beta**2)*(x_beta**4 - 3*x_beta**2*y_alpha**2 + 2*x_beta**2*y_beta**2 + y_alpha**4 + y_alpha**2*y_beta**2 + y_beta**4)/3)**2/4 + (-7*x_beta**4/4 + 2*x_beta**2*y_alpha**2 - x_beta**2*y_beta**2/2 - 4*y_alpha**4/3 - 7*y_beta**4/4)**3/27) + (3*x_beta**2 + 2*y_alpha**2 - 3*y_beta**2)**3/216 - (3*x_beta**2 + 2*y_alpha**2 - 3*y_beta**2)*(x_beta**4 - 3*x_beta**2*y_alpha**2 + 2*x_beta**2*y_beta**2 + y_alpha**4 + y_alpha**2*y_beta**2 + y_beta**4)/6)**(1/3) - 2*(-7*x_beta**4/4 + 2*x_beta**2*y_alpha**2 - x_beta**2*y_beta**2/2 - 4*y_alpha**4/3 - 7*y_beta**4/4)/(3*(x_beta**2*y_alpha**2*y_beta**2/4 + sqrt((-x_beta**2*y_alpha**2*y_beta**2/2 - (3*x_beta**2 + 2*y_alpha**2 - 3*y_beta**2)**3/108 + (3*x_beta**2 + 2*y_alpha**2 - 3*y_beta**2)*(x_beta**4 - 3*x_beta**2*y_alpha**2 + 2*x_beta**2*y_beta**2 + y_alpha**4 + y_alpha**2*y_beta**2 + y_beta**4)/3)**2/4 + (-7*x_beta**4/4 + 2*x_beta**2*y_alpha**2 - x_beta**2*y_beta**2/2 - 4*y_alpha**4/3 - 7*y_beta**4/4)**3/27) + (3*x_beta**2 + 2*y_alpha**2 - 3*y_beta**2)**3/216 - (3*x_beta**2 + 2*y_alpha**2 - 3*y_beta**2)*(x_beta**4 - 3*x_beta**2*y_alpha**2 + 2*x_beta**2*y_beta**2 + y_alpha**4 + y_alpha**2*y_beta**2 + y_beta**4)/6)**(1/3)))/2 + sqrt(-4*x_beta**2 + 4*x_beta*y_alpha*y_beta/sqrt(-2*x_beta**2 - 4*y_alpha**2/3 + 2*y_beta**2 + 2*(x_beta**2*y_alpha**2*y_beta**2/4 + sqrt((-x_beta**2*y_alpha**2*y_beta**2/2 - (3*x_beta**2 + 2*y_alpha**2 - 3*y_beta**2)**3/108 + (3*x_beta**2 + 2*y_alpha**2 - 3*y_beta**2)*(x_beta**4 - 3*x_beta**2*y_alpha**2 + 2*x_beta**2*y_beta**2 + y_alpha**4 + y_alpha**2*y_beta**2 + y_beta**4)/3)**2/4 + (-7*x_beta**4/4 + 2*x_beta**2*y_alpha**2 - x_beta**2*y_beta**2/2 - 4*y_alpha**4/3 - 7*y_beta**4/4)**3/27) + (3*x_beta**2 + 2*y_alpha**2 - 3*y_beta**2)**3/216 - (3*x_beta**2 + 2*y_alpha**2 - 3*y_beta**2)*(x_beta**4 - 3*x_beta**2*y_alpha**2 + 2*x_beta**2*y_beta**2 + y_alpha**4 + y_alpha**2*y_beta**2 + y_beta**4)/6)**(1/3) - 2*(-7*x_beta**4/4 + 2*x_beta**2*y_alpha**2 - x_beta**2*y_beta**2/2 - 4*y_alpha**4/3 - 7*y_beta**4/4)/(3*(x_beta**2*y_alpha**2*y_beta**2/4 + sqrt((-x_beta**2*y_alpha**2*y_beta**2/2 - (3*x_beta**2 + 2*y_alpha**2 - 3*y_beta**2)**3/108 + (3*x_beta**2 + 2*y_alpha**2 - 3*y_beta**2)*(x_beta**4 - 3*x_beta**2*y_alpha**2 + 2*x_beta**2*y_beta**2 + y_alpha**4 + y_alpha**2*y_beta**2 + y_beta**4)/3)**2/4 + (-7*x_beta**4/4 + 2*x_beta**2*y_alpha**2 - x_beta**2*y_beta**2/2 - 4*y_alpha**4/3 - 7*y_beta**4/4)**3/27) + (3*x_beta**2 + 2*y_alpha**2 - 3*y_beta**2)**3/216 - (3*x_beta**2 + 2*y_alpha**2 - 3*y_beta**2)*(x_beta**4 - 3*x_beta**2*y_alpha**2 + 2*x_beta**2*y_beta**2 + y_alpha**4 + y_alpha**2*y_beta**2 + y_beta**4)/6)**(1/3))) - 8*y_alpha**2/3 + 4*y_beta**2 - 2*(x_beta**2*y_alpha**2*y_beta**2/4 + sqrt((-x_beta**2*y_alpha**2*y_beta**2/2 - (3*x_beta**2 + 2*y_alpha**2 - 3*y_beta**2)**3/108 + (3*x_beta**2 + 2*y_alpha**2 - 3*y_beta**2)*(x_beta**4 - 3*x_beta**2*y_alpha**2 + 2*x_beta**2*y_beta**2 + y_alpha**4 + y_alpha**2*y_beta**2 + y_beta**4)/3)**2/4 + (-7*x_beta**4/4 + 2*x_beta**2*y_alpha**2 - x_beta**2*y_beta**2/2 - 4*y_alpha**4/3 - 7*y_beta**4/4)**3/27) + (3*x_beta**2 + 2*y_alpha**2 - 3*y_beta**2)**3/216 - (3*x_beta**2 + 2*y_alpha**2 - 3*y_beta**2)*(x_beta**4 - 3*x_beta**2*y_alpha**2 + 2*x_beta**2*y_beta**2 + y_alpha**4 + y_alpha**2*y_beta**2 + y_beta**4)/6)**(1/3) + 2*(-7*x_beta**4/4 + 2*x_beta**2*y_alpha**2 - x_beta**2*y_beta**2/2 - 4*y_alpha**4/3 - 7*y_beta**4/4)/(3*(x_beta**2*y_alpha**2*y_beta**2/4 + sqrt((-x_beta**2*y_alpha**2*y_beta**2/2 - (3*x_beta**2 + 2*y_alpha**2 - 3*y_beta**2)**3/108 + (3*x_beta**2 + 2*y_alpha**2 - 3*y_beta**2)*(x_beta**4 - 3*x_beta**2*y_alpha**2 + 2*x_beta**2*y_beta**2 + y_alpha**4 + y_alpha**2*y_beta**2 + y_beta**4)/3)**2/4 + (-7*x_beta**4/4 + 2*x_beta**2*y_alpha**2 - x_beta**2*y_beta**2/2 - 4*y_alpha**4/3 - 7*y_beta**4/4)**3/27) + (3*x_beta**2 + 2*y_alpha**2 - 3*y_beta**2)**3/216 - (3*x_beta**2 + 2*y_alpha**2 - 3*y_beta**2)*(x_beta**4 - 3*x_beta**2*y_alpha**2 + 2*x_beta**2*y_beta**2 + y_alpha**4 + y_alpha**2*y_beta**2 + y_beta**4)/6)**(1/3)))/2, True)), Piecewise((sqrt(-2*x_beta**2 - 4*y_alpha**2/3 + 2*y_beta**2 - 2*(-x_beta**2*y_alpha**2*y_beta**2/2 - (3*x_beta**2 + 2*y_alpha**2 - 3*y_beta**2)**3/108 + (3*x_beta**2 + 2*y_alpha**2 - 3*y_beta**2)*(x_beta**4 - 3*x_beta**2*y_alpha**2 + 2*x_beta**2*y_beta**2 + y_alpha**4 + y_alpha**2*y_beta**2 + y_beta**4)/3)**(1/3))/2 - sqrt(-4*x_beta**2 - 4*x_beta*y_alpha*y_beta/sqrt(-2*x_beta**2 - 4*y_alpha**2/3 + 2*y_beta**2 - 2*(-x_beta**2*y_alpha**2*y_beta**2/2 - (3*x_beta**2 + 2*y_alpha**2 - 3*y_beta**2)**3/108 + (3*x_beta**2 + 2*y_alpha**2 - 3*y_beta**2)*(x_beta**4 - 3*x_beta**2*y_alpha**2 + 2*x_beta**2*y_beta**2 + y_alpha**4 + y_alpha**2*y_beta**2 + y_beta**4)/3)**(1/3)) - 8*y_alpha**2/3 + 4*y_beta**2 + 2*(-x_beta**2*y_alpha**2*y_beta**2/2 - (3*x_beta**2 + 2*y_alpha**2 - 3*y_beta**2)**3/108 + (3*x_beta**2 + 2*y_alpha**2 - 3*y_beta**2)*(x_beta**4 - 3*x_beta**2*y_alpha**2 + 2*x_beta**2*y_beta**2 + y_alpha**4 + y_alpha**2*y_beta**2 + y_beta**4)/3)**(1/3))/2, Eq(7*x_beta**4/4 - 2*x_beta**2*y_alpha**2 + x_beta**2*y_beta**2/2 + 4*y_alpha**4/3 + 7*y_beta**4/4, 0)), (sqrt(-2*x_beta**2 - 4*y_alpha**2/3 + 2*y_beta**2 + 2*(x_beta**2*y_alpha**2*y_beta**2/4 + sqrt((-x_beta**2*y_alpha**2*y_beta**2/2 - (3*x_beta**2 + 2*y_alpha**2 - 3*y_beta**2)**3/108 + (3*x_beta**2 + 2*y_alpha**2 - 3*y_beta**2)*(x_beta**4 - 3*x_beta**2*y_alpha**2 + 2*x_beta**2*y_beta**2 + y_alpha**4 + y_alpha**2*y_beta**2 + y_beta**4)/3)**2/4 + (-7*x_beta**4/4 + 2*x_beta**2*y_alpha**2 - x_beta**2*y_beta**2/2 - 4*y_alpha**4/3 - 7*y_beta**4/4)**3/27) + (3*x_beta**2 + 2*y_alpha**2 - 3*y_beta**2)**3/216 - (3*x_beta**2 + 2*y_alpha**2 - 3*y_beta**2)*(x_beta**4 - 3*x_beta**2*y_alpha**2 + 2*x_beta**2*y_beta**2 + y_alpha**4 + y_alpha**2*y_beta**2 + y_beta**4)/6)**(1/3) - 2*(-7*x_beta**4/4 + 2*x_beta**2*y_alpha**2 - x_beta**2*y_beta**2/2 - 4*y_alpha**4/3 - 7*y_beta**4/4)/(3*(x_beta**2*y_alpha**2*y_beta**2/4 + sqrt((-x_beta**2*y_alpha**2*y_beta**2/2 - (3*x_beta**2 + 2*y_alpha**2 - 3*y_beta**2)**3/108 + (3*x_beta**2 + 2*y_alpha**2 - 3*y_beta**2)*(x_beta**4 - 3*x_beta**2*y_alpha**2 + 2*x_beta**2*y_beta**2 + y_alpha**4 + y_alpha**2*y_beta**2 + y_beta**4)/3)**2/4 + (-7*x_beta**4/4 + 2*x_beta**2*y_alpha**2 - x_beta**2*y_beta**2/2 - 4*y_alpha**4/3 - 7*y_beta**4/4)**3/27) + (3*x_beta**2 + 2*y_alpha**2 - 3*y_beta**2)**3/216 - (3*x_beta**2 + 2*y_alpha**2 - 3*y_beta**2)*(x_beta**4 - 3*x_beta**2*y_alpha**2 + 2*x_beta**2*y_beta**2 + y_alpha**4 + y_alpha**2*y_beta**2 + y_beta**4)/6)**(1/3)))/2 - sqrt(-4*x_beta**2 - 4*x_beta*y_alpha*y_beta/sqrt(-2*x_beta**2 - 4*y_alpha**2/3 + 2*y_beta**2 + 2*(x_beta**2*y_alpha**2*y_beta**2/4 + sqrt((-x_beta**2*y_alpha**2*y_beta**2/2 - (3*x_beta**2 + 2*y_alpha**2 - 3*y_beta**2)**3/108 + (3*x_beta**2 + 2*y_alpha**2 - 3*y_beta**2)*(x_beta**4 - 3*x_beta**2*y_alpha**2 + 2*x_beta**2*y_beta**2 + y_alpha**4 + y_alpha**2*y_beta**2 + y_beta**4)/3)**2/4 + (-7*x_beta**4/4 + 2*x_beta**2*y_alpha**2 - x_beta**2*y_beta**2/2 - 4*y_alpha**4/3 - 7*y_beta**4/4)**3/27) + (3*x_beta**2 + 2*y_alpha**2 - 3*y_beta**2)**3/216 - (3*x_beta**2 + 2*y_alpha**2 - 3*y_beta**2)*(x_beta**4 - 3*x_beta**2*y_alpha**2 + 2*x_beta**2*y_beta**2 + y_alpha**4 + y_alpha**2*y_beta**2 + y_beta**4)/6)**(1/3) - 2*(-7*x_beta**4/4 + 2*x_beta**2*y_alpha**2 - x_beta**2*y_beta**2/2 - 4*y_alpha**4/3 - 7*y_beta**4/4)/(3*(x_beta**2*y_alpha**2*y_beta**2/4 + sqrt((-x_beta**2*y_alpha**2*y_beta**2/2 - (3*x_beta**2 + 2*y_alpha**2 - 3*y_beta**2)**3/108 + (3*x_beta**2 + 2*y_alpha**2 - 3*y_beta**2)*(x_beta**4 - 3*x_beta**2*y_alpha**2 + 2*x_beta**2*y_beta**2 + y_alpha**4 + y_alpha**2*y_beta**2 + y_beta**4)/3)**2/4 + (-7*x_beta**4/4 + 2*x_beta**2*y_alpha**2 - x_beta**2*y_beta**2/2 - 4*y_alpha**4/3 - 7*y_beta**4/4)**3/27) + (3*x_beta**2 + 2*y_alpha**2 - 3*y_beta**2)**3/216 - (3*x_beta**2 + 2*y_alpha**2 - 3*y_beta**2)*(x_beta**4 - 3*x_beta**2*y_alpha**2 + 2*x_beta**2*y_beta**2 + y_alpha**4 + y_alpha**2*y_beta**2 + y_beta**4)/6)**(1/3))) - 8*y_alpha**2/3 + 4*y_beta**2 - 2*(x_beta**2*y_alpha**2*y_beta**2/4 + sqrt((-x_beta**2*y_alpha**2*y_beta**2/2 - (3*x_beta**2 + 2*y_alpha**2 - 3*y_beta**2)**3/108 + (3*x_beta**2 + 2*y_alpha**2 - 3*y_beta**2)*(x_beta**4 - 3*x_beta**2*y_alpha**2 + 2*x_beta**2*y_beta**2 + y_alpha**4 + y_alpha**2*y_beta**2 + y_beta**4)/3)**2/4 + (-7*x_beta**4/4 + 2*x_beta**2*y_alpha**2 - x_beta**2*y_beta**2/2 - 4*y_alpha**4/3 - 7*y_beta**4/4)**3/27) + (3*x_beta**2 + 2*y_alpha**2 - 3*y_beta**2)**3/216 - (3*x_beta**2 + 2*y_alpha**2 - 3*y_beta**2)*(x_beta**4 - 3*x_beta**2*y_alpha**2 + 2*x_beta**2*y_beta**2 + y_alpha**4 + y_alpha**2*y_beta**2 + y_beta**4)/6)**(1/3) + 2*(-7*x_beta**4/4 + 2*x_beta**2*y_alpha**2 - x_beta**2*y_beta**2/2 - 4*y_alpha**4/3 - 7*y_beta**4/4)/(3*(x_beta**2*y_alpha**2*y_beta**2/4 + sqrt((-x_beta**2*y_alpha**2*y_beta**2/2 - (3*x_beta**2 + 2*y_alpha**2 - 3*y_beta**2)**3/108 + (3*x_beta**2 + 2*y_alpha**2 - 3*y_beta**2)*(x_beta**4 - 3*x_beta**2*y_alpha**2 + 2*x_beta**2*y_beta**2 + y_alpha**4 + y_alpha**2*y_beta**2 + y_beta**4)/3)**2/4 + (-7*x_beta**4/4 + 2*x_beta**2*y_alpha**2 - x_beta**2*y_beta**2/2 - 4*y_alpha**4/3 - 7*y_beta**4/4)**3/27) + (3*x_beta**2 + 2*y_alpha**2 - 3*y_beta**2)**3/216 - (3*x_beta**2 + 2*y_alpha**2 - 3*y_beta**2)*(x_beta**4 - 3*x_beta**2*y_alpha**2 + 2*x_beta**2*y_beta**2 + y_alpha**4 + y_alpha**2*y_beta**2 + y_beta**4)/6)**(1/3)))/2, True)), Piecewise((sqrt(-2*x_beta**2 - 4*y_alpha**2/3 + 2*y_beta**2 - 2*(-x_beta**2*y_alpha**2*y_beta**2/2 - (3*x_beta**2 + 2*y_alpha**2 - 3*y_beta**2)**3/108 + (3*x_beta**2 + 2*y_alpha**2 - 3*y_beta**2)*(x_beta**4 - 3*x_beta**2*y_alpha**2 + 2*x_beta**2*y_beta**2 + y_alpha**4 + y_alpha**2*y_beta**2 + y_beta**4)/3)**(1/3))/2 + sqrt(-4*x_beta**2 - 4*x_beta*y_alpha*y_beta/sqrt(-2*x_beta**2 - 4*y_alpha**2/3 + 2*y_beta**2 - 2*(-x_beta**2*y_alpha**2*y_beta**2/2 - (3*x_beta**2 + 2*y_alpha**2 - 3*y_beta**2)**3/108 + (3*x_beta**2 + 2*y_alpha**2 - 3*y_beta**2)*(x_beta**4 - 3*x_beta**2*y_alpha**2 + 2*x_beta**2*y_beta**2 + y_alpha**4 + y_alpha**2*y_beta**2 + y_beta**4)/3)**(1/3)) - 8*y_alpha**2/3 + 4*y_beta**2 + 2*(-x_beta**2*y_alpha**2*y_beta**2/2 - (3*x_beta**2 + 2*y_alpha**2 - 3*y_beta**2)**3/108 + (3*x_beta**2 + 2*y_alpha**2 - 3*y_beta**2)*(x_beta**4 - 3*x_beta**2*y_alpha**2 + 2*x_beta**2*y_beta**2 + y_alpha**4 + y_alpha**2*y_beta**2 + y_beta**4)/3)**(1/3))/2, Eq(7*x_beta**4/4 - 2*x_beta**2*y_alpha**2 + x_beta**2*y_beta**2/2 + 4*y_alpha**4/3 + 7*y_beta**4/4, 0)), (sqrt(-2*x_beta**2 - 4*y_alpha**2/3 + 2*y_beta**2 + 2*(x_beta**2*y_alpha**2*y_beta**2/4 + sqrt((-x_beta**2*y_alpha**2*y_beta**2/2 - (3*x_beta**2 + 2*y_alpha**2 - 3*y_beta**2)**3/108 + (3*x_beta**2 + 2*y_alpha**2 - 3*y_beta**2)*(x_beta**4 - 3*x_beta**2*y_alpha**2 + 2*x_beta**2*y_beta**2 + y_alpha**4 + y_alpha**2*y_beta**2 + y_beta**4)/3)**2/4 + (-7*x_beta**4/4 + 2*x_beta**2*y_alpha**2 - x_beta**2*y_beta**2/2 - 4*y_alpha**4/3 - 7*y_beta**4/4)**3/27) + (3*x_beta**2 + 2*y_alpha**2 - 3*y_beta**2)**3/216 - (3*x_beta**2 + 2*y_alpha**2 - 3*y_beta**2)*(x_beta**4 - 3*x_beta**2*y_alpha**2 + 2*x_beta**2*y_beta**2 + y_alpha**4 + y_alpha**2*y_beta**2 + y_beta**4)/6)**(1/3) - 2*(-7*x_beta**4/4 + 2*x_beta**2*y_alpha**2 - x_beta**2*y_beta**2/2 - 4*y_alpha**4/3 - 7*y_beta**4/4)/(3*(x_beta**2*y_alpha**2*y_beta**2/4 + sqrt((-x_beta**2*y_alpha**2*y_beta**2/2 - (3*x_beta**2 + 2*y_alpha**2 - 3*y_beta**2)**3/108 + (3*x_beta**2 + 2*y_alpha**2 - 3*y_beta**2)*(x_beta**4 - 3*x_beta**2*y_alpha**2 + 2*x_beta**2*y_beta**2 + y_alpha**4 + y_alpha**2*y_beta**2 + y_beta**4)/3)**2/4 + (-7*x_beta**4/4 + 2*x_beta**2*y_alpha**2 - x_beta**2*y_beta**2/2 - 4*y_alpha**4/3 - 7*y_beta**4/4)**3/27) + (3*x_beta**2 + 2*y_alpha**2 - 3*y_beta**2)**3/216 - (3*x_beta**2 + 2*y_alpha**2 - 3*y_beta**2)*(x_beta**4 - 3*x_beta**2*y_alpha**2 + 2*x_beta**2*y_beta**2 + y_alpha**4 + y_alpha**2*y_beta**2 + y_beta**4)/6)**(1/3)))/2 + sqrt(-4*x_beta**2 - 4*x_beta*y_alpha*y_beta/sqrt(-2*x_beta**2 - 4*y_alpha**2/3 + 2*y_beta**2 + 2*(x_beta**2*y_alpha**2*y_beta**2/4 + sqrt((-x_beta**2*y_alpha**2*y_beta**2/2 - (3*x_beta**2 + 2*y_alpha**2 - 3*y_beta**2)**3/108 + (3*x_beta**2 + 2*y_alpha**2 - 3*y_beta**2)*(x_beta**4 - 3*x_beta**2*y_alpha**2 + 2*x_beta**2*y_beta**2 + y_alpha**4 + y_alpha**2*y_beta**2 + y_beta**4)/3)**2/4 + (-7*x_beta**4/4 + 2*x_beta**2*y_alpha**2 - x_beta**2*y_beta**2/2 - 4*y_alpha**4/3 - 7*y_beta**4/4)**3/27) + (3*x_beta**2 + 2*y_alpha**2 - 3*y_beta**2)**3/216 - (3*x_beta**2 + 2*y_alpha**2 - 3*y_beta**2)*(x_beta**4 - 3*x_beta**2*y_alpha**2 + 2*x_beta**2*y_beta**2 + y_alpha**4 + y_alpha**2*y_beta**2 + y_beta**4)/6)**(1/3) - 2*(-7*x_beta**4/4 + 2*x_beta**2*y_alpha**2 - x_beta**2*y_beta**2/2 - 4*y_alpha**4/3 - 7*y_beta**4/4)/(3*(x_beta**2*y_alpha**2*y_beta**2/4 + sqrt((-x_beta**2*y_alpha**2*y_beta**2/2 - (3*x_beta**2 + 2*y_alpha**2 - 3*y_beta**2)**3/108 + (3*x_beta**2 + 2*y_alpha**2 - 3*y_beta**2)*(x_beta**4 - 3*x_beta**2*y_alpha**2 + 2*x_beta**2*y_beta**2 + y_alpha**4 + y_alpha**2*y_beta**2 + y_beta**4)/3)**2/4 + (-7*x_beta**4/4 + 2*x_beta**2*y_alpha**2 - x_beta**2*y_beta**2/2 - 4*y_alpha**4/3 - 7*y_beta**4/4)**3/27) + (3*x_beta**2 + 2*y_alpha**2 - 3*y_beta**2)**3/216 - (3*x_beta**2 + 2*y_alpha**2 - 3*y_beta**2)*(x_beta**4 - 3*x_beta**2*y_alpha**2 + 2*x_beta**2*y_beta**2 + y_alpha**4 + y_alpha**2*y_beta**2 + y_beta**4)/6)**(1/3))) - 8*y_alpha**2/3 + 4*y_beta**2 - 2*(x_beta**2*y_alpha**2*y_beta**2/4 + sqrt((-x_beta**2*y_alpha**2*y_beta**2/2 - (3*x_beta**2 + 2*y_alpha**2 - 3*y_beta**2)**3/108 + (3*x_beta**2 + 2*y_alpha**2 - 3*y_beta**2)*(x_beta**4 - 3*x_beta**2*y_alpha**2 + 2*x_beta**2*y_beta**2 + y_alpha**4 + y_alpha**2*y_beta**2 + y_beta**4)/3)**2/4 + (-7*x_beta**4/4 + 2*x_beta**2*y_alpha**2 - x_beta**2*y_beta**2/2 - 4*y_alpha**4/3 - 7*y_beta**4/4)**3/27) + (3*x_beta**2 + 2*y_alpha**2 - 3*y_beta**2)**3/216 - (3*x_beta**2 + 2*y_alpha**2 - 3*y_beta**2)*(x_beta**4 - 3*x_beta**2*y_alpha**2 + 2*x_beta**2*y_beta**2 + y_alpha**4 + y_alpha**2*y_beta**2 + y_beta**4)/6)**(1/3) + 2*(-7*x_beta**4/4 + 2*x_beta**2*y_alpha**2 - x_beta**2*y_beta**2/2 - 4*y_alpha**4/3 - 7*y_beta**4/4)/(3*(x_beta**2*y_alpha**2*y_beta**2/4 + sqrt((-x_beta**2*y_alpha**2*y_beta**2/2 - (3*x_beta**2 + 2*y_alpha**2 - 3*y_beta**2)**3/108 + (3*x_beta**2 + 2*y_alpha**2 - 3*y_beta**2)*(x_beta**4 - 3*x_beta**2*y_alpha**2 + 2*x_beta**2*y_beta**2 + y_alpha**4 + y_alpha**2*y_beta**2 + y_beta**4)/3)**2/4 + (-7*x_beta**4/4 + 2*x_beta**2*y_alpha**2 - x_beta**2*y_beta**2/2 - 4*y_alpha**4/3 - 7*y_beta**4/4)**3/27) + (3*x_beta**2 + 2*y_alpha**2 - 3*y_beta**2)**3/216 - (3*x_beta**2 + 2*y_alpha**2 - 3*y_beta**2)*(x_beta**4 - 3*x_beta**2*y_alpha**2 + 2*x_beta**2*y_beta**2 + y_alpha**4 + y_alpha**2*y_beta**2 + y_beta**4)/6)**(1/3)))/2, True))}"
      ]
     },
     "execution_count": 64,
     "metadata": {},
     "output_type": "execute_result"
    }
   ],
   "source": [
    "mp.solveset(mp.Eq(func, 0), xa)"
   ]
  },
  {
   "cell_type": "markdown",
   "id": "27e560aa-0e71-4d8f-bd9e-a099af31f8b2",
   "metadata": {},
   "source": [
    "Можно воспользоваться аналогичным критерем для метода Зейделя:"
   ]
  },
  {
   "cell_type": "code",
   "execution_count": 65,
   "id": "b9022a48-13ac-4d53-a7d4-3dabfdfdceef",
   "metadata": {},
   "outputs": [
    {
     "data": {
      "text/latex": [
       "$\\displaystyle \\left[\\begin{matrix}\\alpha x & \\alpha & 0\\\\\\alpha x & \\beta x & \\beta\\\\0 & \\beta x & \\alpha x\\end{matrix}\\right]$"
      ],
      "text/plain": [
       "Matrix([\n",
       "[alpha*x,  alpha,       0],\n",
       "[alpha*x, beta*x,    beta],\n",
       "[      0, beta*x, alpha*x]])"
      ]
     },
     "execution_count": 65,
     "metadata": {},
     "output_type": "execute_result"
    }
   ],
   "source": [
    "import sympy as mp\n",
    "a, b, x = mp.symbols('alpha beta x')\n",
    "M = mp.Matrix([[a * x, a, 0], [a * x, b * x, b], [0, b * x, a * x]])\n",
    "M"
   ]
  },
  {
   "cell_type": "code",
   "execution_count": 66,
   "id": "48c141f3-4213-452d-a853-9827f41c4335",
   "metadata": {},
   "outputs": [
    {
     "data": {
      "text/latex": [
       "$\\displaystyle - \\alpha^{3} x^{2} + \\alpha^{2} \\beta x^{3} - \\alpha \\beta^{2} x^{2}$"
      ],
      "text/plain": [
       "-alpha**3*x**2 + alpha**2*beta*x**3 - alpha*beta**2*x**2"
      ]
     },
     "execution_count": 66,
     "metadata": {},
     "output_type": "execute_result"
    }
   ],
   "source": [
    "mp.det(M)"
   ]
  },
  {
   "cell_type": "code",
   "execution_count": 67,
   "id": "801bcfb5-0b96-46ef-ae2f-185d73cb4190",
   "metadata": {},
   "outputs": [
    {
     "data": {
      "text/latex": [
       "$\\displaystyle - \\alpha^{3} x^{2} + \\alpha^{2} \\beta x^{3} - \\alpha \\beta^{2} x^{2} = 0$"
      ],
      "text/plain": [
       "Eq(-alpha**3*x**2 + alpha**2*beta*x**3 - alpha*beta**2*x**2, 0)"
      ]
     },
     "execution_count": 67,
     "metadata": {},
     "output_type": "execute_result"
    }
   ],
   "source": [
    "eq = mp.Eq(mp.det(M), 0)\n",
    "eq"
   ]
  },
  {
   "cell_type": "code",
   "execution_count": 68,
   "id": "2896186e-c5e5-4e92-817f-fd0fbee6d64e",
   "metadata": {},
   "outputs": [
    {
     "data": {
      "text/latex": [
       "$\\displaystyle \\left\\{0, \\frac{\\alpha^{2} + \\beta^{2}}{\\alpha \\beta}\\right\\}$"
      ],
      "text/plain": [
       "{0, (alpha**2 + beta**2)/(alpha*beta)}"
      ]
     },
     "execution_count": 68,
     "metadata": {},
     "output_type": "execute_result"
    }
   ],
   "source": [
    "mp.solveset(eq, x)"
   ]
  },
  {
   "cell_type": "markdown",
   "id": "3556e275-b445-46c1-ac06-f44576ca5242",
   "metadata": {},
   "source": [
    "Получаем, что метод Якоби и Метод Зейделя в данном случае сходят в одной и той же области, в которой"
   ]
  },
  {
   "cell_type": "code",
   "execution_count": 74,
   "id": "e208efc6-227f-4bff-8636-1af7d85a3818",
   "metadata": {},
   "outputs": [
    {
     "data": {
      "text/latex": [
       "$\\displaystyle x_{\\alpha}^{4} + 3 x_{\\alpha}^{2} x_{\\beta}^{2} + 2 x_{\\alpha}^{2} y_{\\alpha}^{2} - 3 x_{\\alpha}^{2} y_{\\beta}^{2} + 2 x_{\\alpha} x_{\\beta} y_{\\alpha} y_{\\beta} + x_{\\beta}^{4} - 3 x_{\\beta}^{2} y_{\\alpha}^{2} + 2 x_{\\beta}^{2} y_{\\beta}^{2} + y_{\\alpha}^{4} + y_{\\alpha}^{2} y_{\\beta}^{2} + y_{\\beta}^{4} \\leq 0$"
      ],
      "text/plain": [
       "x_alpha**4 + 3*x_alpha**2*x_beta**2 + 2*x_alpha**2*y_alpha**2 - 3*x_alpha**2*y_beta**2 + 2*x_alpha*x_beta*y_alpha*y_beta + x_beta**4 - 3*x_beta**2*y_alpha**2 + 2*x_beta**2*y_beta**2 + y_alpha**4 + y_alpha**2*y_beta**2 + y_beta**4 <= 0"
      ]
     },
     "execution_count": 74,
     "metadata": {},
     "output_type": "execute_result"
    }
   ],
   "source": [
    "func <= 0"
   ]
  },
  {
   "cell_type": "markdown",
   "id": "55c9824d-813f-4299-ab07-b9ffc9e97495",
   "metadata": {},
   "source": [
    "#### 2*a) Реализуйте метод Ричардсона решения системы уравнений из задачи II.10.6д. Оптимальное значение параметра 𝜏 подобрать экспериментально, основываясь на оценке скорости сходимости метода на первых 10 итерациях. При помощи степенного метода поиска максимального по модулю собственного значения оцените число обусловенности матрицы системы. Используя оценку числа обусловенности, получить решение системы с относительной точностью $\\epsilon = 10^{−5}$."
   ]
  },
  {
   "cell_type": "markdown",
   "id": "42443891-db1b-47f7-bbd8-313fbd5a7f0c",
   "metadata": {},
   "source": [
    "Проинициализируем матрицу и вектор $B$"
   ]
  },
  {
   "cell_type": "code",
   "execution_count": 15,
   "id": "af72c157-e9f9-4b66-b306-ef3a7a3f5712",
   "metadata": {},
   "outputs": [
    {
     "data": {
      "text/latex": [
       "$\\displaystyle \\left[\\begin{array}{cccccccccccccccccccccccccccccccccccccccccccccccccccccccccccccccccccccccccccccccccccccccccccccccccccc}10 & 1 & 1 & 1 & 1 & 0 & 0 & 0 & 0 & 0 & 0 & 0 & 0 & 0 & 0 & 0 & 0 & 0 & 0 & 0 & 0 & 0 & 0 & 0 & 0 & 0 & 0 & 0 & 0 & 0 & 0 & 0 & 0 & 0 & 0 & 0 & 0 & 0 & 0 & 0 & 0 & 0 & 0 & 0 & 0 & 0 & 0 & 0 & 0 & 0 & 0 & 0 & 0 & 0 & 0 & 0 & 0 & 0 & 0 & 0 & 0 & 0 & 0 & 0 & 0 & 0 & 0 & 0 & 0 & 0 & 0 & 0 & 0 & 0 & 0 & 0 & 0 & 0 & 0 & 0 & 0 & 0 & 0 & 0 & 0 & 0 & 0 & 0 & 0 & 0 & 0 & 0 & 0 & 0 & 0 & 0 & 0 & 0 & 0 & 0\\\\1 & 10 & 1 & 1 & 1 & 1 & 0 & 0 & 0 & 0 & 0 & 0 & 0 & 0 & 0 & 0 & 0 & 0 & 0 & 0 & 0 & 0 & 0 & 0 & 0 & 0 & 0 & 0 & 0 & 0 & 0 & 0 & 0 & 0 & 0 & 0 & 0 & 0 & 0 & 0 & 0 & 0 & 0 & 0 & 0 & 0 & 0 & 0 & 0 & 0 & 0 & 0 & 0 & 0 & 0 & 0 & 0 & 0 & 0 & 0 & 0 & 0 & 0 & 0 & 0 & 0 & 0 & 0 & 0 & 0 & 0 & 0 & 0 & 0 & 0 & 0 & 0 & 0 & 0 & 0 & 0 & 0 & 0 & 0 & 0 & 0 & 0 & 0 & 0 & 0 & 0 & 0 & 0 & 0 & 0 & 0 & 0 & 0 & 0 & 0\\\\1 & 1 & 10 & 1 & 1 & 1 & 1 & 0 & 0 & 0 & 0 & 0 & 0 & 0 & 0 & 0 & 0 & 0 & 0 & 0 & 0 & 0 & 0 & 0 & 0 & 0 & 0 & 0 & 0 & 0 & 0 & 0 & 0 & 0 & 0 & 0 & 0 & 0 & 0 & 0 & 0 & 0 & 0 & 0 & 0 & 0 & 0 & 0 & 0 & 0 & 0 & 0 & 0 & 0 & 0 & 0 & 0 & 0 & 0 & 0 & 0 & 0 & 0 & 0 & 0 & 0 & 0 & 0 & 0 & 0 & 0 & 0 & 0 & 0 & 0 & 0 & 0 & 0 & 0 & 0 & 0 & 0 & 0 & 0 & 0 & 0 & 0 & 0 & 0 & 0 & 0 & 0 & 0 & 0 & 0 & 0 & 0 & 0 & 0 & 0\\\\1 & 1 & 1 & 10 & 1 & 1 & 1 & 1 & 0 & 0 & 0 & 0 & 0 & 0 & 0 & 0 & 0 & 0 & 0 & 0 & 0 & 0 & 0 & 0 & 0 & 0 & 0 & 0 & 0 & 0 & 0 & 0 & 0 & 0 & 0 & 0 & 0 & 0 & 0 & 0 & 0 & 0 & 0 & 0 & 0 & 0 & 0 & 0 & 0 & 0 & 0 & 0 & 0 & 0 & 0 & 0 & 0 & 0 & 0 & 0 & 0 & 0 & 0 & 0 & 0 & 0 & 0 & 0 & 0 & 0 & 0 & 0 & 0 & 0 & 0 & 0 & 0 & 0 & 0 & 0 & 0 & 0 & 0 & 0 & 0 & 0 & 0 & 0 & 0 & 0 & 0 & 0 & 0 & 0 & 0 & 0 & 0 & 0 & 0 & 0\\\\1 & 1 & 1 & 1 & 10 & 1 & 1 & 1 & 1 & 0 & 0 & 0 & 0 & 0 & 0 & 0 & 0 & 0 & 0 & 0 & 0 & 0 & 0 & 0 & 0 & 0 & 0 & 0 & 0 & 0 & 0 & 0 & 0 & 0 & 0 & 0 & 0 & 0 & 0 & 0 & 0 & 0 & 0 & 0 & 0 & 0 & 0 & 0 & 0 & 0 & 0 & 0 & 0 & 0 & 0 & 0 & 0 & 0 & 0 & 0 & 0 & 0 & 0 & 0 & 0 & 0 & 0 & 0 & 0 & 0 & 0 & 0 & 0 & 0 & 0 & 0 & 0 & 0 & 0 & 0 & 0 & 0 & 0 & 0 & 0 & 0 & 0 & 0 & 0 & 0 & 0 & 0 & 0 & 0 & 0 & 0 & 0 & 0 & 0 & 0\\\\0 & 1 & 1 & 1 & 1 & 10 & 1 & 1 & 1 & 1 & 0 & 0 & 0 & 0 & 0 & 0 & 0 & 0 & 0 & 0 & 0 & 0 & 0 & 0 & 0 & 0 & 0 & 0 & 0 & 0 & 0 & 0 & 0 & 0 & 0 & 0 & 0 & 0 & 0 & 0 & 0 & 0 & 0 & 0 & 0 & 0 & 0 & 0 & 0 & 0 & 0 & 0 & 0 & 0 & 0 & 0 & 0 & 0 & 0 & 0 & 0 & 0 & 0 & 0 & 0 & 0 & 0 & 0 & 0 & 0 & 0 & 0 & 0 & 0 & 0 & 0 & 0 & 0 & 0 & 0 & 0 & 0 & 0 & 0 & 0 & 0 & 0 & 0 & 0 & 0 & 0 & 0 & 0 & 0 & 0 & 0 & 0 & 0 & 0 & 0\\\\0 & 0 & 1 & 1 & 1 & 1 & 10 & 1 & 1 & 1 & 1 & 0 & 0 & 0 & 0 & 0 & 0 & 0 & 0 & 0 & 0 & 0 & 0 & 0 & 0 & 0 & 0 & 0 & 0 & 0 & 0 & 0 & 0 & 0 & 0 & 0 & 0 & 0 & 0 & 0 & 0 & 0 & 0 & 0 & 0 & 0 & 0 & 0 & 0 & 0 & 0 & 0 & 0 & 0 & 0 & 0 & 0 & 0 & 0 & 0 & 0 & 0 & 0 & 0 & 0 & 0 & 0 & 0 & 0 & 0 & 0 & 0 & 0 & 0 & 0 & 0 & 0 & 0 & 0 & 0 & 0 & 0 & 0 & 0 & 0 & 0 & 0 & 0 & 0 & 0 & 0 & 0 & 0 & 0 & 0 & 0 & 0 & 0 & 0 & 0\\\\0 & 0 & 0 & 1 & 1 & 1 & 1 & 10 & 1 & 1 & 1 & 1 & 0 & 0 & 0 & 0 & 0 & 0 & 0 & 0 & 0 & 0 & 0 & 0 & 0 & 0 & 0 & 0 & 0 & 0 & 0 & 0 & 0 & 0 & 0 & 0 & 0 & 0 & 0 & 0 & 0 & 0 & 0 & 0 & 0 & 0 & 0 & 0 & 0 & 0 & 0 & 0 & 0 & 0 & 0 & 0 & 0 & 0 & 0 & 0 & 0 & 0 & 0 & 0 & 0 & 0 & 0 & 0 & 0 & 0 & 0 & 0 & 0 & 0 & 0 & 0 & 0 & 0 & 0 & 0 & 0 & 0 & 0 & 0 & 0 & 0 & 0 & 0 & 0 & 0 & 0 & 0 & 0 & 0 & 0 & 0 & 0 & 0 & 0 & 0\\\\0 & 0 & 0 & 0 & 1 & 1 & 1 & 1 & 10 & 1 & 1 & 1 & 1 & 0 & 0 & 0 & 0 & 0 & 0 & 0 & 0 & 0 & 0 & 0 & 0 & 0 & 0 & 0 & 0 & 0 & 0 & 0 & 0 & 0 & 0 & 0 & 0 & 0 & 0 & 0 & 0 & 0 & 0 & 0 & 0 & 0 & 0 & 0 & 0 & 0 & 0 & 0 & 0 & 0 & 0 & 0 & 0 & 0 & 0 & 0 & 0 & 0 & 0 & 0 & 0 & 0 & 0 & 0 & 0 & 0 & 0 & 0 & 0 & 0 & 0 & 0 & 0 & 0 & 0 & 0 & 0 & 0 & 0 & 0 & 0 & 0 & 0 & 0 & 0 & 0 & 0 & 0 & 0 & 0 & 0 & 0 & 0 & 0 & 0 & 0\\\\0 & 0 & 0 & 0 & 0 & 1 & 1 & 1 & 1 & 10 & 1 & 1 & 1 & 1 & 0 & 0 & 0 & 0 & 0 & 0 & 0 & 0 & 0 & 0 & 0 & 0 & 0 & 0 & 0 & 0 & 0 & 0 & 0 & 0 & 0 & 0 & 0 & 0 & 0 & 0 & 0 & 0 & 0 & 0 & 0 & 0 & 0 & 0 & 0 & 0 & 0 & 0 & 0 & 0 & 0 & 0 & 0 & 0 & 0 & 0 & 0 & 0 & 0 & 0 & 0 & 0 & 0 & 0 & 0 & 0 & 0 & 0 & 0 & 0 & 0 & 0 & 0 & 0 & 0 & 0 & 0 & 0 & 0 & 0 & 0 & 0 & 0 & 0 & 0 & 0 & 0 & 0 & 0 & 0 & 0 & 0 & 0 & 0 & 0 & 0\\\\0 & 0 & 0 & 0 & 0 & 0 & 1 & 1 & 1 & 1 & 10 & 1 & 1 & 1 & 1 & 0 & 0 & 0 & 0 & 0 & 0 & 0 & 0 & 0 & 0 & 0 & 0 & 0 & 0 & 0 & 0 & 0 & 0 & 0 & 0 & 0 & 0 & 0 & 0 & 0 & 0 & 0 & 0 & 0 & 0 & 0 & 0 & 0 & 0 & 0 & 0 & 0 & 0 & 0 & 0 & 0 & 0 & 0 & 0 & 0 & 0 & 0 & 0 & 0 & 0 & 0 & 0 & 0 & 0 & 0 & 0 & 0 & 0 & 0 & 0 & 0 & 0 & 0 & 0 & 0 & 0 & 0 & 0 & 0 & 0 & 0 & 0 & 0 & 0 & 0 & 0 & 0 & 0 & 0 & 0 & 0 & 0 & 0 & 0 & 0\\\\0 & 0 & 0 & 0 & 0 & 0 & 0 & 1 & 1 & 1 & 1 & 10 & 1 & 1 & 1 & 1 & 0 & 0 & 0 & 0 & 0 & 0 & 0 & 0 & 0 & 0 & 0 & 0 & 0 & 0 & 0 & 0 & 0 & 0 & 0 & 0 & 0 & 0 & 0 & 0 & 0 & 0 & 0 & 0 & 0 & 0 & 0 & 0 & 0 & 0 & 0 & 0 & 0 & 0 & 0 & 0 & 0 & 0 & 0 & 0 & 0 & 0 & 0 & 0 & 0 & 0 & 0 & 0 & 0 & 0 & 0 & 0 & 0 & 0 & 0 & 0 & 0 & 0 & 0 & 0 & 0 & 0 & 0 & 0 & 0 & 0 & 0 & 0 & 0 & 0 & 0 & 0 & 0 & 0 & 0 & 0 & 0 & 0 & 0 & 0\\\\0 & 0 & 0 & 0 & 0 & 0 & 0 & 0 & 1 & 1 & 1 & 1 & 10 & 1 & 1 & 1 & 1 & 0 & 0 & 0 & 0 & 0 & 0 & 0 & 0 & 0 & 0 & 0 & 0 & 0 & 0 & 0 & 0 & 0 & 0 & 0 & 0 & 0 & 0 & 0 & 0 & 0 & 0 & 0 & 0 & 0 & 0 & 0 & 0 & 0 & 0 & 0 & 0 & 0 & 0 & 0 & 0 & 0 & 0 & 0 & 0 & 0 & 0 & 0 & 0 & 0 & 0 & 0 & 0 & 0 & 0 & 0 & 0 & 0 & 0 & 0 & 0 & 0 & 0 & 0 & 0 & 0 & 0 & 0 & 0 & 0 & 0 & 0 & 0 & 0 & 0 & 0 & 0 & 0 & 0 & 0 & 0 & 0 & 0 & 0\\\\0 & 0 & 0 & 0 & 0 & 0 & 0 & 0 & 0 & 1 & 1 & 1 & 1 & 10 & 1 & 1 & 1 & 1 & 0 & 0 & 0 & 0 & 0 & 0 & 0 & 0 & 0 & 0 & 0 & 0 & 0 & 0 & 0 & 0 & 0 & 0 & 0 & 0 & 0 & 0 & 0 & 0 & 0 & 0 & 0 & 0 & 0 & 0 & 0 & 0 & 0 & 0 & 0 & 0 & 0 & 0 & 0 & 0 & 0 & 0 & 0 & 0 & 0 & 0 & 0 & 0 & 0 & 0 & 0 & 0 & 0 & 0 & 0 & 0 & 0 & 0 & 0 & 0 & 0 & 0 & 0 & 0 & 0 & 0 & 0 & 0 & 0 & 0 & 0 & 0 & 0 & 0 & 0 & 0 & 0 & 0 & 0 & 0 & 0 & 0\\\\0 & 0 & 0 & 0 & 0 & 0 & 0 & 0 & 0 & 0 & 1 & 1 & 1 & 1 & 10 & 1 & 1 & 1 & 1 & 0 & 0 & 0 & 0 & 0 & 0 & 0 & 0 & 0 & 0 & 0 & 0 & 0 & 0 & 0 & 0 & 0 & 0 & 0 & 0 & 0 & 0 & 0 & 0 & 0 & 0 & 0 & 0 & 0 & 0 & 0 & 0 & 0 & 0 & 0 & 0 & 0 & 0 & 0 & 0 & 0 & 0 & 0 & 0 & 0 & 0 & 0 & 0 & 0 & 0 & 0 & 0 & 0 & 0 & 0 & 0 & 0 & 0 & 0 & 0 & 0 & 0 & 0 & 0 & 0 & 0 & 0 & 0 & 0 & 0 & 0 & 0 & 0 & 0 & 0 & 0 & 0 & 0 & 0 & 0 & 0\\\\0 & 0 & 0 & 0 & 0 & 0 & 0 & 0 & 0 & 0 & 0 & 1 & 1 & 1 & 1 & 10 & 1 & 1 & 1 & 1 & 0 & 0 & 0 & 0 & 0 & 0 & 0 & 0 & 0 & 0 & 0 & 0 & 0 & 0 & 0 & 0 & 0 & 0 & 0 & 0 & 0 & 0 & 0 & 0 & 0 & 0 & 0 & 0 & 0 & 0 & 0 & 0 & 0 & 0 & 0 & 0 & 0 & 0 & 0 & 0 & 0 & 0 & 0 & 0 & 0 & 0 & 0 & 0 & 0 & 0 & 0 & 0 & 0 & 0 & 0 & 0 & 0 & 0 & 0 & 0 & 0 & 0 & 0 & 0 & 0 & 0 & 0 & 0 & 0 & 0 & 0 & 0 & 0 & 0 & 0 & 0 & 0 & 0 & 0 & 0\\\\0 & 0 & 0 & 0 & 0 & 0 & 0 & 0 & 0 & 0 & 0 & 0 & 1 & 1 & 1 & 1 & 10 & 1 & 1 & 1 & 1 & 0 & 0 & 0 & 0 & 0 & 0 & 0 & 0 & 0 & 0 & 0 & 0 & 0 & 0 & 0 & 0 & 0 & 0 & 0 & 0 & 0 & 0 & 0 & 0 & 0 & 0 & 0 & 0 & 0 & 0 & 0 & 0 & 0 & 0 & 0 & 0 & 0 & 0 & 0 & 0 & 0 & 0 & 0 & 0 & 0 & 0 & 0 & 0 & 0 & 0 & 0 & 0 & 0 & 0 & 0 & 0 & 0 & 0 & 0 & 0 & 0 & 0 & 0 & 0 & 0 & 0 & 0 & 0 & 0 & 0 & 0 & 0 & 0 & 0 & 0 & 0 & 0 & 0 & 0\\\\0 & 0 & 0 & 0 & 0 & 0 & 0 & 0 & 0 & 0 & 0 & 0 & 0 & 1 & 1 & 1 & 1 & 10 & 1 & 1 & 1 & 1 & 0 & 0 & 0 & 0 & 0 & 0 & 0 & 0 & 0 & 0 & 0 & 0 & 0 & 0 & 0 & 0 & 0 & 0 & 0 & 0 & 0 & 0 & 0 & 0 & 0 & 0 & 0 & 0 & 0 & 0 & 0 & 0 & 0 & 0 & 0 & 0 & 0 & 0 & 0 & 0 & 0 & 0 & 0 & 0 & 0 & 0 & 0 & 0 & 0 & 0 & 0 & 0 & 0 & 0 & 0 & 0 & 0 & 0 & 0 & 0 & 0 & 0 & 0 & 0 & 0 & 0 & 0 & 0 & 0 & 0 & 0 & 0 & 0 & 0 & 0 & 0 & 0 & 0\\\\0 & 0 & 0 & 0 & 0 & 0 & 0 & 0 & 0 & 0 & 0 & 0 & 0 & 0 & 1 & 1 & 1 & 1 & 10 & 1 & 1 & 1 & 1 & 0 & 0 & 0 & 0 & 0 & 0 & 0 & 0 & 0 & 0 & 0 & 0 & 0 & 0 & 0 & 0 & 0 & 0 & 0 & 0 & 0 & 0 & 0 & 0 & 0 & 0 & 0 & 0 & 0 & 0 & 0 & 0 & 0 & 0 & 0 & 0 & 0 & 0 & 0 & 0 & 0 & 0 & 0 & 0 & 0 & 0 & 0 & 0 & 0 & 0 & 0 & 0 & 0 & 0 & 0 & 0 & 0 & 0 & 0 & 0 & 0 & 0 & 0 & 0 & 0 & 0 & 0 & 0 & 0 & 0 & 0 & 0 & 0 & 0 & 0 & 0 & 0\\\\0 & 0 & 0 & 0 & 0 & 0 & 0 & 0 & 0 & 0 & 0 & 0 & 0 & 0 & 0 & 1 & 1 & 1 & 1 & 10 & 1 & 1 & 1 & 1 & 0 & 0 & 0 & 0 & 0 & 0 & 0 & 0 & 0 & 0 & 0 & 0 & 0 & 0 & 0 & 0 & 0 & 0 & 0 & 0 & 0 & 0 & 0 & 0 & 0 & 0 & 0 & 0 & 0 & 0 & 0 & 0 & 0 & 0 & 0 & 0 & 0 & 0 & 0 & 0 & 0 & 0 & 0 & 0 & 0 & 0 & 0 & 0 & 0 & 0 & 0 & 0 & 0 & 0 & 0 & 0 & 0 & 0 & 0 & 0 & 0 & 0 & 0 & 0 & 0 & 0 & 0 & 0 & 0 & 0 & 0 & 0 & 0 & 0 & 0 & 0\\\\0 & 0 & 0 & 0 & 0 & 0 & 0 & 0 & 0 & 0 & 0 & 0 & 0 & 0 & 0 & 0 & 1 & 1 & 1 & 1 & 10 & 1 & 1 & 1 & 1 & 0 & 0 & 0 & 0 & 0 & 0 & 0 & 0 & 0 & 0 & 0 & 0 & 0 & 0 & 0 & 0 & 0 & 0 & 0 & 0 & 0 & 0 & 0 & 0 & 0 & 0 & 0 & 0 & 0 & 0 & 0 & 0 & 0 & 0 & 0 & 0 & 0 & 0 & 0 & 0 & 0 & 0 & 0 & 0 & 0 & 0 & 0 & 0 & 0 & 0 & 0 & 0 & 0 & 0 & 0 & 0 & 0 & 0 & 0 & 0 & 0 & 0 & 0 & 0 & 0 & 0 & 0 & 0 & 0 & 0 & 0 & 0 & 0 & 0 & 0\\\\0 & 0 & 0 & 0 & 0 & 0 & 0 & 0 & 0 & 0 & 0 & 0 & 0 & 0 & 0 & 0 & 0 & 1 & 1 & 1 & 1 & 10 & 1 & 1 & 1 & 1 & 0 & 0 & 0 & 0 & 0 & 0 & 0 & 0 & 0 & 0 & 0 & 0 & 0 & 0 & 0 & 0 & 0 & 0 & 0 & 0 & 0 & 0 & 0 & 0 & 0 & 0 & 0 & 0 & 0 & 0 & 0 & 0 & 0 & 0 & 0 & 0 & 0 & 0 & 0 & 0 & 0 & 0 & 0 & 0 & 0 & 0 & 0 & 0 & 0 & 0 & 0 & 0 & 0 & 0 & 0 & 0 & 0 & 0 & 0 & 0 & 0 & 0 & 0 & 0 & 0 & 0 & 0 & 0 & 0 & 0 & 0 & 0 & 0 & 0\\\\0 & 0 & 0 & 0 & 0 & 0 & 0 & 0 & 0 & 0 & 0 & 0 & 0 & 0 & 0 & 0 & 0 & 0 & 1 & 1 & 1 & 1 & 10 & 1 & 1 & 1 & 1 & 0 & 0 & 0 & 0 & 0 & 0 & 0 & 0 & 0 & 0 & 0 & 0 & 0 & 0 & 0 & 0 & 0 & 0 & 0 & 0 & 0 & 0 & 0 & 0 & 0 & 0 & 0 & 0 & 0 & 0 & 0 & 0 & 0 & 0 & 0 & 0 & 0 & 0 & 0 & 0 & 0 & 0 & 0 & 0 & 0 & 0 & 0 & 0 & 0 & 0 & 0 & 0 & 0 & 0 & 0 & 0 & 0 & 0 & 0 & 0 & 0 & 0 & 0 & 0 & 0 & 0 & 0 & 0 & 0 & 0 & 0 & 0 & 0\\\\0 & 0 & 0 & 0 & 0 & 0 & 0 & 0 & 0 & 0 & 0 & 0 & 0 & 0 & 0 & 0 & 0 & 0 & 0 & 1 & 1 & 1 & 1 & 10 & 1 & 1 & 1 & 1 & 0 & 0 & 0 & 0 & 0 & 0 & 0 & 0 & 0 & 0 & 0 & 0 & 0 & 0 & 0 & 0 & 0 & 0 & 0 & 0 & 0 & 0 & 0 & 0 & 0 & 0 & 0 & 0 & 0 & 0 & 0 & 0 & 0 & 0 & 0 & 0 & 0 & 0 & 0 & 0 & 0 & 0 & 0 & 0 & 0 & 0 & 0 & 0 & 0 & 0 & 0 & 0 & 0 & 0 & 0 & 0 & 0 & 0 & 0 & 0 & 0 & 0 & 0 & 0 & 0 & 0 & 0 & 0 & 0 & 0 & 0 & 0\\\\0 & 0 & 0 & 0 & 0 & 0 & 0 & 0 & 0 & 0 & 0 & 0 & 0 & 0 & 0 & 0 & 0 & 0 & 0 & 0 & 1 & 1 & 1 & 1 & 10 & 1 & 1 & 1 & 1 & 0 & 0 & 0 & 0 & 0 & 0 & 0 & 0 & 0 & 0 & 0 & 0 & 0 & 0 & 0 & 0 & 0 & 0 & 0 & 0 & 0 & 0 & 0 & 0 & 0 & 0 & 0 & 0 & 0 & 0 & 0 & 0 & 0 & 0 & 0 & 0 & 0 & 0 & 0 & 0 & 0 & 0 & 0 & 0 & 0 & 0 & 0 & 0 & 0 & 0 & 0 & 0 & 0 & 0 & 0 & 0 & 0 & 0 & 0 & 0 & 0 & 0 & 0 & 0 & 0 & 0 & 0 & 0 & 0 & 0 & 0\\\\0 & 0 & 0 & 0 & 0 & 0 & 0 & 0 & 0 & 0 & 0 & 0 & 0 & 0 & 0 & 0 & 0 & 0 & 0 & 0 & 0 & 1 & 1 & 1 & 1 & 10 & 1 & 1 & 1 & 1 & 0 & 0 & 0 & 0 & 0 & 0 & 0 & 0 & 0 & 0 & 0 & 0 & 0 & 0 & 0 & 0 & 0 & 0 & 0 & 0 & 0 & 0 & 0 & 0 & 0 & 0 & 0 & 0 & 0 & 0 & 0 & 0 & 0 & 0 & 0 & 0 & 0 & 0 & 0 & 0 & 0 & 0 & 0 & 0 & 0 & 0 & 0 & 0 & 0 & 0 & 0 & 0 & 0 & 0 & 0 & 0 & 0 & 0 & 0 & 0 & 0 & 0 & 0 & 0 & 0 & 0 & 0 & 0 & 0 & 0\\\\0 & 0 & 0 & 0 & 0 & 0 & 0 & 0 & 0 & 0 & 0 & 0 & 0 & 0 & 0 & 0 & 0 & 0 & 0 & 0 & 0 & 0 & 1 & 1 & 1 & 1 & 10 & 1 & 1 & 1 & 1 & 0 & 0 & 0 & 0 & 0 & 0 & 0 & 0 & 0 & 0 & 0 & 0 & 0 & 0 & 0 & 0 & 0 & 0 & 0 & 0 & 0 & 0 & 0 & 0 & 0 & 0 & 0 & 0 & 0 & 0 & 0 & 0 & 0 & 0 & 0 & 0 & 0 & 0 & 0 & 0 & 0 & 0 & 0 & 0 & 0 & 0 & 0 & 0 & 0 & 0 & 0 & 0 & 0 & 0 & 0 & 0 & 0 & 0 & 0 & 0 & 0 & 0 & 0 & 0 & 0 & 0 & 0 & 0 & 0\\\\0 & 0 & 0 & 0 & 0 & 0 & 0 & 0 & 0 & 0 & 0 & 0 & 0 & 0 & 0 & 0 & 0 & 0 & 0 & 0 & 0 & 0 & 0 & 1 & 1 & 1 & 1 & 10 & 1 & 1 & 1 & 1 & 0 & 0 & 0 & 0 & 0 & 0 & 0 & 0 & 0 & 0 & 0 & 0 & 0 & 0 & 0 & 0 & 0 & 0 & 0 & 0 & 0 & 0 & 0 & 0 & 0 & 0 & 0 & 0 & 0 & 0 & 0 & 0 & 0 & 0 & 0 & 0 & 0 & 0 & 0 & 0 & 0 & 0 & 0 & 0 & 0 & 0 & 0 & 0 & 0 & 0 & 0 & 0 & 0 & 0 & 0 & 0 & 0 & 0 & 0 & 0 & 0 & 0 & 0 & 0 & 0 & 0 & 0 & 0\\\\0 & 0 & 0 & 0 & 0 & 0 & 0 & 0 & 0 & 0 & 0 & 0 & 0 & 0 & 0 & 0 & 0 & 0 & 0 & 0 & 0 & 0 & 0 & 0 & 1 & 1 & 1 & 1 & 10 & 1 & 1 & 1 & 1 & 0 & 0 & 0 & 0 & 0 & 0 & 0 & 0 & 0 & 0 & 0 & 0 & 0 & 0 & 0 & 0 & 0 & 0 & 0 & 0 & 0 & 0 & 0 & 0 & 0 & 0 & 0 & 0 & 0 & 0 & 0 & 0 & 0 & 0 & 0 & 0 & 0 & 0 & 0 & 0 & 0 & 0 & 0 & 0 & 0 & 0 & 0 & 0 & 0 & 0 & 0 & 0 & 0 & 0 & 0 & 0 & 0 & 0 & 0 & 0 & 0 & 0 & 0 & 0 & 0 & 0 & 0\\\\0 & 0 & 0 & 0 & 0 & 0 & 0 & 0 & 0 & 0 & 0 & 0 & 0 & 0 & 0 & 0 & 0 & 0 & 0 & 0 & 0 & 0 & 0 & 0 & 0 & 1 & 1 & 1 & 1 & 10 & 1 & 1 & 1 & 1 & 0 & 0 & 0 & 0 & 0 & 0 & 0 & 0 & 0 & 0 & 0 & 0 & 0 & 0 & 0 & 0 & 0 & 0 & 0 & 0 & 0 & 0 & 0 & 0 & 0 & 0 & 0 & 0 & 0 & 0 & 0 & 0 & 0 & 0 & 0 & 0 & 0 & 0 & 0 & 0 & 0 & 0 & 0 & 0 & 0 & 0 & 0 & 0 & 0 & 0 & 0 & 0 & 0 & 0 & 0 & 0 & 0 & 0 & 0 & 0 & 0 & 0 & 0 & 0 & 0 & 0\\\\0 & 0 & 0 & 0 & 0 & 0 & 0 & 0 & 0 & 0 & 0 & 0 & 0 & 0 & 0 & 0 & 0 & 0 & 0 & 0 & 0 & 0 & 0 & 0 & 0 & 0 & 1 & 1 & 1 & 1 & 10 & 1 & 1 & 1 & 1 & 0 & 0 & 0 & 0 & 0 & 0 & 0 & 0 & 0 & 0 & 0 & 0 & 0 & 0 & 0 & 0 & 0 & 0 & 0 & 0 & 0 & 0 & 0 & 0 & 0 & 0 & 0 & 0 & 0 & 0 & 0 & 0 & 0 & 0 & 0 & 0 & 0 & 0 & 0 & 0 & 0 & 0 & 0 & 0 & 0 & 0 & 0 & 0 & 0 & 0 & 0 & 0 & 0 & 0 & 0 & 0 & 0 & 0 & 0 & 0 & 0 & 0 & 0 & 0 & 0\\\\0 & 0 & 0 & 0 & 0 & 0 & 0 & 0 & 0 & 0 & 0 & 0 & 0 & 0 & 0 & 0 & 0 & 0 & 0 & 0 & 0 & 0 & 0 & 0 & 0 & 0 & 0 & 1 & 1 & 1 & 1 & 10 & 1 & 1 & 1 & 1 & 0 & 0 & 0 & 0 & 0 & 0 & 0 & 0 & 0 & 0 & 0 & 0 & 0 & 0 & 0 & 0 & 0 & 0 & 0 & 0 & 0 & 0 & 0 & 0 & 0 & 0 & 0 & 0 & 0 & 0 & 0 & 0 & 0 & 0 & 0 & 0 & 0 & 0 & 0 & 0 & 0 & 0 & 0 & 0 & 0 & 0 & 0 & 0 & 0 & 0 & 0 & 0 & 0 & 0 & 0 & 0 & 0 & 0 & 0 & 0 & 0 & 0 & 0 & 0\\\\0 & 0 & 0 & 0 & 0 & 0 & 0 & 0 & 0 & 0 & 0 & 0 & 0 & 0 & 0 & 0 & 0 & 0 & 0 & 0 & 0 & 0 & 0 & 0 & 0 & 0 & 0 & 0 & 1 & 1 & 1 & 1 & 10 & 1 & 1 & 1 & 1 & 0 & 0 & 0 & 0 & 0 & 0 & 0 & 0 & 0 & 0 & 0 & 0 & 0 & 0 & 0 & 0 & 0 & 0 & 0 & 0 & 0 & 0 & 0 & 0 & 0 & 0 & 0 & 0 & 0 & 0 & 0 & 0 & 0 & 0 & 0 & 0 & 0 & 0 & 0 & 0 & 0 & 0 & 0 & 0 & 0 & 0 & 0 & 0 & 0 & 0 & 0 & 0 & 0 & 0 & 0 & 0 & 0 & 0 & 0 & 0 & 0 & 0 & 0\\\\0 & 0 & 0 & 0 & 0 & 0 & 0 & 0 & 0 & 0 & 0 & 0 & 0 & 0 & 0 & 0 & 0 & 0 & 0 & 0 & 0 & 0 & 0 & 0 & 0 & 0 & 0 & 0 & 0 & 1 & 1 & 1 & 1 & 10 & 1 & 1 & 1 & 1 & 0 & 0 & 0 & 0 & 0 & 0 & 0 & 0 & 0 & 0 & 0 & 0 & 0 & 0 & 0 & 0 & 0 & 0 & 0 & 0 & 0 & 0 & 0 & 0 & 0 & 0 & 0 & 0 & 0 & 0 & 0 & 0 & 0 & 0 & 0 & 0 & 0 & 0 & 0 & 0 & 0 & 0 & 0 & 0 & 0 & 0 & 0 & 0 & 0 & 0 & 0 & 0 & 0 & 0 & 0 & 0 & 0 & 0 & 0 & 0 & 0 & 0\\\\0 & 0 & 0 & 0 & 0 & 0 & 0 & 0 & 0 & 0 & 0 & 0 & 0 & 0 & 0 & 0 & 0 & 0 & 0 & 0 & 0 & 0 & 0 & 0 & 0 & 0 & 0 & 0 & 0 & 0 & 1 & 1 & 1 & 1 & 10 & 1 & 1 & 1 & 1 & 0 & 0 & 0 & 0 & 0 & 0 & 0 & 0 & 0 & 0 & 0 & 0 & 0 & 0 & 0 & 0 & 0 & 0 & 0 & 0 & 0 & 0 & 0 & 0 & 0 & 0 & 0 & 0 & 0 & 0 & 0 & 0 & 0 & 0 & 0 & 0 & 0 & 0 & 0 & 0 & 0 & 0 & 0 & 0 & 0 & 0 & 0 & 0 & 0 & 0 & 0 & 0 & 0 & 0 & 0 & 0 & 0 & 0 & 0 & 0 & 0\\\\0 & 0 & 0 & 0 & 0 & 0 & 0 & 0 & 0 & 0 & 0 & 0 & 0 & 0 & 0 & 0 & 0 & 0 & 0 & 0 & 0 & 0 & 0 & 0 & 0 & 0 & 0 & 0 & 0 & 0 & 0 & 1 & 1 & 1 & 1 & 10 & 1 & 1 & 1 & 1 & 0 & 0 & 0 & 0 & 0 & 0 & 0 & 0 & 0 & 0 & 0 & 0 & 0 & 0 & 0 & 0 & 0 & 0 & 0 & 0 & 0 & 0 & 0 & 0 & 0 & 0 & 0 & 0 & 0 & 0 & 0 & 0 & 0 & 0 & 0 & 0 & 0 & 0 & 0 & 0 & 0 & 0 & 0 & 0 & 0 & 0 & 0 & 0 & 0 & 0 & 0 & 0 & 0 & 0 & 0 & 0 & 0 & 0 & 0 & 0\\\\0 & 0 & 0 & 0 & 0 & 0 & 0 & 0 & 0 & 0 & 0 & 0 & 0 & 0 & 0 & 0 & 0 & 0 & 0 & 0 & 0 & 0 & 0 & 0 & 0 & 0 & 0 & 0 & 0 & 0 & 0 & 0 & 1 & 1 & 1 & 1 & 10 & 1 & 1 & 1 & 1 & 0 & 0 & 0 & 0 & 0 & 0 & 0 & 0 & 0 & 0 & 0 & 0 & 0 & 0 & 0 & 0 & 0 & 0 & 0 & 0 & 0 & 0 & 0 & 0 & 0 & 0 & 0 & 0 & 0 & 0 & 0 & 0 & 0 & 0 & 0 & 0 & 0 & 0 & 0 & 0 & 0 & 0 & 0 & 0 & 0 & 0 & 0 & 0 & 0 & 0 & 0 & 0 & 0 & 0 & 0 & 0 & 0 & 0 & 0\\\\0 & 0 & 0 & 0 & 0 & 0 & 0 & 0 & 0 & 0 & 0 & 0 & 0 & 0 & 0 & 0 & 0 & 0 & 0 & 0 & 0 & 0 & 0 & 0 & 0 & 0 & 0 & 0 & 0 & 0 & 0 & 0 & 0 & 1 & 1 & 1 & 1 & 10 & 1 & 1 & 1 & 1 & 0 & 0 & 0 & 0 & 0 & 0 & 0 & 0 & 0 & 0 & 0 & 0 & 0 & 0 & 0 & 0 & 0 & 0 & 0 & 0 & 0 & 0 & 0 & 0 & 0 & 0 & 0 & 0 & 0 & 0 & 0 & 0 & 0 & 0 & 0 & 0 & 0 & 0 & 0 & 0 & 0 & 0 & 0 & 0 & 0 & 0 & 0 & 0 & 0 & 0 & 0 & 0 & 0 & 0 & 0 & 0 & 0 & 0\\\\0 & 0 & 0 & 0 & 0 & 0 & 0 & 0 & 0 & 0 & 0 & 0 & 0 & 0 & 0 & 0 & 0 & 0 & 0 & 0 & 0 & 0 & 0 & 0 & 0 & 0 & 0 & 0 & 0 & 0 & 0 & 0 & 0 & 0 & 1 & 1 & 1 & 1 & 10 & 1 & 1 & 1 & 1 & 0 & 0 & 0 & 0 & 0 & 0 & 0 & 0 & 0 & 0 & 0 & 0 & 0 & 0 & 0 & 0 & 0 & 0 & 0 & 0 & 0 & 0 & 0 & 0 & 0 & 0 & 0 & 0 & 0 & 0 & 0 & 0 & 0 & 0 & 0 & 0 & 0 & 0 & 0 & 0 & 0 & 0 & 0 & 0 & 0 & 0 & 0 & 0 & 0 & 0 & 0 & 0 & 0 & 0 & 0 & 0 & 0\\\\0 & 0 & 0 & 0 & 0 & 0 & 0 & 0 & 0 & 0 & 0 & 0 & 0 & 0 & 0 & 0 & 0 & 0 & 0 & 0 & 0 & 0 & 0 & 0 & 0 & 0 & 0 & 0 & 0 & 0 & 0 & 0 & 0 & 0 & 0 & 1 & 1 & 1 & 1 & 10 & 1 & 1 & 1 & 1 & 0 & 0 & 0 & 0 & 0 & 0 & 0 & 0 & 0 & 0 & 0 & 0 & 0 & 0 & 0 & 0 & 0 & 0 & 0 & 0 & 0 & 0 & 0 & 0 & 0 & 0 & 0 & 0 & 0 & 0 & 0 & 0 & 0 & 0 & 0 & 0 & 0 & 0 & 0 & 0 & 0 & 0 & 0 & 0 & 0 & 0 & 0 & 0 & 0 & 0 & 0 & 0 & 0 & 0 & 0 & 0\\\\0 & 0 & 0 & 0 & 0 & 0 & 0 & 0 & 0 & 0 & 0 & 0 & 0 & 0 & 0 & 0 & 0 & 0 & 0 & 0 & 0 & 0 & 0 & 0 & 0 & 0 & 0 & 0 & 0 & 0 & 0 & 0 & 0 & 0 & 0 & 0 & 1 & 1 & 1 & 1 & 10 & 1 & 1 & 1 & 1 & 0 & 0 & 0 & 0 & 0 & 0 & 0 & 0 & 0 & 0 & 0 & 0 & 0 & 0 & 0 & 0 & 0 & 0 & 0 & 0 & 0 & 0 & 0 & 0 & 0 & 0 & 0 & 0 & 0 & 0 & 0 & 0 & 0 & 0 & 0 & 0 & 0 & 0 & 0 & 0 & 0 & 0 & 0 & 0 & 0 & 0 & 0 & 0 & 0 & 0 & 0 & 0 & 0 & 0 & 0\\\\0 & 0 & 0 & 0 & 0 & 0 & 0 & 0 & 0 & 0 & 0 & 0 & 0 & 0 & 0 & 0 & 0 & 0 & 0 & 0 & 0 & 0 & 0 & 0 & 0 & 0 & 0 & 0 & 0 & 0 & 0 & 0 & 0 & 0 & 0 & 0 & 0 & 1 & 1 & 1 & 1 & 10 & 1 & 1 & 1 & 1 & 0 & 0 & 0 & 0 & 0 & 0 & 0 & 0 & 0 & 0 & 0 & 0 & 0 & 0 & 0 & 0 & 0 & 0 & 0 & 0 & 0 & 0 & 0 & 0 & 0 & 0 & 0 & 0 & 0 & 0 & 0 & 0 & 0 & 0 & 0 & 0 & 0 & 0 & 0 & 0 & 0 & 0 & 0 & 0 & 0 & 0 & 0 & 0 & 0 & 0 & 0 & 0 & 0 & 0\\\\0 & 0 & 0 & 0 & 0 & 0 & 0 & 0 & 0 & 0 & 0 & 0 & 0 & 0 & 0 & 0 & 0 & 0 & 0 & 0 & 0 & 0 & 0 & 0 & 0 & 0 & 0 & 0 & 0 & 0 & 0 & 0 & 0 & 0 & 0 & 0 & 0 & 0 & 1 & 1 & 1 & 1 & 10 & 1 & 1 & 1 & 1 & 0 & 0 & 0 & 0 & 0 & 0 & 0 & 0 & 0 & 0 & 0 & 0 & 0 & 0 & 0 & 0 & 0 & 0 & 0 & 0 & 0 & 0 & 0 & 0 & 0 & 0 & 0 & 0 & 0 & 0 & 0 & 0 & 0 & 0 & 0 & 0 & 0 & 0 & 0 & 0 & 0 & 0 & 0 & 0 & 0 & 0 & 0 & 0 & 0 & 0 & 0 & 0 & 0\\\\0 & 0 & 0 & 0 & 0 & 0 & 0 & 0 & 0 & 0 & 0 & 0 & 0 & 0 & 0 & 0 & 0 & 0 & 0 & 0 & 0 & 0 & 0 & 0 & 0 & 0 & 0 & 0 & 0 & 0 & 0 & 0 & 0 & 0 & 0 & 0 & 0 & 0 & 0 & 1 & 1 & 1 & 1 & 10 & 1 & 1 & 1 & 1 & 0 & 0 & 0 & 0 & 0 & 0 & 0 & 0 & 0 & 0 & 0 & 0 & 0 & 0 & 0 & 0 & 0 & 0 & 0 & 0 & 0 & 0 & 0 & 0 & 0 & 0 & 0 & 0 & 0 & 0 & 0 & 0 & 0 & 0 & 0 & 0 & 0 & 0 & 0 & 0 & 0 & 0 & 0 & 0 & 0 & 0 & 0 & 0 & 0 & 0 & 0 & 0\\\\0 & 0 & 0 & 0 & 0 & 0 & 0 & 0 & 0 & 0 & 0 & 0 & 0 & 0 & 0 & 0 & 0 & 0 & 0 & 0 & 0 & 0 & 0 & 0 & 0 & 0 & 0 & 0 & 0 & 0 & 0 & 0 & 0 & 0 & 0 & 0 & 0 & 0 & 0 & 0 & 1 & 1 & 1 & 1 & 10 & 1 & 1 & 1 & 1 & 0 & 0 & 0 & 0 & 0 & 0 & 0 & 0 & 0 & 0 & 0 & 0 & 0 & 0 & 0 & 0 & 0 & 0 & 0 & 0 & 0 & 0 & 0 & 0 & 0 & 0 & 0 & 0 & 0 & 0 & 0 & 0 & 0 & 0 & 0 & 0 & 0 & 0 & 0 & 0 & 0 & 0 & 0 & 0 & 0 & 0 & 0 & 0 & 0 & 0 & 0\\\\0 & 0 & 0 & 0 & 0 & 0 & 0 & 0 & 0 & 0 & 0 & 0 & 0 & 0 & 0 & 0 & 0 & 0 & 0 & 0 & 0 & 0 & 0 & 0 & 0 & 0 & 0 & 0 & 0 & 0 & 0 & 0 & 0 & 0 & 0 & 0 & 0 & 0 & 0 & 0 & 0 & 1 & 1 & 1 & 1 & 10 & 1 & 1 & 1 & 1 & 0 & 0 & 0 & 0 & 0 & 0 & 0 & 0 & 0 & 0 & 0 & 0 & 0 & 0 & 0 & 0 & 0 & 0 & 0 & 0 & 0 & 0 & 0 & 0 & 0 & 0 & 0 & 0 & 0 & 0 & 0 & 0 & 0 & 0 & 0 & 0 & 0 & 0 & 0 & 0 & 0 & 0 & 0 & 0 & 0 & 0 & 0 & 0 & 0 & 0\\\\0 & 0 & 0 & 0 & 0 & 0 & 0 & 0 & 0 & 0 & 0 & 0 & 0 & 0 & 0 & 0 & 0 & 0 & 0 & 0 & 0 & 0 & 0 & 0 & 0 & 0 & 0 & 0 & 0 & 0 & 0 & 0 & 0 & 0 & 0 & 0 & 0 & 0 & 0 & 0 & 0 & 0 & 1 & 1 & 1 & 1 & 10 & 1 & 1 & 1 & 1 & 0 & 0 & 0 & 0 & 0 & 0 & 0 & 0 & 0 & 0 & 0 & 0 & 0 & 0 & 0 & 0 & 0 & 0 & 0 & 0 & 0 & 0 & 0 & 0 & 0 & 0 & 0 & 0 & 0 & 0 & 0 & 0 & 0 & 0 & 0 & 0 & 0 & 0 & 0 & 0 & 0 & 0 & 0 & 0 & 0 & 0 & 0 & 0 & 0\\\\0 & 0 & 0 & 0 & 0 & 0 & 0 & 0 & 0 & 0 & 0 & 0 & 0 & 0 & 0 & 0 & 0 & 0 & 0 & 0 & 0 & 0 & 0 & 0 & 0 & 0 & 0 & 0 & 0 & 0 & 0 & 0 & 0 & 0 & 0 & 0 & 0 & 0 & 0 & 0 & 0 & 0 & 0 & 1 & 1 & 1 & 1 & 10 & 1 & 1 & 1 & 1 & 0 & 0 & 0 & 0 & 0 & 0 & 0 & 0 & 0 & 0 & 0 & 0 & 0 & 0 & 0 & 0 & 0 & 0 & 0 & 0 & 0 & 0 & 0 & 0 & 0 & 0 & 0 & 0 & 0 & 0 & 0 & 0 & 0 & 0 & 0 & 0 & 0 & 0 & 0 & 0 & 0 & 0 & 0 & 0 & 0 & 0 & 0 & 0\\\\0 & 0 & 0 & 0 & 0 & 0 & 0 & 0 & 0 & 0 & 0 & 0 & 0 & 0 & 0 & 0 & 0 & 0 & 0 & 0 & 0 & 0 & 0 & 0 & 0 & 0 & 0 & 0 & 0 & 0 & 0 & 0 & 0 & 0 & 0 & 0 & 0 & 0 & 0 & 0 & 0 & 0 & 0 & 0 & 1 & 1 & 1 & 1 & 10 & 1 & 1 & 1 & 1 & 0 & 0 & 0 & 0 & 0 & 0 & 0 & 0 & 0 & 0 & 0 & 0 & 0 & 0 & 0 & 0 & 0 & 0 & 0 & 0 & 0 & 0 & 0 & 0 & 0 & 0 & 0 & 0 & 0 & 0 & 0 & 0 & 0 & 0 & 0 & 0 & 0 & 0 & 0 & 0 & 0 & 0 & 0 & 0 & 0 & 0 & 0\\\\0 & 0 & 0 & 0 & 0 & 0 & 0 & 0 & 0 & 0 & 0 & 0 & 0 & 0 & 0 & 0 & 0 & 0 & 0 & 0 & 0 & 0 & 0 & 0 & 0 & 0 & 0 & 0 & 0 & 0 & 0 & 0 & 0 & 0 & 0 & 0 & 0 & 0 & 0 & 0 & 0 & 0 & 0 & 0 & 0 & 1 & 1 & 1 & 1 & 10 & 1 & 1 & 1 & 1 & 0 & 0 & 0 & 0 & 0 & 0 & 0 & 0 & 0 & 0 & 0 & 0 & 0 & 0 & 0 & 0 & 0 & 0 & 0 & 0 & 0 & 0 & 0 & 0 & 0 & 0 & 0 & 0 & 0 & 0 & 0 & 0 & 0 & 0 & 0 & 0 & 0 & 0 & 0 & 0 & 0 & 0 & 0 & 0 & 0 & 0\\\\0 & 0 & 0 & 0 & 0 & 0 & 0 & 0 & 0 & 0 & 0 & 0 & 0 & 0 & 0 & 0 & 0 & 0 & 0 & 0 & 0 & 0 & 0 & 0 & 0 & 0 & 0 & 0 & 0 & 0 & 0 & 0 & 0 & 0 & 0 & 0 & 0 & 0 & 0 & 0 & 0 & 0 & 0 & 0 & 0 & 0 & 1 & 1 & 1 & 1 & 10 & 1 & 1 & 1 & 1 & 0 & 0 & 0 & 0 & 0 & 0 & 0 & 0 & 0 & 0 & 0 & 0 & 0 & 0 & 0 & 0 & 0 & 0 & 0 & 0 & 0 & 0 & 0 & 0 & 0 & 0 & 0 & 0 & 0 & 0 & 0 & 0 & 0 & 0 & 0 & 0 & 0 & 0 & 0 & 0 & 0 & 0 & 0 & 0 & 0\\\\0 & 0 & 0 & 0 & 0 & 0 & 0 & 0 & 0 & 0 & 0 & 0 & 0 & 0 & 0 & 0 & 0 & 0 & 0 & 0 & 0 & 0 & 0 & 0 & 0 & 0 & 0 & 0 & 0 & 0 & 0 & 0 & 0 & 0 & 0 & 0 & 0 & 0 & 0 & 0 & 0 & 0 & 0 & 0 & 0 & 0 & 0 & 1 & 1 & 1 & 1 & 10 & 1 & 1 & 1 & 1 & 0 & 0 & 0 & 0 & 0 & 0 & 0 & 0 & 0 & 0 & 0 & 0 & 0 & 0 & 0 & 0 & 0 & 0 & 0 & 0 & 0 & 0 & 0 & 0 & 0 & 0 & 0 & 0 & 0 & 0 & 0 & 0 & 0 & 0 & 0 & 0 & 0 & 0 & 0 & 0 & 0 & 0 & 0 & 0\\\\0 & 0 & 0 & 0 & 0 & 0 & 0 & 0 & 0 & 0 & 0 & 0 & 0 & 0 & 0 & 0 & 0 & 0 & 0 & 0 & 0 & 0 & 0 & 0 & 0 & 0 & 0 & 0 & 0 & 0 & 0 & 0 & 0 & 0 & 0 & 0 & 0 & 0 & 0 & 0 & 0 & 0 & 0 & 0 & 0 & 0 & 0 & 0 & 1 & 1 & 1 & 1 & 10 & 1 & 1 & 1 & 1 & 0 & 0 & 0 & 0 & 0 & 0 & 0 & 0 & 0 & 0 & 0 & 0 & 0 & 0 & 0 & 0 & 0 & 0 & 0 & 0 & 0 & 0 & 0 & 0 & 0 & 0 & 0 & 0 & 0 & 0 & 0 & 0 & 0 & 0 & 0 & 0 & 0 & 0 & 0 & 0 & 0 & 0 & 0\\\\0 & 0 & 0 & 0 & 0 & 0 & 0 & 0 & 0 & 0 & 0 & 0 & 0 & 0 & 0 & 0 & 0 & 0 & 0 & 0 & 0 & 0 & 0 & 0 & 0 & 0 & 0 & 0 & 0 & 0 & 0 & 0 & 0 & 0 & 0 & 0 & 0 & 0 & 0 & 0 & 0 & 0 & 0 & 0 & 0 & 0 & 0 & 0 & 0 & 1 & 1 & 1 & 1 & 10 & 1 & 1 & 1 & 1 & 0 & 0 & 0 & 0 & 0 & 0 & 0 & 0 & 0 & 0 & 0 & 0 & 0 & 0 & 0 & 0 & 0 & 0 & 0 & 0 & 0 & 0 & 0 & 0 & 0 & 0 & 0 & 0 & 0 & 0 & 0 & 0 & 0 & 0 & 0 & 0 & 0 & 0 & 0 & 0 & 0 & 0\\\\0 & 0 & 0 & 0 & 0 & 0 & 0 & 0 & 0 & 0 & 0 & 0 & 0 & 0 & 0 & 0 & 0 & 0 & 0 & 0 & 0 & 0 & 0 & 0 & 0 & 0 & 0 & 0 & 0 & 0 & 0 & 0 & 0 & 0 & 0 & 0 & 0 & 0 & 0 & 0 & 0 & 0 & 0 & 0 & 0 & 0 & 0 & 0 & 0 & 0 & 1 & 1 & 1 & 1 & 10 & 1 & 1 & 1 & 1 & 0 & 0 & 0 & 0 & 0 & 0 & 0 & 0 & 0 & 0 & 0 & 0 & 0 & 0 & 0 & 0 & 0 & 0 & 0 & 0 & 0 & 0 & 0 & 0 & 0 & 0 & 0 & 0 & 0 & 0 & 0 & 0 & 0 & 0 & 0 & 0 & 0 & 0 & 0 & 0 & 0\\\\0 & 0 & 0 & 0 & 0 & 0 & 0 & 0 & 0 & 0 & 0 & 0 & 0 & 0 & 0 & 0 & 0 & 0 & 0 & 0 & 0 & 0 & 0 & 0 & 0 & 0 & 0 & 0 & 0 & 0 & 0 & 0 & 0 & 0 & 0 & 0 & 0 & 0 & 0 & 0 & 0 & 0 & 0 & 0 & 0 & 0 & 0 & 0 & 0 & 0 & 0 & 1 & 1 & 1 & 1 & 10 & 1 & 1 & 1 & 1 & 0 & 0 & 0 & 0 & 0 & 0 & 0 & 0 & 0 & 0 & 0 & 0 & 0 & 0 & 0 & 0 & 0 & 0 & 0 & 0 & 0 & 0 & 0 & 0 & 0 & 0 & 0 & 0 & 0 & 0 & 0 & 0 & 0 & 0 & 0 & 0 & 0 & 0 & 0 & 0\\\\0 & 0 & 0 & 0 & 0 & 0 & 0 & 0 & 0 & 0 & 0 & 0 & 0 & 0 & 0 & 0 & 0 & 0 & 0 & 0 & 0 & 0 & 0 & 0 & 0 & 0 & 0 & 0 & 0 & 0 & 0 & 0 & 0 & 0 & 0 & 0 & 0 & 0 & 0 & 0 & 0 & 0 & 0 & 0 & 0 & 0 & 0 & 0 & 0 & 0 & 0 & 0 & 1 & 1 & 1 & 1 & 10 & 1 & 1 & 1 & 1 & 0 & 0 & 0 & 0 & 0 & 0 & 0 & 0 & 0 & 0 & 0 & 0 & 0 & 0 & 0 & 0 & 0 & 0 & 0 & 0 & 0 & 0 & 0 & 0 & 0 & 0 & 0 & 0 & 0 & 0 & 0 & 0 & 0 & 0 & 0 & 0 & 0 & 0 & 0\\\\0 & 0 & 0 & 0 & 0 & 0 & 0 & 0 & 0 & 0 & 0 & 0 & 0 & 0 & 0 & 0 & 0 & 0 & 0 & 0 & 0 & 0 & 0 & 0 & 0 & 0 & 0 & 0 & 0 & 0 & 0 & 0 & 0 & 0 & 0 & 0 & 0 & 0 & 0 & 0 & 0 & 0 & 0 & 0 & 0 & 0 & 0 & 0 & 0 & 0 & 0 & 0 & 0 & 1 & 1 & 1 & 1 & 10 & 1 & 1 & 1 & 1 & 0 & 0 & 0 & 0 & 0 & 0 & 0 & 0 & 0 & 0 & 0 & 0 & 0 & 0 & 0 & 0 & 0 & 0 & 0 & 0 & 0 & 0 & 0 & 0 & 0 & 0 & 0 & 0 & 0 & 0 & 0 & 0 & 0 & 0 & 0 & 0 & 0 & 0\\\\0 & 0 & 0 & 0 & 0 & 0 & 0 & 0 & 0 & 0 & 0 & 0 & 0 & 0 & 0 & 0 & 0 & 0 & 0 & 0 & 0 & 0 & 0 & 0 & 0 & 0 & 0 & 0 & 0 & 0 & 0 & 0 & 0 & 0 & 0 & 0 & 0 & 0 & 0 & 0 & 0 & 0 & 0 & 0 & 0 & 0 & 0 & 0 & 0 & 0 & 0 & 0 & 0 & 0 & 1 & 1 & 1 & 1 & 10 & 1 & 1 & 1 & 1 & 0 & 0 & 0 & 0 & 0 & 0 & 0 & 0 & 0 & 0 & 0 & 0 & 0 & 0 & 0 & 0 & 0 & 0 & 0 & 0 & 0 & 0 & 0 & 0 & 0 & 0 & 0 & 0 & 0 & 0 & 0 & 0 & 0 & 0 & 0 & 0 & 0\\\\0 & 0 & 0 & 0 & 0 & 0 & 0 & 0 & 0 & 0 & 0 & 0 & 0 & 0 & 0 & 0 & 0 & 0 & 0 & 0 & 0 & 0 & 0 & 0 & 0 & 0 & 0 & 0 & 0 & 0 & 0 & 0 & 0 & 0 & 0 & 0 & 0 & 0 & 0 & 0 & 0 & 0 & 0 & 0 & 0 & 0 & 0 & 0 & 0 & 0 & 0 & 0 & 0 & 0 & 0 & 1 & 1 & 1 & 1 & 10 & 1 & 1 & 1 & 1 & 0 & 0 & 0 & 0 & 0 & 0 & 0 & 0 & 0 & 0 & 0 & 0 & 0 & 0 & 0 & 0 & 0 & 0 & 0 & 0 & 0 & 0 & 0 & 0 & 0 & 0 & 0 & 0 & 0 & 0 & 0 & 0 & 0 & 0 & 0 & 0\\\\0 & 0 & 0 & 0 & 0 & 0 & 0 & 0 & 0 & 0 & 0 & 0 & 0 & 0 & 0 & 0 & 0 & 0 & 0 & 0 & 0 & 0 & 0 & 0 & 0 & 0 & 0 & 0 & 0 & 0 & 0 & 0 & 0 & 0 & 0 & 0 & 0 & 0 & 0 & 0 & 0 & 0 & 0 & 0 & 0 & 0 & 0 & 0 & 0 & 0 & 0 & 0 & 0 & 0 & 0 & 0 & 1 & 1 & 1 & 1 & 10 & 1 & 1 & 1 & 1 & 0 & 0 & 0 & 0 & 0 & 0 & 0 & 0 & 0 & 0 & 0 & 0 & 0 & 0 & 0 & 0 & 0 & 0 & 0 & 0 & 0 & 0 & 0 & 0 & 0 & 0 & 0 & 0 & 0 & 0 & 0 & 0 & 0 & 0 & 0\\\\0 & 0 & 0 & 0 & 0 & 0 & 0 & 0 & 0 & 0 & 0 & 0 & 0 & 0 & 0 & 0 & 0 & 0 & 0 & 0 & 0 & 0 & 0 & 0 & 0 & 0 & 0 & 0 & 0 & 0 & 0 & 0 & 0 & 0 & 0 & 0 & 0 & 0 & 0 & 0 & 0 & 0 & 0 & 0 & 0 & 0 & 0 & 0 & 0 & 0 & 0 & 0 & 0 & 0 & 0 & 0 & 0 & 1 & 1 & 1 & 1 & 10 & 1 & 1 & 1 & 1 & 0 & 0 & 0 & 0 & 0 & 0 & 0 & 0 & 0 & 0 & 0 & 0 & 0 & 0 & 0 & 0 & 0 & 0 & 0 & 0 & 0 & 0 & 0 & 0 & 0 & 0 & 0 & 0 & 0 & 0 & 0 & 0 & 0 & 0\\\\0 & 0 & 0 & 0 & 0 & 0 & 0 & 0 & 0 & 0 & 0 & 0 & 0 & 0 & 0 & 0 & 0 & 0 & 0 & 0 & 0 & 0 & 0 & 0 & 0 & 0 & 0 & 0 & 0 & 0 & 0 & 0 & 0 & 0 & 0 & 0 & 0 & 0 & 0 & 0 & 0 & 0 & 0 & 0 & 0 & 0 & 0 & 0 & 0 & 0 & 0 & 0 & 0 & 0 & 0 & 0 & 0 & 0 & 1 & 1 & 1 & 1 & 10 & 1 & 1 & 1 & 1 & 0 & 0 & 0 & 0 & 0 & 0 & 0 & 0 & 0 & 0 & 0 & 0 & 0 & 0 & 0 & 0 & 0 & 0 & 0 & 0 & 0 & 0 & 0 & 0 & 0 & 0 & 0 & 0 & 0 & 0 & 0 & 0 & 0\\\\0 & 0 & 0 & 0 & 0 & 0 & 0 & 0 & 0 & 0 & 0 & 0 & 0 & 0 & 0 & 0 & 0 & 0 & 0 & 0 & 0 & 0 & 0 & 0 & 0 & 0 & 0 & 0 & 0 & 0 & 0 & 0 & 0 & 0 & 0 & 0 & 0 & 0 & 0 & 0 & 0 & 0 & 0 & 0 & 0 & 0 & 0 & 0 & 0 & 0 & 0 & 0 & 0 & 0 & 0 & 0 & 0 & 0 & 0 & 1 & 1 & 1 & 1 & 10 & 1 & 1 & 1 & 1 & 0 & 0 & 0 & 0 & 0 & 0 & 0 & 0 & 0 & 0 & 0 & 0 & 0 & 0 & 0 & 0 & 0 & 0 & 0 & 0 & 0 & 0 & 0 & 0 & 0 & 0 & 0 & 0 & 0 & 0 & 0 & 0\\\\0 & 0 & 0 & 0 & 0 & 0 & 0 & 0 & 0 & 0 & 0 & 0 & 0 & 0 & 0 & 0 & 0 & 0 & 0 & 0 & 0 & 0 & 0 & 0 & 0 & 0 & 0 & 0 & 0 & 0 & 0 & 0 & 0 & 0 & 0 & 0 & 0 & 0 & 0 & 0 & 0 & 0 & 0 & 0 & 0 & 0 & 0 & 0 & 0 & 0 & 0 & 0 & 0 & 0 & 0 & 0 & 0 & 0 & 0 & 0 & 1 & 1 & 1 & 1 & 10 & 1 & 1 & 1 & 1 & 0 & 0 & 0 & 0 & 0 & 0 & 0 & 0 & 0 & 0 & 0 & 0 & 0 & 0 & 0 & 0 & 0 & 0 & 0 & 0 & 0 & 0 & 0 & 0 & 0 & 0 & 0 & 0 & 0 & 0 & 0\\\\0 & 0 & 0 & 0 & 0 & 0 & 0 & 0 & 0 & 0 & 0 & 0 & 0 & 0 & 0 & 0 & 0 & 0 & 0 & 0 & 0 & 0 & 0 & 0 & 0 & 0 & 0 & 0 & 0 & 0 & 0 & 0 & 0 & 0 & 0 & 0 & 0 & 0 & 0 & 0 & 0 & 0 & 0 & 0 & 0 & 0 & 0 & 0 & 0 & 0 & 0 & 0 & 0 & 0 & 0 & 0 & 0 & 0 & 0 & 0 & 0 & 1 & 1 & 1 & 1 & 10 & 1 & 1 & 1 & 1 & 0 & 0 & 0 & 0 & 0 & 0 & 0 & 0 & 0 & 0 & 0 & 0 & 0 & 0 & 0 & 0 & 0 & 0 & 0 & 0 & 0 & 0 & 0 & 0 & 0 & 0 & 0 & 0 & 0 & 0\\\\0 & 0 & 0 & 0 & 0 & 0 & 0 & 0 & 0 & 0 & 0 & 0 & 0 & 0 & 0 & 0 & 0 & 0 & 0 & 0 & 0 & 0 & 0 & 0 & 0 & 0 & 0 & 0 & 0 & 0 & 0 & 0 & 0 & 0 & 0 & 0 & 0 & 0 & 0 & 0 & 0 & 0 & 0 & 0 & 0 & 0 & 0 & 0 & 0 & 0 & 0 & 0 & 0 & 0 & 0 & 0 & 0 & 0 & 0 & 0 & 0 & 0 & 1 & 1 & 1 & 1 & 10 & 1 & 1 & 1 & 1 & 0 & 0 & 0 & 0 & 0 & 0 & 0 & 0 & 0 & 0 & 0 & 0 & 0 & 0 & 0 & 0 & 0 & 0 & 0 & 0 & 0 & 0 & 0 & 0 & 0 & 0 & 0 & 0 & 0\\\\0 & 0 & 0 & 0 & 0 & 0 & 0 & 0 & 0 & 0 & 0 & 0 & 0 & 0 & 0 & 0 & 0 & 0 & 0 & 0 & 0 & 0 & 0 & 0 & 0 & 0 & 0 & 0 & 0 & 0 & 0 & 0 & 0 & 0 & 0 & 0 & 0 & 0 & 0 & 0 & 0 & 0 & 0 & 0 & 0 & 0 & 0 & 0 & 0 & 0 & 0 & 0 & 0 & 0 & 0 & 0 & 0 & 0 & 0 & 0 & 0 & 0 & 0 & 1 & 1 & 1 & 1 & 10 & 1 & 1 & 1 & 1 & 0 & 0 & 0 & 0 & 0 & 0 & 0 & 0 & 0 & 0 & 0 & 0 & 0 & 0 & 0 & 0 & 0 & 0 & 0 & 0 & 0 & 0 & 0 & 0 & 0 & 0 & 0 & 0\\\\0 & 0 & 0 & 0 & 0 & 0 & 0 & 0 & 0 & 0 & 0 & 0 & 0 & 0 & 0 & 0 & 0 & 0 & 0 & 0 & 0 & 0 & 0 & 0 & 0 & 0 & 0 & 0 & 0 & 0 & 0 & 0 & 0 & 0 & 0 & 0 & 0 & 0 & 0 & 0 & 0 & 0 & 0 & 0 & 0 & 0 & 0 & 0 & 0 & 0 & 0 & 0 & 0 & 0 & 0 & 0 & 0 & 0 & 0 & 0 & 0 & 0 & 0 & 0 & 1 & 1 & 1 & 1 & 10 & 1 & 1 & 1 & 1 & 0 & 0 & 0 & 0 & 0 & 0 & 0 & 0 & 0 & 0 & 0 & 0 & 0 & 0 & 0 & 0 & 0 & 0 & 0 & 0 & 0 & 0 & 0 & 0 & 0 & 0 & 0\\\\0 & 0 & 0 & 0 & 0 & 0 & 0 & 0 & 0 & 0 & 0 & 0 & 0 & 0 & 0 & 0 & 0 & 0 & 0 & 0 & 0 & 0 & 0 & 0 & 0 & 0 & 0 & 0 & 0 & 0 & 0 & 0 & 0 & 0 & 0 & 0 & 0 & 0 & 0 & 0 & 0 & 0 & 0 & 0 & 0 & 0 & 0 & 0 & 0 & 0 & 0 & 0 & 0 & 0 & 0 & 0 & 0 & 0 & 0 & 0 & 0 & 0 & 0 & 0 & 0 & 1 & 1 & 1 & 1 & 10 & 1 & 1 & 1 & 1 & 0 & 0 & 0 & 0 & 0 & 0 & 0 & 0 & 0 & 0 & 0 & 0 & 0 & 0 & 0 & 0 & 0 & 0 & 0 & 0 & 0 & 0 & 0 & 0 & 0 & 0\\\\0 & 0 & 0 & 0 & 0 & 0 & 0 & 0 & 0 & 0 & 0 & 0 & 0 & 0 & 0 & 0 & 0 & 0 & 0 & 0 & 0 & 0 & 0 & 0 & 0 & 0 & 0 & 0 & 0 & 0 & 0 & 0 & 0 & 0 & 0 & 0 & 0 & 0 & 0 & 0 & 0 & 0 & 0 & 0 & 0 & 0 & 0 & 0 & 0 & 0 & 0 & 0 & 0 & 0 & 0 & 0 & 0 & 0 & 0 & 0 & 0 & 0 & 0 & 0 & 0 & 0 & 1 & 1 & 1 & 1 & 10 & 1 & 1 & 1 & 1 & 0 & 0 & 0 & 0 & 0 & 0 & 0 & 0 & 0 & 0 & 0 & 0 & 0 & 0 & 0 & 0 & 0 & 0 & 0 & 0 & 0 & 0 & 0 & 0 & 0\\\\0 & 0 & 0 & 0 & 0 & 0 & 0 & 0 & 0 & 0 & 0 & 0 & 0 & 0 & 0 & 0 & 0 & 0 & 0 & 0 & 0 & 0 & 0 & 0 & 0 & 0 & 0 & 0 & 0 & 0 & 0 & 0 & 0 & 0 & 0 & 0 & 0 & 0 & 0 & 0 & 0 & 0 & 0 & 0 & 0 & 0 & 0 & 0 & 0 & 0 & 0 & 0 & 0 & 0 & 0 & 0 & 0 & 0 & 0 & 0 & 0 & 0 & 0 & 0 & 0 & 0 & 0 & 1 & 1 & 1 & 1 & 10 & 1 & 1 & 1 & 1 & 0 & 0 & 0 & 0 & 0 & 0 & 0 & 0 & 0 & 0 & 0 & 0 & 0 & 0 & 0 & 0 & 0 & 0 & 0 & 0 & 0 & 0 & 0 & 0\\\\0 & 0 & 0 & 0 & 0 & 0 & 0 & 0 & 0 & 0 & 0 & 0 & 0 & 0 & 0 & 0 & 0 & 0 & 0 & 0 & 0 & 0 & 0 & 0 & 0 & 0 & 0 & 0 & 0 & 0 & 0 & 0 & 0 & 0 & 0 & 0 & 0 & 0 & 0 & 0 & 0 & 0 & 0 & 0 & 0 & 0 & 0 & 0 & 0 & 0 & 0 & 0 & 0 & 0 & 0 & 0 & 0 & 0 & 0 & 0 & 0 & 0 & 0 & 0 & 0 & 0 & 0 & 0 & 1 & 1 & 1 & 1 & 10 & 1 & 1 & 1 & 1 & 0 & 0 & 0 & 0 & 0 & 0 & 0 & 0 & 0 & 0 & 0 & 0 & 0 & 0 & 0 & 0 & 0 & 0 & 0 & 0 & 0 & 0 & 0\\\\0 & 0 & 0 & 0 & 0 & 0 & 0 & 0 & 0 & 0 & 0 & 0 & 0 & 0 & 0 & 0 & 0 & 0 & 0 & 0 & 0 & 0 & 0 & 0 & 0 & 0 & 0 & 0 & 0 & 0 & 0 & 0 & 0 & 0 & 0 & 0 & 0 & 0 & 0 & 0 & 0 & 0 & 0 & 0 & 0 & 0 & 0 & 0 & 0 & 0 & 0 & 0 & 0 & 0 & 0 & 0 & 0 & 0 & 0 & 0 & 0 & 0 & 0 & 0 & 0 & 0 & 0 & 0 & 0 & 1 & 1 & 1 & 1 & 10 & 1 & 1 & 1 & 1 & 0 & 0 & 0 & 0 & 0 & 0 & 0 & 0 & 0 & 0 & 0 & 0 & 0 & 0 & 0 & 0 & 0 & 0 & 0 & 0 & 0 & 0\\\\0 & 0 & 0 & 0 & 0 & 0 & 0 & 0 & 0 & 0 & 0 & 0 & 0 & 0 & 0 & 0 & 0 & 0 & 0 & 0 & 0 & 0 & 0 & 0 & 0 & 0 & 0 & 0 & 0 & 0 & 0 & 0 & 0 & 0 & 0 & 0 & 0 & 0 & 0 & 0 & 0 & 0 & 0 & 0 & 0 & 0 & 0 & 0 & 0 & 0 & 0 & 0 & 0 & 0 & 0 & 0 & 0 & 0 & 0 & 0 & 0 & 0 & 0 & 0 & 0 & 0 & 0 & 0 & 0 & 0 & 1 & 1 & 1 & 1 & 10 & 1 & 1 & 1 & 1 & 0 & 0 & 0 & 0 & 0 & 0 & 0 & 0 & 0 & 0 & 0 & 0 & 0 & 0 & 0 & 0 & 0 & 0 & 0 & 0 & 0\\\\0 & 0 & 0 & 0 & 0 & 0 & 0 & 0 & 0 & 0 & 0 & 0 & 0 & 0 & 0 & 0 & 0 & 0 & 0 & 0 & 0 & 0 & 0 & 0 & 0 & 0 & 0 & 0 & 0 & 0 & 0 & 0 & 0 & 0 & 0 & 0 & 0 & 0 & 0 & 0 & 0 & 0 & 0 & 0 & 0 & 0 & 0 & 0 & 0 & 0 & 0 & 0 & 0 & 0 & 0 & 0 & 0 & 0 & 0 & 0 & 0 & 0 & 0 & 0 & 0 & 0 & 0 & 0 & 0 & 0 & 0 & 1 & 1 & 1 & 1 & 10 & 1 & 1 & 1 & 1 & 0 & 0 & 0 & 0 & 0 & 0 & 0 & 0 & 0 & 0 & 0 & 0 & 0 & 0 & 0 & 0 & 0 & 0 & 0 & 0\\\\0 & 0 & 0 & 0 & 0 & 0 & 0 & 0 & 0 & 0 & 0 & 0 & 0 & 0 & 0 & 0 & 0 & 0 & 0 & 0 & 0 & 0 & 0 & 0 & 0 & 0 & 0 & 0 & 0 & 0 & 0 & 0 & 0 & 0 & 0 & 0 & 0 & 0 & 0 & 0 & 0 & 0 & 0 & 0 & 0 & 0 & 0 & 0 & 0 & 0 & 0 & 0 & 0 & 0 & 0 & 0 & 0 & 0 & 0 & 0 & 0 & 0 & 0 & 0 & 0 & 0 & 0 & 0 & 0 & 0 & 0 & 0 & 1 & 1 & 1 & 1 & 10 & 1 & 1 & 1 & 1 & 0 & 0 & 0 & 0 & 0 & 0 & 0 & 0 & 0 & 0 & 0 & 0 & 0 & 0 & 0 & 0 & 0 & 0 & 0\\\\0 & 0 & 0 & 0 & 0 & 0 & 0 & 0 & 0 & 0 & 0 & 0 & 0 & 0 & 0 & 0 & 0 & 0 & 0 & 0 & 0 & 0 & 0 & 0 & 0 & 0 & 0 & 0 & 0 & 0 & 0 & 0 & 0 & 0 & 0 & 0 & 0 & 0 & 0 & 0 & 0 & 0 & 0 & 0 & 0 & 0 & 0 & 0 & 0 & 0 & 0 & 0 & 0 & 0 & 0 & 0 & 0 & 0 & 0 & 0 & 0 & 0 & 0 & 0 & 0 & 0 & 0 & 0 & 0 & 0 & 0 & 0 & 0 & 1 & 1 & 1 & 1 & 10 & 1 & 1 & 1 & 1 & 0 & 0 & 0 & 0 & 0 & 0 & 0 & 0 & 0 & 0 & 0 & 0 & 0 & 0 & 0 & 0 & 0 & 0\\\\0 & 0 & 0 & 0 & 0 & 0 & 0 & 0 & 0 & 0 & 0 & 0 & 0 & 0 & 0 & 0 & 0 & 0 & 0 & 0 & 0 & 0 & 0 & 0 & 0 & 0 & 0 & 0 & 0 & 0 & 0 & 0 & 0 & 0 & 0 & 0 & 0 & 0 & 0 & 0 & 0 & 0 & 0 & 0 & 0 & 0 & 0 & 0 & 0 & 0 & 0 & 0 & 0 & 0 & 0 & 0 & 0 & 0 & 0 & 0 & 0 & 0 & 0 & 0 & 0 & 0 & 0 & 0 & 0 & 0 & 0 & 0 & 0 & 0 & 1 & 1 & 1 & 1 & 10 & 1 & 1 & 1 & 1 & 0 & 0 & 0 & 0 & 0 & 0 & 0 & 0 & 0 & 0 & 0 & 0 & 0 & 0 & 0 & 0 & 0\\\\0 & 0 & 0 & 0 & 0 & 0 & 0 & 0 & 0 & 0 & 0 & 0 & 0 & 0 & 0 & 0 & 0 & 0 & 0 & 0 & 0 & 0 & 0 & 0 & 0 & 0 & 0 & 0 & 0 & 0 & 0 & 0 & 0 & 0 & 0 & 0 & 0 & 0 & 0 & 0 & 0 & 0 & 0 & 0 & 0 & 0 & 0 & 0 & 0 & 0 & 0 & 0 & 0 & 0 & 0 & 0 & 0 & 0 & 0 & 0 & 0 & 0 & 0 & 0 & 0 & 0 & 0 & 0 & 0 & 0 & 0 & 0 & 0 & 0 & 0 & 1 & 1 & 1 & 1 & 10 & 1 & 1 & 1 & 1 & 0 & 0 & 0 & 0 & 0 & 0 & 0 & 0 & 0 & 0 & 0 & 0 & 0 & 0 & 0 & 0\\\\0 & 0 & 0 & 0 & 0 & 0 & 0 & 0 & 0 & 0 & 0 & 0 & 0 & 0 & 0 & 0 & 0 & 0 & 0 & 0 & 0 & 0 & 0 & 0 & 0 & 0 & 0 & 0 & 0 & 0 & 0 & 0 & 0 & 0 & 0 & 0 & 0 & 0 & 0 & 0 & 0 & 0 & 0 & 0 & 0 & 0 & 0 & 0 & 0 & 0 & 0 & 0 & 0 & 0 & 0 & 0 & 0 & 0 & 0 & 0 & 0 & 0 & 0 & 0 & 0 & 0 & 0 & 0 & 0 & 0 & 0 & 0 & 0 & 0 & 0 & 0 & 1 & 1 & 1 & 1 & 10 & 1 & 1 & 1 & 1 & 0 & 0 & 0 & 0 & 0 & 0 & 0 & 0 & 0 & 0 & 0 & 0 & 0 & 0 & 0\\\\0 & 0 & 0 & 0 & 0 & 0 & 0 & 0 & 0 & 0 & 0 & 0 & 0 & 0 & 0 & 0 & 0 & 0 & 0 & 0 & 0 & 0 & 0 & 0 & 0 & 0 & 0 & 0 & 0 & 0 & 0 & 0 & 0 & 0 & 0 & 0 & 0 & 0 & 0 & 0 & 0 & 0 & 0 & 0 & 0 & 0 & 0 & 0 & 0 & 0 & 0 & 0 & 0 & 0 & 0 & 0 & 0 & 0 & 0 & 0 & 0 & 0 & 0 & 0 & 0 & 0 & 0 & 0 & 0 & 0 & 0 & 0 & 0 & 0 & 0 & 0 & 0 & 1 & 1 & 1 & 1 & 10 & 1 & 1 & 1 & 1 & 0 & 0 & 0 & 0 & 0 & 0 & 0 & 0 & 0 & 0 & 0 & 0 & 0 & 0\\\\0 & 0 & 0 & 0 & 0 & 0 & 0 & 0 & 0 & 0 & 0 & 0 & 0 & 0 & 0 & 0 & 0 & 0 & 0 & 0 & 0 & 0 & 0 & 0 & 0 & 0 & 0 & 0 & 0 & 0 & 0 & 0 & 0 & 0 & 0 & 0 & 0 & 0 & 0 & 0 & 0 & 0 & 0 & 0 & 0 & 0 & 0 & 0 & 0 & 0 & 0 & 0 & 0 & 0 & 0 & 0 & 0 & 0 & 0 & 0 & 0 & 0 & 0 & 0 & 0 & 0 & 0 & 0 & 0 & 0 & 0 & 0 & 0 & 0 & 0 & 0 & 0 & 0 & 1 & 1 & 1 & 1 & 10 & 1 & 1 & 1 & 1 & 0 & 0 & 0 & 0 & 0 & 0 & 0 & 0 & 0 & 0 & 0 & 0 & 0\\\\0 & 0 & 0 & 0 & 0 & 0 & 0 & 0 & 0 & 0 & 0 & 0 & 0 & 0 & 0 & 0 & 0 & 0 & 0 & 0 & 0 & 0 & 0 & 0 & 0 & 0 & 0 & 0 & 0 & 0 & 0 & 0 & 0 & 0 & 0 & 0 & 0 & 0 & 0 & 0 & 0 & 0 & 0 & 0 & 0 & 0 & 0 & 0 & 0 & 0 & 0 & 0 & 0 & 0 & 0 & 0 & 0 & 0 & 0 & 0 & 0 & 0 & 0 & 0 & 0 & 0 & 0 & 0 & 0 & 0 & 0 & 0 & 0 & 0 & 0 & 0 & 0 & 0 & 0 & 1 & 1 & 1 & 1 & 10 & 1 & 1 & 1 & 1 & 0 & 0 & 0 & 0 & 0 & 0 & 0 & 0 & 0 & 0 & 0 & 0\\\\0 & 0 & 0 & 0 & 0 & 0 & 0 & 0 & 0 & 0 & 0 & 0 & 0 & 0 & 0 & 0 & 0 & 0 & 0 & 0 & 0 & 0 & 0 & 0 & 0 & 0 & 0 & 0 & 0 & 0 & 0 & 0 & 0 & 0 & 0 & 0 & 0 & 0 & 0 & 0 & 0 & 0 & 0 & 0 & 0 & 0 & 0 & 0 & 0 & 0 & 0 & 0 & 0 & 0 & 0 & 0 & 0 & 0 & 0 & 0 & 0 & 0 & 0 & 0 & 0 & 0 & 0 & 0 & 0 & 0 & 0 & 0 & 0 & 0 & 0 & 0 & 0 & 0 & 0 & 0 & 1 & 1 & 1 & 1 & 10 & 1 & 1 & 1 & 1 & 0 & 0 & 0 & 0 & 0 & 0 & 0 & 0 & 0 & 0 & 0\\\\0 & 0 & 0 & 0 & 0 & 0 & 0 & 0 & 0 & 0 & 0 & 0 & 0 & 0 & 0 & 0 & 0 & 0 & 0 & 0 & 0 & 0 & 0 & 0 & 0 & 0 & 0 & 0 & 0 & 0 & 0 & 0 & 0 & 0 & 0 & 0 & 0 & 0 & 0 & 0 & 0 & 0 & 0 & 0 & 0 & 0 & 0 & 0 & 0 & 0 & 0 & 0 & 0 & 0 & 0 & 0 & 0 & 0 & 0 & 0 & 0 & 0 & 0 & 0 & 0 & 0 & 0 & 0 & 0 & 0 & 0 & 0 & 0 & 0 & 0 & 0 & 0 & 0 & 0 & 0 & 0 & 1 & 1 & 1 & 1 & 10 & 1 & 1 & 1 & 1 & 0 & 0 & 0 & 0 & 0 & 0 & 0 & 0 & 0 & 0\\\\0 & 0 & 0 & 0 & 0 & 0 & 0 & 0 & 0 & 0 & 0 & 0 & 0 & 0 & 0 & 0 & 0 & 0 & 0 & 0 & 0 & 0 & 0 & 0 & 0 & 0 & 0 & 0 & 0 & 0 & 0 & 0 & 0 & 0 & 0 & 0 & 0 & 0 & 0 & 0 & 0 & 0 & 0 & 0 & 0 & 0 & 0 & 0 & 0 & 0 & 0 & 0 & 0 & 0 & 0 & 0 & 0 & 0 & 0 & 0 & 0 & 0 & 0 & 0 & 0 & 0 & 0 & 0 & 0 & 0 & 0 & 0 & 0 & 0 & 0 & 0 & 0 & 0 & 0 & 0 & 0 & 0 & 1 & 1 & 1 & 1 & 10 & 1 & 1 & 1 & 1 & 0 & 0 & 0 & 0 & 0 & 0 & 0 & 0 & 0\\\\0 & 0 & 0 & 0 & 0 & 0 & 0 & 0 & 0 & 0 & 0 & 0 & 0 & 0 & 0 & 0 & 0 & 0 & 0 & 0 & 0 & 0 & 0 & 0 & 0 & 0 & 0 & 0 & 0 & 0 & 0 & 0 & 0 & 0 & 0 & 0 & 0 & 0 & 0 & 0 & 0 & 0 & 0 & 0 & 0 & 0 & 0 & 0 & 0 & 0 & 0 & 0 & 0 & 0 & 0 & 0 & 0 & 0 & 0 & 0 & 0 & 0 & 0 & 0 & 0 & 0 & 0 & 0 & 0 & 0 & 0 & 0 & 0 & 0 & 0 & 0 & 0 & 0 & 0 & 0 & 0 & 0 & 0 & 1 & 1 & 1 & 1 & 10 & 1 & 1 & 1 & 1 & 0 & 0 & 0 & 0 & 0 & 0 & 0 & 0\\\\0 & 0 & 0 & 0 & 0 & 0 & 0 & 0 & 0 & 0 & 0 & 0 & 0 & 0 & 0 & 0 & 0 & 0 & 0 & 0 & 0 & 0 & 0 & 0 & 0 & 0 & 0 & 0 & 0 & 0 & 0 & 0 & 0 & 0 & 0 & 0 & 0 & 0 & 0 & 0 & 0 & 0 & 0 & 0 & 0 & 0 & 0 & 0 & 0 & 0 & 0 & 0 & 0 & 0 & 0 & 0 & 0 & 0 & 0 & 0 & 0 & 0 & 0 & 0 & 0 & 0 & 0 & 0 & 0 & 0 & 0 & 0 & 0 & 0 & 0 & 0 & 0 & 0 & 0 & 0 & 0 & 0 & 0 & 0 & 1 & 1 & 1 & 1 & 10 & 1 & 1 & 1 & 1 & 0 & 0 & 0 & 0 & 0 & 0 & 0\\\\0 & 0 & 0 & 0 & 0 & 0 & 0 & 0 & 0 & 0 & 0 & 0 & 0 & 0 & 0 & 0 & 0 & 0 & 0 & 0 & 0 & 0 & 0 & 0 & 0 & 0 & 0 & 0 & 0 & 0 & 0 & 0 & 0 & 0 & 0 & 0 & 0 & 0 & 0 & 0 & 0 & 0 & 0 & 0 & 0 & 0 & 0 & 0 & 0 & 0 & 0 & 0 & 0 & 0 & 0 & 0 & 0 & 0 & 0 & 0 & 0 & 0 & 0 & 0 & 0 & 0 & 0 & 0 & 0 & 0 & 0 & 0 & 0 & 0 & 0 & 0 & 0 & 0 & 0 & 0 & 0 & 0 & 0 & 0 & 0 & 1 & 1 & 1 & 1 & 10 & 1 & 1 & 1 & 1 & 0 & 0 & 0 & 0 & 0 & 0\\\\0 & 0 & 0 & 0 & 0 & 0 & 0 & 0 & 0 & 0 & 0 & 0 & 0 & 0 & 0 & 0 & 0 & 0 & 0 & 0 & 0 & 0 & 0 & 0 & 0 & 0 & 0 & 0 & 0 & 0 & 0 & 0 & 0 & 0 & 0 & 0 & 0 & 0 & 0 & 0 & 0 & 0 & 0 & 0 & 0 & 0 & 0 & 0 & 0 & 0 & 0 & 0 & 0 & 0 & 0 & 0 & 0 & 0 & 0 & 0 & 0 & 0 & 0 & 0 & 0 & 0 & 0 & 0 & 0 & 0 & 0 & 0 & 0 & 0 & 0 & 0 & 0 & 0 & 0 & 0 & 0 & 0 & 0 & 0 & 0 & 0 & 1 & 1 & 1 & 1 & 10 & 1 & 1 & 1 & 1 & 0 & 0 & 0 & 0 & 0\\\\0 & 0 & 0 & 0 & 0 & 0 & 0 & 0 & 0 & 0 & 0 & 0 & 0 & 0 & 0 & 0 & 0 & 0 & 0 & 0 & 0 & 0 & 0 & 0 & 0 & 0 & 0 & 0 & 0 & 0 & 0 & 0 & 0 & 0 & 0 & 0 & 0 & 0 & 0 & 0 & 0 & 0 & 0 & 0 & 0 & 0 & 0 & 0 & 0 & 0 & 0 & 0 & 0 & 0 & 0 & 0 & 0 & 0 & 0 & 0 & 0 & 0 & 0 & 0 & 0 & 0 & 0 & 0 & 0 & 0 & 0 & 0 & 0 & 0 & 0 & 0 & 0 & 0 & 0 & 0 & 0 & 0 & 0 & 0 & 0 & 0 & 0 & 1 & 1 & 1 & 1 & 10 & 1 & 1 & 1 & 1 & 0 & 0 & 0 & 0\\\\0 & 0 & 0 & 0 & 0 & 0 & 0 & 0 & 0 & 0 & 0 & 0 & 0 & 0 & 0 & 0 & 0 & 0 & 0 & 0 & 0 & 0 & 0 & 0 & 0 & 0 & 0 & 0 & 0 & 0 & 0 & 0 & 0 & 0 & 0 & 0 & 0 & 0 & 0 & 0 & 0 & 0 & 0 & 0 & 0 & 0 & 0 & 0 & 0 & 0 & 0 & 0 & 0 & 0 & 0 & 0 & 0 & 0 & 0 & 0 & 0 & 0 & 0 & 0 & 0 & 0 & 0 & 0 & 0 & 0 & 0 & 0 & 0 & 0 & 0 & 0 & 0 & 0 & 0 & 0 & 0 & 0 & 0 & 0 & 0 & 0 & 0 & 0 & 1 & 1 & 1 & 1 & 10 & 1 & 1 & 1 & 1 & 0 & 0 & 0\\\\0 & 0 & 0 & 0 & 0 & 0 & 0 & 0 & 0 & 0 & 0 & 0 & 0 & 0 & 0 & 0 & 0 & 0 & 0 & 0 & 0 & 0 & 0 & 0 & 0 & 0 & 0 & 0 & 0 & 0 & 0 & 0 & 0 & 0 & 0 & 0 & 0 & 0 & 0 & 0 & 0 & 0 & 0 & 0 & 0 & 0 & 0 & 0 & 0 & 0 & 0 & 0 & 0 & 0 & 0 & 0 & 0 & 0 & 0 & 0 & 0 & 0 & 0 & 0 & 0 & 0 & 0 & 0 & 0 & 0 & 0 & 0 & 0 & 0 & 0 & 0 & 0 & 0 & 0 & 0 & 0 & 0 & 0 & 0 & 0 & 0 & 0 & 0 & 0 & 1 & 1 & 1 & 1 & 10 & 1 & 1 & 1 & 1 & 0 & 0\\\\0 & 0 & 0 & 0 & 0 & 0 & 0 & 0 & 0 & 0 & 0 & 0 & 0 & 0 & 0 & 0 & 0 & 0 & 0 & 0 & 0 & 0 & 0 & 0 & 0 & 0 & 0 & 0 & 0 & 0 & 0 & 0 & 0 & 0 & 0 & 0 & 0 & 0 & 0 & 0 & 0 & 0 & 0 & 0 & 0 & 0 & 0 & 0 & 0 & 0 & 0 & 0 & 0 & 0 & 0 & 0 & 0 & 0 & 0 & 0 & 0 & 0 & 0 & 0 & 0 & 0 & 0 & 0 & 0 & 0 & 0 & 0 & 0 & 0 & 0 & 0 & 0 & 0 & 0 & 0 & 0 & 0 & 0 & 0 & 0 & 0 & 0 & 0 & 0 & 0 & 1 & 1 & 1 & 1 & 10 & 1 & 1 & 1 & 1 & 0\\\\0 & 0 & 0 & 0 & 0 & 0 & 0 & 0 & 0 & 0 & 0 & 0 & 0 & 0 & 0 & 0 & 0 & 0 & 0 & 0 & 0 & 0 & 0 & 0 & 0 & 0 & 0 & 0 & 0 & 0 & 0 & 0 & 0 & 0 & 0 & 0 & 0 & 0 & 0 & 0 & 0 & 0 & 0 & 0 & 0 & 0 & 0 & 0 & 0 & 0 & 0 & 0 & 0 & 0 & 0 & 0 & 0 & 0 & 0 & 0 & 0 & 0 & 0 & 0 & 0 & 0 & 0 & 0 & 0 & 0 & 0 & 0 & 0 & 0 & 0 & 0 & 0 & 0 & 0 & 0 & 0 & 0 & 0 & 0 & 0 & 0 & 0 & 0 & 0 & 0 & 0 & 1 & 1 & 1 & 1 & 10 & 1 & 1 & 1 & 1\\\\0 & 0 & 0 & 0 & 0 & 0 & 0 & 0 & 0 & 0 & 0 & 0 & 0 & 0 & 0 & 0 & 0 & 0 & 0 & 0 & 0 & 0 & 0 & 0 & 0 & 0 & 0 & 0 & 0 & 0 & 0 & 0 & 0 & 0 & 0 & 0 & 0 & 0 & 0 & 0 & 0 & 0 & 0 & 0 & 0 & 0 & 0 & 0 & 0 & 0 & 0 & 0 & 0 & 0 & 0 & 0 & 0 & 0 & 0 & 0 & 0 & 0 & 0 & 0 & 0 & 0 & 0 & 0 & 0 & 0 & 0 & 0 & 0 & 0 & 0 & 0 & 0 & 0 & 0 & 0 & 0 & 0 & 0 & 0 & 0 & 0 & 0 & 0 & 0 & 0 & 0 & 0 & 1 & 1 & 1 & 1 & 10 & 1 & 1 & 1\\\\0 & 0 & 0 & 0 & 0 & 0 & 0 & 0 & 0 & 0 & 0 & 0 & 0 & 0 & 0 & 0 & 0 & 0 & 0 & 0 & 0 & 0 & 0 & 0 & 0 & 0 & 0 & 0 & 0 & 0 & 0 & 0 & 0 & 0 & 0 & 0 & 0 & 0 & 0 & 0 & 0 & 0 & 0 & 0 & 0 & 0 & 0 & 0 & 0 & 0 & 0 & 0 & 0 & 0 & 0 & 0 & 0 & 0 & 0 & 0 & 0 & 0 & 0 & 0 & 0 & 0 & 0 & 0 & 0 & 0 & 0 & 0 & 0 & 0 & 0 & 0 & 0 & 0 & 0 & 0 & 0 & 0 & 0 & 0 & 0 & 0 & 0 & 0 & 0 & 0 & 0 & 0 & 0 & 1 & 1 & 1 & 1 & 10 & 1 & 1\\\\0 & 0 & 0 & 0 & 0 & 0 & 0 & 0 & 0 & 0 & 0 & 0 & 0 & 0 & 0 & 0 & 0 & 0 & 0 & 0 & 0 & 0 & 0 & 0 & 0 & 0 & 0 & 0 & 0 & 0 & 0 & 0 & 0 & 0 & 0 & 0 & 0 & 0 & 0 & 0 & 0 & 0 & 0 & 0 & 0 & 0 & 0 & 0 & 0 & 0 & 0 & 0 & 0 & 0 & 0 & 0 & 0 & 0 & 0 & 0 & 0 & 0 & 0 & 0 & 0 & 0 & 0 & 0 & 0 & 0 & 0 & 0 & 0 & 0 & 0 & 0 & 0 & 0 & 0 & 0 & 0 & 0 & 0 & 0 & 0 & 0 & 0 & 0 & 0 & 0 & 0 & 0 & 0 & 0 & 1 & 1 & 1 & 1 & 10 & 1\\\\0 & 0 & 0 & 0 & 0 & 0 & 0 & 0 & 0 & 0 & 0 & 0 & 0 & 0 & 0 & 0 & 0 & 0 & 0 & 0 & 0 & 0 & 0 & 0 & 0 & 0 & 0 & 0 & 0 & 0 & 0 & 0 & 0 & 0 & 0 & 0 & 0 & 0 & 0 & 0 & 0 & 0 & 0 & 0 & 0 & 0 & 0 & 0 & 0 & 0 & 0 & 0 & 0 & 0 & 0 & 0 & 0 & 0 & 0 & 0 & 0 & 0 & 0 & 0 & 0 & 0 & 0 & 0 & 0 & 0 & 0 & 0 & 0 & 0 & 0 & 0 & 0 & 0 & 0 & 0 & 0 & 0 & 0 & 0 & 0 & 0 & 0 & 0 & 0 & 0 & 0 & 0 & 0 & 0 & 0 & 1 & 1 & 1 & 1 & 10\\end{array}\\right]$"
      ],
      "text/plain": [
       "Matrix([\n",
       "[10,  1,  1,  1,  1,  0,  0,  0,  0,  0,  0,  0,  0,  0,  0,  0,  0,  0,  0,  0,  0,  0,  0,  0,  0,  0,  0,  0,  0,  0,  0,  0,  0,  0,  0,  0,  0,  0,  0,  0,  0,  0,  0,  0,  0,  0,  0,  0,  0,  0,  0,  0,  0,  0,  0,  0,  0,  0,  0,  0,  0,  0,  0,  0,  0,  0,  0,  0,  0,  0,  0,  0,  0,  0,  0,  0,  0,  0,  0,  0,  0,  0,  0,  0,  0,  0,  0,  0,  0,  0,  0,  0,  0,  0,  0,  0,  0,  0,  0,  0],\n",
       "[ 1, 10,  1,  1,  1,  1,  0,  0,  0,  0,  0,  0,  0,  0,  0,  0,  0,  0,  0,  0,  0,  0,  0,  0,  0,  0,  0,  0,  0,  0,  0,  0,  0,  0,  0,  0,  0,  0,  0,  0,  0,  0,  0,  0,  0,  0,  0,  0,  0,  0,  0,  0,  0,  0,  0,  0,  0,  0,  0,  0,  0,  0,  0,  0,  0,  0,  0,  0,  0,  0,  0,  0,  0,  0,  0,  0,  0,  0,  0,  0,  0,  0,  0,  0,  0,  0,  0,  0,  0,  0,  0,  0,  0,  0,  0,  0,  0,  0,  0,  0],\n",
       "[ 1,  1, 10,  1,  1,  1,  1,  0,  0,  0,  0,  0,  0,  0,  0,  0,  0,  0,  0,  0,  0,  0,  0,  0,  0,  0,  0,  0,  0,  0,  0,  0,  0,  0,  0,  0,  0,  0,  0,  0,  0,  0,  0,  0,  0,  0,  0,  0,  0,  0,  0,  0,  0,  0,  0,  0,  0,  0,  0,  0,  0,  0,  0,  0,  0,  0,  0,  0,  0,  0,  0,  0,  0,  0,  0,  0,  0,  0,  0,  0,  0,  0,  0,  0,  0,  0,  0,  0,  0,  0,  0,  0,  0,  0,  0,  0,  0,  0,  0,  0],\n",
       "[ 1,  1,  1, 10,  1,  1,  1,  1,  0,  0,  0,  0,  0,  0,  0,  0,  0,  0,  0,  0,  0,  0,  0,  0,  0,  0,  0,  0,  0,  0,  0,  0,  0,  0,  0,  0,  0,  0,  0,  0,  0,  0,  0,  0,  0,  0,  0,  0,  0,  0,  0,  0,  0,  0,  0,  0,  0,  0,  0,  0,  0,  0,  0,  0,  0,  0,  0,  0,  0,  0,  0,  0,  0,  0,  0,  0,  0,  0,  0,  0,  0,  0,  0,  0,  0,  0,  0,  0,  0,  0,  0,  0,  0,  0,  0,  0,  0,  0,  0,  0],\n",
       "[ 1,  1,  1,  1, 10,  1,  1,  1,  1,  0,  0,  0,  0,  0,  0,  0,  0,  0,  0,  0,  0,  0,  0,  0,  0,  0,  0,  0,  0,  0,  0,  0,  0,  0,  0,  0,  0,  0,  0,  0,  0,  0,  0,  0,  0,  0,  0,  0,  0,  0,  0,  0,  0,  0,  0,  0,  0,  0,  0,  0,  0,  0,  0,  0,  0,  0,  0,  0,  0,  0,  0,  0,  0,  0,  0,  0,  0,  0,  0,  0,  0,  0,  0,  0,  0,  0,  0,  0,  0,  0,  0,  0,  0,  0,  0,  0,  0,  0,  0,  0],\n",
       "[ 0,  1,  1,  1,  1, 10,  1,  1,  1,  1,  0,  0,  0,  0,  0,  0,  0,  0,  0,  0,  0,  0,  0,  0,  0,  0,  0,  0,  0,  0,  0,  0,  0,  0,  0,  0,  0,  0,  0,  0,  0,  0,  0,  0,  0,  0,  0,  0,  0,  0,  0,  0,  0,  0,  0,  0,  0,  0,  0,  0,  0,  0,  0,  0,  0,  0,  0,  0,  0,  0,  0,  0,  0,  0,  0,  0,  0,  0,  0,  0,  0,  0,  0,  0,  0,  0,  0,  0,  0,  0,  0,  0,  0,  0,  0,  0,  0,  0,  0,  0],\n",
       "[ 0,  0,  1,  1,  1,  1, 10,  1,  1,  1,  1,  0,  0,  0,  0,  0,  0,  0,  0,  0,  0,  0,  0,  0,  0,  0,  0,  0,  0,  0,  0,  0,  0,  0,  0,  0,  0,  0,  0,  0,  0,  0,  0,  0,  0,  0,  0,  0,  0,  0,  0,  0,  0,  0,  0,  0,  0,  0,  0,  0,  0,  0,  0,  0,  0,  0,  0,  0,  0,  0,  0,  0,  0,  0,  0,  0,  0,  0,  0,  0,  0,  0,  0,  0,  0,  0,  0,  0,  0,  0,  0,  0,  0,  0,  0,  0,  0,  0,  0,  0],\n",
       "[ 0,  0,  0,  1,  1,  1,  1, 10,  1,  1,  1,  1,  0,  0,  0,  0,  0,  0,  0,  0,  0,  0,  0,  0,  0,  0,  0,  0,  0,  0,  0,  0,  0,  0,  0,  0,  0,  0,  0,  0,  0,  0,  0,  0,  0,  0,  0,  0,  0,  0,  0,  0,  0,  0,  0,  0,  0,  0,  0,  0,  0,  0,  0,  0,  0,  0,  0,  0,  0,  0,  0,  0,  0,  0,  0,  0,  0,  0,  0,  0,  0,  0,  0,  0,  0,  0,  0,  0,  0,  0,  0,  0,  0,  0,  0,  0,  0,  0,  0,  0],\n",
       "[ 0,  0,  0,  0,  1,  1,  1,  1, 10,  1,  1,  1,  1,  0,  0,  0,  0,  0,  0,  0,  0,  0,  0,  0,  0,  0,  0,  0,  0,  0,  0,  0,  0,  0,  0,  0,  0,  0,  0,  0,  0,  0,  0,  0,  0,  0,  0,  0,  0,  0,  0,  0,  0,  0,  0,  0,  0,  0,  0,  0,  0,  0,  0,  0,  0,  0,  0,  0,  0,  0,  0,  0,  0,  0,  0,  0,  0,  0,  0,  0,  0,  0,  0,  0,  0,  0,  0,  0,  0,  0,  0,  0,  0,  0,  0,  0,  0,  0,  0,  0],\n",
       "[ 0,  0,  0,  0,  0,  1,  1,  1,  1, 10,  1,  1,  1,  1,  0,  0,  0,  0,  0,  0,  0,  0,  0,  0,  0,  0,  0,  0,  0,  0,  0,  0,  0,  0,  0,  0,  0,  0,  0,  0,  0,  0,  0,  0,  0,  0,  0,  0,  0,  0,  0,  0,  0,  0,  0,  0,  0,  0,  0,  0,  0,  0,  0,  0,  0,  0,  0,  0,  0,  0,  0,  0,  0,  0,  0,  0,  0,  0,  0,  0,  0,  0,  0,  0,  0,  0,  0,  0,  0,  0,  0,  0,  0,  0,  0,  0,  0,  0,  0,  0],\n",
       "[ 0,  0,  0,  0,  0,  0,  1,  1,  1,  1, 10,  1,  1,  1,  1,  0,  0,  0,  0,  0,  0,  0,  0,  0,  0,  0,  0,  0,  0,  0,  0,  0,  0,  0,  0,  0,  0,  0,  0,  0,  0,  0,  0,  0,  0,  0,  0,  0,  0,  0,  0,  0,  0,  0,  0,  0,  0,  0,  0,  0,  0,  0,  0,  0,  0,  0,  0,  0,  0,  0,  0,  0,  0,  0,  0,  0,  0,  0,  0,  0,  0,  0,  0,  0,  0,  0,  0,  0,  0,  0,  0,  0,  0,  0,  0,  0,  0,  0,  0,  0],\n",
       "[ 0,  0,  0,  0,  0,  0,  0,  1,  1,  1,  1, 10,  1,  1,  1,  1,  0,  0,  0,  0,  0,  0,  0,  0,  0,  0,  0,  0,  0,  0,  0,  0,  0,  0,  0,  0,  0,  0,  0,  0,  0,  0,  0,  0,  0,  0,  0,  0,  0,  0,  0,  0,  0,  0,  0,  0,  0,  0,  0,  0,  0,  0,  0,  0,  0,  0,  0,  0,  0,  0,  0,  0,  0,  0,  0,  0,  0,  0,  0,  0,  0,  0,  0,  0,  0,  0,  0,  0,  0,  0,  0,  0,  0,  0,  0,  0,  0,  0,  0,  0],\n",
       "[ 0,  0,  0,  0,  0,  0,  0,  0,  1,  1,  1,  1, 10,  1,  1,  1,  1,  0,  0,  0,  0,  0,  0,  0,  0,  0,  0,  0,  0,  0,  0,  0,  0,  0,  0,  0,  0,  0,  0,  0,  0,  0,  0,  0,  0,  0,  0,  0,  0,  0,  0,  0,  0,  0,  0,  0,  0,  0,  0,  0,  0,  0,  0,  0,  0,  0,  0,  0,  0,  0,  0,  0,  0,  0,  0,  0,  0,  0,  0,  0,  0,  0,  0,  0,  0,  0,  0,  0,  0,  0,  0,  0,  0,  0,  0,  0,  0,  0,  0,  0],\n",
       "[ 0,  0,  0,  0,  0,  0,  0,  0,  0,  1,  1,  1,  1, 10,  1,  1,  1,  1,  0,  0,  0,  0,  0,  0,  0,  0,  0,  0,  0,  0,  0,  0,  0,  0,  0,  0,  0,  0,  0,  0,  0,  0,  0,  0,  0,  0,  0,  0,  0,  0,  0,  0,  0,  0,  0,  0,  0,  0,  0,  0,  0,  0,  0,  0,  0,  0,  0,  0,  0,  0,  0,  0,  0,  0,  0,  0,  0,  0,  0,  0,  0,  0,  0,  0,  0,  0,  0,  0,  0,  0,  0,  0,  0,  0,  0,  0,  0,  0,  0,  0],\n",
       "[ 0,  0,  0,  0,  0,  0,  0,  0,  0,  0,  1,  1,  1,  1, 10,  1,  1,  1,  1,  0,  0,  0,  0,  0,  0,  0,  0,  0,  0,  0,  0,  0,  0,  0,  0,  0,  0,  0,  0,  0,  0,  0,  0,  0,  0,  0,  0,  0,  0,  0,  0,  0,  0,  0,  0,  0,  0,  0,  0,  0,  0,  0,  0,  0,  0,  0,  0,  0,  0,  0,  0,  0,  0,  0,  0,  0,  0,  0,  0,  0,  0,  0,  0,  0,  0,  0,  0,  0,  0,  0,  0,  0,  0,  0,  0,  0,  0,  0,  0,  0],\n",
       "[ 0,  0,  0,  0,  0,  0,  0,  0,  0,  0,  0,  1,  1,  1,  1, 10,  1,  1,  1,  1,  0,  0,  0,  0,  0,  0,  0,  0,  0,  0,  0,  0,  0,  0,  0,  0,  0,  0,  0,  0,  0,  0,  0,  0,  0,  0,  0,  0,  0,  0,  0,  0,  0,  0,  0,  0,  0,  0,  0,  0,  0,  0,  0,  0,  0,  0,  0,  0,  0,  0,  0,  0,  0,  0,  0,  0,  0,  0,  0,  0,  0,  0,  0,  0,  0,  0,  0,  0,  0,  0,  0,  0,  0,  0,  0,  0,  0,  0,  0,  0],\n",
       "[ 0,  0,  0,  0,  0,  0,  0,  0,  0,  0,  0,  0,  1,  1,  1,  1, 10,  1,  1,  1,  1,  0,  0,  0,  0,  0,  0,  0,  0,  0,  0,  0,  0,  0,  0,  0,  0,  0,  0,  0,  0,  0,  0,  0,  0,  0,  0,  0,  0,  0,  0,  0,  0,  0,  0,  0,  0,  0,  0,  0,  0,  0,  0,  0,  0,  0,  0,  0,  0,  0,  0,  0,  0,  0,  0,  0,  0,  0,  0,  0,  0,  0,  0,  0,  0,  0,  0,  0,  0,  0,  0,  0,  0,  0,  0,  0,  0,  0,  0,  0],\n",
       "[ 0,  0,  0,  0,  0,  0,  0,  0,  0,  0,  0,  0,  0,  1,  1,  1,  1, 10,  1,  1,  1,  1,  0,  0,  0,  0,  0,  0,  0,  0,  0,  0,  0,  0,  0,  0,  0,  0,  0,  0,  0,  0,  0,  0,  0,  0,  0,  0,  0,  0,  0,  0,  0,  0,  0,  0,  0,  0,  0,  0,  0,  0,  0,  0,  0,  0,  0,  0,  0,  0,  0,  0,  0,  0,  0,  0,  0,  0,  0,  0,  0,  0,  0,  0,  0,  0,  0,  0,  0,  0,  0,  0,  0,  0,  0,  0,  0,  0,  0,  0],\n",
       "[ 0,  0,  0,  0,  0,  0,  0,  0,  0,  0,  0,  0,  0,  0,  1,  1,  1,  1, 10,  1,  1,  1,  1,  0,  0,  0,  0,  0,  0,  0,  0,  0,  0,  0,  0,  0,  0,  0,  0,  0,  0,  0,  0,  0,  0,  0,  0,  0,  0,  0,  0,  0,  0,  0,  0,  0,  0,  0,  0,  0,  0,  0,  0,  0,  0,  0,  0,  0,  0,  0,  0,  0,  0,  0,  0,  0,  0,  0,  0,  0,  0,  0,  0,  0,  0,  0,  0,  0,  0,  0,  0,  0,  0,  0,  0,  0,  0,  0,  0,  0],\n",
       "[ 0,  0,  0,  0,  0,  0,  0,  0,  0,  0,  0,  0,  0,  0,  0,  1,  1,  1,  1, 10,  1,  1,  1,  1,  0,  0,  0,  0,  0,  0,  0,  0,  0,  0,  0,  0,  0,  0,  0,  0,  0,  0,  0,  0,  0,  0,  0,  0,  0,  0,  0,  0,  0,  0,  0,  0,  0,  0,  0,  0,  0,  0,  0,  0,  0,  0,  0,  0,  0,  0,  0,  0,  0,  0,  0,  0,  0,  0,  0,  0,  0,  0,  0,  0,  0,  0,  0,  0,  0,  0,  0,  0,  0,  0,  0,  0,  0,  0,  0,  0],\n",
       "[ 0,  0,  0,  0,  0,  0,  0,  0,  0,  0,  0,  0,  0,  0,  0,  0,  1,  1,  1,  1, 10,  1,  1,  1,  1,  0,  0,  0,  0,  0,  0,  0,  0,  0,  0,  0,  0,  0,  0,  0,  0,  0,  0,  0,  0,  0,  0,  0,  0,  0,  0,  0,  0,  0,  0,  0,  0,  0,  0,  0,  0,  0,  0,  0,  0,  0,  0,  0,  0,  0,  0,  0,  0,  0,  0,  0,  0,  0,  0,  0,  0,  0,  0,  0,  0,  0,  0,  0,  0,  0,  0,  0,  0,  0,  0,  0,  0,  0,  0,  0],\n",
       "[ 0,  0,  0,  0,  0,  0,  0,  0,  0,  0,  0,  0,  0,  0,  0,  0,  0,  1,  1,  1,  1, 10,  1,  1,  1,  1,  0,  0,  0,  0,  0,  0,  0,  0,  0,  0,  0,  0,  0,  0,  0,  0,  0,  0,  0,  0,  0,  0,  0,  0,  0,  0,  0,  0,  0,  0,  0,  0,  0,  0,  0,  0,  0,  0,  0,  0,  0,  0,  0,  0,  0,  0,  0,  0,  0,  0,  0,  0,  0,  0,  0,  0,  0,  0,  0,  0,  0,  0,  0,  0,  0,  0,  0,  0,  0,  0,  0,  0,  0,  0],\n",
       "[ 0,  0,  0,  0,  0,  0,  0,  0,  0,  0,  0,  0,  0,  0,  0,  0,  0,  0,  1,  1,  1,  1, 10,  1,  1,  1,  1,  0,  0,  0,  0,  0,  0,  0,  0,  0,  0,  0,  0,  0,  0,  0,  0,  0,  0,  0,  0,  0,  0,  0,  0,  0,  0,  0,  0,  0,  0,  0,  0,  0,  0,  0,  0,  0,  0,  0,  0,  0,  0,  0,  0,  0,  0,  0,  0,  0,  0,  0,  0,  0,  0,  0,  0,  0,  0,  0,  0,  0,  0,  0,  0,  0,  0,  0,  0,  0,  0,  0,  0,  0],\n",
       "[ 0,  0,  0,  0,  0,  0,  0,  0,  0,  0,  0,  0,  0,  0,  0,  0,  0,  0,  0,  1,  1,  1,  1, 10,  1,  1,  1,  1,  0,  0,  0,  0,  0,  0,  0,  0,  0,  0,  0,  0,  0,  0,  0,  0,  0,  0,  0,  0,  0,  0,  0,  0,  0,  0,  0,  0,  0,  0,  0,  0,  0,  0,  0,  0,  0,  0,  0,  0,  0,  0,  0,  0,  0,  0,  0,  0,  0,  0,  0,  0,  0,  0,  0,  0,  0,  0,  0,  0,  0,  0,  0,  0,  0,  0,  0,  0,  0,  0,  0,  0],\n",
       "[ 0,  0,  0,  0,  0,  0,  0,  0,  0,  0,  0,  0,  0,  0,  0,  0,  0,  0,  0,  0,  1,  1,  1,  1, 10,  1,  1,  1,  1,  0,  0,  0,  0,  0,  0,  0,  0,  0,  0,  0,  0,  0,  0,  0,  0,  0,  0,  0,  0,  0,  0,  0,  0,  0,  0,  0,  0,  0,  0,  0,  0,  0,  0,  0,  0,  0,  0,  0,  0,  0,  0,  0,  0,  0,  0,  0,  0,  0,  0,  0,  0,  0,  0,  0,  0,  0,  0,  0,  0,  0,  0,  0,  0,  0,  0,  0,  0,  0,  0,  0],\n",
       "[ 0,  0,  0,  0,  0,  0,  0,  0,  0,  0,  0,  0,  0,  0,  0,  0,  0,  0,  0,  0,  0,  1,  1,  1,  1, 10,  1,  1,  1,  1,  0,  0,  0,  0,  0,  0,  0,  0,  0,  0,  0,  0,  0,  0,  0,  0,  0,  0,  0,  0,  0,  0,  0,  0,  0,  0,  0,  0,  0,  0,  0,  0,  0,  0,  0,  0,  0,  0,  0,  0,  0,  0,  0,  0,  0,  0,  0,  0,  0,  0,  0,  0,  0,  0,  0,  0,  0,  0,  0,  0,  0,  0,  0,  0,  0,  0,  0,  0,  0,  0],\n",
       "[ 0,  0,  0,  0,  0,  0,  0,  0,  0,  0,  0,  0,  0,  0,  0,  0,  0,  0,  0,  0,  0,  0,  1,  1,  1,  1, 10,  1,  1,  1,  1,  0,  0,  0,  0,  0,  0,  0,  0,  0,  0,  0,  0,  0,  0,  0,  0,  0,  0,  0,  0,  0,  0,  0,  0,  0,  0,  0,  0,  0,  0,  0,  0,  0,  0,  0,  0,  0,  0,  0,  0,  0,  0,  0,  0,  0,  0,  0,  0,  0,  0,  0,  0,  0,  0,  0,  0,  0,  0,  0,  0,  0,  0,  0,  0,  0,  0,  0,  0,  0],\n",
       "[ 0,  0,  0,  0,  0,  0,  0,  0,  0,  0,  0,  0,  0,  0,  0,  0,  0,  0,  0,  0,  0,  0,  0,  1,  1,  1,  1, 10,  1,  1,  1,  1,  0,  0,  0,  0,  0,  0,  0,  0,  0,  0,  0,  0,  0,  0,  0,  0,  0,  0,  0,  0,  0,  0,  0,  0,  0,  0,  0,  0,  0,  0,  0,  0,  0,  0,  0,  0,  0,  0,  0,  0,  0,  0,  0,  0,  0,  0,  0,  0,  0,  0,  0,  0,  0,  0,  0,  0,  0,  0,  0,  0,  0,  0,  0,  0,  0,  0,  0,  0],\n",
       "[ 0,  0,  0,  0,  0,  0,  0,  0,  0,  0,  0,  0,  0,  0,  0,  0,  0,  0,  0,  0,  0,  0,  0,  0,  1,  1,  1,  1, 10,  1,  1,  1,  1,  0,  0,  0,  0,  0,  0,  0,  0,  0,  0,  0,  0,  0,  0,  0,  0,  0,  0,  0,  0,  0,  0,  0,  0,  0,  0,  0,  0,  0,  0,  0,  0,  0,  0,  0,  0,  0,  0,  0,  0,  0,  0,  0,  0,  0,  0,  0,  0,  0,  0,  0,  0,  0,  0,  0,  0,  0,  0,  0,  0,  0,  0,  0,  0,  0,  0,  0],\n",
       "[ 0,  0,  0,  0,  0,  0,  0,  0,  0,  0,  0,  0,  0,  0,  0,  0,  0,  0,  0,  0,  0,  0,  0,  0,  0,  1,  1,  1,  1, 10,  1,  1,  1,  1,  0,  0,  0,  0,  0,  0,  0,  0,  0,  0,  0,  0,  0,  0,  0,  0,  0,  0,  0,  0,  0,  0,  0,  0,  0,  0,  0,  0,  0,  0,  0,  0,  0,  0,  0,  0,  0,  0,  0,  0,  0,  0,  0,  0,  0,  0,  0,  0,  0,  0,  0,  0,  0,  0,  0,  0,  0,  0,  0,  0,  0,  0,  0,  0,  0,  0],\n",
       "[ 0,  0,  0,  0,  0,  0,  0,  0,  0,  0,  0,  0,  0,  0,  0,  0,  0,  0,  0,  0,  0,  0,  0,  0,  0,  0,  1,  1,  1,  1, 10,  1,  1,  1,  1,  0,  0,  0,  0,  0,  0,  0,  0,  0,  0,  0,  0,  0,  0,  0,  0,  0,  0,  0,  0,  0,  0,  0,  0,  0,  0,  0,  0,  0,  0,  0,  0,  0,  0,  0,  0,  0,  0,  0,  0,  0,  0,  0,  0,  0,  0,  0,  0,  0,  0,  0,  0,  0,  0,  0,  0,  0,  0,  0,  0,  0,  0,  0,  0,  0],\n",
       "[ 0,  0,  0,  0,  0,  0,  0,  0,  0,  0,  0,  0,  0,  0,  0,  0,  0,  0,  0,  0,  0,  0,  0,  0,  0,  0,  0,  1,  1,  1,  1, 10,  1,  1,  1,  1,  0,  0,  0,  0,  0,  0,  0,  0,  0,  0,  0,  0,  0,  0,  0,  0,  0,  0,  0,  0,  0,  0,  0,  0,  0,  0,  0,  0,  0,  0,  0,  0,  0,  0,  0,  0,  0,  0,  0,  0,  0,  0,  0,  0,  0,  0,  0,  0,  0,  0,  0,  0,  0,  0,  0,  0,  0,  0,  0,  0,  0,  0,  0,  0],\n",
       "[ 0,  0,  0,  0,  0,  0,  0,  0,  0,  0,  0,  0,  0,  0,  0,  0,  0,  0,  0,  0,  0,  0,  0,  0,  0,  0,  0,  0,  1,  1,  1,  1, 10,  1,  1,  1,  1,  0,  0,  0,  0,  0,  0,  0,  0,  0,  0,  0,  0,  0,  0,  0,  0,  0,  0,  0,  0,  0,  0,  0,  0,  0,  0,  0,  0,  0,  0,  0,  0,  0,  0,  0,  0,  0,  0,  0,  0,  0,  0,  0,  0,  0,  0,  0,  0,  0,  0,  0,  0,  0,  0,  0,  0,  0,  0,  0,  0,  0,  0,  0],\n",
       "[ 0,  0,  0,  0,  0,  0,  0,  0,  0,  0,  0,  0,  0,  0,  0,  0,  0,  0,  0,  0,  0,  0,  0,  0,  0,  0,  0,  0,  0,  1,  1,  1,  1, 10,  1,  1,  1,  1,  0,  0,  0,  0,  0,  0,  0,  0,  0,  0,  0,  0,  0,  0,  0,  0,  0,  0,  0,  0,  0,  0,  0,  0,  0,  0,  0,  0,  0,  0,  0,  0,  0,  0,  0,  0,  0,  0,  0,  0,  0,  0,  0,  0,  0,  0,  0,  0,  0,  0,  0,  0,  0,  0,  0,  0,  0,  0,  0,  0,  0,  0],\n",
       "[ 0,  0,  0,  0,  0,  0,  0,  0,  0,  0,  0,  0,  0,  0,  0,  0,  0,  0,  0,  0,  0,  0,  0,  0,  0,  0,  0,  0,  0,  0,  1,  1,  1,  1, 10,  1,  1,  1,  1,  0,  0,  0,  0,  0,  0,  0,  0,  0,  0,  0,  0,  0,  0,  0,  0,  0,  0,  0,  0,  0,  0,  0,  0,  0,  0,  0,  0,  0,  0,  0,  0,  0,  0,  0,  0,  0,  0,  0,  0,  0,  0,  0,  0,  0,  0,  0,  0,  0,  0,  0,  0,  0,  0,  0,  0,  0,  0,  0,  0,  0],\n",
       "[ 0,  0,  0,  0,  0,  0,  0,  0,  0,  0,  0,  0,  0,  0,  0,  0,  0,  0,  0,  0,  0,  0,  0,  0,  0,  0,  0,  0,  0,  0,  0,  1,  1,  1,  1, 10,  1,  1,  1,  1,  0,  0,  0,  0,  0,  0,  0,  0,  0,  0,  0,  0,  0,  0,  0,  0,  0,  0,  0,  0,  0,  0,  0,  0,  0,  0,  0,  0,  0,  0,  0,  0,  0,  0,  0,  0,  0,  0,  0,  0,  0,  0,  0,  0,  0,  0,  0,  0,  0,  0,  0,  0,  0,  0,  0,  0,  0,  0,  0,  0],\n",
       "[ 0,  0,  0,  0,  0,  0,  0,  0,  0,  0,  0,  0,  0,  0,  0,  0,  0,  0,  0,  0,  0,  0,  0,  0,  0,  0,  0,  0,  0,  0,  0,  0,  1,  1,  1,  1, 10,  1,  1,  1,  1,  0,  0,  0,  0,  0,  0,  0,  0,  0,  0,  0,  0,  0,  0,  0,  0,  0,  0,  0,  0,  0,  0,  0,  0,  0,  0,  0,  0,  0,  0,  0,  0,  0,  0,  0,  0,  0,  0,  0,  0,  0,  0,  0,  0,  0,  0,  0,  0,  0,  0,  0,  0,  0,  0,  0,  0,  0,  0,  0],\n",
       "[ 0,  0,  0,  0,  0,  0,  0,  0,  0,  0,  0,  0,  0,  0,  0,  0,  0,  0,  0,  0,  0,  0,  0,  0,  0,  0,  0,  0,  0,  0,  0,  0,  0,  1,  1,  1,  1, 10,  1,  1,  1,  1,  0,  0,  0,  0,  0,  0,  0,  0,  0,  0,  0,  0,  0,  0,  0,  0,  0,  0,  0,  0,  0,  0,  0,  0,  0,  0,  0,  0,  0,  0,  0,  0,  0,  0,  0,  0,  0,  0,  0,  0,  0,  0,  0,  0,  0,  0,  0,  0,  0,  0,  0,  0,  0,  0,  0,  0,  0,  0],\n",
       "[ 0,  0,  0,  0,  0,  0,  0,  0,  0,  0,  0,  0,  0,  0,  0,  0,  0,  0,  0,  0,  0,  0,  0,  0,  0,  0,  0,  0,  0,  0,  0,  0,  0,  0,  1,  1,  1,  1, 10,  1,  1,  1,  1,  0,  0,  0,  0,  0,  0,  0,  0,  0,  0,  0,  0,  0,  0,  0,  0,  0,  0,  0,  0,  0,  0,  0,  0,  0,  0,  0,  0,  0,  0,  0,  0,  0,  0,  0,  0,  0,  0,  0,  0,  0,  0,  0,  0,  0,  0,  0,  0,  0,  0,  0,  0,  0,  0,  0,  0,  0],\n",
       "[ 0,  0,  0,  0,  0,  0,  0,  0,  0,  0,  0,  0,  0,  0,  0,  0,  0,  0,  0,  0,  0,  0,  0,  0,  0,  0,  0,  0,  0,  0,  0,  0,  0,  0,  0,  1,  1,  1,  1, 10,  1,  1,  1,  1,  0,  0,  0,  0,  0,  0,  0,  0,  0,  0,  0,  0,  0,  0,  0,  0,  0,  0,  0,  0,  0,  0,  0,  0,  0,  0,  0,  0,  0,  0,  0,  0,  0,  0,  0,  0,  0,  0,  0,  0,  0,  0,  0,  0,  0,  0,  0,  0,  0,  0,  0,  0,  0,  0,  0,  0],\n",
       "[ 0,  0,  0,  0,  0,  0,  0,  0,  0,  0,  0,  0,  0,  0,  0,  0,  0,  0,  0,  0,  0,  0,  0,  0,  0,  0,  0,  0,  0,  0,  0,  0,  0,  0,  0,  0,  1,  1,  1,  1, 10,  1,  1,  1,  1,  0,  0,  0,  0,  0,  0,  0,  0,  0,  0,  0,  0,  0,  0,  0,  0,  0,  0,  0,  0,  0,  0,  0,  0,  0,  0,  0,  0,  0,  0,  0,  0,  0,  0,  0,  0,  0,  0,  0,  0,  0,  0,  0,  0,  0,  0,  0,  0,  0,  0,  0,  0,  0,  0,  0],\n",
       "[ 0,  0,  0,  0,  0,  0,  0,  0,  0,  0,  0,  0,  0,  0,  0,  0,  0,  0,  0,  0,  0,  0,  0,  0,  0,  0,  0,  0,  0,  0,  0,  0,  0,  0,  0,  0,  0,  1,  1,  1,  1, 10,  1,  1,  1,  1,  0,  0,  0,  0,  0,  0,  0,  0,  0,  0,  0,  0,  0,  0,  0,  0,  0,  0,  0,  0,  0,  0,  0,  0,  0,  0,  0,  0,  0,  0,  0,  0,  0,  0,  0,  0,  0,  0,  0,  0,  0,  0,  0,  0,  0,  0,  0,  0,  0,  0,  0,  0,  0,  0],\n",
       "[ 0,  0,  0,  0,  0,  0,  0,  0,  0,  0,  0,  0,  0,  0,  0,  0,  0,  0,  0,  0,  0,  0,  0,  0,  0,  0,  0,  0,  0,  0,  0,  0,  0,  0,  0,  0,  0,  0,  1,  1,  1,  1, 10,  1,  1,  1,  1,  0,  0,  0,  0,  0,  0,  0,  0,  0,  0,  0,  0,  0,  0,  0,  0,  0,  0,  0,  0,  0,  0,  0,  0,  0,  0,  0,  0,  0,  0,  0,  0,  0,  0,  0,  0,  0,  0,  0,  0,  0,  0,  0,  0,  0,  0,  0,  0,  0,  0,  0,  0,  0],\n",
       "[ 0,  0,  0,  0,  0,  0,  0,  0,  0,  0,  0,  0,  0,  0,  0,  0,  0,  0,  0,  0,  0,  0,  0,  0,  0,  0,  0,  0,  0,  0,  0,  0,  0,  0,  0,  0,  0,  0,  0,  1,  1,  1,  1, 10,  1,  1,  1,  1,  0,  0,  0,  0,  0,  0,  0,  0,  0,  0,  0,  0,  0,  0,  0,  0,  0,  0,  0,  0,  0,  0,  0,  0,  0,  0,  0,  0,  0,  0,  0,  0,  0,  0,  0,  0,  0,  0,  0,  0,  0,  0,  0,  0,  0,  0,  0,  0,  0,  0,  0,  0],\n",
       "[ 0,  0,  0,  0,  0,  0,  0,  0,  0,  0,  0,  0,  0,  0,  0,  0,  0,  0,  0,  0,  0,  0,  0,  0,  0,  0,  0,  0,  0,  0,  0,  0,  0,  0,  0,  0,  0,  0,  0,  0,  1,  1,  1,  1, 10,  1,  1,  1,  1,  0,  0,  0,  0,  0,  0,  0,  0,  0,  0,  0,  0,  0,  0,  0,  0,  0,  0,  0,  0,  0,  0,  0,  0,  0,  0,  0,  0,  0,  0,  0,  0,  0,  0,  0,  0,  0,  0,  0,  0,  0,  0,  0,  0,  0,  0,  0,  0,  0,  0,  0],\n",
       "[ 0,  0,  0,  0,  0,  0,  0,  0,  0,  0,  0,  0,  0,  0,  0,  0,  0,  0,  0,  0,  0,  0,  0,  0,  0,  0,  0,  0,  0,  0,  0,  0,  0,  0,  0,  0,  0,  0,  0,  0,  0,  1,  1,  1,  1, 10,  1,  1,  1,  1,  0,  0,  0,  0,  0,  0,  0,  0,  0,  0,  0,  0,  0,  0,  0,  0,  0,  0,  0,  0,  0,  0,  0,  0,  0,  0,  0,  0,  0,  0,  0,  0,  0,  0,  0,  0,  0,  0,  0,  0,  0,  0,  0,  0,  0,  0,  0,  0,  0,  0],\n",
       "[ 0,  0,  0,  0,  0,  0,  0,  0,  0,  0,  0,  0,  0,  0,  0,  0,  0,  0,  0,  0,  0,  0,  0,  0,  0,  0,  0,  0,  0,  0,  0,  0,  0,  0,  0,  0,  0,  0,  0,  0,  0,  0,  1,  1,  1,  1, 10,  1,  1,  1,  1,  0,  0,  0,  0,  0,  0,  0,  0,  0,  0,  0,  0,  0,  0,  0,  0,  0,  0,  0,  0,  0,  0,  0,  0,  0,  0,  0,  0,  0,  0,  0,  0,  0,  0,  0,  0,  0,  0,  0,  0,  0,  0,  0,  0,  0,  0,  0,  0,  0],\n",
       "[ 0,  0,  0,  0,  0,  0,  0,  0,  0,  0,  0,  0,  0,  0,  0,  0,  0,  0,  0,  0,  0,  0,  0,  0,  0,  0,  0,  0,  0,  0,  0,  0,  0,  0,  0,  0,  0,  0,  0,  0,  0,  0,  0,  1,  1,  1,  1, 10,  1,  1,  1,  1,  0,  0,  0,  0,  0,  0,  0,  0,  0,  0,  0,  0,  0,  0,  0,  0,  0,  0,  0,  0,  0,  0,  0,  0,  0,  0,  0,  0,  0,  0,  0,  0,  0,  0,  0,  0,  0,  0,  0,  0,  0,  0,  0,  0,  0,  0,  0,  0],\n",
       "[ 0,  0,  0,  0,  0,  0,  0,  0,  0,  0,  0,  0,  0,  0,  0,  0,  0,  0,  0,  0,  0,  0,  0,  0,  0,  0,  0,  0,  0,  0,  0,  0,  0,  0,  0,  0,  0,  0,  0,  0,  0,  0,  0,  0,  1,  1,  1,  1, 10,  1,  1,  1,  1,  0,  0,  0,  0,  0,  0,  0,  0,  0,  0,  0,  0,  0,  0,  0,  0,  0,  0,  0,  0,  0,  0,  0,  0,  0,  0,  0,  0,  0,  0,  0,  0,  0,  0,  0,  0,  0,  0,  0,  0,  0,  0,  0,  0,  0,  0,  0],\n",
       "[ 0,  0,  0,  0,  0,  0,  0,  0,  0,  0,  0,  0,  0,  0,  0,  0,  0,  0,  0,  0,  0,  0,  0,  0,  0,  0,  0,  0,  0,  0,  0,  0,  0,  0,  0,  0,  0,  0,  0,  0,  0,  0,  0,  0,  0,  1,  1,  1,  1, 10,  1,  1,  1,  1,  0,  0,  0,  0,  0,  0,  0,  0,  0,  0,  0,  0,  0,  0,  0,  0,  0,  0,  0,  0,  0,  0,  0,  0,  0,  0,  0,  0,  0,  0,  0,  0,  0,  0,  0,  0,  0,  0,  0,  0,  0,  0,  0,  0,  0,  0],\n",
       "[ 0,  0,  0,  0,  0,  0,  0,  0,  0,  0,  0,  0,  0,  0,  0,  0,  0,  0,  0,  0,  0,  0,  0,  0,  0,  0,  0,  0,  0,  0,  0,  0,  0,  0,  0,  0,  0,  0,  0,  0,  0,  0,  0,  0,  0,  0,  1,  1,  1,  1, 10,  1,  1,  1,  1,  0,  0,  0,  0,  0,  0,  0,  0,  0,  0,  0,  0,  0,  0,  0,  0,  0,  0,  0,  0,  0,  0,  0,  0,  0,  0,  0,  0,  0,  0,  0,  0,  0,  0,  0,  0,  0,  0,  0,  0,  0,  0,  0,  0,  0],\n",
       "[ 0,  0,  0,  0,  0,  0,  0,  0,  0,  0,  0,  0,  0,  0,  0,  0,  0,  0,  0,  0,  0,  0,  0,  0,  0,  0,  0,  0,  0,  0,  0,  0,  0,  0,  0,  0,  0,  0,  0,  0,  0,  0,  0,  0,  0,  0,  0,  1,  1,  1,  1, 10,  1,  1,  1,  1,  0,  0,  0,  0,  0,  0,  0,  0,  0,  0,  0,  0,  0,  0,  0,  0,  0,  0,  0,  0,  0,  0,  0,  0,  0,  0,  0,  0,  0,  0,  0,  0,  0,  0,  0,  0,  0,  0,  0,  0,  0,  0,  0,  0],\n",
       "[ 0,  0,  0,  0,  0,  0,  0,  0,  0,  0,  0,  0,  0,  0,  0,  0,  0,  0,  0,  0,  0,  0,  0,  0,  0,  0,  0,  0,  0,  0,  0,  0,  0,  0,  0,  0,  0,  0,  0,  0,  0,  0,  0,  0,  0,  0,  0,  0,  1,  1,  1,  1, 10,  1,  1,  1,  1,  0,  0,  0,  0,  0,  0,  0,  0,  0,  0,  0,  0,  0,  0,  0,  0,  0,  0,  0,  0,  0,  0,  0,  0,  0,  0,  0,  0,  0,  0,  0,  0,  0,  0,  0,  0,  0,  0,  0,  0,  0,  0,  0],\n",
       "[ 0,  0,  0,  0,  0,  0,  0,  0,  0,  0,  0,  0,  0,  0,  0,  0,  0,  0,  0,  0,  0,  0,  0,  0,  0,  0,  0,  0,  0,  0,  0,  0,  0,  0,  0,  0,  0,  0,  0,  0,  0,  0,  0,  0,  0,  0,  0,  0,  0,  1,  1,  1,  1, 10,  1,  1,  1,  1,  0,  0,  0,  0,  0,  0,  0,  0,  0,  0,  0,  0,  0,  0,  0,  0,  0,  0,  0,  0,  0,  0,  0,  0,  0,  0,  0,  0,  0,  0,  0,  0,  0,  0,  0,  0,  0,  0,  0,  0,  0,  0],\n",
       "[ 0,  0,  0,  0,  0,  0,  0,  0,  0,  0,  0,  0,  0,  0,  0,  0,  0,  0,  0,  0,  0,  0,  0,  0,  0,  0,  0,  0,  0,  0,  0,  0,  0,  0,  0,  0,  0,  0,  0,  0,  0,  0,  0,  0,  0,  0,  0,  0,  0,  0,  1,  1,  1,  1, 10,  1,  1,  1,  1,  0,  0,  0,  0,  0,  0,  0,  0,  0,  0,  0,  0,  0,  0,  0,  0,  0,  0,  0,  0,  0,  0,  0,  0,  0,  0,  0,  0,  0,  0,  0,  0,  0,  0,  0,  0,  0,  0,  0,  0,  0],\n",
       "[ 0,  0,  0,  0,  0,  0,  0,  0,  0,  0,  0,  0,  0,  0,  0,  0,  0,  0,  0,  0,  0,  0,  0,  0,  0,  0,  0,  0,  0,  0,  0,  0,  0,  0,  0,  0,  0,  0,  0,  0,  0,  0,  0,  0,  0,  0,  0,  0,  0,  0,  0,  1,  1,  1,  1, 10,  1,  1,  1,  1,  0,  0,  0,  0,  0,  0,  0,  0,  0,  0,  0,  0,  0,  0,  0,  0,  0,  0,  0,  0,  0,  0,  0,  0,  0,  0,  0,  0,  0,  0,  0,  0,  0,  0,  0,  0,  0,  0,  0,  0],\n",
       "[ 0,  0,  0,  0,  0,  0,  0,  0,  0,  0,  0,  0,  0,  0,  0,  0,  0,  0,  0,  0,  0,  0,  0,  0,  0,  0,  0,  0,  0,  0,  0,  0,  0,  0,  0,  0,  0,  0,  0,  0,  0,  0,  0,  0,  0,  0,  0,  0,  0,  0,  0,  0,  1,  1,  1,  1, 10,  1,  1,  1,  1,  0,  0,  0,  0,  0,  0,  0,  0,  0,  0,  0,  0,  0,  0,  0,  0,  0,  0,  0,  0,  0,  0,  0,  0,  0,  0,  0,  0,  0,  0,  0,  0,  0,  0,  0,  0,  0,  0,  0],\n",
       "[ 0,  0,  0,  0,  0,  0,  0,  0,  0,  0,  0,  0,  0,  0,  0,  0,  0,  0,  0,  0,  0,  0,  0,  0,  0,  0,  0,  0,  0,  0,  0,  0,  0,  0,  0,  0,  0,  0,  0,  0,  0,  0,  0,  0,  0,  0,  0,  0,  0,  0,  0,  0,  0,  1,  1,  1,  1, 10,  1,  1,  1,  1,  0,  0,  0,  0,  0,  0,  0,  0,  0,  0,  0,  0,  0,  0,  0,  0,  0,  0,  0,  0,  0,  0,  0,  0,  0,  0,  0,  0,  0,  0,  0,  0,  0,  0,  0,  0,  0,  0],\n",
       "[ 0,  0,  0,  0,  0,  0,  0,  0,  0,  0,  0,  0,  0,  0,  0,  0,  0,  0,  0,  0,  0,  0,  0,  0,  0,  0,  0,  0,  0,  0,  0,  0,  0,  0,  0,  0,  0,  0,  0,  0,  0,  0,  0,  0,  0,  0,  0,  0,  0,  0,  0,  0,  0,  0,  1,  1,  1,  1, 10,  1,  1,  1,  1,  0,  0,  0,  0,  0,  0,  0,  0,  0,  0,  0,  0,  0,  0,  0,  0,  0,  0,  0,  0,  0,  0,  0,  0,  0,  0,  0,  0,  0,  0,  0,  0,  0,  0,  0,  0,  0],\n",
       "[ 0,  0,  0,  0,  0,  0,  0,  0,  0,  0,  0,  0,  0,  0,  0,  0,  0,  0,  0,  0,  0,  0,  0,  0,  0,  0,  0,  0,  0,  0,  0,  0,  0,  0,  0,  0,  0,  0,  0,  0,  0,  0,  0,  0,  0,  0,  0,  0,  0,  0,  0,  0,  0,  0,  0,  1,  1,  1,  1, 10,  1,  1,  1,  1,  0,  0,  0,  0,  0,  0,  0,  0,  0,  0,  0,  0,  0,  0,  0,  0,  0,  0,  0,  0,  0,  0,  0,  0,  0,  0,  0,  0,  0,  0,  0,  0,  0,  0,  0,  0],\n",
       "[ 0,  0,  0,  0,  0,  0,  0,  0,  0,  0,  0,  0,  0,  0,  0,  0,  0,  0,  0,  0,  0,  0,  0,  0,  0,  0,  0,  0,  0,  0,  0,  0,  0,  0,  0,  0,  0,  0,  0,  0,  0,  0,  0,  0,  0,  0,  0,  0,  0,  0,  0,  0,  0,  0,  0,  0,  1,  1,  1,  1, 10,  1,  1,  1,  1,  0,  0,  0,  0,  0,  0,  0,  0,  0,  0,  0,  0,  0,  0,  0,  0,  0,  0,  0,  0,  0,  0,  0,  0,  0,  0,  0,  0,  0,  0,  0,  0,  0,  0,  0],\n",
       "[ 0,  0,  0,  0,  0,  0,  0,  0,  0,  0,  0,  0,  0,  0,  0,  0,  0,  0,  0,  0,  0,  0,  0,  0,  0,  0,  0,  0,  0,  0,  0,  0,  0,  0,  0,  0,  0,  0,  0,  0,  0,  0,  0,  0,  0,  0,  0,  0,  0,  0,  0,  0,  0,  0,  0,  0,  0,  1,  1,  1,  1, 10,  1,  1,  1,  1,  0,  0,  0,  0,  0,  0,  0,  0,  0,  0,  0,  0,  0,  0,  0,  0,  0,  0,  0,  0,  0,  0,  0,  0,  0,  0,  0,  0,  0,  0,  0,  0,  0,  0],\n",
       "[ 0,  0,  0,  0,  0,  0,  0,  0,  0,  0,  0,  0,  0,  0,  0,  0,  0,  0,  0,  0,  0,  0,  0,  0,  0,  0,  0,  0,  0,  0,  0,  0,  0,  0,  0,  0,  0,  0,  0,  0,  0,  0,  0,  0,  0,  0,  0,  0,  0,  0,  0,  0,  0,  0,  0,  0,  0,  0,  1,  1,  1,  1, 10,  1,  1,  1,  1,  0,  0,  0,  0,  0,  0,  0,  0,  0,  0,  0,  0,  0,  0,  0,  0,  0,  0,  0,  0,  0,  0,  0,  0,  0,  0,  0,  0,  0,  0,  0,  0,  0],\n",
       "[ 0,  0,  0,  0,  0,  0,  0,  0,  0,  0,  0,  0,  0,  0,  0,  0,  0,  0,  0,  0,  0,  0,  0,  0,  0,  0,  0,  0,  0,  0,  0,  0,  0,  0,  0,  0,  0,  0,  0,  0,  0,  0,  0,  0,  0,  0,  0,  0,  0,  0,  0,  0,  0,  0,  0,  0,  0,  0,  0,  1,  1,  1,  1, 10,  1,  1,  1,  1,  0,  0,  0,  0,  0,  0,  0,  0,  0,  0,  0,  0,  0,  0,  0,  0,  0,  0,  0,  0,  0,  0,  0,  0,  0,  0,  0,  0,  0,  0,  0,  0],\n",
       "[ 0,  0,  0,  0,  0,  0,  0,  0,  0,  0,  0,  0,  0,  0,  0,  0,  0,  0,  0,  0,  0,  0,  0,  0,  0,  0,  0,  0,  0,  0,  0,  0,  0,  0,  0,  0,  0,  0,  0,  0,  0,  0,  0,  0,  0,  0,  0,  0,  0,  0,  0,  0,  0,  0,  0,  0,  0,  0,  0,  0,  1,  1,  1,  1, 10,  1,  1,  1,  1,  0,  0,  0,  0,  0,  0,  0,  0,  0,  0,  0,  0,  0,  0,  0,  0,  0,  0,  0,  0,  0,  0,  0,  0,  0,  0,  0,  0,  0,  0,  0],\n",
       "[ 0,  0,  0,  0,  0,  0,  0,  0,  0,  0,  0,  0,  0,  0,  0,  0,  0,  0,  0,  0,  0,  0,  0,  0,  0,  0,  0,  0,  0,  0,  0,  0,  0,  0,  0,  0,  0,  0,  0,  0,  0,  0,  0,  0,  0,  0,  0,  0,  0,  0,  0,  0,  0,  0,  0,  0,  0,  0,  0,  0,  0,  1,  1,  1,  1, 10,  1,  1,  1,  1,  0,  0,  0,  0,  0,  0,  0,  0,  0,  0,  0,  0,  0,  0,  0,  0,  0,  0,  0,  0,  0,  0,  0,  0,  0,  0,  0,  0,  0,  0],\n",
       "[ 0,  0,  0,  0,  0,  0,  0,  0,  0,  0,  0,  0,  0,  0,  0,  0,  0,  0,  0,  0,  0,  0,  0,  0,  0,  0,  0,  0,  0,  0,  0,  0,  0,  0,  0,  0,  0,  0,  0,  0,  0,  0,  0,  0,  0,  0,  0,  0,  0,  0,  0,  0,  0,  0,  0,  0,  0,  0,  0,  0,  0,  0,  1,  1,  1,  1, 10,  1,  1,  1,  1,  0,  0,  0,  0,  0,  0,  0,  0,  0,  0,  0,  0,  0,  0,  0,  0,  0,  0,  0,  0,  0,  0,  0,  0,  0,  0,  0,  0,  0],\n",
       "[ 0,  0,  0,  0,  0,  0,  0,  0,  0,  0,  0,  0,  0,  0,  0,  0,  0,  0,  0,  0,  0,  0,  0,  0,  0,  0,  0,  0,  0,  0,  0,  0,  0,  0,  0,  0,  0,  0,  0,  0,  0,  0,  0,  0,  0,  0,  0,  0,  0,  0,  0,  0,  0,  0,  0,  0,  0,  0,  0,  0,  0,  0,  0,  1,  1,  1,  1, 10,  1,  1,  1,  1,  0,  0,  0,  0,  0,  0,  0,  0,  0,  0,  0,  0,  0,  0,  0,  0,  0,  0,  0,  0,  0,  0,  0,  0,  0,  0,  0,  0],\n",
       "[ 0,  0,  0,  0,  0,  0,  0,  0,  0,  0,  0,  0,  0,  0,  0,  0,  0,  0,  0,  0,  0,  0,  0,  0,  0,  0,  0,  0,  0,  0,  0,  0,  0,  0,  0,  0,  0,  0,  0,  0,  0,  0,  0,  0,  0,  0,  0,  0,  0,  0,  0,  0,  0,  0,  0,  0,  0,  0,  0,  0,  0,  0,  0,  0,  1,  1,  1,  1, 10,  1,  1,  1,  1,  0,  0,  0,  0,  0,  0,  0,  0,  0,  0,  0,  0,  0,  0,  0,  0,  0,  0,  0,  0,  0,  0,  0,  0,  0,  0,  0],\n",
       "[ 0,  0,  0,  0,  0,  0,  0,  0,  0,  0,  0,  0,  0,  0,  0,  0,  0,  0,  0,  0,  0,  0,  0,  0,  0,  0,  0,  0,  0,  0,  0,  0,  0,  0,  0,  0,  0,  0,  0,  0,  0,  0,  0,  0,  0,  0,  0,  0,  0,  0,  0,  0,  0,  0,  0,  0,  0,  0,  0,  0,  0,  0,  0,  0,  0,  1,  1,  1,  1, 10,  1,  1,  1,  1,  0,  0,  0,  0,  0,  0,  0,  0,  0,  0,  0,  0,  0,  0,  0,  0,  0,  0,  0,  0,  0,  0,  0,  0,  0,  0],\n",
       "[ 0,  0,  0,  0,  0,  0,  0,  0,  0,  0,  0,  0,  0,  0,  0,  0,  0,  0,  0,  0,  0,  0,  0,  0,  0,  0,  0,  0,  0,  0,  0,  0,  0,  0,  0,  0,  0,  0,  0,  0,  0,  0,  0,  0,  0,  0,  0,  0,  0,  0,  0,  0,  0,  0,  0,  0,  0,  0,  0,  0,  0,  0,  0,  0,  0,  0,  1,  1,  1,  1, 10,  1,  1,  1,  1,  0,  0,  0,  0,  0,  0,  0,  0,  0,  0,  0,  0,  0,  0,  0,  0,  0,  0,  0,  0,  0,  0,  0,  0,  0],\n",
       "[ 0,  0,  0,  0,  0,  0,  0,  0,  0,  0,  0,  0,  0,  0,  0,  0,  0,  0,  0,  0,  0,  0,  0,  0,  0,  0,  0,  0,  0,  0,  0,  0,  0,  0,  0,  0,  0,  0,  0,  0,  0,  0,  0,  0,  0,  0,  0,  0,  0,  0,  0,  0,  0,  0,  0,  0,  0,  0,  0,  0,  0,  0,  0,  0,  0,  0,  0,  1,  1,  1,  1, 10,  1,  1,  1,  1,  0,  0,  0,  0,  0,  0,  0,  0,  0,  0,  0,  0,  0,  0,  0,  0,  0,  0,  0,  0,  0,  0,  0,  0],\n",
       "[ 0,  0,  0,  0,  0,  0,  0,  0,  0,  0,  0,  0,  0,  0,  0,  0,  0,  0,  0,  0,  0,  0,  0,  0,  0,  0,  0,  0,  0,  0,  0,  0,  0,  0,  0,  0,  0,  0,  0,  0,  0,  0,  0,  0,  0,  0,  0,  0,  0,  0,  0,  0,  0,  0,  0,  0,  0,  0,  0,  0,  0,  0,  0,  0,  0,  0,  0,  0,  1,  1,  1,  1, 10,  1,  1,  1,  1,  0,  0,  0,  0,  0,  0,  0,  0,  0,  0,  0,  0,  0,  0,  0,  0,  0,  0,  0,  0,  0,  0,  0],\n",
       "[ 0,  0,  0,  0,  0,  0,  0,  0,  0,  0,  0,  0,  0,  0,  0,  0,  0,  0,  0,  0,  0,  0,  0,  0,  0,  0,  0,  0,  0,  0,  0,  0,  0,  0,  0,  0,  0,  0,  0,  0,  0,  0,  0,  0,  0,  0,  0,  0,  0,  0,  0,  0,  0,  0,  0,  0,  0,  0,  0,  0,  0,  0,  0,  0,  0,  0,  0,  0,  0,  1,  1,  1,  1, 10,  1,  1,  1,  1,  0,  0,  0,  0,  0,  0,  0,  0,  0,  0,  0,  0,  0,  0,  0,  0,  0,  0,  0,  0,  0,  0],\n",
       "[ 0,  0,  0,  0,  0,  0,  0,  0,  0,  0,  0,  0,  0,  0,  0,  0,  0,  0,  0,  0,  0,  0,  0,  0,  0,  0,  0,  0,  0,  0,  0,  0,  0,  0,  0,  0,  0,  0,  0,  0,  0,  0,  0,  0,  0,  0,  0,  0,  0,  0,  0,  0,  0,  0,  0,  0,  0,  0,  0,  0,  0,  0,  0,  0,  0,  0,  0,  0,  0,  0,  1,  1,  1,  1, 10,  1,  1,  1,  1,  0,  0,  0,  0,  0,  0,  0,  0,  0,  0,  0,  0,  0,  0,  0,  0,  0,  0,  0,  0,  0],\n",
       "[ 0,  0,  0,  0,  0,  0,  0,  0,  0,  0,  0,  0,  0,  0,  0,  0,  0,  0,  0,  0,  0,  0,  0,  0,  0,  0,  0,  0,  0,  0,  0,  0,  0,  0,  0,  0,  0,  0,  0,  0,  0,  0,  0,  0,  0,  0,  0,  0,  0,  0,  0,  0,  0,  0,  0,  0,  0,  0,  0,  0,  0,  0,  0,  0,  0,  0,  0,  0,  0,  0,  0,  1,  1,  1,  1, 10,  1,  1,  1,  1,  0,  0,  0,  0,  0,  0,  0,  0,  0,  0,  0,  0,  0,  0,  0,  0,  0,  0,  0,  0],\n",
       "[ 0,  0,  0,  0,  0,  0,  0,  0,  0,  0,  0,  0,  0,  0,  0,  0,  0,  0,  0,  0,  0,  0,  0,  0,  0,  0,  0,  0,  0,  0,  0,  0,  0,  0,  0,  0,  0,  0,  0,  0,  0,  0,  0,  0,  0,  0,  0,  0,  0,  0,  0,  0,  0,  0,  0,  0,  0,  0,  0,  0,  0,  0,  0,  0,  0,  0,  0,  0,  0,  0,  0,  0,  1,  1,  1,  1, 10,  1,  1,  1,  1,  0,  0,  0,  0,  0,  0,  0,  0,  0,  0,  0,  0,  0,  0,  0,  0,  0,  0,  0],\n",
       "[ 0,  0,  0,  0,  0,  0,  0,  0,  0,  0,  0,  0,  0,  0,  0,  0,  0,  0,  0,  0,  0,  0,  0,  0,  0,  0,  0,  0,  0,  0,  0,  0,  0,  0,  0,  0,  0,  0,  0,  0,  0,  0,  0,  0,  0,  0,  0,  0,  0,  0,  0,  0,  0,  0,  0,  0,  0,  0,  0,  0,  0,  0,  0,  0,  0,  0,  0,  0,  0,  0,  0,  0,  0,  1,  1,  1,  1, 10,  1,  1,  1,  1,  0,  0,  0,  0,  0,  0,  0,  0,  0,  0,  0,  0,  0,  0,  0,  0,  0,  0],\n",
       "[ 0,  0,  0,  0,  0,  0,  0,  0,  0,  0,  0,  0,  0,  0,  0,  0,  0,  0,  0,  0,  0,  0,  0,  0,  0,  0,  0,  0,  0,  0,  0,  0,  0,  0,  0,  0,  0,  0,  0,  0,  0,  0,  0,  0,  0,  0,  0,  0,  0,  0,  0,  0,  0,  0,  0,  0,  0,  0,  0,  0,  0,  0,  0,  0,  0,  0,  0,  0,  0,  0,  0,  0,  0,  0,  1,  1,  1,  1, 10,  1,  1,  1,  1,  0,  0,  0,  0,  0,  0,  0,  0,  0,  0,  0,  0,  0,  0,  0,  0,  0],\n",
       "[ 0,  0,  0,  0,  0,  0,  0,  0,  0,  0,  0,  0,  0,  0,  0,  0,  0,  0,  0,  0,  0,  0,  0,  0,  0,  0,  0,  0,  0,  0,  0,  0,  0,  0,  0,  0,  0,  0,  0,  0,  0,  0,  0,  0,  0,  0,  0,  0,  0,  0,  0,  0,  0,  0,  0,  0,  0,  0,  0,  0,  0,  0,  0,  0,  0,  0,  0,  0,  0,  0,  0,  0,  0,  0,  0,  1,  1,  1,  1, 10,  1,  1,  1,  1,  0,  0,  0,  0,  0,  0,  0,  0,  0,  0,  0,  0,  0,  0,  0,  0],\n",
       "[ 0,  0,  0,  0,  0,  0,  0,  0,  0,  0,  0,  0,  0,  0,  0,  0,  0,  0,  0,  0,  0,  0,  0,  0,  0,  0,  0,  0,  0,  0,  0,  0,  0,  0,  0,  0,  0,  0,  0,  0,  0,  0,  0,  0,  0,  0,  0,  0,  0,  0,  0,  0,  0,  0,  0,  0,  0,  0,  0,  0,  0,  0,  0,  0,  0,  0,  0,  0,  0,  0,  0,  0,  0,  0,  0,  0,  1,  1,  1,  1, 10,  1,  1,  1,  1,  0,  0,  0,  0,  0,  0,  0,  0,  0,  0,  0,  0,  0,  0,  0],\n",
       "[ 0,  0,  0,  0,  0,  0,  0,  0,  0,  0,  0,  0,  0,  0,  0,  0,  0,  0,  0,  0,  0,  0,  0,  0,  0,  0,  0,  0,  0,  0,  0,  0,  0,  0,  0,  0,  0,  0,  0,  0,  0,  0,  0,  0,  0,  0,  0,  0,  0,  0,  0,  0,  0,  0,  0,  0,  0,  0,  0,  0,  0,  0,  0,  0,  0,  0,  0,  0,  0,  0,  0,  0,  0,  0,  0,  0,  0,  1,  1,  1,  1, 10,  1,  1,  1,  1,  0,  0,  0,  0,  0,  0,  0,  0,  0,  0,  0,  0,  0,  0],\n",
       "[ 0,  0,  0,  0,  0,  0,  0,  0,  0,  0,  0,  0,  0,  0,  0,  0,  0,  0,  0,  0,  0,  0,  0,  0,  0,  0,  0,  0,  0,  0,  0,  0,  0,  0,  0,  0,  0,  0,  0,  0,  0,  0,  0,  0,  0,  0,  0,  0,  0,  0,  0,  0,  0,  0,  0,  0,  0,  0,  0,  0,  0,  0,  0,  0,  0,  0,  0,  0,  0,  0,  0,  0,  0,  0,  0,  0,  0,  0,  1,  1,  1,  1, 10,  1,  1,  1,  1,  0,  0,  0,  0,  0,  0,  0,  0,  0,  0,  0,  0,  0],\n",
       "[ 0,  0,  0,  0,  0,  0,  0,  0,  0,  0,  0,  0,  0,  0,  0,  0,  0,  0,  0,  0,  0,  0,  0,  0,  0,  0,  0,  0,  0,  0,  0,  0,  0,  0,  0,  0,  0,  0,  0,  0,  0,  0,  0,  0,  0,  0,  0,  0,  0,  0,  0,  0,  0,  0,  0,  0,  0,  0,  0,  0,  0,  0,  0,  0,  0,  0,  0,  0,  0,  0,  0,  0,  0,  0,  0,  0,  0,  0,  0,  1,  1,  1,  1, 10,  1,  1,  1,  1,  0,  0,  0,  0,  0,  0,  0,  0,  0,  0,  0,  0],\n",
       "[ 0,  0,  0,  0,  0,  0,  0,  0,  0,  0,  0,  0,  0,  0,  0,  0,  0,  0,  0,  0,  0,  0,  0,  0,  0,  0,  0,  0,  0,  0,  0,  0,  0,  0,  0,  0,  0,  0,  0,  0,  0,  0,  0,  0,  0,  0,  0,  0,  0,  0,  0,  0,  0,  0,  0,  0,  0,  0,  0,  0,  0,  0,  0,  0,  0,  0,  0,  0,  0,  0,  0,  0,  0,  0,  0,  0,  0,  0,  0,  0,  1,  1,  1,  1, 10,  1,  1,  1,  1,  0,  0,  0,  0,  0,  0,  0,  0,  0,  0,  0],\n",
       "[ 0,  0,  0,  0,  0,  0,  0,  0,  0,  0,  0,  0,  0,  0,  0,  0,  0,  0,  0,  0,  0,  0,  0,  0,  0,  0,  0,  0,  0,  0,  0,  0,  0,  0,  0,  0,  0,  0,  0,  0,  0,  0,  0,  0,  0,  0,  0,  0,  0,  0,  0,  0,  0,  0,  0,  0,  0,  0,  0,  0,  0,  0,  0,  0,  0,  0,  0,  0,  0,  0,  0,  0,  0,  0,  0,  0,  0,  0,  0,  0,  0,  1,  1,  1,  1, 10,  1,  1,  1,  1,  0,  0,  0,  0,  0,  0,  0,  0,  0,  0],\n",
       "[ 0,  0,  0,  0,  0,  0,  0,  0,  0,  0,  0,  0,  0,  0,  0,  0,  0,  0,  0,  0,  0,  0,  0,  0,  0,  0,  0,  0,  0,  0,  0,  0,  0,  0,  0,  0,  0,  0,  0,  0,  0,  0,  0,  0,  0,  0,  0,  0,  0,  0,  0,  0,  0,  0,  0,  0,  0,  0,  0,  0,  0,  0,  0,  0,  0,  0,  0,  0,  0,  0,  0,  0,  0,  0,  0,  0,  0,  0,  0,  0,  0,  0,  1,  1,  1,  1, 10,  1,  1,  1,  1,  0,  0,  0,  0,  0,  0,  0,  0,  0],\n",
       "[ 0,  0,  0,  0,  0,  0,  0,  0,  0,  0,  0,  0,  0,  0,  0,  0,  0,  0,  0,  0,  0,  0,  0,  0,  0,  0,  0,  0,  0,  0,  0,  0,  0,  0,  0,  0,  0,  0,  0,  0,  0,  0,  0,  0,  0,  0,  0,  0,  0,  0,  0,  0,  0,  0,  0,  0,  0,  0,  0,  0,  0,  0,  0,  0,  0,  0,  0,  0,  0,  0,  0,  0,  0,  0,  0,  0,  0,  0,  0,  0,  0,  0,  0,  1,  1,  1,  1, 10,  1,  1,  1,  1,  0,  0,  0,  0,  0,  0,  0,  0],\n",
       "[ 0,  0,  0,  0,  0,  0,  0,  0,  0,  0,  0,  0,  0,  0,  0,  0,  0,  0,  0,  0,  0,  0,  0,  0,  0,  0,  0,  0,  0,  0,  0,  0,  0,  0,  0,  0,  0,  0,  0,  0,  0,  0,  0,  0,  0,  0,  0,  0,  0,  0,  0,  0,  0,  0,  0,  0,  0,  0,  0,  0,  0,  0,  0,  0,  0,  0,  0,  0,  0,  0,  0,  0,  0,  0,  0,  0,  0,  0,  0,  0,  0,  0,  0,  0,  1,  1,  1,  1, 10,  1,  1,  1,  1,  0,  0,  0,  0,  0,  0,  0],\n",
       "[ 0,  0,  0,  0,  0,  0,  0,  0,  0,  0,  0,  0,  0,  0,  0,  0,  0,  0,  0,  0,  0,  0,  0,  0,  0,  0,  0,  0,  0,  0,  0,  0,  0,  0,  0,  0,  0,  0,  0,  0,  0,  0,  0,  0,  0,  0,  0,  0,  0,  0,  0,  0,  0,  0,  0,  0,  0,  0,  0,  0,  0,  0,  0,  0,  0,  0,  0,  0,  0,  0,  0,  0,  0,  0,  0,  0,  0,  0,  0,  0,  0,  0,  0,  0,  0,  1,  1,  1,  1, 10,  1,  1,  1,  1,  0,  0,  0,  0,  0,  0],\n",
       "[ 0,  0,  0,  0,  0,  0,  0,  0,  0,  0,  0,  0,  0,  0,  0,  0,  0,  0,  0,  0,  0,  0,  0,  0,  0,  0,  0,  0,  0,  0,  0,  0,  0,  0,  0,  0,  0,  0,  0,  0,  0,  0,  0,  0,  0,  0,  0,  0,  0,  0,  0,  0,  0,  0,  0,  0,  0,  0,  0,  0,  0,  0,  0,  0,  0,  0,  0,  0,  0,  0,  0,  0,  0,  0,  0,  0,  0,  0,  0,  0,  0,  0,  0,  0,  0,  0,  1,  1,  1,  1, 10,  1,  1,  1,  1,  0,  0,  0,  0,  0],\n",
       "[ 0,  0,  0,  0,  0,  0,  0,  0,  0,  0,  0,  0,  0,  0,  0,  0,  0,  0,  0,  0,  0,  0,  0,  0,  0,  0,  0,  0,  0,  0,  0,  0,  0,  0,  0,  0,  0,  0,  0,  0,  0,  0,  0,  0,  0,  0,  0,  0,  0,  0,  0,  0,  0,  0,  0,  0,  0,  0,  0,  0,  0,  0,  0,  0,  0,  0,  0,  0,  0,  0,  0,  0,  0,  0,  0,  0,  0,  0,  0,  0,  0,  0,  0,  0,  0,  0,  0,  1,  1,  1,  1, 10,  1,  1,  1,  1,  0,  0,  0,  0],\n",
       "[ 0,  0,  0,  0,  0,  0,  0,  0,  0,  0,  0,  0,  0,  0,  0,  0,  0,  0,  0,  0,  0,  0,  0,  0,  0,  0,  0,  0,  0,  0,  0,  0,  0,  0,  0,  0,  0,  0,  0,  0,  0,  0,  0,  0,  0,  0,  0,  0,  0,  0,  0,  0,  0,  0,  0,  0,  0,  0,  0,  0,  0,  0,  0,  0,  0,  0,  0,  0,  0,  0,  0,  0,  0,  0,  0,  0,  0,  0,  0,  0,  0,  0,  0,  0,  0,  0,  0,  0,  1,  1,  1,  1, 10,  1,  1,  1,  1,  0,  0,  0],\n",
       "[ 0,  0,  0,  0,  0,  0,  0,  0,  0,  0,  0,  0,  0,  0,  0,  0,  0,  0,  0,  0,  0,  0,  0,  0,  0,  0,  0,  0,  0,  0,  0,  0,  0,  0,  0,  0,  0,  0,  0,  0,  0,  0,  0,  0,  0,  0,  0,  0,  0,  0,  0,  0,  0,  0,  0,  0,  0,  0,  0,  0,  0,  0,  0,  0,  0,  0,  0,  0,  0,  0,  0,  0,  0,  0,  0,  0,  0,  0,  0,  0,  0,  0,  0,  0,  0,  0,  0,  0,  0,  1,  1,  1,  1, 10,  1,  1,  1,  1,  0,  0],\n",
       "[ 0,  0,  0,  0,  0,  0,  0,  0,  0,  0,  0,  0,  0,  0,  0,  0,  0,  0,  0,  0,  0,  0,  0,  0,  0,  0,  0,  0,  0,  0,  0,  0,  0,  0,  0,  0,  0,  0,  0,  0,  0,  0,  0,  0,  0,  0,  0,  0,  0,  0,  0,  0,  0,  0,  0,  0,  0,  0,  0,  0,  0,  0,  0,  0,  0,  0,  0,  0,  0,  0,  0,  0,  0,  0,  0,  0,  0,  0,  0,  0,  0,  0,  0,  0,  0,  0,  0,  0,  0,  0,  1,  1,  1,  1, 10,  1,  1,  1,  1,  0],\n",
       "[ 0,  0,  0,  0,  0,  0,  0,  0,  0,  0,  0,  0,  0,  0,  0,  0,  0,  0,  0,  0,  0,  0,  0,  0,  0,  0,  0,  0,  0,  0,  0,  0,  0,  0,  0,  0,  0,  0,  0,  0,  0,  0,  0,  0,  0,  0,  0,  0,  0,  0,  0,  0,  0,  0,  0,  0,  0,  0,  0,  0,  0,  0,  0,  0,  0,  0,  0,  0,  0,  0,  0,  0,  0,  0,  0,  0,  0,  0,  0,  0,  0,  0,  0,  0,  0,  0,  0,  0,  0,  0,  0,  1,  1,  1,  1, 10,  1,  1,  1,  1],\n",
       "[ 0,  0,  0,  0,  0,  0,  0,  0,  0,  0,  0,  0,  0,  0,  0,  0,  0,  0,  0,  0,  0,  0,  0,  0,  0,  0,  0,  0,  0,  0,  0,  0,  0,  0,  0,  0,  0,  0,  0,  0,  0,  0,  0,  0,  0,  0,  0,  0,  0,  0,  0,  0,  0,  0,  0,  0,  0,  0,  0,  0,  0,  0,  0,  0,  0,  0,  0,  0,  0,  0,  0,  0,  0,  0,  0,  0,  0,  0,  0,  0,  0,  0,  0,  0,  0,  0,  0,  0,  0,  0,  0,  0,  1,  1,  1,  1, 10,  1,  1,  1],\n",
       "[ 0,  0,  0,  0,  0,  0,  0,  0,  0,  0,  0,  0,  0,  0,  0,  0,  0,  0,  0,  0,  0,  0,  0,  0,  0,  0,  0,  0,  0,  0,  0,  0,  0,  0,  0,  0,  0,  0,  0,  0,  0,  0,  0,  0,  0,  0,  0,  0,  0,  0,  0,  0,  0,  0,  0,  0,  0,  0,  0,  0,  0,  0,  0,  0,  0,  0,  0,  0,  0,  0,  0,  0,  0,  0,  0,  0,  0,  0,  0,  0,  0,  0,  0,  0,  0,  0,  0,  0,  0,  0,  0,  0,  0,  1,  1,  1,  1, 10,  1,  1],\n",
       "[ 0,  0,  0,  0,  0,  0,  0,  0,  0,  0,  0,  0,  0,  0,  0,  0,  0,  0,  0,  0,  0,  0,  0,  0,  0,  0,  0,  0,  0,  0,  0,  0,  0,  0,  0,  0,  0,  0,  0,  0,  0,  0,  0,  0,  0,  0,  0,  0,  0,  0,  0,  0,  0,  0,  0,  0,  0,  0,  0,  0,  0,  0,  0,  0,  0,  0,  0,  0,  0,  0,  0,  0,  0,  0,  0,  0,  0,  0,  0,  0,  0,  0,  0,  0,  0,  0,  0,  0,  0,  0,  0,  0,  0,  0,  1,  1,  1,  1, 10,  1],\n",
       "[ 0,  0,  0,  0,  0,  0,  0,  0,  0,  0,  0,  0,  0,  0,  0,  0,  0,  0,  0,  0,  0,  0,  0,  0,  0,  0,  0,  0,  0,  0,  0,  0,  0,  0,  0,  0,  0,  0,  0,  0,  0,  0,  0,  0,  0,  0,  0,  0,  0,  0,  0,  0,  0,  0,  0,  0,  0,  0,  0,  0,  0,  0,  0,  0,  0,  0,  0,  0,  0,  0,  0,  0,  0,  0,  0,  0,  0,  0,  0,  0,  0,  0,  0,  0,  0,  0,  0,  0,  0,  0,  0,  0,  0,  0,  0,  1,  1,  1,  1, 10]])"
      ]
     },
     "execution_count": 15,
     "metadata": {},
     "output_type": "execute_result"
    }
   ],
   "source": [
    "M = []\n",
    "b = []\n",
    "for k in range(100):\n",
    "    base = [0] * 100\n",
    "    b.append(k+1)\n",
    "    if k - 4 >= 0:\n",
    "        base[k-4] = 1\n",
    "    if k - 3 >= 0:\n",
    "        base[k-3] = 1\n",
    "    if k - 2 >= 0:\n",
    "        base[k-2] = 1\n",
    "    if k - 1 >= 0:\n",
    "        base[k-1] = 1\n",
    "    base[k] = 10\n",
    "    if k + 1 < 100:\n",
    "        base[k+1] = 1\n",
    "    if k + 2 < 100:\n",
    "        base[k+2] = 1\n",
    "    if k + 3 < 100:\n",
    "        base[k+3] = 1\n",
    "    if k + 4 < 100:\n",
    "        base[k+4] = 1\n",
    "    M.append(base)\n",
    "MPG = mp.Matrix(M)\n",
    "MPG"
   ]
  },
  {
   "cell_type": "code",
   "execution_count": 16,
   "id": "bdbece7c-bff4-4c86-ada8-c93945ec03cd",
   "metadata": {},
   "outputs": [
    {
     "data": {
      "text/latex": [
       "$\\displaystyle \\left[\\begin{matrix}1\\\\2\\\\3\\\\4\\\\5\\\\6\\\\7\\\\8\\\\9\\\\10\\\\11\\\\12\\\\13\\\\14\\\\15\\\\16\\\\17\\\\18\\\\19\\\\20\\\\21\\\\22\\\\23\\\\24\\\\25\\\\26\\\\27\\\\28\\\\29\\\\30\\\\31\\\\32\\\\33\\\\34\\\\35\\\\36\\\\37\\\\38\\\\39\\\\40\\\\41\\\\42\\\\43\\\\44\\\\45\\\\46\\\\47\\\\48\\\\49\\\\50\\\\51\\\\52\\\\53\\\\54\\\\55\\\\56\\\\57\\\\58\\\\59\\\\60\\\\61\\\\62\\\\63\\\\64\\\\65\\\\66\\\\67\\\\68\\\\69\\\\70\\\\71\\\\72\\\\73\\\\74\\\\75\\\\76\\\\77\\\\78\\\\79\\\\80\\\\81\\\\82\\\\83\\\\84\\\\85\\\\86\\\\87\\\\88\\\\89\\\\90\\\\91\\\\92\\\\93\\\\94\\\\95\\\\96\\\\97\\\\98\\\\99\\\\100\\end{matrix}\\right]$"
      ],
      "text/plain": [
       "Matrix([\n",
       "[  1],\n",
       "[  2],\n",
       "[  3],\n",
       "[  4],\n",
       "[  5],\n",
       "[  6],\n",
       "[  7],\n",
       "[  8],\n",
       "[  9],\n",
       "[ 10],\n",
       "[ 11],\n",
       "[ 12],\n",
       "[ 13],\n",
       "[ 14],\n",
       "[ 15],\n",
       "[ 16],\n",
       "[ 17],\n",
       "[ 18],\n",
       "[ 19],\n",
       "[ 20],\n",
       "[ 21],\n",
       "[ 22],\n",
       "[ 23],\n",
       "[ 24],\n",
       "[ 25],\n",
       "[ 26],\n",
       "[ 27],\n",
       "[ 28],\n",
       "[ 29],\n",
       "[ 30],\n",
       "[ 31],\n",
       "[ 32],\n",
       "[ 33],\n",
       "[ 34],\n",
       "[ 35],\n",
       "[ 36],\n",
       "[ 37],\n",
       "[ 38],\n",
       "[ 39],\n",
       "[ 40],\n",
       "[ 41],\n",
       "[ 42],\n",
       "[ 43],\n",
       "[ 44],\n",
       "[ 45],\n",
       "[ 46],\n",
       "[ 47],\n",
       "[ 48],\n",
       "[ 49],\n",
       "[ 50],\n",
       "[ 51],\n",
       "[ 52],\n",
       "[ 53],\n",
       "[ 54],\n",
       "[ 55],\n",
       "[ 56],\n",
       "[ 57],\n",
       "[ 58],\n",
       "[ 59],\n",
       "[ 60],\n",
       "[ 61],\n",
       "[ 62],\n",
       "[ 63],\n",
       "[ 64],\n",
       "[ 65],\n",
       "[ 66],\n",
       "[ 67],\n",
       "[ 68],\n",
       "[ 69],\n",
       "[ 70],\n",
       "[ 71],\n",
       "[ 72],\n",
       "[ 73],\n",
       "[ 74],\n",
       "[ 75],\n",
       "[ 76],\n",
       "[ 77],\n",
       "[ 78],\n",
       "[ 79],\n",
       "[ 80],\n",
       "[ 81],\n",
       "[ 82],\n",
       "[ 83],\n",
       "[ 84],\n",
       "[ 85],\n",
       "[ 86],\n",
       "[ 87],\n",
       "[ 88],\n",
       "[ 89],\n",
       "[ 90],\n",
       "[ 91],\n",
       "[ 92],\n",
       "[ 93],\n",
       "[ 94],\n",
       "[ 95],\n",
       "[ 96],\n",
       "[ 97],\n",
       "[ 98],\n",
       "[ 99],\n",
       "[100]])"
      ]
     },
     "execution_count": 16,
     "metadata": {},
     "output_type": "execute_result"
    }
   ],
   "source": [
    "B = mp.Matrix(b)\n",
    "B"
   ]
  },
  {
   "cell_type": "markdown",
   "id": "24da2c52-979b-4a87-935d-ef7ff50e9218",
   "metadata": {},
   "source": [
    "Будем выбирать $\\tau$"
   ]
  },
  {
   "cell_type": "code",
   "execution_count": 17,
   "id": "17088fce-bec4-4341-9698-24209165579e",
   "metadata": {},
   "outputs": [
    {
     "data": {
      "text/latex": [
       "$\\displaystyle \\left[\\begin{matrix}-1.71989315580983\\\\-4.31929310675782\\\\-6.82888857775368\\\\-9.25112741133003\\\\-11.5872346539955\\\\-14.0025185413634\\\\-16.3735455726531\\\\-18.7149135541232\\\\-21.0413960740429\\\\-23.3678546496935\\\\-25.7012577565543\\\\-28.0379417625658\\\\-30.3754593376161\\\\-32.7125851287736\\\\-35.0493185985385\\\\-37.385914509755\\\\-39.7224959469753\\\\-42.059098117436\\\\-44.3957122593109\\\\-46.7323296036079\\\\-49.0689469274272\\\\-51.4055637182915\\\\-53.7421802826037\\\\-56.0787967995223\\\\-58.4154133209014\\\\-60.7520298504864\\\\-63.0886463828955\\\\-65.4252629157849\\\\-67.7618794486022\\\\-70.0984959813396\\\\-72.4351125140532\\\\-74.7717290467634\\\\-77.108345579474\\\\-79.4449621121852\\\\-81.7815786448965\\\\-84.1181951776079\\\\-86.4548117103192\\\\-88.7914282430305\\\\-91.1280447757419\\\\-93.4646613084532\\\\-95.8012778411645\\\\-98.1378943738759\\\\-100.474510906587\\\\-102.811127439299\\\\-105.14774397201\\\\-107.484360504721\\\\-109.820977037432\\\\-112.157593570144\\\\-114.494210102855\\\\-116.830826635567\\\\-119.167443168278\\\\-121.504059700989\\\\-123.840676233701\\\\-126.177292766412\\\\-128.513909299123\\\\-130.850525831834\\\\-133.187142364546\\\\-135.523758897257\\\\-137.860375429968\\\\-140.19699196268\\\\-142.533608495391\\\\-144.870225028102\\\\-147.206841560814\\\\-149.543458093525\\\\-151.880074626237\\\\-154.216691158947\\\\-156.553307691646\\\\-158.889924224307\\\\-161.226540756945\\\\-163.563157289922\\\\-165.899773824749\\\\-168.23639036572\\\\-170.573006909341\\\\-172.909623408369\\\\-175.246239697169\\\\-177.582855364959\\\\-179.919470983597\\\\-182.256090702818\\\\-184.592726225339\\\\-186.929402173714\\\\-189.266060533806\\\\-191.602464213287\\\\-193.938099781057\\\\-196.272079454082\\\\-198.607956077924\\\\-200.953762172643\\\\-203.322043508119\\\\-205.729887157508\\\\-208.053551450246\\\\-210.168318175532\\\\-211.94878197026\\\\-213.269142316537\\\\-216.0920577293\\\\-220.425267736398\\\\-226.267549568852\\\\-233.60864322423\\\\-244.612897387475\\\\-255.787814081027\\\\-267.25816952553\\\\-279.14960617991\\end{matrix}\\right]$"
      ],
      "text/plain": [
       "Matrix([\n",
       "[-1.71989315580983],\n",
       "[-4.31929310675782],\n",
       "[-6.82888857775368],\n",
       "[-9.25112741133003],\n",
       "[-11.5872346539955],\n",
       "[-14.0025185413634],\n",
       "[-16.3735455726531],\n",
       "[-18.7149135541232],\n",
       "[-21.0413960740429],\n",
       "[-23.3678546496935],\n",
       "[-25.7012577565543],\n",
       "[-28.0379417625658],\n",
       "[-30.3754593376161],\n",
       "[-32.7125851287736],\n",
       "[-35.0493185985385],\n",
       "[ -37.385914509755],\n",
       "[-39.7224959469753],\n",
       "[ -42.059098117436],\n",
       "[-44.3957122593109],\n",
       "[-46.7323296036079],\n",
       "[-49.0689469274272],\n",
       "[-51.4055637182915],\n",
       "[-53.7421802826037],\n",
       "[-56.0787967995223],\n",
       "[-58.4154133209014],\n",
       "[-60.7520298504864],\n",
       "[-63.0886463828955],\n",
       "[-65.4252629157849],\n",
       "[-67.7618794486022],\n",
       "[-70.0984959813396],\n",
       "[-72.4351125140532],\n",
       "[-74.7717290467634],\n",
       "[ -77.108345579474],\n",
       "[-79.4449621121852],\n",
       "[-81.7815786448965],\n",
       "[-84.1181951776079],\n",
       "[-86.4548117103192],\n",
       "[-88.7914282430305],\n",
       "[-91.1280447757419],\n",
       "[-93.4646613084532],\n",
       "[-95.8012778411645],\n",
       "[-98.1378943738759],\n",
       "[-100.474510906587],\n",
       "[-102.811127439299],\n",
       "[ -105.14774397201],\n",
       "[-107.484360504721],\n",
       "[-109.820977037432],\n",
       "[-112.157593570144],\n",
       "[-114.494210102855],\n",
       "[-116.830826635567],\n",
       "[-119.167443168278],\n",
       "[-121.504059700989],\n",
       "[-123.840676233701],\n",
       "[-126.177292766412],\n",
       "[-128.513909299123],\n",
       "[-130.850525831834],\n",
       "[-133.187142364546],\n",
       "[-135.523758897257],\n",
       "[-137.860375429968],\n",
       "[ -140.19699196268],\n",
       "[-142.533608495391],\n",
       "[-144.870225028102],\n",
       "[-147.206841560814],\n",
       "[-149.543458093525],\n",
       "[-151.880074626237],\n",
       "[-154.216691158947],\n",
       "[-156.553307691646],\n",
       "[-158.889924224307],\n",
       "[-161.226540756945],\n",
       "[-163.563157289922],\n",
       "[-165.899773824749],\n",
       "[ -168.23639036572],\n",
       "[-170.573006909341],\n",
       "[-172.909623408369],\n",
       "[-175.246239697169],\n",
       "[-177.582855364959],\n",
       "[-179.919470983597],\n",
       "[-182.256090702818],\n",
       "[-184.592726225339],\n",
       "[-186.929402173714],\n",
       "[-189.266060533806],\n",
       "[-191.602464213287],\n",
       "[-193.938099781057],\n",
       "[-196.272079454082],\n",
       "[-198.607956077924],\n",
       "[-200.953762172643],\n",
       "[-203.322043508119],\n",
       "[-205.729887157508],\n",
       "[-208.053551450246],\n",
       "[-210.168318175532],\n",
       "[ -211.94878197026],\n",
       "[-213.269142316537],\n",
       "[  -216.0920577293],\n",
       "[-220.425267736398],\n",
       "[-226.267549568852],\n",
       "[ -233.60864322423],\n",
       "[-244.612897387475],\n",
       "[-255.787814081027],\n",
       "[ -267.25816952553],\n",
       "[ -279.14960617991]])"
      ]
     },
     "execution_count": 17,
     "metadata": {},
     "output_type": "execute_result"
    }
   ],
   "source": [
    "### Пусть r = 0.01\n",
    "r = 0.01\n",
    "x = B\n",
    "for k in range(10):\n",
    "    x = x - r * MPG * x + r * B\n",
    "B - MPG * x"
   ]
  },
  {
   "cell_type": "code",
   "execution_count": 114,
   "id": "52cb6590-efd5-401d-8204-028a32ffb7c3",
   "metadata": {},
   "outputs": [
    {
     "data": {
      "text/latex": [
       "$\\displaystyle \\left[\\begin{matrix}-1108789078557704865398823\\\\-1503077577797954911670037\\\\-1957501489960340184035152\\\\-2473505300868800761943168\\\\-3051800084706766102818585\\\\-3571320844825741205904602\\\\-4110090089493350444522819\\\\-4661743459345013619895836\\\\-5219615752566855884926253\\\\-5776892247141104731356670\\\\-6339765435001642787734087\\\\-6906155482884042336185004\\\\-7474658983784179674960421\\\\-8044590989110828126635838\\\\-8616006019461256737211255\\\\-9188352981384632598206672\\\\-9761297448788812461082089\\\\-10334651886285181349257506\\\\-10908301482280119291732923\\\\-11482127782687109517508340\\\\-12056061315497121801783757\\\\-12630061237563164966859174\\\\-13204101539939032632734591\\\\-13778164153529019317410008\\\\-14352239126272940436885425\\\\-14926320931908396896360842\\\\-15500406389965341635836259\\\\-16074493673919672145311676\\\\-16648581865248331364787093\\\\-17222670501523993584262510\\\\-17796759347157233603737927\\\\-18370848285527555023213344\\\\-18944937264428865742688761\\\\-19519026260671113962164178\\\\-20093115263962054681639595\\\\-20667204269925175901115012\\\\-21241293276877871620590429\\\\-21815382284186387340065846\\\\-22389471291613923059541263\\\\-22963560299077078779016680\\\\-23537649306550354498492097\\\\-24111738314026390217967514\\\\-24685827321503085937442931\\\\-25259916328979891656918348\\\\-25834005336456707376393765\\\\-26408094343933523095869182\\\\-26982183351410338815344599\\\\-27556272358887154534820016\\\\-28130361366363970254295433\\\\-28704450373840785973770850\\\\-29278539381317601693246267\\\\-29852628388794417412721684\\\\-30426717396271233132197101\\\\-31000806403748048851672518\\\\-31574895411224864571147935\\\\-32148984418701680290623352\\\\-32723073426177486010098769\\\\-33297162433643181729574186\\\\-33871251441053217449049603\\\\-34445340448240393168525020\\\\-35019429454600648888000437\\\\-35593518458011684607475854\\\\-36167607451751700326951271\\\\-36741696417042196046426688\\\\-37315785302413667265902105\\\\-37889873969341957985377522\\\\-38463962066491956204852939\\\\-39038048772409471924328356\\\\-39612132184877148343803773\\\\-40186207972861488363279190\\\\-40760266744890490582754607\\\\-41334289426688421802230024\\\\-41908237194309168311705441\\\\-42482032519625033051180858\\\\-43055527932953333510656275\\\\-43628459193133787530131692\\\\-44200343155193322234807109\\\\-44770321111681938520682526\\\\-45336949360385685105757943\\\\-45897939731271113562033360\\\\-46449458804880369445808777\\\\-46985447251153183078284194\\\\-47496976636408892076459611\\\\-47971660982895641284335028\\\\-48389688708560380382330445\\\\-48724155563518414940905862\\\\-48941619206335203272581279\\\\-49002872253488762021556696\\\\-48837704368944198911957613\\\\-48379835432349406297585030\\\\-47569017998340981080115447\\\\-46353080809008419156400864\\\\-44499701324667049647288881\\\\-42042247006781973691682098\\\\-39028929244578514792803115\\\\-35522166621473386857354532\\\\-30176810576938344938322448\\\\-24999770410411259029997463\\\\-20061178742699624422278577\\\\-15427381191951727602289290\\end{matrix}\\right]$"
      ],
      "text/plain": [
       "Matrix([\n",
       "[ -1108789078557704865398823],\n",
       "[ -1503077577797954911670037],\n",
       "[ -1957501489960340184035152],\n",
       "[ -2473505300868800761943168],\n",
       "[ -3051800084706766102818585],\n",
       "[ -3571320844825741205904602],\n",
       "[ -4110090089493350444522819],\n",
       "[ -4661743459345013619895836],\n",
       "[ -5219615752566855884926253],\n",
       "[ -5776892247141104731356670],\n",
       "[ -6339765435001642787734087],\n",
       "[ -6906155482884042336185004],\n",
       "[ -7474658983784179674960421],\n",
       "[ -8044590989110828126635838],\n",
       "[ -8616006019461256737211255],\n",
       "[ -9188352981384632598206672],\n",
       "[ -9761297448788812461082089],\n",
       "[-10334651886285181349257506],\n",
       "[-10908301482280119291732923],\n",
       "[-11482127782687109517508340],\n",
       "[-12056061315497121801783757],\n",
       "[-12630061237563164966859174],\n",
       "[-13204101539939032632734591],\n",
       "[-13778164153529019317410008],\n",
       "[-14352239126272940436885425],\n",
       "[-14926320931908396896360842],\n",
       "[-15500406389965341635836259],\n",
       "[-16074493673919672145311676],\n",
       "[-16648581865248331364787093],\n",
       "[-17222670501523993584262510],\n",
       "[-17796759347157233603737927],\n",
       "[-18370848285527555023213344],\n",
       "[-18944937264428865742688761],\n",
       "[-19519026260671113962164178],\n",
       "[-20093115263962054681639595],\n",
       "[-20667204269925175901115012],\n",
       "[-21241293276877871620590429],\n",
       "[-21815382284186387340065846],\n",
       "[-22389471291613923059541263],\n",
       "[-22963560299077078779016680],\n",
       "[-23537649306550354498492097],\n",
       "[-24111738314026390217967514],\n",
       "[-24685827321503085937442931],\n",
       "[-25259916328979891656918348],\n",
       "[-25834005336456707376393765],\n",
       "[-26408094343933523095869182],\n",
       "[-26982183351410338815344599],\n",
       "[-27556272358887154534820016],\n",
       "[-28130361366363970254295433],\n",
       "[-28704450373840785973770850],\n",
       "[-29278539381317601693246267],\n",
       "[-29852628388794417412721684],\n",
       "[-30426717396271233132197101],\n",
       "[-31000806403748048851672518],\n",
       "[-31574895411224864571147935],\n",
       "[-32148984418701680290623352],\n",
       "[-32723073426177486010098769],\n",
       "[-33297162433643181729574186],\n",
       "[-33871251441053217449049603],\n",
       "[-34445340448240393168525020],\n",
       "[-35019429454600648888000437],\n",
       "[-35593518458011684607475854],\n",
       "[-36167607451751700326951271],\n",
       "[-36741696417042196046426688],\n",
       "[-37315785302413667265902105],\n",
       "[-37889873969341957985377522],\n",
       "[-38463962066491956204852939],\n",
       "[-39038048772409471924328356],\n",
       "[-39612132184877148343803773],\n",
       "[-40186207972861488363279190],\n",
       "[-40760266744890490582754607],\n",
       "[-41334289426688421802230024],\n",
       "[-41908237194309168311705441],\n",
       "[-42482032519625033051180858],\n",
       "[-43055527932953333510656275],\n",
       "[-43628459193133787530131692],\n",
       "[-44200343155193322234807109],\n",
       "[-44770321111681938520682526],\n",
       "[-45336949360385685105757943],\n",
       "[-45897939731271113562033360],\n",
       "[-46449458804880369445808777],\n",
       "[-46985447251153183078284194],\n",
       "[-47496976636408892076459611],\n",
       "[-47971660982895641284335028],\n",
       "[-48389688708560380382330445],\n",
       "[-48724155563518414940905862],\n",
       "[-48941619206335203272581279],\n",
       "[-49002872253488762021556696],\n",
       "[-48837704368944198911957613],\n",
       "[-48379835432349406297585030],\n",
       "[-47569017998340981080115447],\n",
       "[-46353080809008419156400864],\n",
       "[-44499701324667049647288881],\n",
       "[-42042247006781973691682098],\n",
       "[-39028929244578514792803115],\n",
       "[-35522166621473386857354532],\n",
       "[-30176810576938344938322448],\n",
       "[-24999770410411259029997463],\n",
       "[-20061178742699624422278577],\n",
       "[-15427381191951727602289290]])"
      ]
     },
     "execution_count": 114,
     "metadata": {},
     "output_type": "execute_result"
    }
   ],
   "source": [
    "### Пусть r = 10\n",
    "r = 10\n",
    "x = B\n",
    "for k in range(10):\n",
    "    x = x - r * MPG * x + r * B\n",
    "B - MPG * x"
   ]
  },
  {
   "cell_type": "code",
   "execution_count": 18,
   "id": "160d834b-7442-4010-b485-889c131cc973",
   "metadata": {},
   "outputs": [
    {
     "data": {
      "text/latex": [
       "$\\displaystyle \\left[\\begin{matrix}-66419385187143\\\\-89999014014297\\\\-117163470269971\\\\-147999093089315\\\\-182548201825224\\\\-213542937903251\\\\-245679042378587\\\\-278577804727101\\\\-311842143931535\\\\-345065872557391\\\\-378628034325676\\\\-412404767754672\\\\-446312569637620\\\\-480310963638130\\\\-514403832896725\\\\-548557143617312\\\\-582750024168729\\\\-616970531935452\\\\-651211125689498\\\\-685463990451506\\\\-719724453294673\\\\-753989697538734\\\\-788257889829932\\\\-822527744623728\\\\-856798538356196\\\\-891069859684471\\\\-925341467400566\\\\-959613221194705\\\\-993885048959679\\\\-1028156913584305\\\\-1062428795828392\\\\-1096700686031661\\\\-1130972579777506\\\\-1165244475062390\\\\-1199516370982328\\\\-1233788267147583\\\\-1268060163405288\\\\-1302332059696685\\\\-1336603955999489\\\\-1370875852305765\\\\-1405147748613044\\\\-1439419644920599\\\\-1473691541228220\\\\-1507963437535852\\\\-1542235333843485\\\\-1576507230151118\\\\-1610779126458751\\\\-1645051022766384\\\\-1679322919074017\\\\-1713594815381650\\\\-1747866711689283\\\\-1782138607996916\\\\-1816410504304549\\\\-1850682400612182\\\\-1884954296919815\\\\-1919226193227448\\\\-1953498089534980\\\\-1987769985841501\\\\-2022041882142456\\\\-2056313778421125\\\\-2090585674618011\\\\-2124857570528165\\\\-2159129465512212\\\\-2193401357801787\\\\-2227673242631342\\\\-2261945107432360\\\\-2296216920880344\\\\-2330488610687899\\\\-2364760012527788\\\\-2399030759922925\\\\-2433300072435021\\\\-2467566387099951\\\\-2501826585393746\\\\-2536074569386517\\\\-2570298945248088\\\\-2604479579932298\\\\-2638580453148820\\\\-2672538873044574\\\\-2706251199568211\\\\-2739555295227450\\\\-2772186189558008\\\\-2803733314768910\\\\-2833600555798229\\\\-2860970350423366\\\\-2884574738585877\\\\-2902719369280832\\\\-2913322341421738\\\\-2913967604745648\\\\-2900496783622104\\\\-2869018666451905\\\\-2816042143880865\\\\-2738604620390979\\\\-2623642059659945\\\\-2473329214814407\\\\-2290741446476296\\\\-2079809598339121\\\\-1763758408251367\\\\-1458425934603789\\\\-1167969923063371\\\\-896295171067608\\end{matrix}\\right]$"
      ],
      "text/plain": [
       "Matrix([\n",
       "[  -66419385187143],\n",
       "[  -89999014014297],\n",
       "[ -117163470269971],\n",
       "[ -147999093089315],\n",
       "[ -182548201825224],\n",
       "[ -213542937903251],\n",
       "[ -245679042378587],\n",
       "[ -278577804727101],\n",
       "[ -311842143931535],\n",
       "[ -345065872557391],\n",
       "[ -378628034325676],\n",
       "[ -412404767754672],\n",
       "[ -446312569637620],\n",
       "[ -480310963638130],\n",
       "[ -514403832896725],\n",
       "[ -548557143617312],\n",
       "[ -582750024168729],\n",
       "[ -616970531935452],\n",
       "[ -651211125689498],\n",
       "[ -685463990451506],\n",
       "[ -719724453294673],\n",
       "[ -753989697538734],\n",
       "[ -788257889829932],\n",
       "[ -822527744623728],\n",
       "[ -856798538356196],\n",
       "[ -891069859684471],\n",
       "[ -925341467400566],\n",
       "[ -959613221194705],\n",
       "[ -993885048959679],\n",
       "[-1028156913584305],\n",
       "[-1062428795828392],\n",
       "[-1096700686031661],\n",
       "[-1130972579777506],\n",
       "[-1165244475062390],\n",
       "[-1199516370982328],\n",
       "[-1233788267147583],\n",
       "[-1268060163405288],\n",
       "[-1302332059696685],\n",
       "[-1336603955999489],\n",
       "[-1370875852305765],\n",
       "[-1405147748613044],\n",
       "[-1439419644920599],\n",
       "[-1473691541228220],\n",
       "[-1507963437535852],\n",
       "[-1542235333843485],\n",
       "[-1576507230151118],\n",
       "[-1610779126458751],\n",
       "[-1645051022766384],\n",
       "[-1679322919074017],\n",
       "[-1713594815381650],\n",
       "[-1747866711689283],\n",
       "[-1782138607996916],\n",
       "[-1816410504304549],\n",
       "[-1850682400612182],\n",
       "[-1884954296919815],\n",
       "[-1919226193227448],\n",
       "[-1953498089534980],\n",
       "[-1987769985841501],\n",
       "[-2022041882142456],\n",
       "[-2056313778421125],\n",
       "[-2090585674618011],\n",
       "[-2124857570528165],\n",
       "[-2159129465512212],\n",
       "[-2193401357801787],\n",
       "[-2227673242631342],\n",
       "[-2261945107432360],\n",
       "[-2296216920880344],\n",
       "[-2330488610687899],\n",
       "[-2364760012527788],\n",
       "[-2399030759922925],\n",
       "[-2433300072435021],\n",
       "[-2467566387099951],\n",
       "[-2501826585393746],\n",
       "[-2536074569386517],\n",
       "[-2570298945248088],\n",
       "[-2604479579932298],\n",
       "[-2638580453148820],\n",
       "[-2672538873044574],\n",
       "[-2706251199568211],\n",
       "[-2739555295227450],\n",
       "[-2772186189558008],\n",
       "[-2803733314768910],\n",
       "[-2833600555798229],\n",
       "[-2860970350423366],\n",
       "[-2884574738585877],\n",
       "[-2902719369280832],\n",
       "[-2913322341421738],\n",
       "[-2913967604745648],\n",
       "[-2900496783622104],\n",
       "[-2869018666451905],\n",
       "[-2816042143880865],\n",
       "[-2738604620390979],\n",
       "[-2623642059659945],\n",
       "[-2473329214814407],\n",
       "[-2290741446476296],\n",
       "[-2079809598339121],\n",
       "[-1763758408251367],\n",
       "[-1458425934603789],\n",
       "[-1167969923063371],\n",
       "[ -896295171067608]])"
      ]
     },
     "execution_count": 18,
     "metadata": {},
     "output_type": "execute_result"
    }
   ],
   "source": [
    "### Пусть r = 1\n",
    "r = 1\n",
    "x = B\n",
    "for k in range(10):\n",
    "    x = x - r * MPG * x + r * B\n",
    "B - MPG * x"
   ]
  },
  {
   "cell_type": "code",
   "execution_count": 19,
   "id": "6ebdf61d-ccf3-4704-9c9e-c38b9d1b76b3",
   "metadata": {},
   "outputs": [
    {
     "data": {
      "text/latex": [
       "$\\displaystyle \\left[\\begin{matrix}-3.6794270082\\\\-4.9704622758\\\\-6.45122422000001\\\\-8.12547532580001\\\\-9.99468776610001\\\\-11.6506661519\\\\-13.3595540582\\\\-15.1015055259\\\\-16.8558725258\\\\-18.601703539\\\\-20.3633246104\\\\-22.1354377608\\\\-23.9148242677\\\\-25.7004743392\\\\-27.4936355806\\\\-29.29279427\\\\-31.0969713387\\\\-32.9055060972\\\\-34.7178204212\\\\-36.5331752576\\\\-38.3509823725\\\\-40.170750096\\\\-41.9920514879\\\\-43.8145174743\\\\-45.6378559721\\\\-47.4618355996\\\\-49.2862750451\\\\-51.1110359245\\\\-52.9360164819\\\\-54.7611432595\\\\-56.5863645532\\\\-58.4116450881\\\\-60.2369615731\\\\-62.0622990545\\\\-63.8876482688\\\\-65.7130037223\\\\-67.5383623143\\\\-69.3637223855\\\\-71.1890831024\\\\-73.0144440765\\\\-74.8398051419\\\\-76.6651662349\\\\-78.4905273345\\\\-80.3158884352\\\\-82.141249536\\\\-83.9666106368001\\\\-85.7919717376001\\\\-87.6173328384001\\\\-89.4426939392001\\\\-91.26805504\\\\-93.0934161408001\\\\-94.9187772416\\\\-96.7441383424\\\\-98.5694994432\\\\-100.394860544\\\\-102.2202216448\\\\-104.0455827355\\\\-105.8709437251\\\\-107.6963041581\\\\-109.5216623625\\\\-111.3470132976\\\\-113.1723437495\\\\-114.9976225857\\\\-116.8227824547\\\\-118.6476877082\\\\-120.4720815205\\\\-122.2955033619\\\\-124.1171664229\\\\-125.9357812448\\\\-127.7493098035\\\\-129.5546341881\\\\-131.3471263911\\\\-133.1201073611\\\\-134.8641943592\\\\-136.5665481963\\\\-138.2100454193\\\\-139.7723465083\\\\-141.2249465658\\\\-142.5323149319\\\\-143.651243817\\\\-144.5300249954\\\\-145.108277615\\\\-145.3175102531\\\\-145.0824650668\\\\-144.3189593436\\\\-142.938565919\\\\-140.8539129301\\\\-137.9843493372\\\\-134.2254421026\\\\-129.5049953416\\\\-123.7869955812\\\\-117.0741622323\\\\-109.1010621974\\\\-100.0667385115\\\\-90.1956782557\\\\-79.73077072\\\\-66.296284057\\\\-53.744987274\\\\-42.2054436214\\\\-31.7807938272\\end{matrix}\\right]$"
      ],
      "text/plain": [
       "Matrix([\n",
       "[    -3.6794270082],\n",
       "[    -4.9704622758],\n",
       "[-6.45122422000001],\n",
       "[-8.12547532580001],\n",
       "[-9.99468776610001],\n",
       "[   -11.6506661519],\n",
       "[   -13.3595540582],\n",
       "[   -15.1015055259],\n",
       "[   -16.8558725258],\n",
       "[    -18.601703539],\n",
       "[   -20.3633246104],\n",
       "[   -22.1354377608],\n",
       "[   -23.9148242677],\n",
       "[   -25.7004743392],\n",
       "[   -27.4936355806],\n",
       "[     -29.29279427],\n",
       "[   -31.0969713387],\n",
       "[   -32.9055060972],\n",
       "[   -34.7178204212],\n",
       "[   -36.5331752576],\n",
       "[   -38.3509823725],\n",
       "[    -40.170750096],\n",
       "[   -41.9920514879],\n",
       "[   -43.8145174743],\n",
       "[   -45.6378559721],\n",
       "[   -47.4618355996],\n",
       "[   -49.2862750451],\n",
       "[   -51.1110359245],\n",
       "[   -52.9360164819],\n",
       "[   -54.7611432595],\n",
       "[   -56.5863645532],\n",
       "[   -58.4116450881],\n",
       "[   -60.2369615731],\n",
       "[   -62.0622990545],\n",
       "[   -63.8876482688],\n",
       "[   -65.7130037223],\n",
       "[   -67.5383623143],\n",
       "[   -69.3637223855],\n",
       "[   -71.1890831024],\n",
       "[   -73.0144440765],\n",
       "[   -74.8398051419],\n",
       "[   -76.6651662349],\n",
       "[   -78.4905273345],\n",
       "[   -80.3158884352],\n",
       "[    -82.141249536],\n",
       "[-83.9666106368001],\n",
       "[-85.7919717376001],\n",
       "[-87.6173328384001],\n",
       "[-89.4426939392001],\n",
       "[     -91.26805504],\n",
       "[-93.0934161408001],\n",
       "[   -94.9187772416],\n",
       "[   -96.7441383424],\n",
       "[   -98.5694994432],\n",
       "[   -100.394860544],\n",
       "[  -102.2202216448],\n",
       "[  -104.0455827355],\n",
       "[  -105.8709437251],\n",
       "[  -107.6963041581],\n",
       "[  -109.5216623625],\n",
       "[  -111.3470132976],\n",
       "[  -113.1723437495],\n",
       "[  -114.9976225857],\n",
       "[  -116.8227824547],\n",
       "[  -118.6476877082],\n",
       "[  -120.4720815205],\n",
       "[  -122.2955033619],\n",
       "[  -124.1171664229],\n",
       "[  -125.9357812448],\n",
       "[  -127.7493098035],\n",
       "[  -129.5546341881],\n",
       "[  -131.3471263911],\n",
       "[  -133.1201073611],\n",
       "[  -134.8641943592],\n",
       "[  -136.5665481963],\n",
       "[  -138.2100454193],\n",
       "[  -139.7723465083],\n",
       "[  -141.2249465658],\n",
       "[  -142.5323149319],\n",
       "[   -143.651243817],\n",
       "[  -144.5300249954],\n",
       "[   -145.108277615],\n",
       "[  -145.3175102531],\n",
       "[  -145.0824650668],\n",
       "[  -144.3189593436],\n",
       "[   -142.938565919],\n",
       "[  -140.8539129301],\n",
       "[  -137.9843493372],\n",
       "[  -134.2254421026],\n",
       "[  -129.5049953416],\n",
       "[  -123.7869955812],\n",
       "[  -117.0741622323],\n",
       "[  -109.1010621974],\n",
       "[  -100.0667385115],\n",
       "[   -90.1956782557],\n",
       "[     -79.73077072],\n",
       "[    -66.296284057],\n",
       "[    -53.744987274],\n",
       "[   -42.2054436214],\n",
       "[   -31.7807938272]])"
      ]
     },
     "execution_count": 19,
     "metadata": {},
     "output_type": "execute_result"
    }
   ],
   "source": [
    "### Пусть r = 0.1\n",
    "r = 0.1\n",
    "x = B\n",
    "for k in range(10):\n",
    "    x = x - r * MPG * x + r * B\n",
    "B - MPG * x"
   ]
  },
  {
   "cell_type": "code",
   "execution_count": 20,
   "id": "2324afa1-70bd-42b4-b7f6-48fb1f205ffe",
   "metadata": {},
   "outputs": [
    {
     "data": {
      "text/latex": [
       "$\\displaystyle \\left[\\begin{matrix}-18.6716325574137\\\\-30.5588309684688\\\\-43.209005918673\\\\-56.6222373585519\\\\-70.7985652635667\\\\-85.0256432782635\\\\-99.2271504654319\\\\-113.411610068008\\\\-127.587545766113\\\\-141.763481458457\\\\-155.939655918325\\\\-170.115949221676\\\\-184.292281418171\\\\-198.468612532342\\\\-212.644942564179\\\\-226.821272167519\\\\-240.997601668314\\\\-255.173931173925\\\\-269.350260682415\\\\-283.52659019185\\\\-297.702919701462\\\\-311.879249211062\\\\-326.055578720657\\\\-340.231908230251\\\\-354.408237739845\\\\-368.584567249439\\\\-382.760896759033\\\\-396.937226268626\\\\-411.11355577822\\\\-425.289885287814\\\\-439.466214797407\\\\-453.642544307001\\\\-467.818873816595\\\\-481.995203326189\\\\-496.171532835783\\\\-510.347862345377\\\\-524.52419185497\\\\-538.700521364564\\\\-552.876850874158\\\\-567.053180383752\\\\-581.229509893345\\\\-595.40583940294\\\\-609.582168912533\\\\-623.758498422127\\\\-637.934827931721\\\\-652.111157441315\\\\-666.287486950908\\\\-680.463816460502\\\\-694.640145970096\\\\-708.81647547969\\\\-722.992804989284\\\\-737.169134498877\\\\-751.345464008471\\\\-765.521793518065\\\\-779.698123027659\\\\-793.874452537252\\\\-808.050782046847\\\\-822.22711155644\\\\-836.403441066034\\\\-850.579770575628\\\\-864.756100085221\\\\-878.932429594815\\\\-893.108759104409\\\\-907.285088614003\\\\-921.461418123596\\\\-935.637747633191\\\\-949.814077142784\\\\-963.990406652378\\\\-978.166736161972\\\\-992.343065671565\\\\-1006.51939518116\\\\-1020.69572469075\\\\-1034.87205420035\\\\-1049.04838370994\\\\-1063.22471321953\\\\-1077.40104272913\\\\-1091.57737223874\\\\-1105.75370174847\\\\-1119.93003125855\\\\-1134.10636076947\\\\-1148.28269026225\\\\-1162.45901967864\\\\-1176.63534890097\\\\-1190.81167773194\\\\-1204.98801701317\\\\-1219.16438873438\\\\-1233.34082614252\\\\-1247.51737385075\\\\-1261.68999433726\\\\-1275.85461016308\\\\-1290.00710403176\\\\-1304.14331884952\\\\-1319.14044782895\\\\-1335.00699318166\\\\-1351.75143482297\\\\-1369.38223015356\\\\-1306.48570780046\\\\-1242.83001728545\\\\-1178.41923606644\\\\-1113.25748149817\\end{matrix}\\right]$"
      ],
      "text/plain": [
       "Matrix([\n",
       "[-18.6716325574137],\n",
       "[-30.5588309684688],\n",
       "[ -43.209005918673],\n",
       "[-56.6222373585519],\n",
       "[-70.7985652635667],\n",
       "[-85.0256432782635],\n",
       "[-99.2271504654319],\n",
       "[-113.411610068008],\n",
       "[-127.587545766113],\n",
       "[-141.763481458457],\n",
       "[-155.939655918325],\n",
       "[-170.115949221676],\n",
       "[-184.292281418171],\n",
       "[-198.468612532342],\n",
       "[-212.644942564179],\n",
       "[-226.821272167519],\n",
       "[-240.997601668314],\n",
       "[-255.173931173925],\n",
       "[-269.350260682415],\n",
       "[ -283.52659019185],\n",
       "[-297.702919701462],\n",
       "[-311.879249211062],\n",
       "[-326.055578720657],\n",
       "[-340.231908230251],\n",
       "[-354.408237739845],\n",
       "[-368.584567249439],\n",
       "[-382.760896759033],\n",
       "[-396.937226268626],\n",
       "[ -411.11355577822],\n",
       "[-425.289885287814],\n",
       "[-439.466214797407],\n",
       "[-453.642544307001],\n",
       "[-467.818873816595],\n",
       "[-481.995203326189],\n",
       "[-496.171532835783],\n",
       "[-510.347862345377],\n",
       "[ -524.52419185497],\n",
       "[-538.700521364564],\n",
       "[-552.876850874158],\n",
       "[-567.053180383752],\n",
       "[-581.229509893345],\n",
       "[ -595.40583940294],\n",
       "[-609.582168912533],\n",
       "[-623.758498422127],\n",
       "[-637.934827931721],\n",
       "[-652.111157441315],\n",
       "[-666.287486950908],\n",
       "[-680.463816460502],\n",
       "[-694.640145970096],\n",
       "[ -708.81647547969],\n",
       "[-722.992804989284],\n",
       "[-737.169134498877],\n",
       "[-751.345464008471],\n",
       "[-765.521793518065],\n",
       "[-779.698123027659],\n",
       "[-793.874452537252],\n",
       "[-808.050782046847],\n",
       "[ -822.22711155644],\n",
       "[-836.403441066034],\n",
       "[-850.579770575628],\n",
       "[-864.756100085221],\n",
       "[-878.932429594815],\n",
       "[-893.108759104409],\n",
       "[-907.285088614003],\n",
       "[-921.461418123596],\n",
       "[-935.637747633191],\n",
       "[-949.814077142784],\n",
       "[-963.990406652378],\n",
       "[-978.166736161972],\n",
       "[-992.343065671565],\n",
       "[-1006.51939518116],\n",
       "[-1020.69572469075],\n",
       "[-1034.87205420035],\n",
       "[-1049.04838370994],\n",
       "[-1063.22471321953],\n",
       "[-1077.40104272913],\n",
       "[-1091.57737223874],\n",
       "[-1105.75370174847],\n",
       "[-1119.93003125855],\n",
       "[-1134.10636076947],\n",
       "[-1148.28269026225],\n",
       "[-1162.45901967864],\n",
       "[-1176.63534890097],\n",
       "[-1190.81167773194],\n",
       "[-1204.98801701317],\n",
       "[-1219.16438873438],\n",
       "[-1233.34082614252],\n",
       "[-1247.51737385075],\n",
       "[-1261.68999433726],\n",
       "[-1275.85461016308],\n",
       "[-1290.00710403176],\n",
       "[-1304.14331884952],\n",
       "[-1319.14044782895],\n",
       "[-1335.00699318166],\n",
       "[-1351.75143482297],\n",
       "[-1369.38223015356],\n",
       "[-1306.48570780046],\n",
       "[-1242.83001728545],\n",
       "[-1178.41923606644],\n",
       "[-1113.25748149817]])"
      ]
     },
     "execution_count": 20,
     "metadata": {},
     "output_type": "execute_result"
    }
   ],
   "source": [
    "### Пусть r = 0.001\n",
    "r = 0.001\n",
    "x = B\n",
    "for k in range(10):\n",
    "    x = x - r * MPG * x + r * B\n",
    "B - MPG * x"
   ]
  },
  {
   "cell_type": "markdown",
   "id": "22b12c9c-1d3a-446f-a8ef-9c5fe38b9968",
   "metadata": {},
   "source": [
    "Получаем наибольшую скорость сходимссти при $\\tau = 0.01$ "
   ]
  },
  {
   "cell_type": "markdown",
   "id": "fc04790b-974d-4162-b538-53b21f52c2ae",
   "metadata": {},
   "source": [
    "Б) Воспользуемся степенным методом Поиска МаксиМального По модулю собственноГо значения:"
   ]
  },
  {
   "cell_type": "code",
   "execution_count": 24,
   "id": "31c02bae-c84b-4a88-8d34-53cc65a4ce3a",
   "metadata": {},
   "outputs": [
    {
     "data": {
      "text/latex": [
       "$\\displaystyle \\left[\\begin{matrix}0.00932400023295784\\\\0.0125669244869123\\\\0.0162692698666827\\\\0.0204343937786703\\\\0.025059253638264\\\\0.0290951412949401\\\\0.03321701657327\\\\0.0373690149100404\\\\0.0414937164372955\\\\0.0455335328466017\\\\0.0495479342368983\\\\0.0535205473130915\\\\0.0574407754527664\\\\0.0613040648065809\\\\0.0651119413612087\\\\0.0688589069508914\\\\0.072540924585256\\\\0.0761547893851051\\\\0.0796974605518654\\\\0.0831653882680521\\\\0.0865553086687105\\\\0.0898640906702751\\\\0.0930886524700995\\\\0.0962259531313696\\\\0.0992730599517191\\\\0.102227127169902\\\\0.105085391978765\\\\0.10784518015199\\\\0.110503912867091\\\\0.113059106212908\\\\0.115508373288792\\\\0.117849426957985\\\\0.120080082165518\\\\0.122198257673242\\\\0.124201978019209\\\\0.126089375400194\\\\0.127858691391683\\\\0.129508278541669\\\\0.13103660189127\\\\0.132442240384637\\\\0.133723888164185\\\\0.134880355756743\\\\0.135910571152074\\\\0.136813580769256\\\\0.137588550310547\\\\0.138234765502804\\\\0.138751632725865\\\\0.139138679527154\\\\0.139395555022285\\\\0.139522030181492\\\\0.139517998001751\\\\0.139383473564587\\\\0.139118593979654\\\\0.138723618214338\\\\0.138198926809651\\\\0.137545021482877\\\\0.136762524617514\\\\0.135852178641079\\\\0.134814845291428\\\\0.133651504772696\\\\0.132363254801859\\\\0.130951309546198\\\\0.12941699845242\\\\0.127761764972278\\\\0.12598716518356\\\\0.124094866301207\\\\0.122086645082792\\\\0.119964386166097\\\\0.117730080286159\\\\0.115385822335735\\\\0.112933809354914\\\\0.110376338750674\\\\0.107715805940953\\\\0.10495470157049\\\\0.102095609386029\\\\0.0991412067045997\\\\0.0960942575875844\\\\0.0929576072153975\\\\0.08973418586348\\\\0.0864270301568598\\\\0.0830392158454722\\\\0.0795738662198264\\\\0.076034235470067\\\\0.0724238615849764\\\\0.068745772980205\\\\0.0650031603206971\\\\0.0612000432906517\\\\0.0573418984847417\\\\0.0534271906785028\\\\0.0494604513913941\\\\0.0454522419712607\\\\0.0414188881311339\\\\0.0373010175637766\\\\0.0331560898299735\\\\0.029041395528873\\\\0.0250126725264406\\\\0.0203962315335445\\\\0.0162387579429841\\\\0.0125432673773403\\\\0.00930639001210075\\end{matrix}\\right]$"
      ],
      "text/plain": [
       "Matrix([\n",
       "[0.00932400023295784],\n",
       "[ 0.0125669244869123],\n",
       "[ 0.0162692698666827],\n",
       "[ 0.0204343937786703],\n",
       "[  0.025059253638264],\n",
       "[ 0.0290951412949401],\n",
       "[   0.03321701657327],\n",
       "[ 0.0373690149100404],\n",
       "[ 0.0414937164372955],\n",
       "[ 0.0455335328466017],\n",
       "[ 0.0495479342368983],\n",
       "[ 0.0535205473130915],\n",
       "[ 0.0574407754527664],\n",
       "[ 0.0613040648065809],\n",
       "[ 0.0651119413612087],\n",
       "[ 0.0688589069508914],\n",
       "[  0.072540924585256],\n",
       "[ 0.0761547893851051],\n",
       "[ 0.0796974605518654],\n",
       "[ 0.0831653882680521],\n",
       "[ 0.0865553086687105],\n",
       "[ 0.0898640906702751],\n",
       "[ 0.0930886524700995],\n",
       "[ 0.0962259531313696],\n",
       "[ 0.0992730599517191],\n",
       "[  0.102227127169902],\n",
       "[  0.105085391978765],\n",
       "[   0.10784518015199],\n",
       "[  0.110503912867091],\n",
       "[  0.113059106212908],\n",
       "[  0.115508373288792],\n",
       "[  0.117849426957985],\n",
       "[  0.120080082165518],\n",
       "[  0.122198257673242],\n",
       "[  0.124201978019209],\n",
       "[  0.126089375400194],\n",
       "[  0.127858691391683],\n",
       "[  0.129508278541669],\n",
       "[   0.13103660189127],\n",
       "[  0.132442240384637],\n",
       "[  0.133723888164185],\n",
       "[  0.134880355756743],\n",
       "[  0.135910571152074],\n",
       "[  0.136813580769256],\n",
       "[  0.137588550310547],\n",
       "[  0.138234765502804],\n",
       "[  0.138751632725865],\n",
       "[  0.139138679527154],\n",
       "[  0.139395555022285],\n",
       "[  0.139522030181492],\n",
       "[  0.139517998001751],\n",
       "[  0.139383473564587],\n",
       "[  0.139118593979654],\n",
       "[  0.138723618214338],\n",
       "[  0.138198926809651],\n",
       "[  0.137545021482877],\n",
       "[  0.136762524617514],\n",
       "[  0.135852178641079],\n",
       "[  0.134814845291428],\n",
       "[  0.133651504772696],\n",
       "[  0.132363254801859],\n",
       "[  0.130951309546198],\n",
       "[   0.12941699845242],\n",
       "[  0.127761764972278],\n",
       "[   0.12598716518356],\n",
       "[  0.124094866301207],\n",
       "[  0.122086645082792],\n",
       "[  0.119964386166097],\n",
       "[  0.117730080286159],\n",
       "[  0.115385822335735],\n",
       "[  0.112933809354914],\n",
       "[  0.110376338750674],\n",
       "[  0.107715805940953],\n",
       "[   0.10495470157049],\n",
       "[  0.102095609386029],\n",
       "[ 0.0991412067045997],\n",
       "[ 0.0960942575875844],\n",
       "[ 0.0929576072153975],\n",
       "[   0.08973418586348],\n",
       "[ 0.0864270301568598],\n",
       "[ 0.0830392158454722],\n",
       "[ 0.0795738662198264],\n",
       "[  0.076034235470067],\n",
       "[ 0.0724238615849764],\n",
       "[  0.068745772980205],\n",
       "[ 0.0650031603206971],\n",
       "[ 0.0612000432906517],\n",
       "[ 0.0573418984847417],\n",
       "[ 0.0534271906785028],\n",
       "[ 0.0494604513913941],\n",
       "[ 0.0454522419712607],\n",
       "[ 0.0414188881311339],\n",
       "[ 0.0373010175637766],\n",
       "[ 0.0331560898299735],\n",
       "[  0.029041395528873],\n",
       "[ 0.0250126725264406],\n",
       "[ 0.0203962315335445],\n",
       "[ 0.0162387579429841],\n",
       "[ 0.0125432673773403],\n",
       "[0.00930639001210075]])"
      ]
     },
     "execution_count": 24,
     "metadata": {},
     "output_type": "execute_result"
    }
   ],
   "source": [
    "import random\n",
    "r = mp.Matrix([random.random() for k in range(100)])\n",
    "r /= r.norm()\n",
    "for k in range(1000):\n",
    "    r = MPG * r\n",
    "    r /= r.norm()\n",
    "r"
   ]
  },
  {
   "cell_type": "code",
   "execution_count": 25,
   "id": "c5b78f28-d928-4d14-9111-0465c5ec2081",
   "metadata": {},
   "outputs": [
    {
     "data": {
      "text/latex": [
       "$\\displaystyle \\left[\\begin{matrix}17.9719629644624\\end{matrix}\\right]$"
      ],
      "text/plain": [
       "Matrix([[17.9719629644624]])"
      ]
     },
     "execution_count": 25,
     "metadata": {},
     "output_type": "execute_result"
    }
   ],
   "source": [
    "mu = r.T * MPG * r\n",
    "mu"
   ]
  },
  {
   "cell_type": "markdown",
   "id": "75407bf9-5e12-409f-ada9-5b62e3b014ba",
   "metadata": {},
   "source": [
    "Аналогично для обратной матрицы:"
   ]
  },
  {
   "cell_type": "code",
   "execution_count": 26,
   "id": "e98aae61-321e-4039-bd3e-a102994a8d30",
   "metadata": {},
   "outputs": [
    {
     "data": {
      "text/latex": [
       "$\\displaystyle \\left[\\begin{matrix}-0.0201512845090425\\\\-0.0110384227394561\\\\0.0143797672094442\\\\0.0330686623267897\\\\0.0244550338832593\\\\-0.0184140418529729\\\\-0.0513550526104799\\\\-0.0377561739532838\\\\0.0174065648141518\\\\0.0664622533727587\\\\0.0555110848842076\\\\-0.0131014541771402\\\\-0.0783836479641832\\\\-0.0746515954050556\\\\0.0037200572627322\\\\0.0872727767012133\\\\0.0941338663092927\\\\0.00985588650301326\\\\-0.0918848864583238\\\\-0.113292862916245\\\\-0.0269512881258297\\\\0.0918989274357099\\\\0.130900336781543\\\\0.046959020782139\\\\-0.0871815882452444\\\\-0.145987475882567\\\\-0.0689280407892109\\\\0.077722499769499\\\\0.157723287450338\\\\0.091845474761381\\\\-0.0638066269534698\\\\-0.165393458547\\\\-0.114660522701009\\\\0.0459345808120589\\\\0.168495981567507\\\\0.136305289763349\\\\-0.0247964093487744\\\\-0.166750072274291\\\\-0.155766911469713\\\\0.00125034141251699\\\\0.160106450960973\\\\0.172134625373686\\\\0.0237252218446528\\\\-0.148754509641252\\\\-0.184642661123192\\\\-0.0490798240388047\\\\0.133111514512269\\\\0.192709602624707\\\\0.0737418683377406\\\\-0.113801776293868\\\\-0.195966728683433\\\\-0.0966719528961856\\\\0.0916261529660398\\\\0.194275920075434\\\\0.11691410238321\\\\-0.0675223554900594\\\\-0.187736453450106\\\\-0.13364265744374\\\\0.0425184529322677\\\\0.176679983619176\\\\0.1462028748654\\\\-0.0176823611640043\\\\-0.161653445012999\\\\-0.15414350918959\\\\-0.00593063249021761\\\\0.143392242128137\\\\0.157237443671234\\\\0.0273317550019588\\\\-0.12278507956503\\\\-0.155492958362134\\\\-0.0456440944831698\\\\0.100823874152932\\\\0.149158973982927\\\\0.0601439596597138\\\\-0.0785617104764789\\\\-0.138694850542522\\\\-0.0703188004262227\\\\0.0570750387679585\\\\0.124757742314697\\\\0.0758457985665341\\\\-0.0373357084807354\\\\-0.108238009024192\\\\-0.0766013463164093\\\\0.0202707160296049\\\\0.0899876043815958\\\\0.072933240712259\\\\-0.00685239975271225\\\\-0.0709725921248266\\\\-0.0650125847966276\\\\-0.00287236771873811\\\\0.0529699494660064\\\\0.0529502267064291\\\\0.00822428910290919\\\\-0.0355681575014207\\\\-0.0398940042022031\\\\-0.00680918845710056\\\\0.0193976526338255\\\\0.0234687899271179\\\\0.00586557388798\\\\-0.0138792016498503\\end{matrix}\\right]$"
      ],
      "text/plain": [
       "Matrix([\n",
       "[ -0.0201512845090425],\n",
       "[ -0.0110384227394561],\n",
       "[  0.0143797672094442],\n",
       "[  0.0330686623267897],\n",
       "[  0.0244550338832593],\n",
       "[ -0.0184140418529729],\n",
       "[ -0.0513550526104799],\n",
       "[ -0.0377561739532838],\n",
       "[  0.0174065648141518],\n",
       "[  0.0664622533727587],\n",
       "[  0.0555110848842076],\n",
       "[ -0.0131014541771402],\n",
       "[ -0.0783836479641832],\n",
       "[ -0.0746515954050556],\n",
       "[  0.0037200572627322],\n",
       "[  0.0872727767012133],\n",
       "[  0.0941338663092927],\n",
       "[ 0.00985588650301326],\n",
       "[ -0.0918848864583238],\n",
       "[  -0.113292862916245],\n",
       "[ -0.0269512881258297],\n",
       "[  0.0918989274357099],\n",
       "[   0.130900336781543],\n",
       "[   0.046959020782139],\n",
       "[ -0.0871815882452444],\n",
       "[  -0.145987475882567],\n",
       "[ -0.0689280407892109],\n",
       "[   0.077722499769499],\n",
       "[   0.157723287450338],\n",
       "[   0.091845474761381],\n",
       "[ -0.0638066269534698],\n",
       "[     -0.165393458547],\n",
       "[  -0.114660522701009],\n",
       "[  0.0459345808120589],\n",
       "[   0.168495981567507],\n",
       "[   0.136305289763349],\n",
       "[ -0.0247964093487744],\n",
       "[  -0.166750072274291],\n",
       "[  -0.155766911469713],\n",
       "[ 0.00125034141251699],\n",
       "[   0.160106450960973],\n",
       "[   0.172134625373686],\n",
       "[  0.0237252218446528],\n",
       "[  -0.148754509641252],\n",
       "[  -0.184642661123192],\n",
       "[ -0.0490798240388047],\n",
       "[   0.133111514512269],\n",
       "[   0.192709602624707],\n",
       "[  0.0737418683377406],\n",
       "[  -0.113801776293868],\n",
       "[  -0.195966728683433],\n",
       "[ -0.0966719528961856],\n",
       "[  0.0916261529660398],\n",
       "[   0.194275920075434],\n",
       "[    0.11691410238321],\n",
       "[ -0.0675223554900594],\n",
       "[  -0.187736453450106],\n",
       "[   -0.13364265744374],\n",
       "[  0.0425184529322677],\n",
       "[   0.176679983619176],\n",
       "[     0.1462028748654],\n",
       "[ -0.0176823611640043],\n",
       "[  -0.161653445012999],\n",
       "[   -0.15414350918959],\n",
       "[-0.00593063249021761],\n",
       "[   0.143392242128137],\n",
       "[   0.157237443671234],\n",
       "[  0.0273317550019588],\n",
       "[   -0.12278507956503],\n",
       "[  -0.155492958362134],\n",
       "[ -0.0456440944831698],\n",
       "[   0.100823874152932],\n",
       "[   0.149158973982927],\n",
       "[  0.0601439596597138],\n",
       "[ -0.0785617104764789],\n",
       "[  -0.138694850542522],\n",
       "[ -0.0703188004262227],\n",
       "[  0.0570750387679585],\n",
       "[   0.124757742314697],\n",
       "[  0.0758457985665341],\n",
       "[ -0.0373357084807354],\n",
       "[  -0.108238009024192],\n",
       "[ -0.0766013463164093],\n",
       "[  0.0202707160296049],\n",
       "[  0.0899876043815958],\n",
       "[   0.072933240712259],\n",
       "[-0.00685239975271225],\n",
       "[ -0.0709725921248266],\n",
       "[ -0.0650125847966276],\n",
       "[-0.00287236771873811],\n",
       "[  0.0529699494660064],\n",
       "[  0.0529502267064291],\n",
       "[ 0.00822428910290919],\n",
       "[ -0.0355681575014207],\n",
       "[ -0.0398940042022031],\n",
       "[-0.00680918845710056],\n",
       "[  0.0193976526338255],\n",
       "[  0.0234687899271179],\n",
       "[    0.00586557388798],\n",
       "[ -0.0138792016498503]])"
      ]
     },
     "execution_count": 26,
     "metadata": {},
     "output_type": "execute_result"
    }
   ],
   "source": [
    "MPGL = MPG ** (-1)\n",
    "import random\n",
    "r = mp.Matrix([random.random() for k in range(100)])\n",
    "r /= r.norm()\n",
    "for k in range(1000):\n",
    "    r = MPGL * r\n",
    "    r /= r.norm()\n",
    "r"
   ]
  },
  {
   "cell_type": "code",
   "execution_count": 27,
   "id": "1f73fe3d-1636-44b7-9526-fe0cc3ea9c1e",
   "metadata": {},
   "outputs": [
    {
     "data": {
      "text/latex": [
       "$\\displaystyle \\left[\\begin{matrix}0.143275545282336\\end{matrix}\\right]$"
      ],
      "text/plain": [
       "Matrix([[0.143275545282336]])"
      ]
     },
     "execution_count": 27,
     "metadata": {},
     "output_type": "execute_result"
    }
   ],
   "source": [
    "mu0 = r.T * MPGL * r\n",
    "mu0"
   ]
  },
  {
   "cell_type": "markdown",
   "id": "3c2dbab0-b56a-4fa5-b23c-e59d2956ba58",
   "metadata": {},
   "source": [
    "Поскуольку мы работаем с евклидовой нормой, ей подчинена норма максимального собственного значенияБ и число обусловленности $\\mu$ равно:"
   ]
  },
  {
   "cell_type": "code",
   "execution_count": 28,
   "id": "ad4530c2-0f7c-4404-8578-941e2efd0a43",
   "metadata": {},
   "outputs": [
    {
     "data": {
      "text/latex": [
       "$\\displaystyle \\left[\\begin{matrix}2.5749427935273\\end{matrix}\\right]$"
      ],
      "text/plain": [
       "Matrix([[2.5749427935273]])"
      ]
     },
     "execution_count": 28,
     "metadata": {},
     "output_type": "execute_result"
    }
   ],
   "source": [
    "mu * mu0"
   ]
  },
  {
   "cell_type": "markdown",
   "id": "69b45c76-d856-47c3-b0c8-6a4b9ba5a994",
   "metadata": {},
   "source": [
    "Можно теперь получить, что оптимальное $\\tau \\approx \\frac{mu + 1/mu0}{2} = $"
   ]
  },
  {
   "cell_type": "code",
   "execution_count": 36,
   "id": "91177f88-a444-449f-bf94-dc34cd88673b",
   "metadata": {},
   "outputs": [
    {
     "data": {
      "text/latex": [
       "$\\displaystyle 12.4757605580303$"
      ],
      "text/plain": [
       "12.4757605580303"
      ]
     },
     "execution_count": 36,
     "metadata": {},
     "output_type": "execute_result"
    }
   ],
   "source": [
    "(mu[0] + mu0[0] ** -1) / 2"
   ]
  },
  {
   "cell_type": "markdown",
   "id": "929e178d-ce6b-4e27-9229-26821b801bcc",
   "metadata": {},
   "source": [
    "Получить решение с $\\epsilon$ Можно Будет за mu * mu0 $ln(\\epsilon^{-1})$"
   ]
  },
  {
   "cell_type": "code",
   "execution_count": 38,
   "id": "84575299-b517-4ca6-a74b-6e504a56f327",
   "metadata": {},
   "outputs": [
    {
     "data": {
      "text/latex": [
       "$\\displaystyle \\left[\\begin{matrix}29.645124458442\\end{matrix}\\right]$"
      ],
      "text/plain": [
       "Matrix([[29.645124458442]])"
      ]
     },
     "execution_count": 38,
     "metadata": {},
     "output_type": "execute_result"
    }
   ],
   "source": [
    "from math import log\n",
    "mu*mu0*log(10 ** 5)"
   ]
  },
  {
   "cell_type": "code",
   "execution_count": 42,
   "id": "3034b3eb-bec7-4b51-8827-26ae2c1fb18c",
   "metadata": {},
   "outputs": [
    {
     "data": {
      "text/latex": [
       "$\\displaystyle 8.37522651784326 \\cdot 10^{71} \\sqrt{13534}$"
      ],
      "text/plain": [
       "8.37522651784326e+71*sqrt(13534)"
      ]
     },
     "execution_count": 42,
     "metadata": {},
     "output_type": "execute_result"
    }
   ],
   "source": [
    "r = (mu[0] + mu0[0] ** -1) / 2\n",
    "x = B\n",
    "for k in range(31):\n",
    "    x = x - r * MPG * x + r * B\n",
    "(B - MPG * x).norm() / B.norm()"
   ]
  },
  {
   "cell_type": "markdown",
   "id": "40d16a55-b23d-4620-af9c-3d7f483050bb",
   "metadata": {},
   "source": [
    "Получили высокую точность за сравнительно малое число итераций"
   ]
  }
 ],
 "metadata": {
  "kernelspec": {
   "display_name": "Python 3 (ipykernel)",
   "language": "python",
   "name": "python3"
  },
  "language_info": {
   "codemirror_mode": {
    "name": "ipython",
    "version": 3
   },
   "file_extension": ".py",
   "mimetype": "text/x-python",
   "name": "python",
   "nbconvert_exporter": "python",
   "pygments_lexer": "ipython3",
   "version": "3.10.12"
  }
 },
 "nbformat": 4,
 "nbformat_minor": 5
}
