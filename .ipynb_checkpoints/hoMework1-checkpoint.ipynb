{
 "cells": [
  {
   "cell_type": "markdown",
   "id": "159808dd-cfaf-4dcb-8e37-2e63ca4d95cc",
   "metadata": {},
   "source": [
    "# Первая домашняя работа."
   ]
  },
  {
   "cell_type": "markdown",
   "id": "f1ede2e3-42be-4d01-b8e4-50663786a3fe",
   "metadata": {},
   "source": [
    "## Вариант 4"
   ]
  },
  {
   "cell_type": "markdown",
   "id": "def4b23f-531b-4873-a04f-2ff40e7b91d5",
   "metadata": {},
   "source": [
    "### Задача 1*.4\n",
    "\n",
    "$G\" = aG(x_0 - 2h) + bG(x_0 - h) + cG(x_0) + eG(x_0 + h) + dG(x_0 + 2h)$\n",
    "\n",
    "Найдём коэффициента $b, a, c, e, d$, \n",
    "Приближающие $G''$ с наибольшей точностью (дающие наибольший порядок аппроксимации)"
   ]
  },
  {
   "cell_type": "code",
   "execution_count": 18,
   "id": "8e185d42-5c82-421a-9779-225d8d036e21",
   "metadata": {},
   "outputs": [
    {
     "data": {
      "text/latex": [
       "$\\displaystyle a G{\\left(- 2 h + x_{0} \\right)} + b G{\\left(- h + x_{0} \\right)} + c G{\\left(x_{0} \\right)} + d G{\\left(h + x_{0} \\right)} + e G{\\left(2 h + x_{0} \\right)}$"
      ],
      "text/plain": [
       "a*G(-2*h + x0) + b*G(-h + x0) + c*G(x0) + d*G(h + x0) + e*G(2*h + x0)"
      ]
     },
     "execution_count": 18,
     "metadata": {},
     "output_type": "execute_result"
    }
   ],
   "source": [
    "import sympy as mp\n",
    "x, x0, h = mp.symbols('x x0 h')\n",
    "b, a, c, d, e = mp.symbols('b a c d e')\n",
    "G = mp.Function('G')(x0)\n",
    "GPlus = mp.Function('G')(x0 + h)\n",
    "GMin = mp.Function('G')(x0 - h)\n",
    "GPlusPlus = mp.Function('G')(x0 + 2 * h)\n",
    "GMinMin = mp.Function('G')(x0 - 2 * h)\n",
    "MPG = a * GMinMin + b * GMin + c * G + d * GPlus + e * GPlusPlus\n",
    "MPG"
   ]
  },
  {
   "cell_type": "markdown",
   "id": "a243fc35-436e-4a19-bc5b-9b0246737334",
   "metadata": {},
   "source": [
    "Представим $G$ рядом:"
   ]
  },
  {
   "cell_type": "code",
   "execution_count": 20,
   "id": "4e26c2c8-7d40-4065-9cdc-2d041f8d5438",
   "metadata": {},
   "outputs": [
    {
     "data": {
      "text/latex": [
       "$\\displaystyle h \\left(- 2 a \\left. \\frac{d}{d \\xi_{1}} G{\\left(\\xi_{1} \\right)} \\right|_{\\substack{ \\xi_{1}=x_{0} }} - b \\left. \\frac{d}{d \\xi_{1}} G{\\left(\\xi_{1} \\right)} \\right|_{\\substack{ \\xi_{1}=x_{0} }} + d \\left. \\frac{d}{d \\xi_{1}} G{\\left(\\xi_{1} \\right)} \\right|_{\\substack{ \\xi_{1}=x_{0} }} + 2 e \\left. \\frac{d}{d \\xi_{1}} G{\\left(\\xi_{1} \\right)} \\right|_{\\substack{ \\xi_{1}=x_{0} }}\\right) + h^{2} \\left(2 a \\left. \\frac{d^{2}}{d \\xi_{1}^{2}} G{\\left(\\xi_{1} \\right)} \\right|_{\\substack{ \\xi_{1}=x_{0} }} + \\frac{b \\left. \\frac{d^{2}}{d \\xi_{1}^{2}} G{\\left(\\xi_{1} \\right)} \\right|_{\\substack{ \\xi_{1}=x_{0} }}}{2} + \\frac{d \\left. \\frac{d^{2}}{d \\xi_{1}^{2}} G{\\left(\\xi_{1} \\right)} \\right|_{\\substack{ \\xi_{1}=x_{0} }}}{2} + 2 e \\left. \\frac{d^{2}}{d \\xi_{1}^{2}} G{\\left(\\xi_{1} \\right)} \\right|_{\\substack{ \\xi_{1}=x_{0} }}\\right) + h^{3} \\left(- \\frac{4 a \\left. \\frac{d^{3}}{d \\xi_{1}^{3}} G{\\left(\\xi_{1} \\right)} \\right|_{\\substack{ \\xi_{1}=x_{0} }}}{3} - \\frac{b \\left. \\frac{d^{3}}{d \\xi_{1}^{3}} G{\\left(\\xi_{1} \\right)} \\right|_{\\substack{ \\xi_{1}=x_{0} }}}{6} + \\frac{d \\left. \\frac{d^{3}}{d \\xi_{1}^{3}} G{\\left(\\xi_{1} \\right)} \\right|_{\\substack{ \\xi_{1}=x_{0} }}}{6} + \\frac{4 e \\left. \\frac{d^{3}}{d \\xi_{1}^{3}} G{\\left(\\xi_{1} \\right)} \\right|_{\\substack{ \\xi_{1}=x_{0} }}}{3}\\right) + h^{4} \\left(\\frac{2 a \\left. \\frac{d^{4}}{d \\xi_{1}^{4}} G{\\left(\\xi_{1} \\right)} \\right|_{\\substack{ \\xi_{1}=x_{0} }}}{3} + \\frac{b \\left. \\frac{d^{4}}{d \\xi_{1}^{4}} G{\\left(\\xi_{1} \\right)} \\right|_{\\substack{ \\xi_{1}=x_{0} }}}{24} + \\frac{d \\left. \\frac{d^{4}}{d \\xi_{1}^{4}} G{\\left(\\xi_{1} \\right)} \\right|_{\\substack{ \\xi_{1}=x_{0} }}}{24} + \\frac{2 e \\left. \\frac{d^{4}}{d \\xi_{1}^{4}} G{\\left(\\xi_{1} \\right)} \\right|_{\\substack{ \\xi_{1}=x_{0} }}}{3}\\right) + h^{5} \\left(- \\frac{4 a \\left. \\frac{d^{5}}{d \\xi_{1}^{5}} G{\\left(\\xi_{1} \\right)} \\right|_{\\substack{ \\xi_{1}=x_{0} }}}{15} - \\frac{b \\left. \\frac{d^{5}}{d \\xi_{1}^{5}} G{\\left(\\xi_{1} \\right)} \\right|_{\\substack{ \\xi_{1}=x_{0} }}}{120} + \\frac{d \\left. \\frac{d^{5}}{d \\xi_{1}^{5}} G{\\left(\\xi_{1} \\right)} \\right|_{\\substack{ \\xi_{1}=x_{0} }}}{120} + \\frac{4 e \\left. \\frac{d^{5}}{d \\xi_{1}^{5}} G{\\left(\\xi_{1} \\right)} \\right|_{\\substack{ \\xi_{1}=x_{0} }}}{15}\\right) + e G{\\left(x_{0} \\right)} + d G{\\left(x_{0} \\right)} + c G{\\left(x_{0} \\right)} + b G{\\left(x_{0} \\right)} + a G{\\left(x_{0} \\right)} + O\\left(h^{6}\\right)$"
      ],
      "text/plain": [
       "h*(-2*a*Subs(Derivative(G(_xi_1), _xi_1), _xi_1, x0) - b*Subs(Derivative(G(_xi_1), _xi_1), _xi_1, x0) + d*Subs(Derivative(G(_xi_1), _xi_1), _xi_1, x0) + 2*e*Subs(Derivative(G(_xi_1), _xi_1), _xi_1, x0)) + h**2*(2*a*Subs(Derivative(G(_xi_1), (_xi_1, 2)), _xi_1, x0) + b*Subs(Derivative(G(_xi_1), (_xi_1, 2)), _xi_1, x0)/2 + d*Subs(Derivative(G(_xi_1), (_xi_1, 2)), _xi_1, x0)/2 + 2*e*Subs(Derivative(G(_xi_1), (_xi_1, 2)), _xi_1, x0)) + h**3*(-4*a*Subs(Derivative(G(_xi_1), (_xi_1, 3)), _xi_1, x0)/3 - b*Subs(Derivative(G(_xi_1), (_xi_1, 3)), _xi_1, x0)/6 + d*Subs(Derivative(G(_xi_1), (_xi_1, 3)), _xi_1, x0)/6 + 4*e*Subs(Derivative(G(_xi_1), (_xi_1, 3)), _xi_1, x0)/3) + h**4*(2*a*Subs(Derivative(G(_xi_1), (_xi_1, 4)), _xi_1, x0)/3 + b*Subs(Derivative(G(_xi_1), (_xi_1, 4)), _xi_1, x0)/24 + d*Subs(Derivative(G(_xi_1), (_xi_1, 4)), _xi_1, x0)/24 + 2*e*Subs(Derivative(G(_xi_1), (_xi_1, 4)), _xi_1, x0)/3) + h**5*(-4*a*Subs(Derivative(G(_xi_1), (_xi_1, 5)), _xi_1, x0)/15 - b*Subs(Derivative(G(_xi_1), (_xi_1, 5)), _xi_1, x0)/120 + d*Subs(Derivative(G(_xi_1), (_xi_1, 5)), _xi_1, x0)/120 + 4*e*Subs(Derivative(G(_xi_1), (_xi_1, 5)), _xi_1, x0)/15) + e*G(x0) + d*G(x0) + c*G(x0) + b*G(x0) + a*G(x0) + O(h**6)"
      ]
     },
     "execution_count": 20,
     "metadata": {},
     "output_type": "execute_result"
    }
   ],
   "source": [
    "mp.series(MPG, h, 0)"
   ]
  },
  {
   "cell_type": "markdown",
   "id": "1bdc374d-8686-4fdb-8ae4-865bf5c22dc8",
   "metadata": {},
   "source": [
    "Перейдём к системе:"
   ]
  },
  {
   "cell_type": "code",
   "execution_count": 25,
   "id": "42f4b20b-c1a0-4e0a-affa-71919e4ec779",
   "metadata": {},
   "outputs": [
    {
     "data": {
      "text/plain": [
       "{a: -1/(12*h**2),\n",
       " b: 4/(3*h**2),\n",
       " c: -5/(2*h**2),\n",
       " d: 4/(3*h**2),\n",
       " e: -1/(12*h**2)}"
      ]
     },
     "execution_count": 25,
     "metadata": {},
     "output_type": "execute_result"
    }
   ],
   "source": [
    "def sum(x):\n",
    "    return mp.series(MPG, h, 0).subs(h, x)\n",
    "term = sum(h).series(h, n = None)\n",
    "eq1 = mp.Eq(next(term).simplify() / G, 0)\n",
    "eq2 = mp.Eq((next(term) / h).simplify() / mp.diff(G, x0), 0)\n",
    "eq3 = mp.Eq((next(term) / h ** 2).simplify() / mp.diff(mp.diff(G, x0)), 1/(h**2))\n",
    "eq4 = mp.Eq((next(term) / h ** 3).simplify() / mp.diff(mp.diff(mp.diff(G, x0))), 0)\n",
    "eq5 = mp.Eq((next(term) / h ** 4).simplify() / mp.diff(mp.diff(mp.diff(mp.diff(G, x0)))), 0)\n",
    "args = mp.solve([eq1, eq2, eq3, eq4, eq5], [a, b, c, d, e])\n",
    "args"
   ]
  },
  {
   "cell_type": "markdown",
   "id": "10adff39-095d-43f1-b6d4-ccc1d237f456",
   "metadata": {},
   "source": [
    "Получаем:"
   ]
  },
  {
   "cell_type": "code",
   "execution_count": 29,
   "id": "2c0f4667-e492-41fa-a036-c6bc0a92b739",
   "metadata": {},
   "outputs": [
    {
     "data": {
      "text/latex": [
       "$\\displaystyle - \\frac{5 G{\\left(x_{0} \\right)}}{2 h^{2}} - \\frac{G{\\left(- 2 h + x_{0} \\right)}}{12 h^{2}} + \\frac{4 G{\\left(- h + x_{0} \\right)}}{3 h^{2}} + \\frac{4 G{\\left(h + x_{0} \\right)}}{3 h^{2}} - \\frac{G{\\left(2 h + x_{0} \\right)}}{12 h^{2}}$"
      ],
      "text/plain": [
       "-5*G(x0)/(2*h**2) - G(-2*h + x0)/(12*h**2) + 4*G(-h + x0)/(3*h**2) + 4*G(h + x0)/(3*h**2) - G(2*h + x0)/(12*h**2)"
      ]
     },
     "execution_count": 29,
     "metadata": {},
     "output_type": "execute_result"
    }
   ],
   "source": [
    "MPG.subs(args)"
   ]
  },
  {
   "cell_type": "markdown",
   "id": "3f0b0105-47d1-492f-b56c-cef1c167ee46",
   "metadata": {},
   "source": [
    "Проверим результат, вновь расписав ряд:"
   ]
  },
  {
   "cell_type": "code",
   "execution_count": 30,
   "id": "21fe8293-6664-404f-870d-48f1101019c2",
   "metadata": {},
   "outputs": [
    {
     "data": {
      "text/latex": [
       "$\\displaystyle \\frac{d^{2}}{d x_{0}^{2}} G{\\left(x_{0} \\right)} - \\frac{h^{4} \\frac{d^{6}}{d x_{0}^{6}} G{\\left(x_{0} \\right)}}{90} + O\\left(h^{6}\\right)$"
      ],
      "text/plain": [
       "Derivative(G(x0), (x0, 2)) - h**4*Derivative(G(x0), (x0, 6))/90 + O(h**6)"
      ]
     },
     "execution_count": 30,
     "metadata": {},
     "output_type": "execute_result"
    }
   ],
   "source": [
    "mp.series(MPG.subs(args), h, 0).simplify()"
   ]
  },
  {
   "cell_type": "markdown",
   "id": "0d19288b-83f3-4e61-91d0-682e77a69953",
   "metadata": {},
   "source": [
    "Получаем, что наша формула имеет ПОрядок аппроксиМации 4."
   ]
  }
 ],
 "metadata": {
  "kernelspec": {
   "display_name": "Python 3 (ipykernel)",
   "language": "python",
   "name": "python3"
  },
  "language_info": {
   "codemirror_mode": {
    "name": "ipython",
    "version": 3
   },
   "file_extension": ".py",
   "mimetype": "text/x-python",
   "name": "python",
   "nbconvert_exporter": "python",
   "pygments_lexer": "ipython3",
   "version": "3.10.12"
  }
 },
 "nbformat": 4,
 "nbformat_minor": 5
}
